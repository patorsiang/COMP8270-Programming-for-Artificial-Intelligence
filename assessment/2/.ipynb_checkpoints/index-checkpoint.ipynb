{
 "cells": [
  {
   "cell_type": "markdown",
   "id": "1c98eb15",
   "metadata": {},
   "source": [
    "# Assessment 2: Practical Assignment 1"
   ]
  },
  {
   "cell_type": "markdown",
   "id": "e2b53a9a-4c42-4385-9add-2ae7b0b0bcbb",
   "metadata": {},
   "source": [
    "by Napatchol Thaipanich (nt375)"
   ]
  },
  {
   "cell_type": "markdown",
   "id": "cb8c89d3",
   "metadata": {},
   "source": [
    "## Brief Description"
   ]
  },
  {
   "cell_type": "markdown",
   "id": "b7f134c0",
   "metadata": {},
   "source": [
    "### Notes\n",
    "\n",
    "- The game named Rock-Paper-Scissors-Lizard-Spock\n",
    "- A game between 2 players\n",
    "- In each round, the players choose one of the gestures simultaneously.\n",
    "- The gestures are Rock, Paper, Scissors, Lizard, or Spock. \n",
    "\n",
    "\n",
    "### Rules\n",
    "\n",
    "A winner for that round is selected:\n",
    "- Scissors wins Paper and Lizard\n",
    "- Paper wins Rock and Spock\n",
    "- Rock wins Lizard and Scissors\n",
    "- Lizard wins Spock and Paper\n",
    "- Spock wins Scissors and Rock\n",
    "\n",
    "** If both choose the same, that round will end in a draw.\\\n",
    "** The winner of this game must get the highest score in total.\n",
    "\n",
    "### Score calculation\n",
    "\n",
    "#### Score for each gesture\n",
    "- Rock (Ro): 1 point\n",
    "- Paper (Pa): 2 points\n",
    "- Scissors (Sc): 1 points\n",
    "- Lizard (Li): 2 points\n",
    "- Spock (Sp): 1 points\n",
    "\n",
    "#### Score for each\n",
    "If one player wins, the player will get 5 points, and the other will get 0 points.\\\n",
    "If that round is in a draw, both players will get 3 points.\n"
   ]
  },
  {
   "cell_type": "markdown",
   "id": "0bdc8423",
   "metadata": {},
   "source": [
    "## Library"
   ]
  },
  {
   "cell_type": "code",
   "execution_count": 1,
   "id": "e3c170ab",
   "metadata": {},
   "outputs": [],
   "source": [
    "import random"
   ]
  },
  {
   "cell_type": "markdown",
   "id": "383be990",
   "metadata": {},
   "source": [
    "## Utility functions"
   ]
  },
  {
   "cell_type": "markdown",
   "id": "c94212dc",
   "metadata": {},
   "source": [
    "### Gesture of hand in this game"
   ]
  },
  {
   "cell_type": "markdown",
   "id": "1e2995db",
   "metadata": {},
   "source": [
    "Each gesture has its score, and the opposite side can be beaten."
   ]
  },
  {
   "cell_type": "code",
   "execution_count": 2,
   "id": "fc602591",
   "metadata": {},
   "outputs": [],
   "source": [
    "gestures = {\n",
    "    \"Ro\": {\"score\": 1, \"beats\": [\"Sc\", \"Li\"]},  # (Ro)co beats Scissor and Lizard\n",
    "    \"Pa\": {\"score\": 2, \"beats\": [\"Ro\", \"Sp\"]},  # (Pa)per beats Rock and Spock\n",
    "    \"Sc\": {\"score\": 1, \"beats\": [\"Pa\", \"Li\"]},  # (Sc)issor beats Paper and Lizard\n",
    "    \"Li\": {\"score\": 2, \"beats\": [\"Sp\", \"Pa\"]},  # (Li)zard beats Spock and Paper\n",
    "    \"Sp\": {\"score\": 1, \"beats\": [\"Sc\", \"Ro\"]},  # (Sp)ock beats Scissor and Rock\n",
    "}"
   ]
  },
  {
   "cell_type": "markdown",
   "id": "eb0d9a01",
   "metadata": {},
   "source": [
    "### Random gestures functions"
   ]
  },
  {
   "cell_type": "code",
   "execution_count": 3,
   "id": "49fc228c",
   "metadata": {},
   "outputs": [],
   "source": [
    "def random_gestures():\n",
    "  return random.choice(list(gestures.keys()))"
   ]
  },
  {
   "cell_type": "markdown",
   "id": "42497f51",
   "metadata": {},
   "source": [
    "### Check winning hand by rule function"
   ]
  },
  {
   "cell_type": "code",
   "execution_count": 4,
   "id": "50054d0a",
   "metadata": {},
   "outputs": [],
   "source": [
    "def get_winning_hand(g1, g2):\n",
    "  if g1 == g2:\n",
    "    return None  # Tie\n",
    "  elif g2 in gestures[g1][\"beats\"]:\n",
    "    return g1 # 1st player won for this round\n",
    "  else:\n",
    "    return g2 # 2nd player won for this round"
   ]
  },
  {
   "cell_type": "markdown",
   "id": "2b817b67",
   "metadata": {},
   "source": [
    "### Check mode (statistic) of the array function called common"
   ]
  },
  {
   "cell_type": "code",
   "execution_count": 5,
   "id": "d2ae5b90",
   "metadata": {},
   "outputs": [],
   "source": [
    "def get_common(arr, want_detail = False):\n",
    "\n",
    "  \"\"\"\n",
    "  Get the most common element in the array.\n",
    "  \"\"\"\n",
    "  counter = dict()\n",
    "\n",
    "  max_count = 0\n",
    "\n",
    "  for ele in arr:\n",
    "    if ele in counter:\n",
    "        counter[ele] += 1\n",
    "    else:\n",
    "        counter[ele] = 1\n",
    "\n",
    "    if counter[ele] > max_count:\n",
    "      max_count = counter[ele]\n",
    "\n",
    "  counter = [ (k, v) for k, v in counter.items() if v == max_count]\n",
    "\n",
    "  if not want_detail:\n",
    "    return counter[0][0]\n",
    "\n",
    "  return counter\n"
   ]
  },
  {
   "cell_type": "markdown",
   "id": "601c7715",
   "metadata": {},
   "source": [
    "## Task 1: generate_game functions"
   ]
  },
  {
   "cell_type": "code",
   "execution_count": 6,
   "id": "9ea9399f",
   "metadata": {},
   "outputs": [],
   "source": [
    "def generate_game(round):\n",
    "  \"\"\"\n",
    "  Generate a list of round results.\n",
    "  Each round is represented by a tuple (player1_gesture as p1_hand, player2_gesture as p2_hand).\n",
    "  \"\"\"\n",
    "  rounds = []\n",
    "  for _ in range(round):\n",
    "    # randomly choose a gesture for each player in a round\n",
    "    p1_hand = random_gestures()\n",
    "    p2_hand = random_gestures()\n",
    "    rounds.append((p1_hand, p2_hand))\n",
    "  return rounds"
   ]
  },
  {
   "cell_type": "markdown",
   "id": "f17cdf27-5f5e-430a-bfa9-09afbe56119b",
   "metadata": {},
   "source": [
    "### Set up for tasks after this"
   ]
  },
  {
   "cell_type": "markdown",
   "id": "3d61ca08-0727-44b5-92d8-9ee6f46bbb1a",
   "metadata": {},
   "source": [
    "#### for one game"
   ]
  },
  {
   "cell_type": "code",
   "execution_count": 7,
   "id": "fb933279",
   "metadata": {},
   "outputs": [
    {
     "data": {
      "text/plain": [
       "[('Sp', 'Pa'), ('Li', 'Sp'), ('Pa', 'Li'), ('Ro', 'Sc')]"
      ]
     },
     "execution_count": 7,
     "metadata": {},
     "output_type": "execute_result"
    }
   ],
   "source": [
    "total_rounds = 4\n",
    "game = generate_game(total_rounds)\n",
    "game"
   ]
  },
  {
   "cell_type": "markdown",
   "id": "981a9c1e-aeb2-4929-ae74-e274b522095f",
   "metadata": {},
   "source": [
    "#### for a list of games"
   ]
  },
  {
   "cell_type": "code",
   "execution_count": 8,
   "id": "d5adf725-cedb-420d-b21c-f4ec71349c5c",
   "metadata": {},
   "outputs": [
    {
     "data": {
      "text/plain": [
       "[[('Sp', 'Li'),\n",
       "  ('Sc', 'Sc'),\n",
       "  ('Li', 'Sc'),\n",
       "  ('Sc', 'Ro'),\n",
       "  ('Sc', 'Sp'),\n",
       "  ('Pa', 'Ro')],\n",
       " [('Ro', 'Sp'),\n",
       "  ('Sp', 'Li'),\n",
       "  ('Ro', 'Sc'),\n",
       "  ('Sc', 'Li'),\n",
       "  ('Li', 'Sp'),\n",
       "  ('Sp', 'Sc')],\n",
       " [('Sc', 'Li'),\n",
       "  ('Li', 'Sp'),\n",
       "  ('Sp', 'Ro'),\n",
       "  ('Li', 'Ro'),\n",
       "  ('Pa', 'Sc'),\n",
       "  ('Li', 'Ro')],\n",
       " [('Sc', 'Ro'),\n",
       "  ('Ro', 'Li'),\n",
       "  ('Sp', 'Sp'),\n",
       "  ('Sp', 'Li'),\n",
       "  ('Ro', 'Sc'),\n",
       "  ('Sc', 'Sc')],\n",
       " [('Sp', 'Sp'),\n",
       "  ('Sc', 'Sc'),\n",
       "  ('Ro', 'Ro'),\n",
       "  ('Ro', 'Ro'),\n",
       "  ('Sc', 'Sp'),\n",
       "  ('Pa', 'Pa')]]"
      ]
     },
     "execution_count": 8,
     "metadata": {},
     "output_type": "execute_result"
    }
   ],
   "source": [
    "total_rounds = 6\n",
    "games = 5\n",
    "list_of_games = list(generate_game(total_rounds) for _ in range(games))\n",
    "list_of_games"
   ]
  },
  {
   "cell_type": "markdown",
   "id": "556f1a57",
   "metadata": {},
   "source": [
    "## Task 2: score function"
   ]
  },
  {
   "cell_type": "code",
   "execution_count": 9,
   "id": "4abe2c67",
   "metadata": {},
   "outputs": [],
   "source": [
    "def score(game):\n",
    "  # compute the total score of each player\n",
    "  p1_score = 0\n",
    "  p2_score = 0\n",
    "  for p1_hand, p2_hand in game:\n",
    "    # step1: add the score of the gesture that the player has chosen\n",
    "    p1_score += gestures[p1_hand][\"score\"]\n",
    "    p2_score += gestures[p2_hand][\"score\"]\n",
    "\n",
    "    # step2: add the bonus points for winning or tieing player\n",
    "    if get_winning_hand(p1_hand, p2_hand) is p1_hand:\n",
    "      p1_score += 5\n",
    "    elif get_winning_hand(p1_hand, p2_hand) is p2_hand:\n",
    "      p2_score += 5\n",
    "    else:\n",
    "      p1_score += 3\n",
    "      p2_score += 3\n",
    "  return p1_score, p2_score"
   ]
  },
  {
   "cell_type": "code",
   "execution_count": 10,
   "id": "ca9bf049",
   "metadata": {},
   "outputs": [
    {
     "data": {
      "text/plain": [
       "(16, 16)"
      ]
     },
     "execution_count": 10,
     "metadata": {},
     "output_type": "execute_result"
    }
   ],
   "source": [
    "score(game)"
   ]
  },
  {
   "cell_type": "markdown",
   "id": "122badb9",
   "metadata": {},
   "source": [
    "## Task 3: common_hand function"
   ]
  },
  {
   "cell_type": "code",
   "execution_count": 11,
   "id": "287325fc",
   "metadata": {},
   "outputs": [],
   "source": [
    "def common_hand(game):\n",
    "  # find the gesture that appears most frequently for each player\n",
    "  p1_gesture = get_common(list(p1 for p1, _ in game))\n",
    "  p2_gesture = get_common(list(p2 for _, p2 in game))\n",
    "  return p1_gesture, p2_gesture"
   ]
  },
  {
   "cell_type": "code",
   "execution_count": 12,
   "id": "2bfa242e",
   "metadata": {},
   "outputs": [
    {
     "data": {
      "text/plain": [
       "('Sp', 'Pa')"
      ]
     },
     "execution_count": 12,
     "metadata": {},
     "output_type": "execute_result"
    }
   ],
   "source": [
    "common_hand(game)"
   ]
  },
  {
   "cell_type": "markdown",
   "id": "c8e293bc",
   "metadata": {},
   "source": [
    "## Task 4: common_pair functions"
   ]
  },
  {
   "cell_type": "code",
   "execution_count": 13,
   "id": "eeb477a1",
   "metadata": {},
   "outputs": [],
   "source": [
    "def common_pair(games):\n",
    "  # merge all games into a single list and find the gesture that appears most frequently for both players\n",
    "  merged_games = [tuple(sorted(round)) for game in games for round in game]\n",
    "  # find the common gestures for each player\n",
    "  p1, p2 = get_common(merged_games)\n",
    "  return p1, p2\n"
   ]
  },
  {
   "cell_type": "code",
   "execution_count": 14,
   "id": "63df725c",
   "metadata": {},
   "outputs": [
    {
     "data": {
      "text/plain": [
       "('Li', 'Sp')"
      ]
     },
     "execution_count": 14,
     "metadata": {},
     "output_type": "execute_result"
    }
   ],
   "source": [
    "common_pair(list_of_games)"
   ]
  },
  {
   "cell_type": "markdown",
   "id": "e206f8b6",
   "metadata": {},
   "source": [
    "## Task 5: functions are given a list of games that return the hand that won the most rounds and the number of rounds"
   ]
  },
  {
   "cell_type": "code",
   "execution_count": 15,
   "id": "9e01f4fd",
   "metadata": {},
   "outputs": [],
   "source": [
    "\n",
    "def most_winning_hand(games):\n",
    "  # count the number of winning gestures\n",
    "  win_list  = list(filter(lambda hand: hand, [get_winning_hand(p1,p2) for game in games for p1,p2 in game ]))\n",
    "\n",
    "  # collect hands with the maximum number of wins\n",
    "  most_winning_hands = get_common(win_list, want_detail=True)\n",
    "\n",
    "  # return a single tuple if there's only one hand with max wins, else return a list\n",
    "  if len(most_winning_hands) == 1:\n",
    "    return most_winning_hands[0]\n",
    "  else:\n",
    "    return most_winning_hands"
   ]
  },
  {
   "cell_type": "code",
   "execution_count": 16,
   "id": "4a3a174e",
   "metadata": {},
   "outputs": [
    {
     "data": {
      "text/plain": [
       "('Ro', 7)"
      ]
     },
     "execution_count": 16,
     "metadata": {},
     "output_type": "execute_result"
    }
   ],
   "source": [
    "most_winning_hand(list_of_games)\n"
   ]
  }
 ],
 "metadata": {
  "kernelspec": {
   "display_name": "Python 3 (ipykernel)",
   "language": "python",
   "name": "python3"
  },
  "language_info": {
   "codemirror_mode": {
    "name": "ipython",
    "version": 3
   },
   "file_extension": ".py",
   "mimetype": "text/x-python",
   "name": "python",
   "nbconvert_exporter": "python",
   "pygments_lexer": "ipython3",
   "version": "3.10.12"
  }
 },
 "nbformat": 4,
 "nbformat_minor": 5
}
