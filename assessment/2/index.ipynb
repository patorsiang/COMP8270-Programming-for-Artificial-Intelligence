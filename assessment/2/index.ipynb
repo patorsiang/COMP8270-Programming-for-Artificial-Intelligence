{
 "cells": [
  {
   "cell_type": "markdown",
   "id": "1c98eb15",
   "metadata": {},
   "source": [
    "# Assessment 2: Practical Assignment 1"
   ]
  },
  {
   "cell_type": "markdown",
   "id": "b7f134c0",
   "metadata": {},
   "source": [
    "## Note\n",
    "\n",
    "- Rock-Paper-Scissors-Lizard-Spock\n",
    "- a game between two players\n",
    "- In each round, the players each simultaneously choose one of Rock, Paper, Scissors, Lizard or Spock\n",
    "\n",
    "### rules\n",
    "a winner for that round is selected: \n",
    "- Scissors wins Paper and Lizard \n",
    "- Paper wins Rock and Spock \n",
    "- Rock wins Lizard and Scissors\n",
    "- Lizard wins Spock and Paper \n",
    "- Spock wins Scissors and Rock\n",
    "\n",
    "** if both choose the same, that round ends in a draw.\\\n",
    "** winner of this game must get the highest score in total.\n",
    "\n",
    "### score calculation\n",
    "\n",
    "#### score for each gesture\n",
    "- Rock (Ro): 1 point\n",
    "- Paper (Pa): 2 points\n",
    "- Scissors (Sc): 1 points\n",
    "- Lizard (Li): 2 points\n",
    "- Spock (Sp): 1 points\n",
    "\n",
    "#### Score for each\n",
    "if one player wins, the player will get 5 points, and the other player will get 0 point.\\\n",
    "if that round is in a draw, both players will get 3 points\n"
   ]
  },
  {
   "cell_type": "markdown",
   "id": "0bdc8423",
   "metadata": {},
   "source": [
    "## Library"
   ]
  },
  {
   "cell_type": "code",
   "execution_count": 1,
   "id": "e3c170ab",
   "metadata": {},
   "outputs": [],
   "source": [
    "\n",
    "import random\n",
    "from enum import Enum\n",
    "from typing import List, Tuple, Union\n",
    "from collections import Counter\n",
    "from itertools import chain"
   ]
  },
  {
   "cell_type": "markdown",
   "id": "383be990",
   "metadata": {},
   "source": [
    "## Utility functions"
   ]
  },
  {
   "cell_type": "markdown",
   "id": "c94212dc",
   "metadata": {},
   "source": [
    "### Gesture of hand in this game"
   ]
  },
  {
   "cell_type": "code",
   "execution_count": 2,
   "id": "fc602591",
   "metadata": {},
   "outputs": [],
   "source": [
    "class Gesture(Enum):\n",
    "  RO = 1 # (RO)CK = 1\n",
    "  PA = 2 # (PA)PER = 2\n",
    "  SC = 1 # (SC)ISSORS = 1\n",
    "  LI = 2 # (LI)ZARD = 2\n",
    "  SP = 1 # (SP)OCK = 1"
   ]
  },
  {
   "cell_type": "markdown",
   "id": "eb0d9a01",
   "metadata": {},
   "source": [
    "### random gestures functions"
   ]
  },
  {
   "cell_type": "code",
   "execution_count": 3,
   "id": "49fc228c",
   "metadata": {},
   "outputs": [],
   "source": [
    "def random_gestures():\n",
    "  return random.choice(list(Gesture))"
   ]
  },
  {
   "cell_type": "markdown",
   "id": "07f389d2",
   "metadata": {},
   "source": [
    "### Typing"
   ]
  },
  {
   "cell_type": "code",
   "execution_count": 4,
   "id": "4c3bb3c5",
   "metadata": {},
   "outputs": [],
   "source": [
    "PairHandType = Tuple[Gesture, Gesture]\n",
    "GameType = List[PairHandType]\n",
    "MostWinningHandType = Tuple[str, int]\n",
    "PairHandNameType = Tuple[str, str]"
   ]
  },
  {
   "cell_type": "markdown",
   "id": "cd166137",
   "metadata": {},
   "source": [
    "### Random Gesture function"
   ]
  },
  {
   "cell_type": "code",
   "execution_count": 5,
   "id": "17f71f8c",
   "metadata": {},
   "outputs": [],
   "source": [
    "def random_gestures():\n",
    "  return random.choice(list(Gesture))"
   ]
  },
  {
   "cell_type": "markdown",
   "id": "42497f51",
   "metadata": {},
   "source": [
    "### check winning hand by rule function"
   ]
  },
  {
   "cell_type": "code",
   "execution_count": 6,
   "id": "50054d0a",
   "metadata": {},
   "outputs": [],
   "source": [
    "def get_winning_hand(g1: Gesture, g2: Gesture):\n",
    "  rules = {\n",
    "    Gesture.SC: [Gesture.PA, Gesture.LI],\n",
    "    Gesture.PA: [Gesture.RO, Gesture.SP],\n",
    "    Gesture.RO: [Gesture.LI, Gesture.SC],\n",
    "    Gesture.LI: [Gesture.SP, Gesture.PA],\n",
    "    Gesture.SP: [Gesture.SC, Gesture.RO]\n",
    "  }\n",
    "  if g1 == g2:\n",
    "    return None  # Tie\n",
    "  elif g2 in rules[g1]:\n",
    "    return g1\n",
    "  else:\n",
    "    return g2"
   ]
  },
  {
   "cell_type": "markdown",
   "id": "2b817b67",
   "metadata": {},
   "source": [
    "### Check mode (statistic) of the array"
   ]
  },
  {
   "cell_type": "code",
   "execution_count": 7,
   "id": "d2ae5b90",
   "metadata": {},
   "outputs": [],
   "source": [
    "def get_common(arr: Union[List[Gesture], GameType]) -> Union[Gesture, PairHandType]:\n",
    "  return Counter(arr).most_common(1)[0][0]"
   ]
  },
  {
   "cell_type": "markdown",
   "id": "601c7715",
   "metadata": {},
   "source": [
    "## Task 1: generate_game functions"
   ]
  },
  {
   "cell_type": "code",
   "execution_count": 8,
   "id": "9ea9399f",
   "metadata": {},
   "outputs": [],
   "source": [
    "def generate_game(round: int) -> GameType:\n",
    "  \"\"\"\n",
    "  Generate a list of round results.\n",
    "  Each round is represented by a tuple (player1_gesture as p1_hand, player2_gesture as p2_hand).\n",
    "  \"\"\"\n",
    "  rounds = []\n",
    "  for _ in range(round):\n",
    "    # randomly choose a gesture for each player in a round\n",
    "    p1_hand = random_gestures()\n",
    "    p2_hand = random_gestures()\n",
    "    rounds.append((p1_hand, p2_hand))\n",
    "  return rounds"
   ]
  },
  {
   "cell_type": "code",
   "execution_count": 18,
   "id": "fb933279",
   "metadata": {},
   "outputs": [
    {
     "name": "stdout",
     "output_type": "stream",
     "text": [
      "[(<Gesture.PA: 2>, <Gesture.PA: 2>), (<Gesture.PA: 2>, <Gesture.PA: 2>), (<Gesture.PA: 2>, <Gesture.RO: 1>), (<Gesture.PA: 2>, <Gesture.PA: 2>)]\n"
     ]
    }
   ],
   "source": [
    "game = generate_game(4)\n",
    "print(game)"
   ]
  },
  {
   "cell_type": "markdown",
   "id": "556f1a57",
   "metadata": {},
   "source": [
    "## Task 2: score function"
   ]
  },
  {
   "cell_type": "code",
   "execution_count": 10,
   "id": "4abe2c67",
   "metadata": {},
   "outputs": [],
   "source": [
    "def score(game: GameType) -> Tuple[int, int]:\n",
    "  # compute the total score of each player\n",
    "  p1_score = 0\n",
    "  p2_score = 0\n",
    "  for p1_hand, p2_hand in game:\n",
    "    # step1: add the score of gesture that player chosen\n",
    "    p1_score += p1_hand.value\n",
    "    p2_score += p2_hand.value\n",
    "\n",
    "    # step2: add the bonus points for winning or tieing player\n",
    "    if get_winning_hand(p1_hand, p2_hand) == p1_hand:\n",
    "      p1_score += 5\n",
    "    elif get_winning_hand(p1_hand, p2_hand) == p2_hand:\n",
    "      p2_score += 5\n",
    "    else:\n",
    "      p1_score += 3\n",
    "      p2_score += 3\n",
    "  return p1_score, p2_score"
   ]
  },
  {
   "cell_type": "code",
   "execution_count": 19,
   "id": "ca9bf049",
   "metadata": {},
   "outputs": [
    {
     "data": {
      "text/plain": [
       "(22, 16)"
      ]
     },
     "execution_count": 19,
     "metadata": {},
     "output_type": "execute_result"
    }
   ],
   "source": [
    "score(game)"
   ]
  },
  {
   "cell_type": "markdown",
   "id": "122badb9",
   "metadata": {},
   "source": [
    "## Task 3: common_hand function"
   ]
  },
  {
   "cell_type": "code",
   "execution_count": 12,
   "id": "287325fc",
   "metadata": {},
   "outputs": [],
   "source": [
    "def common_hand(game: GameType) -> PairHandNameType:\n",
    "  # find the gesture that appears most frequently for each player\n",
    "  p1_gesture = get_common(list(p1 for p1, _ in game))\n",
    "  p2_gesture = get_common(list(p2 for _, p2 in game))\n",
    "  return p1_gesture.name, p2_gesture.name"
   ]
  },
  {
   "cell_type": "code",
   "execution_count": 20,
   "id": "2bfa242e",
   "metadata": {},
   "outputs": [
    {
     "data": {
      "text/plain": [
       "('PA', 'PA')"
      ]
     },
     "execution_count": 20,
     "metadata": {},
     "output_type": "execute_result"
    }
   ],
   "source": [
    "common_hand(game)"
   ]
  },
  {
   "cell_type": "markdown",
   "id": "c8e293bc",
   "metadata": {},
   "source": [
    "## Task 4: common_pair functions"
   ]
  },
  {
   "cell_type": "code",
   "execution_count": 14,
   "id": "eeb477a1",
   "metadata": {},
   "outputs": [],
   "source": [
    "def common_pair(games: List[GameType]) -> PairHandNameType:\n",
    "  # Merge all games into a single list and find the gesture that appears most frequently for both players\n",
    "  merged_games = list(chain.from_iterable(games))\n",
    "  # Find the common gestures for each player\n",
    "  p1, p2 = get_common(merged_games)\n",
    "  return p1.name, p2.name\n"
   ]
  },
  {
   "cell_type": "code",
   "execution_count": 22,
   "id": "63df725c",
   "metadata": {},
   "outputs": [
    {
     "data": {
      "text/plain": [
       "('RO', 'PA')"
      ]
     },
     "execution_count": 22,
     "metadata": {},
     "output_type": "execute_result"
    }
   ],
   "source": [
    "rounds = 4\n",
    "games = 5\n",
    "list_of_games = list(generate_game(rounds) for _ in range(games))\n",
    "common_pair(list_of_games)"
   ]
  },
  {
   "cell_type": "markdown",
   "id": "e206f8b6",
   "metadata": {},
   "source": [
    "## Task 5: functions given list of games that return the hand that won most rounds and the number of rounds"
   ]
  },
  {
   "cell_type": "code",
   "execution_count": 23,
   "id": "9e01f4fd",
   "metadata": {},
   "outputs": [],
   "source": [
    "def most_winning_hand(games: List[GameType]) -> Union[MostWinningHandType, List[MostWinningHandType]]:\n",
    "  # Count the number of winning gestures\n",
    "  win_counter = Counter()\n",
    "  for game in games:\n",
    "    for p1, p2 in game:\n",
    "      winning_hand = get_winning_hand(p1, p2)\n",
    "      if winning_hand:\n",
    "        win_counter[winning_hand.name] += 1\n",
    "\n",
    "  # Find the maximum wins\n",
    "  max_wins = max(win_counter.values(), default=0)\n",
    "\n",
    "  # Collect hands with the maximum number of wins\n",
    "  most_winning_hands = [(hand, count) for hand, count in win_counter.items() if count == max_wins]\n",
    "\n",
    "  # Return a single tuple if there's only one hand with max wins, else return a list\n",
    "  if len(most_winning_hands) == 1:\n",
    "    return most_winning_hands[0]\n",
    "  else:\n",
    "    return most_winning_hands"
   ]
  },
  {
   "cell_type": "code",
   "execution_count": 24,
   "id": "4a3a174e",
   "metadata": {},
   "outputs": [
    {
     "data": {
      "text/plain": [
       "('PA', 13)"
      ]
     },
     "execution_count": 24,
     "metadata": {},
     "output_type": "execute_result"
    }
   ],
   "source": [
    "most_winning_hand(list_of_games)\n"
   ]
  }
 ],
 "metadata": {
  "kernelspec": {
   "display_name": "Python 3 (ipykernel)",
   "language": "python",
   "name": "python3"
  },
  "language_info": {
   "codemirror_mode": {
    "name": "ipython",
    "version": 3
   },
   "file_extension": ".py",
   "mimetype": "text/x-python",
   "name": "python",
   "nbconvert_exporter": "python",
   "pygments_lexer": "ipython3",
   "version": "3.10.12"
  }
 },
 "nbformat": 4,
 "nbformat_minor": 5
}
