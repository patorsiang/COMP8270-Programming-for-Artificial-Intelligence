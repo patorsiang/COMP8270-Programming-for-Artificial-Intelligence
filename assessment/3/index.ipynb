{
 "cells": [
  {
   "cell_type": "markdown",
   "metadata": {},
   "source": [
    "# In-class Task"
   ]
  },
  {
   "cell_type": "markdown",
   "metadata": {},
   "source": [
    "The test is composed by 8 individual questions. Each question requires you to work with a file provided. You can either load the files once at the start of your test or (re-)load them in each of the questions.\n",
    "- [Prices.csv](https://www.cs.kent.ac.uk/people/staff/febo/COMP8270/Prices.csv): list of stock prices\n",
    "- [RandomValues.csv](https://www.cs.kent.ac.uk/people/staff/febo/COMP8270/RandomValues.csv): random 2D array values\n",
    "- [Selfie_Related_Injuries.csv](https://raptor.kent.ac.uk/~ds756/Data/Selfie_Related_Injuries.csv): dataset describing deaths related to \"selfies\"\n",
    "\n",
    "**You can answers the questions in any order.**"
   ]
  },
  {
   "cell_type": "markdown",
   "metadata": {},
   "source": [
    "## Task 1"
   ]
  },
  {
   "cell_type": "markdown",
   "metadata": {},
   "source": [
    "Please use the following dataset:\n",
    "- [Prices.csv](https://www.cs.kent.ac.uk/people/staff/febo/COMP8270/Prices.csv) ([https://www.cs.kent.ac.uk/people/staff/febo/COMP8270/Prices.csv](https://www.cs.kent.ac.uk/people/staff/febo/COMP8270/Prices.csv))\n",
    "Load the above file in a NumPy array."
   ]
  },
  {
   "cell_type": "markdown",
   "metadata": {},
   "source": [
    "  There are ___ elements on the array, with ___ having a value greater than 86 value and ___ having a value lower than 86. There is (are) ___ element(s) with the value equal to 86."
   ]
  },
  {
   "cell_type": "code",
   "execution_count": 1,
   "metadata": {},
   "outputs": [
    {
     "name": "stdout",
     "output_type": "stream",
     "text": [
      "There are 5000 elements on the array, with 475 having a value greater than 86 value and 4524 having a value lower than 86. There is (are) 1 element(s) with the value equal to 86.\n"
     ]
    }
   ],
   "source": [
    "import numpy as np\n",
    "\n",
    "np_arr = np.loadtxt(\"https://www.cs.kent.ac.uk/people/staff/febo/COMP8270/Prices.csv\")\n",
    "print(f\"There are {len(np_arr)} elements on the array, with {np.count_nonzero(np_arr > 86)} having a value greater than 86 value and {np.count_nonzero(np_arr < 86)} having a value lower than 86. There is (are) {np.count_nonzero(np_arr == 86)} element(s) with the value equal to 86.\")"
   ]
  },
  {
   "cell_type": "code",
   "execution_count": 2,
   "metadata": {},
   "outputs": [],
   "source": [
    "score = 15\n",
    "full_score = 15"
   ]
  },
  {
   "cell_type": "markdown",
   "metadata": {},
   "source": [
    "## Task 2"
   ]
  },
  {
   "cell_type": "markdown",
   "metadata": {},
   "source": [
    "Please use the following dataset:\n",
    "- [Prices.csv](https://www.cs.kent.ac.uk/people/staff/febo/COMP8270/Prices.csv) ([https://www.cs.kent.ac.uk/people/staff/febo/COMP8270/Prices.csv](https://www.cs.kent.ac.uk/people/staff/febo/COMP8270/Prices.csv))\n",
    "\n",
    "Load the above file in a NumPy array."
   ]
  },
  {
   "cell_type": "markdown",
   "metadata": {},
   "source": [
    "If you subtract the mean value of the array from each of its elements, how many negative values will the array have?"
   ]
  },
  {
   "cell_type": "code",
   "execution_count": 3,
   "metadata": {},
   "outputs": [
    {
     "name": "stdout",
     "output_type": "stream",
     "text": [
      "1904\n"
     ]
    }
   ],
   "source": [
    "np_arr = np.loadtxt(\"https://www.cs.kent.ac.uk/people/staff/febo/COMP8270/Prices.csv\")\n",
    "mean = np.mean(np_arr)\n",
    "new_arr = np_arr - mean\n",
    "print(np.count_nonzero(new_arr < 0))"
   ]
  },
  {
   "cell_type": "code",
   "execution_count": 4,
   "metadata": {},
   "outputs": [],
   "source": [
    "score += 0\n",
    "full_score += 10"
   ]
  },
  {
   "cell_type": "markdown",
   "metadata": {},
   "source": [
    "## Task 3"
   ]
  },
  {
   "cell_type": "markdown",
   "metadata": {},
   "source": [
    "Please use the following dataset:\n",
    "- [Prices.csv](https://www.cs.kent.ac.uk/people/staff/febo/COMP8270/Prices.csv) ([https://www.cs.kent.ac.uk/people/staff/febo/COMP8270/Prices.csv](https://www.cs.kent.ac.uk/people/staff/febo/COMP8270/Prices.csv))\n",
    "\n",
    "Load the above file in a NumPy array."
   ]
  },
  {
   "cell_type": "markdown",
   "metadata": {},
   "source": [
    "There are more values between 81 and 83 in the prices array than values between 83 and 85."
   ]
  },
  {
   "cell_type": "code",
   "execution_count": null,
   "metadata": {},
   "outputs": [
    {
     "name": "stdout",
     "output_type": "stream",
     "text": [
      "828 2309 False\n"
     ]
    }
   ],
   "source": [
    "np_arr = np.loadtxt(\"https://www.cs.kent.ac.uk/people/staff/febo/COMP8270/Prices.csv\")\n",
    "\n",
    "def find_value_between(arr, m, M):\n",
    "  return np.count_nonzero((arr >= m) & (arr <= M))\n",
    "\n",
    "print(find_value_between(np_arr, 81, 83), find_value_between(np_arr,83, 85), find_value_between(np_arr, 81, 83) > find_value_between(np_arr,83, 85))"
   ]
  },
  {
   "cell_type": "code",
   "execution_count": 6,
   "metadata": {},
   "outputs": [],
   "source": [
    "score += 10\n",
    "full_score += 10"
   ]
  },
  {
   "cell_type": "markdown",
   "metadata": {},
   "source": [
    "## Task 4"
   ]
  },
  {
   "cell_type": "markdown",
   "metadata": {},
   "source": [
    "Please use the following dataset:\n",
    "- [RandomValues.csv](https://www.cs.kent.ac.uk/people/staff/febo/COMP8270/RandomValues.csv) ([https://www.cs.kent.ac.uk/people/staff/febo/COMP8270/RandomValues.csv](https://www.cs.kent.ac.uk/people/staff/febo/COMP8270/RandomValues.csv))\n",
    "\n",
    "Load the above file in a NumPy array. This is a 2-dimensional array."
   ]
  },
  {
   "cell_type": "markdown",
   "metadata": {},
   "source": [
    "After loading the above file in a NumPy array, the number of values that appear in both columns of the array is:"
   ]
  },
  {
   "cell_type": "code",
   "execution_count": 7,
   "metadata": {},
   "outputs": [
    {
     "data": {
      "text/plain": [
       "26"
      ]
     },
     "execution_count": 7,
     "metadata": {},
     "output_type": "execute_result"
    }
   ],
   "source": [
    "np_arr = np.loadtxt(\"https://www.cs.kent.ac.uk/people/staff/febo/COMP8270/RandomValues.csv\", delimiter=',')\n",
    "np.intersect1d(np_arr[:, 0], np_arr[:, 1]).size"
   ]
  },
  {
   "cell_type": "code",
   "execution_count": 8,
   "metadata": {},
   "outputs": [],
   "source": [
    "score += 15\n",
    "full_score += 15"
   ]
  },
  {
   "cell_type": "markdown",
   "metadata": {},
   "source": [
    "## Task 5"
   ]
  },
  {
   "cell_type": "markdown",
   "metadata": {},
   "source": [
    "Please use the following dataset:\n",
    "- [Selfie_Related_Injuries.csv](https://raptor.kent.ac.uk/~ds756/Data/Selfie_Related_Injuries.csv) ([https://raptor.kent.ac.uk/~ds756/Data/Selfie_Related_Injuries.csv](https://raptor.kent.ac.uk/~ds756/Data/Selfie_Related_Injuries.csv))\n",
    "\n",
    "Load the above file in a Pandas array."
   ]
  },
  {
   "cell_type": "markdown",
   "metadata": {},
   "source": [
    "Create a new column, called “Multiple”, that is true if an incident resulted in multiple injuries.  What is the mean of this new feature?"
   ]
  },
  {
   "cell_type": "code",
   "execution_count": 9,
   "metadata": {},
   "outputs": [
    {
     "data": {
      "text/plain": [
       "0.2916666666666667"
      ]
     },
     "execution_count": 9,
     "metadata": {},
     "output_type": "execute_result"
    }
   ],
   "source": [
    "import pandas as pd\n",
    "\n",
    "df = pd.read_csv(\"https://raptor.kent.ac.uk/~ds756/Data/Selfie_Related_Injuries.csv\")\n",
    "df['Multiple'] = df['Injuries'] > 1\n",
    "df['Multiple'].mean()"
   ]
  },
  {
   "cell_type": "code",
   "execution_count": 10,
   "metadata": {},
   "outputs": [],
   "source": [
    "score += 10\n",
    "full_score += 10"
   ]
  },
  {
   "cell_type": "markdown",
   "metadata": {},
   "source": [
    "## Task 6"
   ]
  },
  {
   "cell_type": "markdown",
   "metadata": {},
   "source": [
    "Please use the following dataset:\n",
    "- [Selfie_Related_Injuries.csv](https://raptor.kent.ac.uk/~ds756/Data/Selfie_Related_Injuries.csv) ([https://raptor.kent.ac.uk/~ds756/Data/Selfie_Related_Injuries.csv](https://raptor.kent.ac.uk/~ds756/Data/Selfie_Related_Injuries.csv))\n",
    "\n",
    "Load the above file in a Pandas array."
   ]
  },
  {
   "cell_type": "markdown",
   "metadata": {},
   "source": [
    "Compute the mean number of injuries per country.  Use loc[] to find the mean number of injuries (in this order) for Oman, Germany and Mexico. NOTE THE ORDER!"
   ]
  },
  {
   "cell_type": "code",
   "execution_count": null,
   "metadata": {},
   "outputs": [
    {
     "name": "stdout",
     "output_type": "stream",
     "text": [
      "Oman 2.0\n",
      "Germany 1.5\n",
      "Mexico 1.3333333333333333\n"
     ]
    }
   ],
   "source": [
    "df = pd.read_csv(\"https://raptor.kent.ac.uk/~ds756/Data/Selfie_Related_Injuries.csv\")\n",
    "\n",
    "def mean_number_of_country(country):\n",
    "  return df.loc[df['Country'] == country, 'Injuries'].mean()\n",
    "\n",
    "print('Oman', mean_number_of_country('Oman'))\n",
    "print('Germany', mean_number_of_country('Germany'))\n",
    "print('Mexico', mean_number_of_country('Mexico'))\n"
   ]
  },
  {
   "cell_type": "code",
   "execution_count": 12,
   "metadata": {},
   "outputs": [],
   "source": [
    "score += 15\n",
    "full_score += 15"
   ]
  },
  {
   "cell_type": "markdown",
   "metadata": {},
   "source": [
    "## Task 7 "
   ]
  },
  {
   "cell_type": "markdown",
   "metadata": {},
   "source": [
    "Please use the following dataset:\n",
    "- [Selfie_Related_Injuries.csv](https://raptor.kent.ac.uk/~ds756/Data/Selfie_Related_Injuries.csv) ([https://raptor.kent.ac.uk/~ds756/Data/Selfie_Related_Injuries.csv](https://raptor.kent.ac.uk/~ds756/Data/Selfie_Related_Injuries.csv))\n",
    "\n",
    "Load the above file in a Pandas array."
   ]
  },
  {
   "cell_type": "markdown",
   "metadata": {},
   "source": [
    "How many unique countries were included in the data set?"
   ]
  },
  {
   "cell_type": "code",
   "execution_count": 13,
   "metadata": {},
   "outputs": [
    {
     "name": "stdout",
     "output_type": "stream",
     "text": [
      "41\n"
     ]
    }
   ],
   "source": [
    "df = pd.read_csv(\"https://raptor.kent.ac.uk/~ds756/Data/Selfie_Related_Injuries.csv\")\n",
    "print(len(df['Country'].unique()))"
   ]
  },
  {
   "cell_type": "code",
   "execution_count": 14,
   "metadata": {},
   "outputs": [],
   "source": [
    "score += 10\n",
    "full_score += 10"
   ]
  },
  {
   "cell_type": "markdown",
   "metadata": {},
   "source": [
    "## Task 8"
   ]
  },
  {
   "cell_type": "markdown",
   "metadata": {},
   "source": [
    "Please use the following dataset:\n",
    "- [Selfie_Related_Injuries.csv](https://raptor.kent.ac.uk/~ds756/Data/Selfie_Related_Injuries.csv) ([https://raptor.kent.ac.uk/~ds756/Data/Selfie_Related_Injuries.csv](https://raptor.kent.ac.uk/~ds756/Data/Selfie_Related_Injuries.csv))\n",
    "\n",
    "Load the above file in a Pandas array."
   ]
  },
  {
   "cell_type": "markdown",
   "metadata": {},
   "source": [
    "If one computed the mean number of injuries per type and discarded all types with a mean less than or equal to 2.0 (so we keep the types with a mean greater the 2.0), and then removed all of the rows of the rejected types of injuries, how many rows would be left in the data set?"
   ]
  },
  {
   "cell_type": "code",
   "execution_count": 15,
   "metadata": {},
   "outputs": [
    {
     "name": "stdout",
     "output_type": "stream",
     "text": [
      "20\n"
     ]
    }
   ],
   "source": [
    "df = pd.read_csv(\"https://raptor.kent.ac.uk/~ds756/Data/Selfie_Related_Injuries.csv\")\n",
    "df_filtered = df[df['Injuries'] > 2]\n",
    "print(len(df_filtered))"
   ]
  },
  {
   "cell_type": "code",
   "execution_count": 16,
   "metadata": {},
   "outputs": [
    {
     "name": "stdout",
     "output_type": "stream",
     "text": [
      "90 100 90.0\n"
     ]
    }
   ],
   "source": [
    "score += 15\n",
    "full_score += 15\n",
    "print(score, full_score, score/full_score * 100)"
   ]
  }
 ],
 "metadata": {
  "kernelspec": {
   "display_name": "Python 3 (ipykernel)",
   "language": "python",
   "name": "python3"
  }
 },
 "nbformat": 4,
 "nbformat_minor": 2
}
