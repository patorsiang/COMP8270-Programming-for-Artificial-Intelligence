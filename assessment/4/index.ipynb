{
 "cells": [
  {
   "cell_type": "markdown",
   "metadata": {},
   "source": [
    "# Assessment 4"
   ]
  },
  {
   "cell_type": "markdown",
   "metadata": {},
   "source": [
    "by Napatchol Thaipanich (nt375)"
   ]
  },
  {
   "cell_type": "markdown",
   "metadata": {},
   "source": [
    "## Pre-process"
   ]
  },
  {
   "cell_type": "markdown",
   "metadata": {},
   "source": [
    "### Import libraries"
   ]
  },
  {
   "cell_type": "code",
   "execution_count": 1,
   "metadata": {},
   "outputs": [],
   "source": [
    "import pandas as pd\n",
    "import matplotlib.pyplot as plt"
   ]
  },
  {
   "cell_type": "markdown",
   "metadata": {},
   "source": [
    "### Create a DataFrame (df)"
   ]
  },
  {
   "cell_type": "markdown",
   "metadata": {},
   "source": [
    "By reading the CSV file as the dataset from this link, [kc_house_data_small.csv](http://raptor.kent.ac.uk/~ds756/Data/kc_house_data_small.csv)"
   ]
  },
  {
   "cell_type": "code",
   "execution_count": 2,
   "metadata": {},
   "outputs": [],
   "source": [
    "df = pd.read_csv(\"http://raptor.kent.ac.uk/~ds756/Data/kc_house_data_small.csv\")"
   ]
  },
  {
   "cell_type": "markdown",
   "metadata": {},
   "source": [
    "### Understanding data"
   ]
  },
  {
   "cell_type": "code",
   "execution_count": null,
   "metadata": {},
   "outputs": [
    {
     "data": {
      "text/html": [
       "<div>\n",
       "<style scoped>\n",
       "    .dataframe tbody tr th:only-of-type {\n",
       "        vertical-align: middle;\n",
       "    }\n",
       "\n",
       "    .dataframe tbody tr th {\n",
       "        vertical-align: top;\n",
       "    }\n",
       "\n",
       "    .dataframe thead th {\n",
       "        text-align: right;\n",
       "    }\n",
       "</style>\n",
       "<table border=\"1\" class=\"dataframe\">\n",
       "  <thead>\n",
       "    <tr style=\"text-align: right;\">\n",
       "      <th></th>\n",
       "      <th>id</th>\n",
       "      <th>date</th>\n",
       "      <th>price</th>\n",
       "      <th>bedrooms</th>\n",
       "      <th>bathrooms</th>\n",
       "      <th>sqft_living</th>\n",
       "      <th>sqft_lot</th>\n",
       "      <th>floors</th>\n",
       "      <th>waterfront</th>\n",
       "      <th>view</th>\n",
       "      <th>...</th>\n",
       "      <th>grade</th>\n",
       "      <th>sqft_above</th>\n",
       "      <th>sqft_basement</th>\n",
       "      <th>yr_built</th>\n",
       "      <th>yr_renovated</th>\n",
       "      <th>zipcode</th>\n",
       "      <th>lat</th>\n",
       "      <th>long</th>\n",
       "      <th>sqft_living15</th>\n",
       "      <th>sqft_lot15</th>\n",
       "    </tr>\n",
       "  </thead>\n",
       "  <tbody>\n",
       "    <tr>\n",
       "      <th>0</th>\n",
       "      <td>7129300520</td>\n",
       "      <td>20141013T000000</td>\n",
       "      <td>221900.0</td>\n",
       "      <td>3</td>\n",
       "      <td>1.00</td>\n",
       "      <td>1180</td>\n",
       "      <td>5650</td>\n",
       "      <td>1.0</td>\n",
       "      <td>0</td>\n",
       "      <td>0</td>\n",
       "      <td>...</td>\n",
       "      <td>7</td>\n",
       "      <td>1180</td>\n",
       "      <td>0</td>\n",
       "      <td>1955</td>\n",
       "      <td>0</td>\n",
       "      <td>98178</td>\n",
       "      <td>47.5112</td>\n",
       "      <td>-122.257</td>\n",
       "      <td>1340</td>\n",
       "      <td>5650</td>\n",
       "    </tr>\n",
       "    <tr>\n",
       "      <th>1</th>\n",
       "      <td>1423800210</td>\n",
       "      <td>20140923T000000</td>\n",
       "      <td>230000.0</td>\n",
       "      <td>3</td>\n",
       "      <td>1.00</td>\n",
       "      <td>1640</td>\n",
       "      <td>7187</td>\n",
       "      <td>1.0</td>\n",
       "      <td>0</td>\n",
       "      <td>0</td>\n",
       "      <td>...</td>\n",
       "      <td>7</td>\n",
       "      <td>1640</td>\n",
       "      <td>0</td>\n",
       "      <td>1966</td>\n",
       "      <td>0</td>\n",
       "      <td>98058</td>\n",
       "      <td>47.4550</td>\n",
       "      <td>-122.182</td>\n",
       "      <td>1340</td>\n",
       "      <td>8346</td>\n",
       "    </tr>\n",
       "    <tr>\n",
       "      <th>2</th>\n",
       "      <td>2125049131</td>\n",
       "      <td>20140729T000000</td>\n",
       "      <td>680000.0</td>\n",
       "      <td>3</td>\n",
       "      <td>1.75</td>\n",
       "      <td>1620</td>\n",
       "      <td>5500</td>\n",
       "      <td>1.0</td>\n",
       "      <td>0</td>\n",
       "      <td>0</td>\n",
       "      <td>...</td>\n",
       "      <td>7</td>\n",
       "      <td>1110</td>\n",
       "      <td>510</td>\n",
       "      <td>1950</td>\n",
       "      <td>0</td>\n",
       "      <td>98112</td>\n",
       "      <td>47.6393</td>\n",
       "      <td>-122.308</td>\n",
       "      <td>2100</td>\n",
       "      <td>6500</td>\n",
       "    </tr>\n",
       "    <tr>\n",
       "      <th>3</th>\n",
       "      <td>5318101765</td>\n",
       "      <td>20140602T000000</td>\n",
       "      <td>985000.0</td>\n",
       "      <td>3</td>\n",
       "      <td>1.75</td>\n",
       "      <td>1670</td>\n",
       "      <td>5400</td>\n",
       "      <td>2.0</td>\n",
       "      <td>0</td>\n",
       "      <td>0</td>\n",
       "      <td>...</td>\n",
       "      <td>8</td>\n",
       "      <td>1670</td>\n",
       "      <td>0</td>\n",
       "      <td>1912</td>\n",
       "      <td>0</td>\n",
       "      <td>98112</td>\n",
       "      <td>47.6350</td>\n",
       "      <td>-122.284</td>\n",
       "      <td>2100</td>\n",
       "      <td>5400</td>\n",
       "    </tr>\n",
       "    <tr>\n",
       "      <th>4</th>\n",
       "      <td>6624300110</td>\n",
       "      <td>20140623T000000</td>\n",
       "      <td>375000.0</td>\n",
       "      <td>4</td>\n",
       "      <td>2.50</td>\n",
       "      <td>1870</td>\n",
       "      <td>7471</td>\n",
       "      <td>2.0</td>\n",
       "      <td>0</td>\n",
       "      <td>0</td>\n",
       "      <td>...</td>\n",
       "      <td>8</td>\n",
       "      <td>1870</td>\n",
       "      <td>0</td>\n",
       "      <td>1990</td>\n",
       "      <td>0</td>\n",
       "      <td>98055</td>\n",
       "      <td>47.4314</td>\n",
       "      <td>-122.204</td>\n",
       "      <td>2020</td>\n",
       "      <td>8912</td>\n",
       "    </tr>\n",
       "  </tbody>\n",
       "</table>\n",
       "<p>5 rows × 21 columns</p>\n",
       "</div>"
      ],
      "text/plain": [
       "           id             date     price  bedrooms  bathrooms  sqft_living  \\\n",
       "0  7129300520  20141013T000000  221900.0         3       1.00         1180   \n",
       "1  1423800210  20140923T000000  230000.0         3       1.00         1640   \n",
       "2  2125049131  20140729T000000  680000.0         3       1.75         1620   \n",
       "3  5318101765  20140602T000000  985000.0         3       1.75         1670   \n",
       "4  6624300110  20140623T000000  375000.0         4       2.50         1870   \n",
       "\n",
       "   sqft_lot  floors  waterfront  view  ...  grade  sqft_above  sqft_basement  \\\n",
       "0      5650     1.0           0     0  ...      7        1180              0   \n",
       "1      7187     1.0           0     0  ...      7        1640              0   \n",
       "2      5500     1.0           0     0  ...      7        1110            510   \n",
       "3      5400     2.0           0     0  ...      8        1670              0   \n",
       "4      7471     2.0           0     0  ...      8        1870              0   \n",
       "\n",
       "   yr_built  yr_renovated  zipcode      lat     long  sqft_living15  \\\n",
       "0      1955             0    98178  47.5112 -122.257           1340   \n",
       "1      1966             0    98058  47.4550 -122.182           1340   \n",
       "2      1950             0    98112  47.6393 -122.308           2100   \n",
       "3      1912             0    98112  47.6350 -122.284           2100   \n",
       "4      1990             0    98055  47.4314 -122.204           2020   \n",
       "\n",
       "   sqft_lot15  \n",
       "0        5650  \n",
       "1        8346  \n",
       "2        6500  \n",
       "3        5400  \n",
       "4        8912  \n",
       "\n",
       "[5 rows x 21 columns]"
      ]
     },
     "execution_count": 3,
     "metadata": {},
     "output_type": "execute_result"
    }
   ],
   "source": [
    "df.head()"
   ]
  },
  {
   "cell_type": "code",
   "execution_count": 4,
   "metadata": {},
   "outputs": [
    {
     "name": "stdout",
     "output_type": "stream",
     "text": [
      "<class 'pandas.core.frame.DataFrame'>\n",
      "RangeIndex: 2613 entries, 0 to 2612\n",
      "Data columns (total 21 columns):\n",
      " #   Column         Non-Null Count  Dtype  \n",
      "---  ------         --------------  -----  \n",
      " 0   id             2613 non-null   int64  \n",
      " 1   date           2613 non-null   object \n",
      " 2   price          2613 non-null   float64\n",
      " 3   bedrooms       2613 non-null   int64  \n",
      " 4   bathrooms      2613 non-null   float64\n",
      " 5   sqft_living    2613 non-null   int64  \n",
      " 6   sqft_lot       2613 non-null   int64  \n",
      " 7   floors         2613 non-null   float64\n",
      " 8   waterfront     2613 non-null   int64  \n",
      " 9   view           2613 non-null   int64  \n",
      " 10  condition      2613 non-null   int64  \n",
      " 11  grade          2613 non-null   int64  \n",
      " 12  sqft_above     2613 non-null   int64  \n",
      " 13  sqft_basement  2613 non-null   int64  \n",
      " 14  yr_built       2613 non-null   int64  \n",
      " 15  yr_renovated   2613 non-null   int64  \n",
      " 16  zipcode        2613 non-null   int64  \n",
      " 17  lat            2613 non-null   float64\n",
      " 18  long           2613 non-null   float64\n",
      " 19  sqft_living15  2613 non-null   int64  \n",
      " 20  sqft_lot15     2613 non-null   int64  \n",
      "dtypes: float64(5), int64(15), object(1)\n",
      "memory usage: 428.8+ KB\n"
     ]
    }
   ],
   "source": [
    "df.info()"
   ]
  },
  {
   "cell_type": "code",
   "execution_count": 5,
   "metadata": {},
   "outputs": [
    {
     "data": {
      "text/html": [
       "<div>\n",
       "<style scoped>\n",
       "    .dataframe tbody tr th:only-of-type {\n",
       "        vertical-align: middle;\n",
       "    }\n",
       "\n",
       "    .dataframe tbody tr th {\n",
       "        vertical-align: top;\n",
       "    }\n",
       "\n",
       "    .dataframe thead th {\n",
       "        text-align: right;\n",
       "    }\n",
       "</style>\n",
       "<table border=\"1\" class=\"dataframe\">\n",
       "  <thead>\n",
       "    <tr style=\"text-align: right;\">\n",
       "      <th></th>\n",
       "      <th>id</th>\n",
       "      <th>price</th>\n",
       "      <th>bedrooms</th>\n",
       "      <th>bathrooms</th>\n",
       "      <th>sqft_living</th>\n",
       "      <th>sqft_lot</th>\n",
       "      <th>floors</th>\n",
       "      <th>waterfront</th>\n",
       "      <th>view</th>\n",
       "      <th>condition</th>\n",
       "      <th>grade</th>\n",
       "      <th>sqft_above</th>\n",
       "      <th>sqft_basement</th>\n",
       "      <th>yr_built</th>\n",
       "      <th>yr_renovated</th>\n",
       "      <th>zipcode</th>\n",
       "      <th>lat</th>\n",
       "      <th>long</th>\n",
       "      <th>sqft_living15</th>\n",
       "      <th>sqft_lot15</th>\n",
       "    </tr>\n",
       "  </thead>\n",
       "  <tbody>\n",
       "    <tr>\n",
       "      <th>count</th>\n",
       "      <td>2.613000e+03</td>\n",
       "      <td>2.613000e+03</td>\n",
       "      <td>2613.000000</td>\n",
       "      <td>2613.000000</td>\n",
       "      <td>2613.000000</td>\n",
       "      <td>2613.000000</td>\n",
       "      <td>2613.000000</td>\n",
       "      <td>2613.000000</td>\n",
       "      <td>2613.000000</td>\n",
       "      <td>2613.000000</td>\n",
       "      <td>2613.000000</td>\n",
       "      <td>2613.000000</td>\n",
       "      <td>2613.000000</td>\n",
       "      <td>2613.000000</td>\n",
       "      <td>2613.000000</td>\n",
       "      <td>2613.000000</td>\n",
       "      <td>2613.000000</td>\n",
       "      <td>2613.000000</td>\n",
       "      <td>2613.000000</td>\n",
       "      <td>2613.000000</td>\n",
       "    </tr>\n",
       "    <tr>\n",
       "      <th>mean</th>\n",
       "      <td>4.550131e+09</td>\n",
       "      <td>5.665725e+05</td>\n",
       "      <td>3.429774</td>\n",
       "      <td>2.383563</td>\n",
       "      <td>2230.456946</td>\n",
       "      <td>12020.377344</td>\n",
       "      <td>1.805205</td>\n",
       "      <td>0.004592</td>\n",
       "      <td>0.186376</td>\n",
       "      <td>3.202067</td>\n",
       "      <td>7.973594</td>\n",
       "      <td>1992.265978</td>\n",
       "      <td>238.190968</td>\n",
       "      <td>1990.117489</td>\n",
       "      <td>53.463069</td>\n",
       "      <td>98075.820896</td>\n",
       "      <td>47.554317</td>\n",
       "      <td>-122.206021</td>\n",
       "      <td>2081.516265</td>\n",
       "      <td>10945.902794</td>\n",
       "    </tr>\n",
       "    <tr>\n",
       "      <th>std</th>\n",
       "      <td>2.926198e+09</td>\n",
       "      <td>3.729153e+05</td>\n",
       "      <td>0.936818</td>\n",
       "      <td>0.773159</td>\n",
       "      <td>986.917886</td>\n",
       "      <td>38564.911724</td>\n",
       "      <td>0.579231</td>\n",
       "      <td>0.067625</td>\n",
       "      <td>0.676740</td>\n",
       "      <td>0.498585</td>\n",
       "      <td>1.110506</td>\n",
       "      <td>908.084279</td>\n",
       "      <td>401.724448</td>\n",
       "      <td>28.597064</td>\n",
       "      <td>322.310438</td>\n",
       "      <td>50.195789</td>\n",
       "      <td>0.134737</td>\n",
       "      <td>0.146442</td>\n",
       "      <td>737.114617</td>\n",
       "      <td>33362.667675</td>\n",
       "    </tr>\n",
       "    <tr>\n",
       "      <th>min</th>\n",
       "      <td>5.200087e+06</td>\n",
       "      <td>1.100000e+05</td>\n",
       "      <td>0.000000</td>\n",
       "      <td>0.000000</td>\n",
       "      <td>390.000000</td>\n",
       "      <td>635.000000</td>\n",
       "      <td>1.000000</td>\n",
       "      <td>0.000000</td>\n",
       "      <td>0.000000</td>\n",
       "      <td>2.000000</td>\n",
       "      <td>4.000000</td>\n",
       "      <td>390.000000</td>\n",
       "      <td>0.000000</td>\n",
       "      <td>1900.000000</td>\n",
       "      <td>0.000000</td>\n",
       "      <td>98001.000000</td>\n",
       "      <td>47.180800</td>\n",
       "      <td>-122.515000</td>\n",
       "      <td>690.000000</td>\n",
       "      <td>659.000000</td>\n",
       "    </tr>\n",
       "    <tr>\n",
       "      <th>25%</th>\n",
       "      <td>1.972202e+09</td>\n",
       "      <td>3.485000e+05</td>\n",
       "      <td>3.000000</td>\n",
       "      <td>2.000000</td>\n",
       "      <td>1480.000000</td>\n",
       "      <td>3561.000000</td>\n",
       "      <td>1.000000</td>\n",
       "      <td>0.000000</td>\n",
       "      <td>0.000000</td>\n",
       "      <td>3.000000</td>\n",
       "      <td>7.000000</td>\n",
       "      <td>1260.000000</td>\n",
       "      <td>0.000000</td>\n",
       "      <td>1974.000000</td>\n",
       "      <td>0.000000</td>\n",
       "      <td>98033.000000</td>\n",
       "      <td>47.480100</td>\n",
       "      <td>-122.332000</td>\n",
       "      <td>1510.000000</td>\n",
       "      <td>3825.000000</td>\n",
       "    </tr>\n",
       "    <tr>\n",
       "      <th>50%</th>\n",
       "      <td>3.831250e+09</td>\n",
       "      <td>4.750000e+05</td>\n",
       "      <td>3.000000</td>\n",
       "      <td>2.500000</td>\n",
       "      <td>2025.000000</td>\n",
       "      <td>5813.000000</td>\n",
       "      <td>2.000000</td>\n",
       "      <td>0.000000</td>\n",
       "      <td>0.000000</td>\n",
       "      <td>3.000000</td>\n",
       "      <td>8.000000</td>\n",
       "      <td>1760.000000</td>\n",
       "      <td>0.000000</td>\n",
       "      <td>2006.000000</td>\n",
       "      <td>0.000000</td>\n",
       "      <td>98065.000000</td>\n",
       "      <td>47.561800</td>\n",
       "      <td>-122.220000</td>\n",
       "      <td>1940.000000</td>\n",
       "      <td>5900.000000</td>\n",
       "    </tr>\n",
       "    <tr>\n",
       "      <th>75%</th>\n",
       "      <td>7.383450e+09</td>\n",
       "      <td>6.650000e+05</td>\n",
       "      <td>4.000000</td>\n",
       "      <td>2.750000</td>\n",
       "      <td>2790.000000</td>\n",
       "      <td>8775.000000</td>\n",
       "      <td>2.000000</td>\n",
       "      <td>0.000000</td>\n",
       "      <td>0.000000</td>\n",
       "      <td>3.000000</td>\n",
       "      <td>9.000000</td>\n",
       "      <td>2590.000000</td>\n",
       "      <td>390.000000</td>\n",
       "      <td>2010.000000</td>\n",
       "      <td>0.000000</td>\n",
       "      <td>98116.000000</td>\n",
       "      <td>47.670000</td>\n",
       "      <td>-122.112000</td>\n",
       "      <td>2540.000000</td>\n",
       "      <td>8728.000000</td>\n",
       "    </tr>\n",
       "    <tr>\n",
       "      <th>max</th>\n",
       "      <td>9.895000e+09</td>\n",
       "      <td>6.885000e+06</td>\n",
       "      <td>10.000000</td>\n",
       "      <td>7.750000</td>\n",
       "      <td>9890.000000</td>\n",
       "      <td>871200.000000</td>\n",
       "      <td>3.500000</td>\n",
       "      <td>1.000000</td>\n",
       "      <td>4.000000</td>\n",
       "      <td>5.000000</td>\n",
       "      <td>13.000000</td>\n",
       "      <td>8860.000000</td>\n",
       "      <td>2810.000000</td>\n",
       "      <td>2015.000000</td>\n",
       "      <td>2014.000000</td>\n",
       "      <td>98199.000000</td>\n",
       "      <td>47.776500</td>\n",
       "      <td>-121.403000</td>\n",
       "      <td>5790.000000</td>\n",
       "      <td>871200.000000</td>\n",
       "    </tr>\n",
       "  </tbody>\n",
       "</table>\n",
       "</div>"
      ],
      "text/plain": [
       "                 id         price     bedrooms    bathrooms  sqft_living  \\\n",
       "count  2.613000e+03  2.613000e+03  2613.000000  2613.000000  2613.000000   \n",
       "mean   4.550131e+09  5.665725e+05     3.429774     2.383563  2230.456946   \n",
       "std    2.926198e+09  3.729153e+05     0.936818     0.773159   986.917886   \n",
       "min    5.200087e+06  1.100000e+05     0.000000     0.000000   390.000000   \n",
       "25%    1.972202e+09  3.485000e+05     3.000000     2.000000  1480.000000   \n",
       "50%    3.831250e+09  4.750000e+05     3.000000     2.500000  2025.000000   \n",
       "75%    7.383450e+09  6.650000e+05     4.000000     2.750000  2790.000000   \n",
       "max    9.895000e+09  6.885000e+06    10.000000     7.750000  9890.000000   \n",
       "\n",
       "            sqft_lot       floors   waterfront         view    condition  \\\n",
       "count    2613.000000  2613.000000  2613.000000  2613.000000  2613.000000   \n",
       "mean    12020.377344     1.805205     0.004592     0.186376     3.202067   \n",
       "std     38564.911724     0.579231     0.067625     0.676740     0.498585   \n",
       "min       635.000000     1.000000     0.000000     0.000000     2.000000   \n",
       "25%      3561.000000     1.000000     0.000000     0.000000     3.000000   \n",
       "50%      5813.000000     2.000000     0.000000     0.000000     3.000000   \n",
       "75%      8775.000000     2.000000     0.000000     0.000000     3.000000   \n",
       "max    871200.000000     3.500000     1.000000     4.000000     5.000000   \n",
       "\n",
       "             grade   sqft_above  sqft_basement     yr_built  yr_renovated  \\\n",
       "count  2613.000000  2613.000000    2613.000000  2613.000000   2613.000000   \n",
       "mean      7.973594  1992.265978     238.190968  1990.117489     53.463069   \n",
       "std       1.110506   908.084279     401.724448    28.597064    322.310438   \n",
       "min       4.000000   390.000000       0.000000  1900.000000      0.000000   \n",
       "25%       7.000000  1260.000000       0.000000  1974.000000      0.000000   \n",
       "50%       8.000000  1760.000000       0.000000  2006.000000      0.000000   \n",
       "75%       9.000000  2590.000000     390.000000  2010.000000      0.000000   \n",
       "max      13.000000  8860.000000    2810.000000  2015.000000   2014.000000   \n",
       "\n",
       "            zipcode          lat         long  sqft_living15     sqft_lot15  \n",
       "count   2613.000000  2613.000000  2613.000000    2613.000000    2613.000000  \n",
       "mean   98075.820896    47.554317  -122.206021    2081.516265   10945.902794  \n",
       "std       50.195789     0.134737     0.146442     737.114617   33362.667675  \n",
       "min    98001.000000    47.180800  -122.515000     690.000000     659.000000  \n",
       "25%    98033.000000    47.480100  -122.332000    1510.000000    3825.000000  \n",
       "50%    98065.000000    47.561800  -122.220000    1940.000000    5900.000000  \n",
       "75%    98116.000000    47.670000  -122.112000    2540.000000    8728.000000  \n",
       "max    98199.000000    47.776500  -121.403000    5790.000000  871200.000000  "
      ]
     },
     "execution_count": 5,
     "metadata": {},
     "output_type": "execute_result"
    }
   ],
   "source": [
    "df.describe()"
   ]
  },
  {
   "cell_type": "code",
   "execution_count": 6,
   "metadata": {},
   "outputs": [
    {
     "data": {
      "text/plain": [
       "(2613, 21)"
      ]
     },
     "execution_count": 6,
     "metadata": {},
     "output_type": "execute_result"
    }
   ],
   "source": [
    "df.shape"
   ]
  },
  {
   "cell_type": "markdown",
   "metadata": {},
   "source": [
    "### Handling missing data"
   ]
  },
  {
   "cell_type": "code",
   "execution_count": 7,
   "metadata": {},
   "outputs": [
    {
     "data": {
      "text/plain": [
       "id               0\n",
       "date             0\n",
       "price            0\n",
       "bedrooms         0\n",
       "bathrooms        0\n",
       "sqft_living      0\n",
       "sqft_lot         0\n",
       "floors           0\n",
       "waterfront       0\n",
       "view             0\n",
       "condition        0\n",
       "grade            0\n",
       "sqft_above       0\n",
       "sqft_basement    0\n",
       "yr_built         0\n",
       "yr_renovated     0\n",
       "zipcode          0\n",
       "lat              0\n",
       "long             0\n",
       "sqft_living15    0\n",
       "sqft_lot15       0\n",
       "dtype: int64"
      ]
     },
     "execution_count": 7,
     "metadata": {},
     "output_type": "execute_result"
    }
   ],
   "source": [
    "df.isnull().apply(sum)"
   ]
  },
  {
   "cell_type": "code",
   "execution_count": 8,
   "metadata": {},
   "outputs": [
    {
     "data": {
      "text/plain": [
       "id               False\n",
       "date             False\n",
       "price            False\n",
       "bedrooms         False\n",
       "bathrooms        False\n",
       "sqft_living      False\n",
       "sqft_lot         False\n",
       "floors           False\n",
       "waterfront       False\n",
       "view             False\n",
       "condition        False\n",
       "grade            False\n",
       "sqft_above       False\n",
       "sqft_basement    False\n",
       "yr_built         False\n",
       "yr_renovated     False\n",
       "zipcode          False\n",
       "lat              False\n",
       "long             False\n",
       "sqft_living15    False\n",
       "sqft_lot15       False\n",
       "dtype: bool"
      ]
     },
     "execution_count": 8,
     "metadata": {},
     "output_type": "execute_result"
    }
   ],
   "source": [
    "df.isna().any()"
   ]
  },
  {
   "cell_type": "markdown",
   "metadata": {},
   "source": [
    "### Handling duplicate data"
   ]
  },
  {
   "cell_type": "code",
   "execution_count": 9,
   "metadata": {},
   "outputs": [
    {
     "data": {
      "text/html": [
       "<div>\n",
       "<style scoped>\n",
       "    .dataframe tbody tr th:only-of-type {\n",
       "        vertical-align: middle;\n",
       "    }\n",
       "\n",
       "    .dataframe tbody tr th {\n",
       "        vertical-align: top;\n",
       "    }\n",
       "\n",
       "    .dataframe thead th {\n",
       "        text-align: right;\n",
       "    }\n",
       "</style>\n",
       "<table border=\"1\" class=\"dataframe\">\n",
       "  <thead>\n",
       "    <tr style=\"text-align: right;\">\n",
       "      <th></th>\n",
       "      <th>id</th>\n",
       "      <th>date</th>\n",
       "      <th>price</th>\n",
       "      <th>bedrooms</th>\n",
       "      <th>bathrooms</th>\n",
       "      <th>sqft_living</th>\n",
       "      <th>sqft_lot</th>\n",
       "      <th>floors</th>\n",
       "      <th>waterfront</th>\n",
       "      <th>view</th>\n",
       "      <th>...</th>\n",
       "      <th>grade</th>\n",
       "      <th>sqft_above</th>\n",
       "      <th>sqft_basement</th>\n",
       "      <th>yr_built</th>\n",
       "      <th>yr_renovated</th>\n",
       "      <th>zipcode</th>\n",
       "      <th>lat</th>\n",
       "      <th>long</th>\n",
       "      <th>sqft_living15</th>\n",
       "      <th>sqft_lot15</th>\n",
       "    </tr>\n",
       "  </thead>\n",
       "  <tbody>\n",
       "  </tbody>\n",
       "</table>\n",
       "<p>0 rows × 21 columns</p>\n",
       "</div>"
      ],
      "text/plain": [
       "Empty DataFrame\n",
       "Columns: [id, date, price, bedrooms, bathrooms, sqft_living, sqft_lot, floors, waterfront, view, condition, grade, sqft_above, sqft_basement, yr_built, yr_renovated, zipcode, lat, long, sqft_living15, sqft_lot15]\n",
       "Index: []\n",
       "\n",
       "[0 rows x 21 columns]"
      ]
     },
     "execution_count": 9,
     "metadata": {},
     "output_type": "execute_result"
    }
   ],
   "source": [
    "df[df.duplicated()]"
   ]
  },
  {
   "cell_type": "markdown",
   "metadata": {},
   "source": [
    "## Task 1 (10 marks)"
   ]
  },
  {
   "cell_type": "markdown",
   "metadata": {},
   "source": [
    "Create a feature in the DataFrame called `unit_price` that contains the price per square foot for each sale using the `sqft_living` feature."
   ]
  },
  {
   "cell_type": "code",
   "execution_count": 10,
   "metadata": {},
   "outputs": [
    {
     "data": {
      "text/plain": [
       "0       188.050847\n",
       "1       140.243902\n",
       "2       419.753086\n",
       "3       589.820359\n",
       "4       200.534759\n",
       "           ...    \n",
       "2608    235.294118\n",
       "2609    173.160173\n",
       "2610    394.216667\n",
       "2611    250.000000\n",
       "2612    318.627451\n",
       "Name: unit_price, Length: 2613, dtype: float64"
      ]
     },
     "execution_count": 10,
     "metadata": {},
     "output_type": "execute_result"
    }
   ],
   "source": [
    "df[\"unit_price\"] = df[\"price\"] / df[\"sqft_living\"]\n",
    "df[\"unit_price\"]"
   ]
  },
  {
   "cell_type": "markdown",
   "metadata": {},
   "source": [
    "## Task 2 (20 marks)"
   ]
  },
  {
   "cell_type": "markdown",
   "metadata": {},
   "source": [
    "Create a DataFrame that consists of two columns:\n",
    "\n",
    "- `zipcode`: referred to \"postcode\"\n",
    "- `avg_sqf_living`: the average price per `sqf_living`; using `unit_price` from the last task, Task1.\n",
    "\n",
    "**Note**: Each zip code will have its row, and the second column will contain the **mean** price of all the sales in that zip code."
   ]
  },
  {
   "cell_type": "code",
   "execution_count": 11,
   "metadata": {},
   "outputs": [
    {
     "data": {
      "text/html": [
       "<div>\n",
       "<style scoped>\n",
       "    .dataframe tbody tr th:only-of-type {\n",
       "        vertical-align: middle;\n",
       "    }\n",
       "\n",
       "    .dataframe tbody tr th {\n",
       "        vertical-align: top;\n",
       "    }\n",
       "\n",
       "    .dataframe thead th {\n",
       "        text-align: right;\n",
       "    }\n",
       "</style>\n",
       "<table border=\"1\" class=\"dataframe\">\n",
       "  <thead>\n",
       "    <tr style=\"text-align: right;\">\n",
       "      <th></th>\n",
       "      <th>zipcode</th>\n",
       "      <th>avg_unit_price</th>\n",
       "    </tr>\n",
       "  </thead>\n",
       "  <tbody>\n",
       "    <tr>\n",
       "      <th>0</th>\n",
       "      <td>98001</td>\n",
       "      <td>155.791298</td>\n",
       "    </tr>\n",
       "    <tr>\n",
       "      <th>1</th>\n",
       "      <td>98002</td>\n",
       "      <td>152.284512</td>\n",
       "    </tr>\n",
       "    <tr>\n",
       "      <th>2</th>\n",
       "      <td>98003</td>\n",
       "      <td>158.400200</td>\n",
       "    </tr>\n",
       "    <tr>\n",
       "      <th>3</th>\n",
       "      <td>98004</td>\n",
       "      <td>481.385148</td>\n",
       "    </tr>\n",
       "    <tr>\n",
       "      <th>4</th>\n",
       "      <td>98005</td>\n",
       "      <td>294.317493</td>\n",
       "    </tr>\n",
       "    <tr>\n",
       "      <th>...</th>\n",
       "      <td>...</td>\n",
       "      <td>...</td>\n",
       "    </tr>\n",
       "    <tr>\n",
       "      <th>65</th>\n",
       "      <td>98177</td>\n",
       "      <td>288.462758</td>\n",
       "    </tr>\n",
       "    <tr>\n",
       "      <th>66</th>\n",
       "      <td>98178</td>\n",
       "      <td>177.014663</td>\n",
       "    </tr>\n",
       "    <tr>\n",
       "      <th>67</th>\n",
       "      <td>98188</td>\n",
       "      <td>160.873309</td>\n",
       "    </tr>\n",
       "    <tr>\n",
       "      <th>68</th>\n",
       "      <td>98198</td>\n",
       "      <td>180.486717</td>\n",
       "    </tr>\n",
       "    <tr>\n",
       "      <th>69</th>\n",
       "      <td>98199</td>\n",
       "      <td>358.478920</td>\n",
       "    </tr>\n",
       "  </tbody>\n",
       "</table>\n",
       "<p>70 rows × 2 columns</p>\n",
       "</div>"
      ],
      "text/plain": [
       "    zipcode  avg_unit_price\n",
       "0     98001      155.791298\n",
       "1     98002      152.284512\n",
       "2     98003      158.400200\n",
       "3     98004      481.385148\n",
       "4     98005      294.317493\n",
       "..      ...             ...\n",
       "65    98177      288.462758\n",
       "66    98178      177.014663\n",
       "67    98188      160.873309\n",
       "68    98198      180.486717\n",
       "69    98199      358.478920\n",
       "\n",
       "[70 rows x 2 columns]"
      ]
     },
     "execution_count": 11,
     "metadata": {},
     "output_type": "execute_result"
    }
   ],
   "source": [
    "avg_price_zipcode_df = df.groupby(\"zipcode\")['unit_price'].mean().reset_index()\n",
    "avg_price_zipcode_df.columns = ['zipcode', 'avg_unit_price']\n",
    "avg_price_zipcode_df"
   ]
  },
  {
   "cell_type": "code",
   "execution_count": 12,
   "metadata": {},
   "outputs": [
    {
     "data": {
      "text/plain": [
       "zipcode           0\n",
       "avg_unit_price    0\n",
       "dtype: int64"
      ]
     },
     "execution_count": 12,
     "metadata": {},
     "output_type": "execute_result"
    }
   ],
   "source": [
    "avg_price_zipcode_df.isnull().apply(sum)"
   ]
  },
  {
   "cell_type": "code",
   "execution_count": 13,
   "metadata": {},
   "outputs": [
    {
     "data": {
      "text/plain": [
       "zipcode           False\n",
       "avg_unit_price    False\n",
       "dtype: bool"
      ]
     },
     "execution_count": 13,
     "metadata": {},
     "output_type": "execute_result"
    }
   ],
   "source": [
    "avg_price_zipcode_df.isna().any()"
   ]
  },
  {
   "cell_type": "code",
   "execution_count": 14,
   "metadata": {},
   "outputs": [
    {
     "data": {
      "text/html": [
       "<div>\n",
       "<style scoped>\n",
       "    .dataframe tbody tr th:only-of-type {\n",
       "        vertical-align: middle;\n",
       "    }\n",
       "\n",
       "    .dataframe tbody tr th {\n",
       "        vertical-align: top;\n",
       "    }\n",
       "\n",
       "    .dataframe thead th {\n",
       "        text-align: right;\n",
       "    }\n",
       "</style>\n",
       "<table border=\"1\" class=\"dataframe\">\n",
       "  <thead>\n",
       "    <tr style=\"text-align: right;\">\n",
       "      <th></th>\n",
       "      <th>zipcode</th>\n",
       "      <th>avg_unit_price</th>\n",
       "    </tr>\n",
       "  </thead>\n",
       "  <tbody>\n",
       "  </tbody>\n",
       "</table>\n",
       "</div>"
      ],
      "text/plain": [
       "Empty DataFrame\n",
       "Columns: [zipcode, avg_unit_price]\n",
       "Index: []"
      ]
     },
     "execution_count": 14,
     "metadata": {},
     "output_type": "execute_result"
    }
   ],
   "source": [
    "avg_price_zipcode_df[avg_price_zipcode_df.duplicated()]"
   ]
  },
  {
   "cell_type": "markdown",
   "metadata": {},
   "source": [
    "## Task 3 (20 marks)"
   ]
  },
  {
   "cell_type": "markdown",
   "metadata": {},
   "source": [
    "### 3.1 Create a DataFrame "
   ]
  },
  {
   "cell_type": "markdown",
   "metadata": {},
   "source": [
    "With two columns: \n",
    "- `bedrooms`\n",
    "- `mean_price`\n",
    "\n",
    "**Note**:\n",
    "Each unique count of bedrooms will have its row, and the second column will be the mean price for properties with that many bedrooms. "
   ]
  },
  {
   "cell_type": "code",
   "execution_count": 27,
   "metadata": {},
   "outputs": [
    {
     "data": {
      "text/html": [
       "<div>\n",
       "<style scoped>\n",
       "    .dataframe tbody tr th:only-of-type {\n",
       "        vertical-align: middle;\n",
       "    }\n",
       "\n",
       "    .dataframe tbody tr th {\n",
       "        vertical-align: top;\n",
       "    }\n",
       "\n",
       "    .dataframe thead th {\n",
       "        text-align: right;\n",
       "    }\n",
       "</style>\n",
       "<table border=\"1\" class=\"dataframe\">\n",
       "  <thead>\n",
       "    <tr style=\"text-align: right;\">\n",
       "      <th></th>\n",
       "      <th>bedrooms</th>\n",
       "      <th>mean_price</th>\n",
       "    </tr>\n",
       "  </thead>\n",
       "  <tbody>\n",
       "    <tr>\n",
       "      <th>0</th>\n",
       "      <td>0</td>\n",
       "      <td>152.086444</td>\n",
       "    </tr>\n",
       "    <tr>\n",
       "      <th>1</th>\n",
       "      <td>1</td>\n",
       "      <td>401.536056</td>\n",
       "    </tr>\n",
       "    <tr>\n",
       "      <th>2</th>\n",
       "      <td>2</td>\n",
       "      <td>342.453922</td>\n",
       "    </tr>\n",
       "    <tr>\n",
       "      <th>3</th>\n",
       "      <td>3</td>\n",
       "      <td>262.202315</td>\n",
       "    </tr>\n",
       "    <tr>\n",
       "      <th>4</th>\n",
       "      <td>4</td>\n",
       "      <td>233.332738</td>\n",
       "    </tr>\n",
       "  </tbody>\n",
       "</table>\n",
       "</div>"
      ],
      "text/plain": [
       "   bedrooms  mean_price\n",
       "0         0  152.086444\n",
       "1         1  401.536056\n",
       "2         2  342.453922\n",
       "3         3  262.202315\n",
       "4         4  233.332738"
      ]
     },
     "execution_count": 27,
     "metadata": {},
     "output_type": "execute_result"
    }
   ],
   "source": [
    "mean_price_bedrooms_df = df.groupby(\"bedrooms\")['unit_price'].mean().reset_index()\n",
    "mean_price_bedrooms_df.columns = ['bedrooms','mean_price']\n",
    "mean_price_bedrooms_df.head()"
   ]
  },
  {
   "cell_type": "code",
   "execution_count": 16,
   "metadata": {},
   "outputs": [
    {
     "data": {
      "text/plain": [
       "bedrooms      0\n",
       "mean_price    0\n",
       "dtype: int64"
      ]
     },
     "execution_count": 16,
     "metadata": {},
     "output_type": "execute_result"
    }
   ],
   "source": [
    "mean_price_bedrooms_df.isnull().apply(sum)"
   ]
  },
  {
   "cell_type": "code",
   "execution_count": 17,
   "metadata": {},
   "outputs": [
    {
     "data": {
      "text/html": [
       "<div>\n",
       "<style scoped>\n",
       "    .dataframe tbody tr th:only-of-type {\n",
       "        vertical-align: middle;\n",
       "    }\n",
       "\n",
       "    .dataframe tbody tr th {\n",
       "        vertical-align: top;\n",
       "    }\n",
       "\n",
       "    .dataframe thead th {\n",
       "        text-align: right;\n",
       "    }\n",
       "</style>\n",
       "<table border=\"1\" class=\"dataframe\">\n",
       "  <thead>\n",
       "    <tr style=\"text-align: right;\">\n",
       "      <th></th>\n",
       "      <th>bedrooms</th>\n",
       "      <th>mean_price</th>\n",
       "    </tr>\n",
       "  </thead>\n",
       "  <tbody>\n",
       "  </tbody>\n",
       "</table>\n",
       "</div>"
      ],
      "text/plain": [
       "Empty DataFrame\n",
       "Columns: [bedrooms, mean_price]\n",
       "Index: []"
      ]
     },
     "execution_count": 17,
     "metadata": {},
     "output_type": "execute_result"
    }
   ],
   "source": [
    "mean_price_bedrooms_df[mean_price_bedrooms_df.duplicated()]"
   ]
  },
  {
   "cell_type": "markdown",
   "metadata": {},
   "source": [
    "### 3.2 Display the DataFrame in the bar chart form"
   ]
  },
  {
   "cell_type": "markdown",
   "metadata": {},
   "source": [
    "- Use a bar plot to display the DataFrame\n",
    "- Give each bar its colour"
   ]
  },
  {
   "cell_type": "code",
   "execution_count": 18,
   "metadata": {},
   "outputs": [
    {
     "data": {
      "image/png": "[encoded data removed]",
      "text/plain": [
       "<Figure size 640x480 with 1 Axes>"
      ]
     },
     "metadata": {},
     "output_type": "display_data"
    }
   ],
   "source": [
    "plt.bar(mean_price_bedrooms_df[\"bedrooms\"], mean_price_bedrooms_df[\"mean_price\"], color=[\"seashell\", \"maroon\", \"firebrick\", \"brown\", \"salmon\", \"tomato\", \"orangered\", \"indianred\", \"peachpuff\", \"mistyrose\"])\n",
    "plt.xlabel(\"Number of Bedrooms\")\n",
    "plt.ylabel(\"Mean Price per Square Foot\")\n",
    "plt.title(\"Mean Price per Square Foot per Number of Bedrooms\")\n",
    "plt.show()"
   ]
  },
  {
   "cell_type": "markdown",
   "metadata": {},
   "source": [
    "## Task 4 (20 marks)"
   ]
  },
  {
   "cell_type": "markdown",
   "metadata": {},
   "source": [
    "- Show a graph that showed `long` versus `lat`, choosing scatter plots\n",
    "- Set colour\n",
    "    - <code style=\"color : red\">red</code>: for the waterfront properties\n",
    "    - <code style=\"color : blue\">blue</code>: for all others called `Non-Waterfront`.\n",
    "- Title the plot and label the axis appropriately.\n",
    "  - xlabel: named \"Longitude\"\n",
    "  - ylabel: named \"Latitude\"\n",
    "  - title: named \"Analysis of Waterfront and Non-Waterfront Properties: Longitude vs Latitude\""
   ]
  },
  {
   "cell_type": "markdown",
   "metadata": {},
   "source": [
    "### Create two separate DataFrames"
   ]
  },
  {
   "cell_type": "markdown",
   "metadata": {},
   "source": [
    "two DataFrames:\n",
    "- waterfront\n",
    "- non-waterfront"
   ]
  },
  {
   "cell_type": "code",
   "execution_count": 19,
   "metadata": {},
   "outputs": [],
   "source": [
    "waterfront_df = df[df['waterfront'] == 1]\n",
    "non_waterfront_df = df[df['waterfront'] == 0]"
   ]
  },
  {
   "cell_type": "markdown",
   "metadata": {},
   "source": [
    "### Show the graph"
   ]
  },
  {
   "cell_type": "code",
   "execution_count": 20,
   "metadata": {},
   "outputs": [
    {
     "data": {
      "image/png": "[encoded data removed]",
      "text/plain": [
       "<Figure size 640x480 with 1 Axes>"
      ]
     },
     "metadata": {},
     "output_type": "display_data"
    }
   ],
   "source": [
    "plt.scatter(non_waterfront_df['long'], non_waterfront_df['lat'], color='blue', label='Non-Waterfront', alpha=0.5)\n",
    "plt.scatter(waterfront_df['long'], waterfront_df['lat'], color='red', label='Waterfront', alpha=0.5)\n",
    "plt.xlabel('Longitude')\n",
    "plt.ylabel('Latitude')\n",
    "plt.title('Analysis of Waterfront and Non-Waterfront Properties: Longitude vs Latitude')\n",
    "plt.legend()\n",
    "plt.show()"
   ]
  },
  {
   "cell_type": "markdown",
   "metadata": {},
   "source": [
    "## Task 5 (30 marks)"
   ]
  },
  {
   "cell_type": "markdown",
   "metadata": {},
   "source": [
    "### 5.1 Create a time-series from the DataFrame (set the index to the date)"
   ]
  },
  {
   "cell_type": "code",
   "execution_count": 21,
   "metadata": {},
   "outputs": [],
   "source": [
    "df['date'] = pd.to_datetime(df['date'])\n",
    "df.set_index('date', inplace=True)"
   ]
  },
  {
   "cell_type": "markdown",
   "metadata": {},
   "source": [
    "### 5.2 Show the Graph displaying the daily mean price data"
   ]
  },
  {
   "cell_type": "markdown",
   "metadata": {},
   "source": [
    "#### Create the DataFrame"
   ]
  },
  {
   "cell_type": "markdown",
   "metadata": {},
   "source": [
    "By daily aggregating the price column based on the date column (time-series data) scope."
   ]
  },
  {
   "cell_type": "code",
   "execution_count": null,
   "metadata": {},
   "outputs": [
    {
     "data": {
      "text/plain": [
       "date\n",
       "2014-05-02    501061.250000\n",
       "2014-05-03              NaN\n",
       "2014-05-04    479975.000000\n",
       "2014-05-05    594161.600000\n",
       "2014-05-06    637961.454545\n",
       "Freq: D, Name: price, dtype: float64"
      ]
     },
     "execution_count": 22,
     "metadata": {},
     "output_type": "execute_result"
    }
   ],
   "source": [
    "daily_mean_price_df = df.resample('D')['price'].mean()\n",
    "daily_mean_price_df.head()"
   ]
  },
  {
   "cell_type": "markdown",
   "metadata": {},
   "source": [
    "#### cleaning data"
   ]
  },
  {
   "cell_type": "code",
   "execution_count": 23,
   "metadata": {},
   "outputs": [
    {
     "data": {
      "text/plain": [
       "np.True_"
      ]
     },
     "execution_count": 23,
     "metadata": {},
     "output_type": "execute_result"
    }
   ],
   "source": [
    "daily_mean_price_df.isna().any()"
   ]
  },
  {
   "cell_type": "code",
   "execution_count": 24,
   "metadata": {},
   "outputs": [],
   "source": [
    "daily_mean_price_df = daily_mean_price_df.dropna()"
   ]
  },
  {
   "cell_type": "code",
   "execution_count": 25,
   "metadata": {},
   "outputs": [
    {
     "data": {
      "text/plain": [
       "date\n",
       "2014-12-13    320000.0\n",
       "2015-03-08    340000.0\n",
       "Name: price, dtype: float64"
      ]
     },
     "execution_count": 25,
     "metadata": {},
     "output_type": "execute_result"
    }
   ],
   "source": [
    "daily_mean_price_df[daily_mean_price_df.duplicated()]"
   ]
  },
  {
   "cell_type": "markdown",
   "metadata": {},
   "source": [
    "#### Plot the graph"
   ]
  },
  {
   "cell_type": "markdown",
   "metadata": {},
   "source": [
    "- plot the daily mean price from the DataFrame, `daily_mean_price_df`.\n",
    "- draw a line from the smallest daily average to the highest daily average on the graph plotting the daily mean price data."
   ]
  },
  {
   "cell_type": "code",
   "execution_count": 26,
   "metadata": {},
   "outputs": [
    {
     "data": {
      "image/png": "[encoded data removed]",
      "text/plain": [
       "<Figure size 640x480 with 1 Axes>"
      ]
     },
     "metadata": {},
     "output_type": "display_data"
    }
   ],
   "source": [
    "plt.plot(daily_mean_price_df, label='Daily Mean Price')\n",
    "plt.xlabel('Date')\n",
    "plt.ylabel('Mean Price')\n",
    "plt.title('Daily Mean Price')\n",
    "\n",
    "plt.plot([daily_mean_price_df.idxmin(), daily_mean_price_df.idxmax()],\n",
    "         [daily_mean_price_df.min(), daily_mean_price_df.max()],\n",
    "         color='red', linestyle='--', label='Min to Max Overlay Line')\n",
    "\n",
    "plt.show()\n"
   ]
  },
  {
   "cell_type": "code",
   "execution_count": null,
   "metadata": {},
   "outputs": [],
   "source": []
  }
 ],
 "metadata": {
  "kernelspec": {
   "display_name": "ml-algo",
   "language": "python",
   "name": "python3"
  },
  "language_info": {
   "codemirror_mode": {
    "name": "ipython",
    "version": 3
   },
   "file_extension": ".py",
   "mimetype": "text/x-python",
   "name": "python",
   "nbconvert_exporter": "python",
   "pygments_lexer": "ipython3",
   "version": "3.12.7"
  }
 },
 "nbformat": 4,
 "nbformat_minor": 4
}
