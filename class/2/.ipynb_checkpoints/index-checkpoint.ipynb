{
 "cells": [
  {
   "cell_type": "markdown",
   "id": "51d22424-c777-4e05-9838-68354f38fe29",
   "metadata": {},
   "source": [
    "# Class 2"
   ]
  },
  {
   "cell_type": "markdown",
   "id": "b0ea8aa7-39eb-4d58-a29c-849dcc63acff",
   "metadata": {},
   "source": [
    "## Task 1"
   ]
  },
  {
   "cell_type": "markdown",
   "id": "9b801bd0-9155-43bd-b89d-0be1954256ae",
   "metadata": {},
   "source": [
    "Write a Python code that creates a list of numbers between 1 and 100 that are divisible\n",
    "by 2 and 5. Remember to use the `range()` function and the module division (`%`)."
   ]
  },
  {
   "cell_type": "code",
   "execution_count": 1,
   "id": "de31614c-6959-4ecd-85e3-135ce8133bd4",
   "metadata": {},
   "outputs": [
    {
     "name": "stdout",
     "output_type": "stream",
     "text": [
      "[10, 20, 30, 40, 50, 60, 70, 80, 90, 100]\n"
     ]
    }
   ],
   "source": [
    "divisible = []\n",
    "for i in range(1, 101):\n",
    "    if i % 2 == 0 and i % 5 == 0:\n",
    "        divisible.append(i)\n",
    "print(divisible)"
   ]
  },
  {
   "cell_type": "markdown",
   "id": "f492e2ed-d465-4e02-bae8-6534c1b15d30",
   "metadata": {},
   "source": [
    "### comprehension version"
   ]
  },
  {
   "cell_type": "code",
   "execution_count": 1,
   "id": "7c4995c5-a1ef-4f9a-b31e-9d1a2d795521",
   "metadata": {},
   "outputs": [
    {
     "name": "stdout",
     "output_type": "stream",
     "text": [
      "[10, 20, 30, 40, 50, 60, 70, 80, 90, 100]\n"
     ]
    }
   ],
   "source": [
    "divisible = [i for i in range(1, 101) if i % 2 == 0 and i % 5 == 0]\n",
    "print(divisible)"
   ]
  },
  {
   "cell_type": "markdown",
   "id": "f1f289a4-e80a-49cf-9e6c-0578e354aee5",
   "metadata": {},
   "source": [
    "## Task 2"
   ]
  },
  {
   "cell_type": "markdown",
   "id": "f292d7f5-c699-400f-859e-f7001c9580ee",
   "metadata": {},
   "source": [
    "Given the following list of strings, write a Python code to create a list that includes\n",
    "names that start with a specific letter (e.g., letter 'H')."
   ]
  },
  {
   "cell_type": "code",
   "execution_count": 2,
   "id": "b10a1a17-2940-43f6-a67f-0aad3c46c98e",
   "metadata": {},
   "outputs": [],
   "source": [
    "names = [\"Jim\", \"Hetty\", \"Kirsten\", \"Theo\", \"Henry\", \"Paul\"]"
   ]
  },
  {
   "cell_type": "markdown",
   "id": "64114b8b-4dd5-472a-9888-e4c0f8b55eec",
   "metadata": {},
   "source": [
    "### simple loop"
   ]
  },
  {
   "cell_type": "code",
   "execution_count": 6,
   "id": "203dcc7b-381b-4126-a5c4-d543bc35a2a9",
   "metadata": {},
   "outputs": [
    {
     "name": "stdout",
     "output_type": "stream",
     "text": [
      "['Kirsten']\n"
     ]
    }
   ],
   "source": [
    "letter = \"K\"\n",
    "filtered = []\n",
    "for name in names:\n",
    "    if name.startswith(letter):\n",
    "        filtered.append(name)\n",
    "print(filtered) # this line will print the list"
   ]
  },
  {
   "cell_type": "code",
   "execution_count": 7,
   "id": "0102dfa7-e5a5-4cd5-a3b9-67a818a3e330",
   "metadata": {},
   "outputs": [
    {
     "name": "stdout",
     "output_type": "stream",
     "text": [
      "['Kirsten']\n"
     ]
    }
   ],
   "source": [
    "letter = \"K\"\n",
    "filtered = [name for name in names if name.startswith(letter)]\n",
    "print(filtered)"
   ]
  },
  {
   "cell_type": "markdown",
   "id": "b13b8131-8249-4e74-b127-ac71e93f4f72",
   "metadata": {},
   "source": [
    "## Task 3"
   ]
  },
  {
   "cell_type": "markdown",
   "id": "4ae7b67b-a922-4a2f-bcb2-c8a7971f240b",
   "metadata": {},
   "source": [
    "Given 2 lists of numbers, write a Python code that returns the sum of the values that\n",
    "occur is both lists:"
   ]
  },
  {
   "cell_type": "code",
   "execution_count": 10,
   "id": "05ac33ec-60fe-4bc8-8710-144fc6a02da0",
   "metadata": {},
   "outputs": [],
   "source": [
    "values1 = [4, 6, 2, 9, 10, 11, 24, 50, 33]\n",
    "values2 = [3, 5, 24, 12, 13, 4, 20, 10, 6]"
   ]
  },
  {
   "cell_type": "markdown",
   "id": "be893815-099f-403a-9cab-1fa74d59488f",
   "metadata": {},
   "source": [
    "### 3.1 Loop"
   ]
  },
  {
   "cell_type": "code",
   "execution_count": 16,
   "id": "c47ebd96-17b8-48f7-b163-6565e691641f",
   "metadata": {},
   "outputs": [
    {
     "name": "stdout",
     "output_type": "stream",
     "text": [
      "44\n"
     ]
    }
   ],
   "source": [
    "total = 0\n",
    "for i in values1:\n",
    "    for j in values2:\n",
    "        if i == j:\n",
    "            total += i\n",
    "print(total)"
   ]
  },
  {
   "cell_type": "markdown",
   "id": "408af2e9-b575-40f7-8d49-366590d1d96a",
   "metadata": {},
   "source": [
    "### 3.2 sum function"
   ]
  },
  {
   "cell_type": "code",
   "execution_count": 19,
   "id": "07aec1b2-0088-40ad-bf8d-2ef7d3a3ad74",
   "metadata": {},
   "outputs": [
    {
     "name": "stdout",
     "output_type": "stream",
     "text": [
      "44\n"
     ]
    }
   ],
   "source": [
    "total = sum([i for i in values1 for j in values2 if i == j])\n",
    "print(total)"
   ]
  },
  {
   "cell_type": "markdown",
   "id": "d2811ec5-5c26-4cb8-9bdd-5771bc442912",
   "metadata": {},
   "source": [
    "### 3.3 set"
   ]
  },
  {
   "cell_type": "code",
   "execution_count": 21,
   "id": "10eb5218-cdb7-4661-86b0-708b640c992d",
   "metadata": {},
   "outputs": [
    {
     "name": "stdout",
     "output_type": "stream",
     "text": [
      "44\n"
     ]
    }
   ],
   "source": [
    "set1 = set(values1)\n",
    "set2 = set(values2)\n",
    "total = sum(set1.intersection(set2))\n",
    "print(total)"
   ]
  },
  {
   "cell_type": "markdown",
   "id": "a013a30b-381b-4329-b2b1-084d0fd80378",
   "metadata": {},
   "source": [
    "## Task 4"
   ]
  },
  {
   "cell_type": "markdown",
   "id": "c185bd88-4457-43f2-ab67-99087cf8bea9",
   "metadata": {},
   "source": [
    "Write a Python code that returns the sum of the indexes of the values of a list that are\n",
    "greater than 10."
   ]
  },
  {
   "cell_type": "code",
   "execution_count": 76,
   "id": "ebe901d7-149d-437b-83a7-e6268cbb2466",
   "metadata": {},
   "outputs": [],
   "source": [
    "values_list = [4, 12, 2, 9, 10, 11, 5, 9, 33]"
   ]
  },
  {
   "cell_type": "markdown",
   "id": "af70fcfa-52ed-493f-86d0-e50155156fa4",
   "metadata": {},
   "source": [
    "### simple"
   ]
  },
  {
   "cell_type": "code",
   "execution_count": 77,
   "id": "daf37e6f-daa0-459a-9c7c-e9bdef02f2d5",
   "metadata": {},
   "outputs": [
    {
     "name": "stdout",
     "output_type": "stream",
     "text": [
      "14\n"
     ]
    }
   ],
   "source": [
    "total = 0\n",
    "for i,v in enumerate(values_list):\n",
    "    if v > 10:\n",
    "        total += i\n",
    "print(total)"
   ]
  },
  {
   "cell_type": "markdown",
   "id": "01bb16c2-c93e-4da4-b7ad-bd09df60717e",
   "metadata": {},
   "source": [
    "### comprehension"
   ]
  },
  {
   "cell_type": "code",
   "execution_count": 78,
   "id": "edf1fc9a-f043-445e-bbab-0e2e65673a83",
   "metadata": {},
   "outputs": [
    {
     "name": "stdout",
     "output_type": "stream",
     "text": [
      "14\n"
     ]
    }
   ],
   "source": [
    "total = sum([i for i,v in enumerate(values_list) if v > 10])\n",
    "print(total)"
   ]
  },
  {
   "cell_type": "markdown",
   "id": "4da9dd61-8f50-474a-850f-2c3a2af3905f",
   "metadata": {},
   "source": [
    "## Task 5"
   ]
  },
  {
   "cell_type": "markdown",
   "id": "b38adebd-783c-45cd-a4cf-19a53f3b0c6f",
   "metadata": {},
   "source": [
    "### code and simple"
   ]
  },
  {
   "cell_type": "markdown",
   "id": "8dae1b63-b133-40c4-9f26-49b1d74cf6da",
   "metadata": {},
   "source": [
    "Write a Python code that verifies which player has won a game of tic-tac-toe. The\n",
    "code should print the symbol of the winning player or “none” in case there are no\n",
    "winners. Test your code with different variations of a game state."
   ]
  },
  {
   "cell_type": "code",
   "execution_count": 14,
   "id": "31bfefee-5123-46d1-a0d5-d2780e5965d4",
   "metadata": {},
   "outputs": [],
   "source": [
    "class TicTacToe:\n",
    "    def __init__(self, board: list[list[str]], show_result = True):\n",
    "        # init size of board\n",
    "        size_of_board = len(board)\n",
    "\n",
    "        # The board should be the size_of_board*size_of_board\n",
    "        if not all(len(row) == size_of_board for row in board):\n",
    "            raise Exception(f\"Sorry, The size of board has to be {size_of_board} * {size_of_board}\")\n",
    "\n",
    "        self.size_of_board = size_of_board\n",
    "        self.board = board\n",
    "        if show_result:\n",
    "            self.print_state(self.check_winner())\n",
    "\n",
    "    def check_winner(self) -> str:\n",
    "        # Access instance attributes\n",
    "        size_of_board = self.size_of_board\n",
    "        board = self.board\n",
    "\n",
    "        # Check rows and columns for a win\n",
    "        for pos_x in range(len(board)):\n",
    "            # Check row\n",
    "            if not self.is_blank(board[pos_x][0]) and all(tic == board[pos_x][0] for tic in board[pos_x]):\n",
    "                return board[pos_x][0]\n",
    "            # Check column\n",
    "            if not self.is_blank(board[0][pos_x]) and all(board[0][pos_x] == board[pos_y][pos_x] for pos_y in range(size_of_board)):\n",
    "                return board[0][pos_x]\n",
    "\n",
    "        # Check diagonals for a win\n",
    "        # Check the first diagonal\n",
    "        if not self.is_blank(board[0][0]) and all(board[0][0] == board[pos][pos] for pos in range(size_of_board)):\n",
    "            return board[0][0]\n",
    "        # Check the second diagonal\n",
    "        if not self.is_blank(board[0][-1]) and all(board[0][size_of_board - 1] == board[i][-1 - i] for i in range(size_of_board)):\n",
    "            return board[0][-1]\n",
    "\n",
    "        # Check for a tie (no empty cells left)\n",
    "        # if all(not self.is_blank(cell) for row in board for cell in row):\n",
    "            # return \"tie\"\n",
    "\n",
    "        # No winner or tie\n",
    "        return \"none\"\n",
    "\n",
    "    def print_state(self, state: str):\n",
    "        match state:\n",
    "            case \"none\":\n",
    "                print(\"no winner\")\n",
    "            # case \"tie\":\n",
    "                # print(\"the game is over, both are tie\")\n",
    "            case _:\n",
    "                print(f\"the winner is {state}\")\n",
    "\n",
    "    def is_blank (self, tic: str) -> bool:\n",
    "        \"\"\"\n",
    "        tic will be black when\n",
    "        1. it is None\n",
    "        2. it is empty string\n",
    "        \"\"\"\n",
    "        return tic is None or not tic"
   ]
  },
  {
   "cell_type": "code",
   "execution_count": 15,
   "id": "32c6e9d4-84df-486b-aa58-df83c3237601",
   "metadata": {},
   "outputs": [
    {
     "name": "stdout",
     "output_type": "stream",
     "text": [
      "none\n"
     ]
    }
   ],
   "source": [
    "game_state = [[\"x\",\"o\",\"o\"],\n",
    "              [\"o\",\"x\",\"x\"],\n",
    "              [\"x\",\"x\",\"o\"]]\n",
    "result = \"none\"\n",
    "# write your logic here\n",
    "result = TicTacToe(game_state, show_result = False).check_winner()\n",
    "print(result)"
   ]
  },
  {
   "cell_type": "code",
   "execution_count": 3,
   "id": "56c5775c-1b1f-4d3d-a93f-9380a3628622",
   "metadata": {},
   "outputs": [
    {
     "name": "stdout",
     "output_type": "stream",
     "text": [
      "no winner\n"
     ]
    },
    {
     "data": {
      "text/plain": [
       "<__main__.TicTacToe at 0x7f0187c5d540>"
      ]
     },
     "execution_count": 3,
     "metadata": {},
     "output_type": "execute_result"
    }
   ],
   "source": [
    "game_state = [[\"o\", \"o\", \"x\"],\n",
    "              [\"x\", \"x\", \"o\"],\n",
    "              [\"o\", \"x\", \"x\"]]\n",
    "TicTacToe(game_state)"
   ]
  },
  {
   "cell_type": "code",
   "execution_count": 6,
   "id": "9c00d157-d1cb-48eb-b05b-ca2b407538f1",
   "metadata": {},
   "outputs": [
    {
     "name": "stdout",
     "output_type": "stream",
     "text": [
      "the winner is o\n"
     ]
    },
    {
     "data": {
      "text/plain": [
       "<__main__.TicTacToe at 0x7f0187b53400>"
      ]
     },
     "execution_count": 6,
     "metadata": {},
     "output_type": "execute_result"
    }
   ],
   "source": [
    "game_state = [[\"x\", \"x\", \"o\"],\n",
    "              [\"o\", \"o\", \"o\"],\n",
    "              [\"x\", \"\", \"x\"]]\n",
    "TicTacToe(game_state)"
   ]
  },
  {
   "cell_type": "code",
   "execution_count": 7,
   "id": "eade23ca-1ce4-48ce-9759-9423a6f8e9d1",
   "metadata": {},
   "outputs": [
    {
     "name": "stdout",
     "output_type": "stream",
     "text": [
      "the winner is x\n"
     ]
    },
    {
     "data": {
      "text/plain": [
       "<__main__.TicTacToe at 0x7f0187b53730>"
      ]
     },
     "execution_count": 7,
     "metadata": {},
     "output_type": "execute_result"
    }
   ],
   "source": [
    "game_state = [[\"x\", \"o\", \"x\"],\n",
    "              [\"o\", \"x\", \"o\"],\n",
    "              [\"x\", \"\", \"\"]]\n",
    "TicTacToe(game_state)"
   ]
  },
  {
   "cell_type": "code",
   "execution_count": 8,
   "id": "1af9d650-20a2-443e-8690-5ba84fb01f0a",
   "metadata": {},
   "outputs": [
    {
     "name": "stdout",
     "output_type": "stream",
     "text": [
      "the winner is x\n"
     ]
    },
    {
     "data": {
      "text/plain": [
       "<__main__.TicTacToe at 0x7f0187b53d90>"
      ]
     },
     "execution_count": 8,
     "metadata": {},
     "output_type": "execute_result"
    }
   ],
   "source": [
    "game_state = [[\"x\", \"o\", \"x\", \"o\"],\n",
    "              [\"x\", \"\", \"o\", \"\"],\n",
    "              [\"x\", \"o\", \"\", \"\"],\n",
    "              [\"x\", \"\", \"\", \"\"]]\n",
    "TicTacToe(game_state)"
   ]
  },
  {
   "cell_type": "code",
   "execution_count": 63,
   "id": "72f63050-aff2-43d7-8567-9a1836fefd00",
   "metadata": {},
   "outputs": [
    {
     "name": "stdout",
     "output_type": "stream",
     "text": [
      "the winner is o\n"
     ]
    },
    {
     "data": {
      "text/plain": [
       "<__main__.TicTacToe at 0x7fecbaebefb0>"
      ]
     },
     "execution_count": 63,
     "metadata": {},
     "output_type": "execute_result"
    }
   ],
   "source": [
    "game_state = [[\"x\", \"o\", \"x\", \"o\"],\n",
    "              [\"x\", \"\", \"o\", \"\"],\n",
    "              [\"x\", \"o\", \"\", \"\"],\n",
    "              [\"o\", \"x\", \"\", \"\"]]\n",
    "TicTacToe(game_state)"
   ]
  },
  {
   "cell_type": "code",
   "execution_count": 9,
   "id": "6079566b-38f2-4e02-9fd1-1025102ec52d",
   "metadata": {},
   "outputs": [
    {
     "ename": "Exception",
     "evalue": "Sorry, The size of board has to be 4 * 4",
     "output_type": "error",
     "traceback": [
      "\u001b[0;31m---------------------------------------------------------------------------\u001b[0m",
      "\u001b[0;31mException\u001b[0m                                 Traceback (most recent call last)",
      "Cell \u001b[0;32mIn[9], line 5\u001b[0m\n\u001b[1;32m      1\u001b[0m game_state \u001b[38;5;241m=\u001b[39m [[\u001b[38;5;124m\"\u001b[39m\u001b[38;5;124mx\u001b[39m\u001b[38;5;124m\"\u001b[39m, \u001b[38;5;124m\"\u001b[39m\u001b[38;5;124mo\u001b[39m\u001b[38;5;124m\"\u001b[39m, \u001b[38;5;124m\"\u001b[39m\u001b[38;5;124mx\u001b[39m\u001b[38;5;124m\"\u001b[39m],\n\u001b[1;32m      2\u001b[0m               [\u001b[38;5;124m\"\u001b[39m\u001b[38;5;124mx\u001b[39m\u001b[38;5;124m\"\u001b[39m, \u001b[38;5;124m\"\u001b[39m\u001b[38;5;124m\"\u001b[39m, \u001b[38;5;124m\"\u001b[39m\u001b[38;5;124mo,\u001b[39m\u001b[38;5;124m\"\u001b[39m\u001b[38;5;124m\"\u001b[39m\u001b[38;5;124m\"\u001b[39m],\n\u001b[1;32m      3\u001b[0m               [\u001b[38;5;124m\"\u001b[39m\u001b[38;5;124mx\u001b[39m\u001b[38;5;124m\"\u001b[39m, \u001b[38;5;124m\"\u001b[39m\u001b[38;5;124mo\u001b[39m\u001b[38;5;124m\"\u001b[39m, \u001b[38;5;124m\"\u001b[39m\u001b[38;5;124m\"\u001b[39m, \u001b[38;5;124m\"\u001b[39m\u001b[38;5;124m\"\u001b[39m],\n\u001b[1;32m      4\u001b[0m               [\u001b[38;5;124m\"\u001b[39m\u001b[38;5;124mo\u001b[39m\u001b[38;5;124m\"\u001b[39m, \u001b[38;5;124m\"\u001b[39m\u001b[38;5;124mx\u001b[39m\u001b[38;5;124m\"\u001b[39m, \u001b[38;5;124m\"\u001b[39m\u001b[38;5;124m\"\u001b[39m, \u001b[38;5;124m\"\u001b[39m\u001b[38;5;124m\"\u001b[39m]]\n\u001b[0;32m----> 5\u001b[0m \u001b[43mTicTacToe\u001b[49m\u001b[43m(\u001b[49m\u001b[43mgame_state\u001b[49m\u001b[43m)\u001b[49m\n",
      "Cell \u001b[0;32mIn[1], line 8\u001b[0m, in \u001b[0;36mTicTacToe.__init__\u001b[0;34m(self, board, show_result)\u001b[0m\n\u001b[1;32m      6\u001b[0m \u001b[38;5;66;03m# The board should be the size_of_board*size_of_board\u001b[39;00m\n\u001b[1;32m      7\u001b[0m \u001b[38;5;28;01mif\u001b[39;00m \u001b[38;5;129;01mnot\u001b[39;00m \u001b[38;5;28mall\u001b[39m(\u001b[38;5;28mlen\u001b[39m(row) \u001b[38;5;241m==\u001b[39m size_of_board \u001b[38;5;28;01mfor\u001b[39;00m row \u001b[38;5;129;01min\u001b[39;00m board):\n\u001b[0;32m----> 8\u001b[0m     \u001b[38;5;28;01mraise\u001b[39;00m \u001b[38;5;167;01mException\u001b[39;00m(\u001b[38;5;124mf\u001b[39m\u001b[38;5;124m\"\u001b[39m\u001b[38;5;124mSorry, The size of board has to be \u001b[39m\u001b[38;5;132;01m{\u001b[39;00msize_of_board\u001b[38;5;132;01m}\u001b[39;00m\u001b[38;5;124m * \u001b[39m\u001b[38;5;132;01m{\u001b[39;00msize_of_board\u001b[38;5;132;01m}\u001b[39;00m\u001b[38;5;124m\"\u001b[39m)\n\u001b[1;32m     10\u001b[0m \u001b[38;5;28mself\u001b[39m\u001b[38;5;241m.\u001b[39msize_of_board \u001b[38;5;241m=\u001b[39m size_of_board\n\u001b[1;32m     11\u001b[0m \u001b[38;5;28mself\u001b[39m\u001b[38;5;241m.\u001b[39mboard \u001b[38;5;241m=\u001b[39m board\n",
      "\u001b[0;31mException\u001b[0m: Sorry, The size of board has to be 4 * 4"
     ]
    }
   ],
   "source": [
    "game_state = [[\"x\", \"o\", \"x\"],\n",
    "              [\"x\", \"\", \"o,\"\"\"],\n",
    "              [\"x\", \"o\", \"\", \"\"],\n",
    "              [\"o\", \"x\", \"\", \"\"]]\n",
    "TicTacToe(game_state)"
   ]
  },
  {
   "cell_type": "markdown",
   "id": "120bca7e-1f6f-4d90-be04-dfee93b92708",
   "metadata": {
    "jp-MarkdownHeadingCollapsed": true
   },
   "source": [
    "### unittest"
   ]
  },
  {
   "cell_type": "code",
   "execution_count": 21,
   "id": "33d0eaa3-0fa4-4bd3-b420-2d61c0116256",
   "metadata": {},
   "outputs": [
    {
     "name": "stderr",
     "output_type": "stream",
     "text": [
      "test_check_winner (__main__.TestTicTacToe) ... ok\n",
      "test_failure_case_board_size (__main__.TestTicTacToe) ... ok\n",
      "\n",
      "----------------------------------------------------------------------\n",
      "Ran 2 tests in 0.004s\n",
      "\n",
      "OK\n"
     ]
    },
    {
     "data": {
      "text/plain": [
       "<unittest.main.TestProgram at 0x7f9744f5fc70>"
      ]
     },
     "execution_count": 21,
     "metadata": {},
     "output_type": "execute_result"
    }
   ],
   "source": [
    "import unittest\n",
    "\n",
    "class TestTicTacToe(unittest.TestCase):\n",
    "    def test_failure_case_board_size(self):\n",
    "        game_state = [\n",
    "            [\"x\", \"o\"],\n",
    "            [\"x\", \"o\", \"x\"]\n",
    "        ]\n",
    "        with self.assertRaises(Exception) as context:\n",
    "            TicTacToe(game_state)\n",
    "        self.assertEqual(str(context.exception), \"Sorry, The size of board has to be 2 * 2\")\n",
    "        game_state = [\n",
    "            [\"x\", \"o\", \"x\"],\n",
    "            [\"x\", \"o\"],\n",
    "            [\"x\", \"o\", \"x\"]\n",
    "        ]\n",
    "        with self.assertRaises(Exception) as context:\n",
    "            TicTacToe(game_state)\n",
    "        self.assertEqual(str(context.exception), \"Sorry, The size of board has to be 3 * 3\")\n",
    "        game_state = [\n",
    "            [\"x\", \"o\"],\n",
    "            [\"x\", \"o\", \"x\"],\n",
    "            [\"x\", \"o\", \"x\"],\n",
    "            [\"x\", \"o\", \"x\"],\n",
    "        ]\n",
    "        with self.assertRaises(Exception) as context:\n",
    "            TicTacToe(game_state)\n",
    "        self.assertEqual(str(context.exception), \"Sorry, The size of board has to be 4 * 4\")\n",
    "\n",
    "    def test_check_winner(self):\n",
    "        # Empty Board (Ongoing Game)\n",
    "        game_state = [\n",
    "            [None, None, None],\n",
    "            [None, None, None],\n",
    "            [None, None, None]\n",
    "        ]\n",
    "        result = TicTacToe(game_state, show_result = False).check_winner()\n",
    "        self.assertEqual(result, \"none\")\n",
    "        # Ongoing Game (No Winner Yet)\n",
    "        game_state = [\n",
    "            [\"x\", \"o\", None],\n",
    "            [\"x\", \"o\", \"x\"],\n",
    "            [\"o\", None, \"x\"]\n",
    "        ]\n",
    "        result = TicTacToe(game_state, show_result = False).check_winner()\n",
    "        self.assertEqual(result, \"none\")\n",
    "        # none\n",
    "        game_state = [\n",
    "            [\"x\",\"o\",\"o\"],\n",
    "            [\"o\",\"x\",\"x\"],\n",
    "            [\"x\",\"x\",\"o\"]\n",
    "        ]\n",
    "        result = TicTacToe(game_state, show_result = False).check_winner()\n",
    "        self.assertEqual(result, \"none\")\n",
    "        # Row Win (Player X)\n",
    "        game_state = [\n",
    "            [\"x\", \"x\", \"x\"],\n",
    "            [\"o\", None, \"o\"],\n",
    "            [None, None, None]\n",
    "        ]\n",
    "        result = TicTacToe(game_state, show_result = False).check_winner()\n",
    "        self.assertEqual(result, \"x\")\n",
    "        # Column Win (Player O)\n",
    "        game_state = [\n",
    "            [\"o\", \"x\", None],\n",
    "            [\"o\", \"x\", \"x\"],\n",
    "            [\"o\", None, None]\n",
    "        ]\n",
    "        result = TicTacToe(game_state, show_result = False).check_winner()\n",
    "        self.assertEqual(result, \"o\")\n",
    "        # Diagonal Win (Player O - Secondary Diagonal)\n",
    "        game_state = [\n",
    "            [\"x\", None, \"o\"],\n",
    "            [\"x\", \"o\", None],\n",
    "            [\"o\", None, \"x\"]\n",
    "        ]\n",
    "        result = TicTacToe(game_state, show_result = False).check_winner()\n",
    "        self.assertEqual(result, \"o\")\n",
    "        \n",
    "unittest.main(argv=[''], verbosity=2, exit=False)"
   ]
  },
  {
   "cell_type": "markdown",
   "id": "bc0bc22a-50c6-4f84-b4e3-bc0da0774f6f",
   "metadata": {
    "jp-MarkdownHeadingCollapsed": true
   },
   "source": [
    "### test case (manual)"
   ]
  },
  {
   "cell_type": "code",
   "execution_count": 10,
   "id": "01319c02-06e5-4639-8652-f9da78ce8b22",
   "metadata": {},
   "outputs": [
    {
     "name": "stdout",
     "output_type": "stream",
     "text": [
      "no winner\n"
     ]
    },
    {
     "data": {
      "text/plain": [
       "<__main__.TicTacToe at 0x7f018425fdc0>"
      ]
     },
     "execution_count": 10,
     "metadata": {},
     "output_type": "execute_result"
    }
   ],
   "source": [
    "# Empty Board (Ongoing Game)\n",
    "game_state = [\n",
    "    [None, None, None],\n",
    "    [None, None, None],\n",
    "    [None, None, None]\n",
    "]\n",
    "TicTacToe(game_state)"
   ]
  },
  {
   "cell_type": "code",
   "execution_count": 11,
   "id": "951a7bf3-c282-44d8-b182-1f23a1db297f",
   "metadata": {},
   "outputs": [
    {
     "name": "stdout",
     "output_type": "stream",
     "text": [
      "the winner is x\n"
     ]
    },
    {
     "data": {
      "text/plain": [
       "<__main__.TicTacToe at 0x7f0184161480>"
      ]
     },
     "execution_count": 11,
     "metadata": {},
     "output_type": "execute_result"
    }
   ],
   "source": [
    "# Row Win (Player X)\n",
    "game_state = [\n",
    "    [\"x\", \"x\", \"x\"],\n",
    "    [\"o\", None, \"o\"],\n",
    "    [None, None, None]\n",
    "]\n",
    "TicTacToe(game_state)"
   ]
  },
  {
   "cell_type": "code",
   "execution_count": 12,
   "id": "4bdc18b3-5aaa-47d3-b357-15cf3cb31d01",
   "metadata": {},
   "outputs": [
    {
     "name": "stdout",
     "output_type": "stream",
     "text": [
      "the winner is o\n"
     ]
    },
    {
     "data": {
      "text/plain": [
       "<__main__.TicTacToe at 0x7f018425fbb0>"
      ]
     },
     "execution_count": 12,
     "metadata": {},
     "output_type": "execute_result"
    }
   ],
   "source": [
    "# Column Win (Player O)\n",
    "game_state = [\n",
    "    [\"o\", \"x\", None],\n",
    "    [\"o\", \"x\", \"x\"],\n",
    "    [\"o\", None, None]\n",
    "]\n",
    "TicTacToe(game_state)"
   ]
  },
  {
   "cell_type": "code",
   "execution_count": 14,
   "id": "f7857d6e-9cd5-4a47-8a98-91693a6ca8a4",
   "metadata": {},
   "outputs": [
    {
     "name": "stdout",
     "output_type": "stream",
     "text": [
      "the winner is o\n"
     ]
    },
    {
     "data": {
      "text/plain": [
       "<__main__.TicTacToe at 0x7f018425ffd0>"
      ]
     },
     "execution_count": 14,
     "metadata": {},
     "output_type": "execute_result"
    }
   ],
   "source": [
    "# Diagonal Win (Player O - Secondary Diagonal)\n",
    "game_state = [\n",
    "    [\"x\", None, \"o\"],\n",
    "    [\"x\", \"o\", None],\n",
    "    [\"o\", None, \"x\"]\n",
    "]\n",
    "TicTacToe(game_state)"
   ]
  },
  {
   "cell_type": "code",
   "execution_count": 15,
   "id": "8848f639-229d-4c7f-82f4-0d4b7cb0b2e1",
   "metadata": {},
   "outputs": [
    {
     "name": "stdout",
     "output_type": "stream",
     "text": [
      "no winner\n"
     ]
    },
    {
     "data": {
      "text/plain": [
       "<__main__.TicTacToe at 0x7f0184173940>"
      ]
     },
     "execution_count": 15,
     "metadata": {},
     "output_type": "execute_result"
    }
   ],
   "source": [
    "# Tie Game (Full Board, No Winner)\n",
    "game_state = [\n",
    "    [\"x\", \"o\", \"x\"],\n",
    "    [\"x\", \"x\", \"o\"],\n",
    "    [\"o\", \"x\", \"o\"]\n",
    "]\n",
    "TicTacToe(game_state)"
   ]
  },
  {
   "cell_type": "code",
   "execution_count": 16,
   "id": "1841aa34-42d9-409b-a8fb-93af7698d891",
   "metadata": {},
   "outputs": [
    {
     "name": "stdout",
     "output_type": "stream",
     "text": [
      "no winner\n"
     ]
    },
    {
     "data": {
      "text/plain": [
       "<__main__.TicTacToe at 0x7f01841636a0>"
      ]
     },
     "execution_count": 16,
     "metadata": {},
     "output_type": "execute_result"
    }
   ],
   "source": [
    "# Ongoing Game (No Winner Yet)\n",
    "game_state = [\n",
    "    [\"x\", \"o\", None],\n",
    "    [\"x\", \"o\", \"x\"],\n",
    "    [\"o\", None, \"x\"]\n",
    "]\n",
    "TicTacToe(game_state)"
   ]
  },
  {
   "cell_type": "code",
   "execution_count": 21,
   "id": "551e93b4-9c56-4203-a11c-6ef4f37c2d2b",
   "metadata": {},
   "outputs": [
    {
     "ename": "Exception",
     "evalue": "Sorry, The size of board has to be 2 * 2",
     "output_type": "error",
     "traceback": [
      "\u001b[0;31m---------------------------------------------------------------------------\u001b[0m",
      "\u001b[0;31mException\u001b[0m                                 Traceback (most recent call last)",
      "Cell \u001b[0;32mIn[21], line 6\u001b[0m\n\u001b[1;32m      1\u001b[0m \u001b[38;5;66;03m# Invalid Board (Non-Square Grid)\u001b[39;00m\n\u001b[1;32m      2\u001b[0m game_state \u001b[38;5;241m=\u001b[39m [\n\u001b[1;32m      3\u001b[0m     [\u001b[38;5;124m\"\u001b[39m\u001b[38;5;124mx\u001b[39m\u001b[38;5;124m\"\u001b[39m, \u001b[38;5;124m\"\u001b[39m\u001b[38;5;124mo\u001b[39m\u001b[38;5;124m\"\u001b[39m],\n\u001b[1;32m      4\u001b[0m     [\u001b[38;5;124m\"\u001b[39m\u001b[38;5;124mx\u001b[39m\u001b[38;5;124m\"\u001b[39m, \u001b[38;5;124m\"\u001b[39m\u001b[38;5;124mo\u001b[39m\u001b[38;5;124m\"\u001b[39m, \u001b[38;5;124m\"\u001b[39m\u001b[38;5;124mx\u001b[39m\u001b[38;5;124m\"\u001b[39m]\n\u001b[1;32m      5\u001b[0m ]\n\u001b[0;32m----> 6\u001b[0m \u001b[43mTicTacToe\u001b[49m\u001b[43m(\u001b[49m\u001b[43mgame_state\u001b[49m\u001b[43m)\u001b[49m\n",
      "Cell \u001b[0;32mIn[1], line 8\u001b[0m, in \u001b[0;36mTicTacToe.__init__\u001b[0;34m(self, board, show_result)\u001b[0m\n\u001b[1;32m      6\u001b[0m \u001b[38;5;66;03m# The board should be the size_of_board*size_of_board\u001b[39;00m\n\u001b[1;32m      7\u001b[0m \u001b[38;5;28;01mif\u001b[39;00m \u001b[38;5;129;01mnot\u001b[39;00m \u001b[38;5;28mall\u001b[39m(\u001b[38;5;28mlen\u001b[39m(row) \u001b[38;5;241m==\u001b[39m size_of_board \u001b[38;5;28;01mfor\u001b[39;00m row \u001b[38;5;129;01min\u001b[39;00m board):\n\u001b[0;32m----> 8\u001b[0m     \u001b[38;5;28;01mraise\u001b[39;00m \u001b[38;5;167;01mException\u001b[39;00m(\u001b[38;5;124mf\u001b[39m\u001b[38;5;124m\"\u001b[39m\u001b[38;5;124mSorry, The size of board has to be \u001b[39m\u001b[38;5;132;01m{\u001b[39;00msize_of_board\u001b[38;5;132;01m}\u001b[39;00m\u001b[38;5;124m * \u001b[39m\u001b[38;5;132;01m{\u001b[39;00msize_of_board\u001b[38;5;132;01m}\u001b[39;00m\u001b[38;5;124m\"\u001b[39m)\n\u001b[1;32m     10\u001b[0m \u001b[38;5;28mself\u001b[39m\u001b[38;5;241m.\u001b[39msize_of_board \u001b[38;5;241m=\u001b[39m size_of_board\n\u001b[1;32m     11\u001b[0m \u001b[38;5;28mself\u001b[39m\u001b[38;5;241m.\u001b[39mboard \u001b[38;5;241m=\u001b[39m board\n",
      "\u001b[0;31mException\u001b[0m: Sorry, The size of board has to be 2 * 2"
     ]
    }
   ],
   "source": [
    "# Invalid Board (Non-Square Grid)\n",
    "game_state = [\n",
    "    [\"x\", \"o\"],\n",
    "    [\"x\", \"o\", \"x\"]\n",
    "]\n",
    "TicTacToe(game_state)"
   ]
  }
 ],
 "metadata": {
  "kernelspec": {
   "display_name": "Python 3 (ipykernel)",
   "language": "python",
   "name": "python3"
  },
  "language_info": {
   "codemirror_mode": {
    "name": "ipython",
    "version": 3
   },
   "file_extension": ".py",
   "mimetype": "text/x-python",
   "name": "python",
   "nbconvert_exporter": "python",
   "pygments_lexer": "ipython3",
   "version": "3.10.12"
  }
 },
 "nbformat": 4,
 "nbformat_minor": 5
}
