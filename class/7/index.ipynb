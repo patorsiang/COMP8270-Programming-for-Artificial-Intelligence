{
 "cells": [
  {
   "cell_type": "markdown",
   "metadata": {},
   "source": [
    "# Class 7"
   ]
  },
  {
   "cell_type": "markdown",
   "metadata": {},
   "source": [
    "## Task 1"
   ]
  },
  {
   "cell_type": "markdown",
   "metadata": {},
   "source": [
    "The following code iterates over a list of words and assigns a fifth letter of each word to the new list `fifth_letter`. The current version of the code produces an exception. <b>Your task is to include a try/except clause that will allow the code to run and produce a list of the fifth letter in each word, only for the words that are long enough.</b>"
   ]
  },
  {
   "cell_type": "code",
   "execution_count": 1,
   "metadata": {},
   "outputs": [
    {
     "name": "stdout",
     "output_type": "stream",
     "text": [
      "['o', 'k', 't']\n"
     ]
    }
   ],
   "source": [
    "words = [\"chocolate\", \"chicken\", \"soup\", \"potatoes\", \"beef\", \"lox\", \"beef\"]\n",
    "fifth_letter = []\n",
    "\n",
    "for w in words:\n",
    "  try:\n",
    "    fifth_letter.append(w[4])\n",
    "  except:\n",
    "    pass\n",
    "\n",
    "print(fifth_letter)"
   ]
  },
  {
   "cell_type": "markdown",
   "metadata": {},
   "source": [
    "## Task 2"
   ]
  },
  {
   "cell_type": "markdown",
   "metadata": {},
   "source": [
    "The following function is suppose to safely return the element specified by the index from a list of values – i.e., if the index is outside the bounds of the list, it should return the constant `None`. At the moment, it generates an error. Include a try/except clause to handle the error."
   ]
  },
  {
   "cell_type": "code",
   "execution_count": 2,
   "metadata": {},
   "outputs": [
    {
     "name": "stdout",
     "output_type": "stream",
     "text": [
      "b\n",
      "None\n"
     ]
    }
   ],
   "source": [
    "def get_value(values, index):\n",
    "  try:\n",
    "    return values[index]\n",
    "  except:\n",
    "    return None\n",
    "\n",
    "# sample list data\n",
    "my_list = ['a', 'b', 'c']\n",
    "\n",
    "print(get_value(my_list, 1))\n",
    "print(get_value(my_list, 4))"
   ]
  },
  {
   "cell_type": "markdown",
   "metadata": {},
   "source": [
    "## Task 3"
   ]
  },
  {
   "cell_type": "markdown",
   "metadata": {},
   "source": [
    "Write a function called `batch_log` that calculates and prints the log base 10 value for each element of a list passed as parameter. Use exception handling to skip the calculation of any value that produces an error."
   ]
  },
  {
   "cell_type": "code",
   "execution_count": 3,
   "metadata": {},
   "outputs": [
    {
     "name": "stdout",
     "output_type": "stream",
     "text": [
      "Log base 10 of 0.8 is: -0.09691001300805639\n",
      "Log base 10 of 0.9 is: -0.045757490560675115\n",
      "Log base 10 of 0.1 is: -1.0\n",
      "Log base 10 of 0.300000000004 is: -0.5228787452745469\n",
      "Log base 10 of 0.5 is: -0.3010299956639812\n",
      "Log base 10 of 1.0 is: 0.0\n",
      "Log base 10 of 0.9 is: -0.045757490560675115\n",
      "Log base 10 of 0.9 is: -0.045757490560675115\n",
      "Log base 10 of 0.1 is: -1.0\n",
      "Log base 10 of 1.0 is: 0.0\n",
      "Log base 10 of 0.2 is: -0.6989700043360187\n",
      "Log base 10 of 0.2 is: -0.6989700043360187\n",
      "Log base 10 of 0.1 is: -1.0\n",
      "Log base 10 of 0.9 is: -0.045757490560675115\n",
      "Log base 10 of 1.0 is: 0.0\n"
     ]
    }
   ],
   "source": [
    "# import math library (required for log function)\n",
    "import math\n",
    "\n",
    "# write your function here – use math.log() to calculate the log value\n",
    "def batch_log(values):\n",
    "  for value in values:\n",
    "    try:\n",
    "      res = math.log10(value)\n",
    "      print(f\"Log base 10 of {value} is: {res}\")\n",
    "    except:\n",
    "      pass\n",
    "      # print(f\"Cannot calculate log base 10 of {value}. Skipping...\")\n",
    "\n",
    "values = [0.8, -0.1, 0.9, -0.1, 0.1, 0.300000000004, -0.1, 0.5, 1.0, -0.1, 0.9, 0.9, 0.1, 1.0, 0.2, 0.2, 0.1, 0.9, 0.0, 1.0]\n",
    "\n",
    "batch_log(values)"
   ]
  },
  {
   "cell_type": "markdown",
   "metadata": {},
   "source": [
    "## Task 4"
   ]
  },
  {
   "cell_type": "markdown",
   "metadata": {},
   "source": [
    "Consider the following implementation of an `Account` class and a `withdraw` method. create a custom exception type name `InsufficientBalanceError` and modify the code to raise this type of exception every time there is an attempt to withdraw a value greater than the current available balance:"
   ]
  },
  {
   "cell_type": "code",
   "execution_count": 4,
   "metadata": {},
   "outputs": [
    {
     "name": "stdout",
     "output_type": "stream",
     "text": [
      "Insufficient balance to withdraw\n"
     ]
    }
   ],
   "source": [
    "class InsufficientBalanceError(Exception):\n",
    "  def __init__(self, message):\n",
    "    super().__init__(message)\n",
    "\n",
    "class Account:\n",
    "  def __init__(self, number, balance):\n",
    "    self.number = number\n",
    "    self.balance = balance\n",
    "  def withdraw(self, value):\n",
    "    # TODO: withdraw cannot happen if value is greater than balance\n",
    "    if value > self.balance:\n",
    "      raise InsufficientBalanceError(\"Insufficient balance to withdraw\")\n",
    "    self.balance -= value\n",
    "\n",
    "# sample code\n",
    "account = Account(\"1000\", 100)\n",
    "\n",
    "try:\n",
    "  account.withdraw(200)\n",
    "except InsufficientBalanceError as e:\n",
    "  print(e)"
   ]
  },
  {
   "cell_type": "markdown",
   "metadata": {},
   "source": [
    "## library for Task 5 - 8"
   ]
  },
  {
   "cell_type": "code",
   "execution_count": 5,
   "metadata": {},
   "outputs": [],
   "source": [
    "import numpy as np"
   ]
  },
  {
   "cell_type": "markdown",
   "metadata": {},
   "source": [
    "## Task 5"
   ]
  },
  {
   "cell_type": "markdown",
   "metadata": {},
   "source": [
    "Create a NumPy multidimensional array (10 rows x 5 columns) with random values."
   ]
  },
  {
   "cell_type": "code",
   "execution_count": 6,
   "metadata": {},
   "outputs": [
    {
     "name": "stdout",
     "output_type": "stream",
     "text": [
      "[[0.25364866 0.17956654 0.98590084 0.77123217 0.81976561]\n",
      " [0.17905503 0.35446245 0.04218414 0.07250329 0.28900973]\n",
      " [0.71991256 0.12261652 0.48701662 0.2974309  0.53178764]\n",
      " [0.00846887 0.3456749  0.47983066 0.73178103 0.88604267]\n",
      " [0.40484168 0.06274275 0.45883561 0.4458476  0.63908785]\n",
      " [0.87675039 0.84946657 0.56690883 0.99422233 0.89035527]\n",
      " [0.81019191 0.00643485 0.49118783 0.3158558  0.40278201]\n",
      " [0.3754571  0.23551282 0.67772824 0.67499856 0.32433672]\n",
      " [0.66183463 0.33396304 0.67509483 0.58373473 0.84926929]\n",
      " [0.16221031 0.69521632 0.68886204 0.94511166 0.59139792]]\n"
     ]
    }
   ],
   "source": [
    "# generate a 10x5 array with random values int values\n",
    "# array = np.random.randint(10, size=(10, 5))\n",
    "\n",
    "array = np.random.rand(10, 5)\n",
    "\n",
    "print(array)"
   ]
  },
  {
   "cell_type": "markdown",
   "metadata": {},
   "source": [
    "## Task 6"
   ]
  },
  {
   "cell_type": "code",
   "execution_count": 7,
   "metadata": {},
   "outputs": [
    {
     "data": {
      "text/plain": [
       "5"
      ]
     },
     "execution_count": 7,
     "metadata": {},
     "output_type": "execute_result"
    }
   ],
   "source": [
    "def hightest_mean_row_index():\n",
    "  \"\"\"\n",
    "    Using the array created in (5), write a function that returns the index of the row with the highest mean value.\n",
    "  \"\"\"\n",
    "  # calculate the mean value for each row\n",
    "  mean_values = np.mean(array, axis=1)\n",
    "\n",
    "  # find the index of the row with the highest mean value\n",
    "  highest_mean_index = np.argmax(mean_values)\n",
    "\n",
    "  return highest_mean_index\n",
    "\n",
    "hightest_mean_row_index()"
   ]
  },
  {
   "cell_type": "markdown",
   "metadata": {},
   "source": [
    "## Task 7"
   ]
  },
  {
   "cell_type": "code",
   "execution_count": 8,
   "metadata": {},
   "outputs": [
    {
     "data": {
      "text/plain": [
       "4"
      ]
     },
     "execution_count": 8,
     "metadata": {},
     "output_type": "execute_result"
    }
   ],
   "source": [
    "def hightest_mean_col_index():\n",
    "  \"\"\"\n",
    "    Using the array created in (5), write a function that returns the index of the column with the highest mean value.\n",
    "  \"\"\"\n",
    "  # calculate the mean value for each column\n",
    "  mean_values = np.mean(array, axis=0)\n",
    "\n",
    "  # find the index of the column with the highest mean value\n",
    "  highest_mean_index = np.argmax(mean_values)\n",
    "\n",
    "  return highest_mean_index\n",
    "\n",
    "hightest_mean_col_index()"
   ]
  },
  {
   "cell_type": "markdown",
   "metadata": {},
   "source": [
    "## Task 8"
   ]
  },
  {
   "cell_type": "code",
   "execution_count": 9,
   "metadata": {},
   "outputs": [
    {
     "data": {
      "text/plain": [
       "(5, 3)"
      ]
     },
     "execution_count": 9,
     "metadata": {},
     "output_type": "execute_result"
    }
   ],
   "source": [
    "def max_in_row_n_col():\n",
    "  \"\"\"\n",
    "    Using the array create in (5), write a function that return a tuple (row, column) representing the indexes of the row and column of the maximum value in the array.\n",
    "  \"\"\"\n",
    "\n",
    "  # find the index of all in the array with the highest value, flat_indices\n",
    "  highest_index = np.argmax(array)\n",
    "    \n",
    "  # Get the index of the max value in each row and column\n",
    "  max_value_indices = np.unravel_index(highest_index, array.shape)\n",
    "\n",
    "  return max_value_indices\n",
    "\n",
    "max_in_row_n_col()"
   ]
  },
  {
   "cell_type": "code",
   "execution_count": null,
   "metadata": {},
   "outputs": [],
   "source": []
  }
 ],
 "metadata": {
  "kernelspec": {
   "display_name": "Python 3 (ipykernel)",
   "language": "python",
   "name": "python3"
  },
  "language_info": {
   "codemirror_mode": {
    "name": "ipython",
    "version": 3
   },
   "file_extension": ".py",
   "mimetype": "text/x-python",
   "name": "python",
   "nbconvert_exporter": "python",
   "pygments_lexer": "ipython3",
   "version": "3.10.12"
  }
 },
 "nbformat": 4,
 "nbformat_minor": 4
}
