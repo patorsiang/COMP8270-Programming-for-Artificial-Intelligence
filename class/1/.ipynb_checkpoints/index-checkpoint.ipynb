{
 "cells": [
  {
   "cell_type": "markdown",
   "id": "030cb18e-bc63-4fba-af16-d033238607a1",
   "metadata": {},
   "source": [
    "# PC Class 1"
   ]
  },
  {
   "cell_type": "markdown",
   "id": "9b4ffdeb-c384-41aa-a42f-ed79e88614d9",
   "metadata": {},
   "source": [
    "## task 1 – Setup the jupyter notebook guide"
   ]
  },
  {
   "cell_type": "markdown",
   "id": "c2801467-3339-44f3-893e-53e7e96fd54c",
   "metadata": {},
   "source": [
    "- open terminal\n",
    "- execute the following command\n",
    "```bash\n",
    "$ git clone https://git.cs.kent.ac.uk/febo/notebook.git\n",
    "```\n",
    "- [result: notebook](../../notebook/index.ipynb)"
   ]
  },
  {
   "cell_type": "markdown",
   "id": "9279cb52-2184-43b2-b752-53ed710f5e6a",
   "metadata": {},
   "source": [
    "## task 1: Fibonacci from java version to python version"
   ]
  },
  {
   "cell_type": "markdown",
   "id": "b7dd2346-805f-4764-bdde-621fe9f733a2",
   "metadata": {},
   "source": [
    "### java"
   ]
  },
  {
   "cell_type": "markdown",
   "id": "1fe3bf45-49d4-4a24-9169-eb802e02ada7",
   "metadata": {},
   "source": [
    "```java\n",
    "public class Fibonacci {\n",
    "    public static void main(String[] args) {\n",
    "        int n1 = 0;\n",
    "        int n2 = 1;\n",
    "        \n",
    "        System.out.println(n1);\n",
    "        \n",
    "        while (n2 < 22) {\n",
    "            System.out.println(n2);\n",
    "            int n3 = n1 + n2;\n",
    "            n1 = n2;\n",
    "            n2 = n3;\n",
    "        }\n",
    "    }\n",
    "}\n",
    "```"
   ]
  },
  {
   "cell_type": "markdown",
   "id": "c94fce00-7b59-4e6d-a720-d59e855c67bf",
   "metadata": {},
   "source": [
    "### python"
   ]
  },
  {
   "cell_type": "code",
   "execution_count": 2,
   "id": "cb5911d5-d66e-47f6-b13c-0ba1da8f053f",
   "metadata": {},
   "outputs": [
    {
     "name": "stdout",
     "output_type": "stream",
     "text": [
      "0\n",
      "1\n",
      "1\n",
      "2\n",
      "3\n",
      "5\n",
      "8\n",
      "13\n",
      "21\n"
     ]
    }
   ],
   "source": [
    "n1 = 0\n",
    "n2 = 1\n",
    "\n",
    "# prints the first number\n",
    "print(n1)\n",
    "\n",
    "# prints the rest of the Fibonacci number less than 22\n",
    "while n2 < 22:\n",
    "    print(n2)\n",
    "    n1, n2 = n2, n1 + n2"
   ]
  }
 ],
 "metadata": {
  "kernelspec": {
   "display_name": "Python 3 (ipykernel)",
   "language": "python",
   "name": "python3"
  },
  "language_info": {
   "codemirror_mode": {
    "name": "ipython",
    "version": 3
   },
   "file_extension": ".py",
   "mimetype": "text/x-python",
   "name": "python",
   "nbconvert_exporter": "python",
   "pygments_lexer": "ipython3",
   "version": "3.10.12"
  }
 },
 "nbformat": 4,
 "nbformat_minor": 5
}
