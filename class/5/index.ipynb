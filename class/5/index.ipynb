{
 "cells": [
  {
   "cell_type": "markdown",
   "id": "79fb19f3-5110-4883-b914-a83f8f6dcf5d",
   "metadata": {},
   "source": [
    "# Class 5"
   ]
  },
  {
   "cell_type": "markdown",
   "id": "b56a1bd8",
   "metadata": {},
   "source": [
    "## Task 1"
   ]
  },
  {
   "cell_type": "markdown",
   "id": "849e2d28",
   "metadata": {},
   "source": [
    "Implement a recursive function to compute the nth Fibonacci number.\\\n",
    "The function should accept 3 arguments, two of them should have default values.\\\n",
    "The recursion begins with a single argument\\\n",
    "\n",
    "```python\n",
    "[0, 1, 1, 2, 3, 5, 8, 13, 21]\n",
    "Fib (8) -> 13\n",
    "```"
   ]
  },
  {
   "cell_type": "code",
   "execution_count": 1,
   "id": "ba4bff22",
   "metadata": {},
   "outputs": [],
   "source": [
    "def fibonacci(n: int, a: int = 0, b: int = 1) -> int:\n",
    "    if n == 0:\n",
    "        return a\n",
    "    elif n == 1:\n",
    "        return b\n",
    "    else:\n",
    "        return fibonacci(n-1, b, a+b)\n",
    "\n",
    "# One-based indexing:\n",
    "def Fib(n: int, a: int = 0, b: int = 1) -> int:\n",
    "    # Offset `i` by 1 to match one-based indexing\n",
    "    return fibonacci(n - 1, a, b)"
   ]
  },
  {
   "cell_type": "code",
   "execution_count": 2,
   "id": "9ae90d0b",
   "metadata": {},
   "outputs": [
    {
     "name": "stdout",
     "output_type": "stream",
     "text": [
      "1 0\n",
      "2 1\n",
      "3 1\n",
      "4 2\n",
      "5 3\n",
      "6 5\n",
      "7 8\n",
      "8 13\n",
      "9 21\n"
     ]
    }
   ],
   "source": [
    "# Testing:\n",
    "for i in range(1, 10):\n",
    "  print(i, Fib(i))"
   ]
  },
  {
   "cell_type": "markdown",
   "id": "c3f90ffe",
   "metadata": {},
   "source": [
    "## Task 2"
   ]
  },
  {
   "cell_type": "markdown",
   "id": "3f183b1f",
   "metadata": {},
   "source": [
    "Using a lambda, use filter() to accept a list and filter the integers that are divisible by 3. Use the modulus operator.\n",
    "\n",
    "```python\n",
    "[3, 4, 7, 8, 9, 12, 13] -> [3, 9, 12]\n",
    "```"
   ]
  },
  {
   "cell_type": "code",
   "execution_count": 3,
   "id": "ecd8fb69",
   "metadata": {},
   "outputs": [
    {
     "data": {
      "text/plain": [
       "[3, 9, 12]"
      ]
     },
     "execution_count": 3,
     "metadata": {},
     "output_type": "execute_result"
    }
   ],
   "source": [
    "slist(filter(lambda x: x%3 == 0, [3, 4, 7, 8, 9, 12, 13]))"
   ]
  },
  {
   "cell_type": "markdown",
   "id": "3438ba74",
   "metadata": {},
   "source": [
    "## Task 3"
   ]
  },
  {
   "cell_type": "markdown",
   "id": "6da06950",
   "metadata": {},
   "source": [
    "Using a lambda, use filter() to accept a list of pairs and accept the pairs whose elements are equal.\n",
    "\n",
    "```python\n",
    "[[1,1], [2, 5], [4, 4], [9, 9], [5, 3]] -> [[1, 1], [4, 4], [9, 9]]\n",
    "```"
   ]
  },
  {
   "cell_type": "code",
   "execution_count": 4,
   "id": "5b3f5291",
   "metadata": {},
   "outputs": [
    {
     "data": {
      "text/plain": [
       "[[1, 1], [4, 4], [9, 9]]"
      ]
     },
     "execution_count": 4,
     "metadata": {},
     "output_type": "execute_result"
    }
   ],
   "source": [
    "list(filter(lambda x: x[0] == x[1], [[1,1], [2, 5], [4, 4], [9, 9], [5, 3]]))"
   ]
  },
  {
   "cell_type": "markdown",
   "id": "d6c7cf82",
   "metadata": {},
   "source": [
    "## Task 4"
   ]
  },
  {
   "cell_type": "markdown",
   "id": "517bc10d",
   "metadata": {},
   "source": [
    "Using a lambda, implement a map() that accepts a list of lists and returns the sums of the sublists.\n",
    "\n",
    "```python\n",
    "[[1, 5, 3], [3, 6], [9, 11, 45, 11], [5, 2, 6, 3, 7]] -> [9, 9, 76, 23]\n",
    "```"
   ]
  },
  {
   "cell_type": "code",
   "execution_count": 5,
   "id": "c2fef36f",
   "metadata": {},
   "outputs": [
    {
     "data": {
      "text/plain": [
       "[9, 9, 76, 23]"
      ]
     },
     "execution_count": 5,
     "metadata": {},
     "output_type": "execute_result"
    }
   ],
   "source": [
    "data4 = [[1, 5, 3], [3, 6], [9, 11, 45, 11], [5, 2, 6, 3, 7]]\n",
    "func4 = lambda x: sum(x)\n",
    "list(map(func4,data4))"
   ]
  },
  {
   "cell_type": "markdown",
   "id": "890d6a4e",
   "metadata": {},
   "source": [
    "## task 5 *"
   ]
  },
  {
   "cell_type": "markdown",
   "id": "0260f1d7",
   "metadata": {},
   "source": [
    "Use the reduce() func/on to implement factorial, N!.\n",
    "\n",
    "```math\n",
    "3! = 1\\times 2\\times 3 = 6\\\\\n",
    "\n",
    "5! = 1\\times 2\\times 3\\times 4\\times 5 = 120\\\\\n",
    "\n",
    "N! = 1\\times 2\\times …\\times N – 1\\times N\\\\\n",
    "```"
   ]
  },
  {
   "cell_type": "code",
   "execution_count": 6,
   "id": "c9952636",
   "metadata": {},
   "outputs": [
    {
     "name": "stdout",
     "output_type": "stream",
     "text": [
      "6\n",
      "120\n",
      "3628800\n",
      "355687428096000\n",
      "1124000727777607680000\n",
      "8222838654177922817725562880000000\n"
     ]
    }
   ],
   "source": [
    "from functools import reduce\n",
    "\n",
    "args_for_3 = list(range(1, 4))\n",
    "args_for_5 = list(range(1, 6))\n",
    "args_for_10 = list(range(1, 11))\n",
    "args_for_17 = list(range(1, 18))\n",
    "args_for_22 = list(range(1, 23))\n",
    "args_for_31 = list(range(1, 32))\n",
    "\n",
    "def dot(acc: int = 1, n: int = 1):\n",
    "  return acc * n\n",
    "\n",
    "print(reduce(dot, args_for_3))\n",
    "print(reduce(dot, args_for_5, 1))\n",
    "print(reduce(dot, args_for_10, 1))\n",
    "print(reduce(dot, args_for_17, 1))\n",
    "print(reduce(dot, args_for_22, 1))\n",
    "print(reduce(dot, args_for_31, 1))"
   ]
  },
  {
   "cell_type": "markdown",
   "id": "fb5e214a",
   "metadata": {},
   "source": [
    "## Task 6"
   ]
  },
  {
   "cell_type": "markdown",
   "id": "e861bba3",
   "metadata": {},
   "source": [
    "Write a function, called Convolve, that accepts three arguments.\\\n",
    "The first argument is a func/on.\\\n",
    "The second and third arguments will be used as arguments for the first argument by Convolve.\\\n",
    "Convolve will return the results packaged in a list. For example:\n",
    "\n",
    "```python\n",
    "Convolve (map, exercise 4 lambda, exercise 4 input) -> [9, 9, 76, 23]\n",
    "```"
   ]
  },
  {
   "cell_type": "code",
   "execution_count": 7,
   "id": "b8299498",
   "metadata": {},
   "outputs": [
    {
     "data": {
      "text/plain": [
       "[9, 9, 76, 23]"
      ]
     },
     "execution_count": 7,
     "metadata": {},
     "output_type": "execute_result"
    }
   ],
   "source": [
    "from typing import Callable, Iterable, TypeVar, Iterator\n",
    "\n",
    "# Define generic type variables\n",
    "T = TypeVar(\"T\")  # Input type\n",
    "R = TypeVar(\"R\")  # Output type\n",
    "\n",
    "def Convolve(\n",
    "  map: Callable[[Callable[[T], R], Iterable[T]], Iterator[R]],\n",
    "    func: Callable[[T], R],\n",
    "    input: Iterable[T]\n",
    "    ) -> Iterator[R]:\n",
    "  return map(func, input)\n",
    "\n",
    "# testing\n",
    "list(Convolve(map, func4, data4))"
   ]
  },
  {
   "cell_type": "code",
   "execution_count": null,
   "id": "989a3c9b",
   "metadata": {},
   "outputs": [],
   "source": []
  }
 ],
 "metadata": {
  "kernelspec": {
   "display_name": "Python 3 (ipykernel)",
   "language": "python",
   "name": "python3"
  },
  "language_info": {
   "codemirror_mode": {
    "name": "ipython",
    "version": 3
   },
   "file_extension": ".py",
   "mimetype": "text/x-python",
   "name": "python",
   "nbconvert_exporter": "python",
   "pygments_lexer": "ipython3",
   "version": "3.10.12"
  }
 },
 "nbformat": 4,
 "nbformat_minor": 5
}
