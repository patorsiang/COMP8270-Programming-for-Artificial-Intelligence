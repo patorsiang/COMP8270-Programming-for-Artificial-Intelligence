{
 "cells": [
  {
   "cell_type": "markdown",
   "id": "79fb19f3-5110-4883-b914-a83f8f6dcf5d",
   "metadata": {},
   "source": [
    "# Class 5"
   ]
  },
  {
   "cell_type": "code",
   "execution_count": null,
   "id": "71b772fb-7819-4bb3-82dc-3599d59f2ca7",
   "metadata": {},
   "outputs": [],
   "source": []
  }
 ],
 "metadata": {
  "kernelspec": {
   "display_name": "Python 3 (ipykernel)",
   "language": "python",
   "name": "python3"
  },
  "language_info": {
   "codemirror_mode": {
    "name": "ipython",
    "version": 3
   },
   "file_extension": ".py",
   "mimetype": "text/x-python",
   "name": "python",
   "nbconvert_exporter": "python",
   "pygments_lexer": "ipython3",
   "version": "3.10.12"
  }
 },
 "nbformat": 4,
 "nbformat_minor": 5
}
