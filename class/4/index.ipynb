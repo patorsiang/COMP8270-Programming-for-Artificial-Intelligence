{
 "cells": [
  {
   "cell_type": "markdown",
   "id": "504e3bde-55ba-490c-8657-dd577b5afb88",
   "metadata": {},
   "source": [
    "# Class 4"
   ]
  },
  {
   "cell_type": "code",
   "execution_count": 11,
   "id": "5d8b5736",
   "metadata": {},
   "outputs": [],
   "source": [
    "from typing import TypeVar, Union, List, Optional, Any"
   ]
  },
  {
   "cell_type": "markdown",
   "id": "eab829c5",
   "metadata": {},
   "source": [
    "## Task 1: Write a python function that accepts two arguments and returns their  sum. It should support different types without generating errors."
   ]
  },
  {
   "cell_type": "code",
   "execution_count": 26,
   "id": "59ca61d6-9414-43d4-a0a7-088e7352b1b3",
   "metadata": {},
   "outputs": [],
   "source": [
    "def add (a: Any, b: Any) -> Union[Any, str]:\n",
    "    try:\n",
    "        return a + b\n",
    "    except TypeError:\n",
    "        if isinstance(a, list):\n",
    "            a.append(b)\n",
    "            return a\n",
    "        elif isinstance(b,list):\n",
    "            b.append(a)\n",
    "            return b\n",
    "        elif isinstance(a, str) or isinstance(b,str):\n",
    "            return str(a) + str(b)\n",
    "        return \"Unsupported types\""
   ]
  },
  {
   "cell_type": "code",
   "execution_count": 27,
   "id": "85a846cd",
   "metadata": {},
   "outputs": [
    {
     "name": "stdout",
     "output_type": "stream",
     "text": [
      "15\n",
      "10.0\n",
      "Hello, world!\n",
      "[1, 2, 3, 4]\n",
      "5string\n",
      "[1, 2, 'a']\n",
      "[1, 2, 'a']\n"
     ]
    }
   ],
   "source": [
    "print(add(5, 10))\n",
    "print(add(5.5, 4.5))\n",
    "print(add(\"Hello, \", \"world!\"))\n",
    "print(add([1, 2], [3, 4]))\n",
    "print(add(5, \"string\"))\n",
    "print(add([1, 2], \"a\"))\n",
    "print(add(\"a\", [1, 2]))"
   ]
  },
  {
   "cell_type": "markdown",
   "id": "0d2728a1",
   "metadata": {},
   "source": [
    "## Task 2: Implement a python function that accepts a list and compute its sum."
   ]
  },
  {
   "cell_type": "code",
   "execution_count": 4,
   "id": "dce72fd3",
   "metadata": {},
   "outputs": [],
   "source": [
    "def f(args: List[Union[int, float]]) -> Union[int, float]:\n",
    "  return sum(args)"
   ]
  },
  {
   "cell_type": "code",
   "execution_count": 5,
   "id": "3203d96e",
   "metadata": {},
   "outputs": [
    {
     "data": {
      "text/plain": [
       "10"
      ]
     },
     "execution_count": 5,
     "metadata": {},
     "output_type": "execute_result"
    }
   ],
   "source": [
    "f([1,2,3,4])"
   ]
  },
  {
   "cell_type": "markdown",
   "id": "8356dd62",
   "metadata": {},
   "source": [
    "## Task 3: \n",
    "\n",
    "Implement a Python function that accepts two lists and returns a third list \n",
    "containing the element-wise sums.  This opera3on only makes sense if the \n",
    "lists are the same size, so check for that and return nothing when a size \n",
    "mismatch is detected. "
   ]
  },
  {
   "cell_type": "code",
   "execution_count": 6,
   "id": "b8269d5a",
   "metadata": {},
   "outputs": [],
   "source": [
    "def f(lst1: List[Union[int, float]], lst2: List[Union[int, float]]) -> Optional[List[Union[int, float]]]:\n",
    "    if len(lst1) != len(lst2):\n",
    "        return None\n",
    "    return [x + y for x, y in zip(lst1, lst2)]"
   ]
  },
  {
   "cell_type": "code",
   "execution_count": 7,
   "id": "a57b3acc",
   "metadata": {},
   "outputs": [
    {
     "data": {
      "text/plain": [
       "[5, 7, 9]"
      ]
     },
     "execution_count": 7,
     "metadata": {},
     "output_type": "execute_result"
    }
   ],
   "source": [
    "lst1 = [1, 2, 3]\n",
    "lst2 = [4, 5, 6]\n",
    "f(lst1, lst2)"
   ]
  },
  {
   "cell_type": "code",
   "execution_count": 8,
   "id": "f965c72c",
   "metadata": {},
   "outputs": [
    {
     "name": "stdout",
     "output_type": "stream",
     "text": [
      "None\n"
     ]
    }
   ],
   "source": [
    "lst1 = [1]\n",
    "lst2 = [2, 3]\n",
    "print(f(lst1, lst2))"
   ]
  },
  {
   "cell_type": "markdown",
   "id": "7b0a66e7",
   "metadata": {},
   "source": [
    "## Task 4: Update  your  solution  to  exercise  3  to  accept  the  KWARGs:  “Arg1”  and  “Arg2”, their values are the lists."
   ]
  },
  {
   "cell_type": "code",
   "execution_count": 9,
   "id": "1c04dbce",
   "metadata": {},
   "outputs": [],
   "source": [
    "def f(**kwargs) -> Optional[List[Union[int, float]]]:\n",
    "    lst1 = kwargs.get(\"Arg1\", [])\n",
    "    lst2 = kwargs.get(\"Arg2\", [])\n",
    "    if len(lst1) != len(lst2):\n",
    "        return None\n",
    "    return [x + y for x, y in zip(lst1, lst2)]"
   ]
  },
  {
   "cell_type": "code",
   "execution_count": 10,
   "id": "f922f3c4",
   "metadata": {},
   "outputs": [
    {
     "data": {
      "text/plain": [
       "[5, 7, 9]"
      ]
     },
     "execution_count": 10,
     "metadata": {},
     "output_type": "execute_result"
    }
   ],
   "source": [
    "lst1 = [1, 2, 3]\n",
    "lst2 = [4, 5, 6]\n",
    "f(Arg1 = lst1, Arg2 = lst2)"
   ]
  },
  {
   "cell_type": "code",
   "execution_count": 11,
   "id": "497df98a",
   "metadata": {},
   "outputs": [
    {
     "name": "stdout",
     "output_type": "stream",
     "text": [
      "None\n"
     ]
    }
   ],
   "source": [
    "lst1 = [1]\n",
    "lst2 = [2, 3]\n",
    "print(f(Arg1 = lst1, Arg2 = lst2))"
   ]
  },
  {
   "cell_type": "markdown",
   "id": "e44e8a9b",
   "metadata": {},
   "source": [
    "## Task 5: Update your solu3on to exercise 4 to return a tuple of the form (len, listof-sums)."
   ]
  },
  {
   "cell_type": "code",
   "execution_count": 12,
   "id": "7db587db",
   "metadata": {},
   "outputs": [],
   "source": [
    "def f(**kwargs):\n",
    "    lst1 = kwargs.get(\"Arg1\", [])\n",
    "    lst2 = kwargs.get(\"Arg2\", [])\n",
    "    if len(lst1) != len(lst2):\n",
    "        return None\n",
    "    result = [x + y for x, y in zip(lst1, lst2)]\n",
    "    return (len(result), result)"
   ]
  },
  {
   "cell_type": "code",
   "execution_count": 13,
   "id": "465bdb0b",
   "metadata": {},
   "outputs": [
    {
     "data": {
      "text/plain": [
       "(3, [5, 7, 9])"
      ]
     },
     "execution_count": 13,
     "metadata": {},
     "output_type": "execute_result"
    }
   ],
   "source": [
    "lst1 = [1, 2, 3]\n",
    "lst2 = [4, 5, 6]\n",
    "f(Arg1 = lst1, Arg2 = lst2)"
   ]
  },
  {
   "cell_type": "code",
   "execution_count": 14,
   "id": "4701e5ef",
   "metadata": {},
   "outputs": [
    {
     "name": "stdout",
     "output_type": "stream",
     "text": [
      "None\n"
     ]
    }
   ],
   "source": [
    "lst1 = [1]\n",
    "lst2 = [2, 3]\n",
    "print(f(Arg1 = lst1, Arg2 = lst2))"
   ]
  },
  {
   "cell_type": "markdown",
   "id": "78451a28",
   "metadata": {},
   "source": [
    "## Task 6\n",
    "Implement a function that computes the Fibonacci sequence (recall that \n",
    "the sequence is constructed as Fi = Fi-2 + Fi-1).  It will accept an argument \n",
    "for the length of the desired sequence.  Feel free to use either itera3on or \n",
    "recursion."
   ]
  },
  {
   "cell_type": "markdown",
   "id": "38160561",
   "metadata": {},
   "source": [
    "### version 1"
   ]
  },
  {
   "cell_type": "code",
   "execution_count": 31,
   "id": "e141ad84",
   "metadata": {},
   "outputs": [],
   "source": [
    "def fibonacci(i):\n",
    "  if i <= 1:\n",
    "    return i\n",
    "  return fibonacci(i - 1) + fibonacci(i-2)\n",
    "\n",
    "def Fib(i):\n",
    "  return [fibonacci(i) for i in range(i)]"
   ]
  },
  {
   "cell_type": "code",
   "execution_count": 16,
   "id": "6066e28e",
   "metadata": {},
   "outputs": [
    {
     "data": {
      "text/plain": [
       "[0, 1, 1, 2, 3, 5]"
      ]
     },
     "execution_count": 16,
     "metadata": {},
     "output_type": "execute_result"
    }
   ],
   "source": [
    "Fib(6)"
   ]
  },
  {
   "cell_type": "markdown",
   "id": "d8db19ad",
   "metadata": {},
   "source": [
    "### version 2"
   ]
  },
  {
   "cell_type": "code",
   "execution_count": 29,
   "id": "5b445d07",
   "metadata": {},
   "outputs": [],
   "source": [
    "def Fib(n: int) -> List[int]:\n",
    "    sequence = [0, 1]\n",
    "    for i in range(2, n):\n",
    "        sequence.append(sequence[-1] + sequence[-2])\n",
    "    return sequence[:n]"
   ]
  },
  {
   "cell_type": "code",
   "execution_count": 18,
   "id": "1c148db5",
   "metadata": {},
   "outputs": [
    {
     "data": {
      "text/plain": [
       "[0, 1, 1, 2, 3, 5]"
      ]
     },
     "execution_count": 18,
     "metadata": {},
     "output_type": "execute_result"
    }
   ],
   "source": [
    "Fib(6)"
   ]
  },
  {
   "cell_type": "code",
   "execution_count": 32,
   "id": "8ccdcadd",
   "metadata": {},
   "outputs": [
    {
     "data": {
      "text/plain": [
       "[0, 1, 1, 2, 3, 5, 8]"
      ]
     },
     "execution_count": 32,
     "metadata": {},
     "output_type": "execute_result"
    }
   ],
   "source": [
    "Fib(7)"
   ]
  },
  {
   "cell_type": "code",
   "execution_count": null,
   "id": "2b6d7d77-d7bf-4113-9644-89f51712b84e",
   "metadata": {},
   "outputs": [],
   "source": []
  }
 ],
 "metadata": {
  "kernelspec": {
   "display_name": "Python 3 (ipykernel)",
   "language": "python",
   "name": "python3"
  },
  "language_info": {
   "codemirror_mode": {
    "name": "ipython",
    "version": 3
   },
   "file_extension": ".py",
   "mimetype": "text/x-python",
   "name": "python",
   "nbconvert_exporter": "python",
   "pygments_lexer": "ipython3",
   "version": "3.10.12"
  }
 },
 "nbformat": 4,
 "nbformat_minor": 5
}
