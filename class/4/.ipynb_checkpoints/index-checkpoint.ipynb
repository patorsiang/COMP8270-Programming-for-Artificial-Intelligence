{
 "cells": [
  {
   "cell_type": "markdown",
   "id": "504e3bde-55ba-490c-8657-dd577b5afb88",
   "metadata": {},
   "source": [
    "# Class 4"
   ]
  },
  {
   "cell_type": "code",
   "execution_count": null,
   "id": "59ca61d6-9414-43d4-a0a7-088e7352b1b3",
   "metadata": {},
   "outputs": [],
   "source": []
  }
 ],
 "metadata": {
  "kernelspec": {
   "display_name": "Python 3 (ipykernel)",
   "language": "python",
   "name": "python3"
  },
  "language_info": {
   "codemirror_mode": {
    "name": "ipython",
    "version": 3
   },
   "file_extension": ".py",
   "mimetype": "text/x-python",
   "name": "python",
   "nbconvert_exporter": "python",
   "pygments_lexer": "ipython3",
   "version": "3.10.12"
  }
 },
 "nbformat": 4,
 "nbformat_minor": 5
}
