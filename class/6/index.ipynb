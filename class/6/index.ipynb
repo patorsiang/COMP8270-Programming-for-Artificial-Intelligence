{
 "cells": [
  {
   "cell_type": "markdown",
   "metadata": {},
   "source": [
    "# Class 6"
   ]
  },
  {
   "cell_type": "code",
   "execution_count": 78,
   "metadata": {},
   "outputs": [],
   "source": [
    "\"\"\"\n",
    "9. To prevent the creation of objects from the class Account, modify your\n",
    "implementation so that Account is an abstract class and add an abstract method\n",
    "name description, which should return a string representing the type of the account\n",
    "(\"current\" or \"savings\"). Implement the description method in each subclass.\n",
    "\"\"\"\n",
    "from abc import ABC, abstractmethod\n",
    "\n",
    "class Account (ABC):\n",
    "  \"\"\"\n",
    "  1. Create a class named Account with account_number and balance as instance attributes. Add a constructor that expects values for both attributes\n",
    "  \"\"\"\n",
    "  def __init__(self, account_number, balance):\n",
    "    self.__account_number = account_number\n",
    "    self.__balance = balance\n",
    "\n",
    "  \"\"\"\n",
    "  2. Add a method to the class Account named deposit that increases the account balance by a specified amount. The deposit should only operate with values greater than 0\n",
    "  \"\"\"\n",
    "  def deposit(self, amount):\n",
    "    if amount > 0:\n",
    "      self.balance += amount\n",
    "    else:\n",
    "      print(\"Invalid deposit amount. Please enter a positive value.\")\n",
    "\n",
    "  \"\"\"\n",
    "  3. Add a method to the class Account named withdraw that decreases the account balance by a specified amount. The withdraw should only operate with values greater than 0 and smaller than the current balance of the account.\n",
    "  \"\"\"\n",
    "  def withdraw(self, amount):\n",
    "    if amount > 0 and amount <= self.balance:\n",
    "      self.balance -= amount\n",
    "    else:\n",
    "      print(\"Invalid withdrawal amount. Please enter a positive value and ensure the withdrawal does not exceed the current balance.\")\n",
    "\n",
    "\n",
    "  \"\"\"\n",
    "  4. Modify your Account class so that both account_number and balance appear as \"private\" attributes. Define getter methods for each attribute.\n",
    "  \"\"\"\n",
    "  @property\n",
    "  def account_number(self):\n",
    "    return self.__account_number\n",
    "\n",
    "  @property\n",
    "  def balance(self):\n",
    "    return self.__balance\n",
    "\n",
    "  @balance.setter\n",
    "  def balance(self, value):\n",
    "    if value >= 0:\n",
    "      self.__balance = value\n",
    "    else:\n",
    "      raise ValueError(\"Balance cannot be negative.\")\n",
    "\n",
    "  abstractmethod\n",
    "  def description(self):\n",
    "    pass\n",
    "\"\"\"\n",
    "5. Create a subclass of Account named SavingsAccount with an interest instance attribute. The initial value of interest should be specified in the constructor of the class – if no value is specified, it should use 0.02 (2%) as a default value. Make sure that the constructor is calling the super class constructor.\n",
    "\"\"\"\n",
    "class SavingsAccount(Account):\n",
    "  def __init__(self, account_number, balance, interest=0.02):\n",
    "    super().__init__(account_number, balance)\n",
    "    self.interest = interest\n",
    "\n",
    "  \"\"\"\n",
    "  8. Add a method to the class SavingsAccount named annual_interest that returns the estimated annual interest income of the account\n",
    "  – e.g., if the balance of the account is £100 and the interest is 2%, the method would return 2.\n",
    "  \"\"\"\n",
    "  def annual_interest(self):\n",
    "    return self.balance * self.interest\n",
    "\n",
    "  def description(self):\n",
    "    return \"saving\"\n",
    "\n",
    "\"\"\"\n",
    "6. Create a subclass of Account named CurrentAccount with an overdraft instance attribute. The initial value of overdraft should be specified in the constructor of the class – if no value is specified, it should use £100 as a default value. Make sure that the constructor is calling the super class constructor.\n",
    "\"\"\"\n",
    "class CurrentAccount(Account):\n",
    "  def __init__(self, account_number, balance, overdraft=100):\n",
    "    super().__init__(account_number, balance)\n",
    "    self.overdraft = overdraft\n",
    "\n",
    "  \"\"\"\n",
    "  7. Provide a specialised implementation (method overriding) for the withdraw method in the CurrentAccount class, which allows withdraws up to the limit of the overdraft –\n",
    "  i.e., the account balance can be negative up to overdraft value.\n",
    "  \"\"\"\n",
    "  def withdraw(self, amount):\n",
    "    if amount > 0 and (self.balance + self.overdraft) >= amount:\n",
    "      self.balance -= amount\n",
    "    else:\n",
    "      print(\"Invalid withdrawal amount. Please enter a positive value and ensure the withdrawal does not exceed the current balance or overdraft limit.\")\n",
    "\n",
    "  def description(self):\n",
    "    return \"current\""
   ]
  },
  {
   "cell_type": "code",
   "execution_count": 73,
   "metadata": {},
   "outputs": [
    {
     "data": {
      "text/plain": [
       "[<__main__.CurrentAccount at 0x7f87a560a230>,\n",
       " <__main__.SavingsAccount at 0x7f87a5766a40>,\n",
       " <__main__.CurrentAccount at 0x7f87a5767dc0>]"
      ]
     },
     "execution_count": 73,
     "metadata": {},
     "output_type": "execute_result"
    }
   ],
   "source": [
    "\"\"\"\n",
    "10. Create a list of Account objects. The list should contain objects of both\n",
    "SavingsAccount and CurrentAccount classes. Then write a loop that identifies the\n",
    "number of accounts that are the absolute value of the overdraft is greater than the\n",
    "account balance.\n",
    "\"\"\"\n",
    "accounts = [SavingsAccount(int(i/100), i, i/10000) if i/100 % 2 == 0 else CurrentAccount(int(i/100), i, i*3) for i in range(100, 400, 100)]\n",
    "accounts"
   ]
  },
  {
   "cell_type": "code",
   "execution_count": 76,
   "metadata": {},
   "outputs": [
    {
     "name": "stdout",
     "output_type": "stream",
     "text": [
      "1 100 current\n",
      "2 200 saving\n",
      "3 300 current\n"
     ]
    }
   ],
   "source": [
    "for account in accounts:\n",
    "  print(\n",
    "    account.account_number,\n",
    "    account.balance,\n",
    "    account.description(),\n",
    "  )"
   ]
  },
  {
   "cell_type": "code",
   "execution_count": null,
   "metadata": {},
   "outputs": [],
   "source": []
  }
 ],
 "metadata": {
  "kernelspec": {
   "display_name": "Python 3 (ipykernel)",
   "language": "python",
   "name": "python3"
  },
  "language_info": {
   "codemirror_mode": {
    "name": "ipython",
    "version": 3
   },
   "file_extension": ".py",
   "mimetype": "text/x-python",
   "name": "python",
   "nbconvert_exporter": "python",
   "pygments_lexer": "ipython3",
   "version": "3.10.12"
  }
 },
 "nbformat": 4,
 "nbformat_minor": 2
}
