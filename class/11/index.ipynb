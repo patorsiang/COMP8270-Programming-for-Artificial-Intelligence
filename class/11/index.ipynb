{
 "cells": [
  {
   "cell_type": "markdown",
   "metadata": {},
   "source": [
    "# Class 11"
   ]
  },
  {
   "cell_type": "markdown",
   "metadata": {},
   "source": [
    "## Import Libraries"
   ]
  },
  {
   "cell_type": "code",
   "execution_count": 2,
   "metadata": {},
   "outputs": [],
   "source": [
    "import pandas as pd\n",
    "from sklearn.model_selection import train_test_split\n",
    "from sklearn.preprocessing import OneHotEncoder\n",
    "from sklearn.tree import DecisionTreeClassifier\n",
    "from sklearn.ensemble import RandomForestClassifier\n",
    "from sklearn.metrics import accuracy_score"
   ]
  },
  {
   "cell_type": "markdown",
   "metadata": {},
   "source": [
    "## Task 1"
   ]
  },
  {
   "cell_type": "markdown",
   "metadata": {},
   "source": [
    "### Load data"
   ]
  },
  {
   "cell_type": "code",
   "execution_count": 3,
   "metadata": {},
   "outputs": [],
   "source": [
    "url = 'https://archive.ics.uci.edu/ml/machine-learning-databases/00225/Indian%20Liver%20Patient%20Dataset%20(ILPD).csv'\n",
    "columns = [\"Age\",\n",
    "           \"Gender\",\n",
    "           \"TB Total Bilirubin\",\n",
    "           \"DB Direct Bilirubin\",\n",
    "           \"Alkphos Alkaline Phosphotase\",\n",
    "           \"Sgpt Alamine Aminotransferase\",\n",
    "           \"Sgot Aspartate Aminotransferase\",\n",
    "           \"TP Total Protiens\",\n",
    "           \"ALB Albumin\",\n",
    "           \"A/G Ratio Albumin / Globulin Ratio\",\n",
    "           \"Class\"]\n",
    "df = pd.read_csv(url, header=None, names=columns)"
   ]
  },
  {
   "cell_type": "markdown",
   "metadata": {},
   "source": [
    "### Pre-processes"
   ]
  },
  {
   "cell_type": "markdown",
   "metadata": {},
   "source": [
    "#### Data Cleaning"
   ]
  },
  {
   "cell_type": "markdown",
   "metadata": {},
   "source": [
    "##### understand basic of data"
   ]
  },
  {
   "cell_type": "code",
   "execution_count": 4,
   "metadata": {},
   "outputs": [
    {
     "name": "stdout",
     "output_type": "stream",
     "text": [
      "<class 'pandas.core.frame.DataFrame'>\n",
      "RangeIndex: 583 entries, 0 to 582\n",
      "Data columns (total 11 columns):\n",
      " #   Column                              Non-Null Count  Dtype  \n",
      "---  ------                              --------------  -----  \n",
      " 0   Age                                 583 non-null    int64  \n",
      " 1   Gender                              583 non-null    object \n",
      " 2   TB Total Bilirubin                  583 non-null    float64\n",
      " 3   DB Direct Bilirubin                 583 non-null    float64\n",
      " 4   Alkphos Alkaline Phosphotase        583 non-null    int64  \n",
      " 5   Sgpt Alamine Aminotransferase       583 non-null    int64  \n",
      " 6   Sgot Aspartate Aminotransferase     583 non-null    int64  \n",
      " 7   TP Total Protiens                   583 non-null    float64\n",
      " 8   ALB Albumin                         583 non-null    float64\n",
      " 9   A/G Ratio Albumin / Globulin Ratio  579 non-null    float64\n",
      " 10  Class                               583 non-null    int64  \n",
      "dtypes: float64(5), int64(5), object(1)\n",
      "memory usage: 50.2+ KB\n"
     ]
    }
   ],
   "source": [
    "df.info()"
   ]
  },
  {
   "cell_type": "code",
   "execution_count": 5,
   "metadata": {},
   "outputs": [
    {
     "data": {
      "text/html": [
       "<div>\n",
       "<style scoped>\n",
       "    .dataframe tbody tr th:only-of-type {\n",
       "        vertical-align: middle;\n",
       "    }\n",
       "\n",
       "    .dataframe tbody tr th {\n",
       "        vertical-align: top;\n",
       "    }\n",
       "\n",
       "    .dataframe thead th {\n",
       "        text-align: right;\n",
       "    }\n",
       "</style>\n",
       "<table border=\"1\" class=\"dataframe\">\n",
       "  <thead>\n",
       "    <tr style=\"text-align: right;\">\n",
       "      <th></th>\n",
       "      <th>Age</th>\n",
       "      <th>TB Total Bilirubin</th>\n",
       "      <th>DB Direct Bilirubin</th>\n",
       "      <th>Alkphos Alkaline Phosphotase</th>\n",
       "      <th>Sgpt Alamine Aminotransferase</th>\n",
       "      <th>Sgot Aspartate Aminotransferase</th>\n",
       "      <th>TP Total Protiens</th>\n",
       "      <th>ALB Albumin</th>\n",
       "      <th>A/G Ratio Albumin / Globulin Ratio</th>\n",
       "      <th>Class</th>\n",
       "    </tr>\n",
       "  </thead>\n",
       "  <tbody>\n",
       "    <tr>\n",
       "      <th>count</th>\n",
       "      <td>583.000000</td>\n",
       "      <td>583.000000</td>\n",
       "      <td>583.000000</td>\n",
       "      <td>583.000000</td>\n",
       "      <td>583.000000</td>\n",
       "      <td>583.000000</td>\n",
       "      <td>583.000000</td>\n",
       "      <td>583.000000</td>\n",
       "      <td>579.000000</td>\n",
       "      <td>583.000000</td>\n",
       "    </tr>\n",
       "    <tr>\n",
       "      <th>mean</th>\n",
       "      <td>44.746141</td>\n",
       "      <td>3.298799</td>\n",
       "      <td>1.486106</td>\n",
       "      <td>290.576329</td>\n",
       "      <td>80.713551</td>\n",
       "      <td>109.910806</td>\n",
       "      <td>6.483190</td>\n",
       "      <td>3.141852</td>\n",
       "      <td>0.947064</td>\n",
       "      <td>1.286449</td>\n",
       "    </tr>\n",
       "    <tr>\n",
       "      <th>std</th>\n",
       "      <td>16.189833</td>\n",
       "      <td>6.209522</td>\n",
       "      <td>2.808498</td>\n",
       "      <td>242.937989</td>\n",
       "      <td>182.620356</td>\n",
       "      <td>288.918529</td>\n",
       "      <td>1.085451</td>\n",
       "      <td>0.795519</td>\n",
       "      <td>0.319592</td>\n",
       "      <td>0.452490</td>\n",
       "    </tr>\n",
       "    <tr>\n",
       "      <th>min</th>\n",
       "      <td>4.000000</td>\n",
       "      <td>0.400000</td>\n",
       "      <td>0.100000</td>\n",
       "      <td>63.000000</td>\n",
       "      <td>10.000000</td>\n",
       "      <td>10.000000</td>\n",
       "      <td>2.700000</td>\n",
       "      <td>0.900000</td>\n",
       "      <td>0.300000</td>\n",
       "      <td>1.000000</td>\n",
       "    </tr>\n",
       "    <tr>\n",
       "      <th>25%</th>\n",
       "      <td>33.000000</td>\n",
       "      <td>0.800000</td>\n",
       "      <td>0.200000</td>\n",
       "      <td>175.500000</td>\n",
       "      <td>23.000000</td>\n",
       "      <td>25.000000</td>\n",
       "      <td>5.800000</td>\n",
       "      <td>2.600000</td>\n",
       "      <td>0.700000</td>\n",
       "      <td>1.000000</td>\n",
       "    </tr>\n",
       "    <tr>\n",
       "      <th>50%</th>\n",
       "      <td>45.000000</td>\n",
       "      <td>1.000000</td>\n",
       "      <td>0.300000</td>\n",
       "      <td>208.000000</td>\n",
       "      <td>35.000000</td>\n",
       "      <td>42.000000</td>\n",
       "      <td>6.600000</td>\n",
       "      <td>3.100000</td>\n",
       "      <td>0.930000</td>\n",
       "      <td>1.000000</td>\n",
       "    </tr>\n",
       "    <tr>\n",
       "      <th>75%</th>\n",
       "      <td>58.000000</td>\n",
       "      <td>2.600000</td>\n",
       "      <td>1.300000</td>\n",
       "      <td>298.000000</td>\n",
       "      <td>60.500000</td>\n",
       "      <td>87.000000</td>\n",
       "      <td>7.200000</td>\n",
       "      <td>3.800000</td>\n",
       "      <td>1.100000</td>\n",
       "      <td>2.000000</td>\n",
       "    </tr>\n",
       "    <tr>\n",
       "      <th>max</th>\n",
       "      <td>90.000000</td>\n",
       "      <td>75.000000</td>\n",
       "      <td>19.700000</td>\n",
       "      <td>2110.000000</td>\n",
       "      <td>2000.000000</td>\n",
       "      <td>4929.000000</td>\n",
       "      <td>9.600000</td>\n",
       "      <td>5.500000</td>\n",
       "      <td>2.800000</td>\n",
       "      <td>2.000000</td>\n",
       "    </tr>\n",
       "  </tbody>\n",
       "</table>\n",
       "</div>"
      ],
      "text/plain": [
       "              Age  TB Total Bilirubin  DB Direct Bilirubin  \\\n",
       "count  583.000000          583.000000           583.000000   \n",
       "mean    44.746141            3.298799             1.486106   \n",
       "std     16.189833            6.209522             2.808498   \n",
       "min      4.000000            0.400000             0.100000   \n",
       "25%     33.000000            0.800000             0.200000   \n",
       "50%     45.000000            1.000000             0.300000   \n",
       "75%     58.000000            2.600000             1.300000   \n",
       "max     90.000000           75.000000            19.700000   \n",
       "\n",
       "       Alkphos Alkaline Phosphotase  Sgpt Alamine Aminotransferase  \\\n",
       "count                    583.000000                     583.000000   \n",
       "mean                     290.576329                      80.713551   \n",
       "std                      242.937989                     182.620356   \n",
       "min                       63.000000                      10.000000   \n",
       "25%                      175.500000                      23.000000   \n",
       "50%                      208.000000                      35.000000   \n",
       "75%                      298.000000                      60.500000   \n",
       "max                     2110.000000                    2000.000000   \n",
       "\n",
       "       Sgot Aspartate Aminotransferase  TP Total Protiens  ALB Albumin  \\\n",
       "count                       583.000000         583.000000   583.000000   \n",
       "mean                        109.910806           6.483190     3.141852   \n",
       "std                         288.918529           1.085451     0.795519   \n",
       "min                          10.000000           2.700000     0.900000   \n",
       "25%                          25.000000           5.800000     2.600000   \n",
       "50%                          42.000000           6.600000     3.100000   \n",
       "75%                          87.000000           7.200000     3.800000   \n",
       "max                        4929.000000           9.600000     5.500000   \n",
       "\n",
       "       A/G Ratio Albumin / Globulin Ratio       Class  \n",
       "count                          579.000000  583.000000  \n",
       "mean                             0.947064    1.286449  \n",
       "std                              0.319592    0.452490  \n",
       "min                              0.300000    1.000000  \n",
       "25%                              0.700000    1.000000  \n",
       "50%                              0.930000    1.000000  \n",
       "75%                              1.100000    2.000000  \n",
       "max                              2.800000    2.000000  "
      ]
     },
     "execution_count": 5,
     "metadata": {},
     "output_type": "execute_result"
    }
   ],
   "source": [
    "df.describe()"
   ]
  },
  {
   "cell_type": "code",
   "execution_count": 6,
   "metadata": {},
   "outputs": [
    {
     "data": {
      "text/plain": [
       "(583, 11)"
      ]
     },
     "execution_count": 6,
     "metadata": {},
     "output_type": "execute_result"
    }
   ],
   "source": [
    "df.shape"
   ]
  },
  {
   "cell_type": "markdown",
   "metadata": {},
   "source": [
    "##### handling with null data"
   ]
  },
  {
   "cell_type": "code",
   "execution_count": 7,
   "metadata": {},
   "outputs": [
    {
     "data": {
      "text/plain": [
       "Age                                   0\n",
       "Gender                                0\n",
       "TB Total Bilirubin                    0\n",
       "DB Direct Bilirubin                   0\n",
       "Alkphos Alkaline Phosphotase          0\n",
       "Sgpt Alamine Aminotransferase         0\n",
       "Sgot Aspartate Aminotransferase       0\n",
       "TP Total Protiens                     0\n",
       "ALB Albumin                           0\n",
       "A/G Ratio Albumin / Globulin Ratio    4\n",
       "Class                                 0\n",
       "dtype: int64"
      ]
     },
     "execution_count": 7,
     "metadata": {},
     "output_type": "execute_result"
    }
   ],
   "source": [
    "df.isnull().apply(sum)"
   ]
  },
  {
   "cell_type": "code",
   "execution_count": 8,
   "metadata": {},
   "outputs": [
    {
     "data": {
      "text/html": [
       "<div>\n",
       "<style scoped>\n",
       "    .dataframe tbody tr th:only-of-type {\n",
       "        vertical-align: middle;\n",
       "    }\n",
       "\n",
       "    .dataframe tbody tr th {\n",
       "        vertical-align: top;\n",
       "    }\n",
       "\n",
       "    .dataframe thead th {\n",
       "        text-align: right;\n",
       "    }\n",
       "</style>\n",
       "<table border=\"1\" class=\"dataframe\">\n",
       "  <thead>\n",
       "    <tr style=\"text-align: right;\">\n",
       "      <th></th>\n",
       "      <th>Age</th>\n",
       "      <th>Gender</th>\n",
       "      <th>TB Total Bilirubin</th>\n",
       "      <th>DB Direct Bilirubin</th>\n",
       "      <th>Alkphos Alkaline Phosphotase</th>\n",
       "      <th>Sgpt Alamine Aminotransferase</th>\n",
       "      <th>Sgot Aspartate Aminotransferase</th>\n",
       "      <th>TP Total Protiens</th>\n",
       "      <th>ALB Albumin</th>\n",
       "      <th>A/G Ratio Albumin / Globulin Ratio</th>\n",
       "      <th>Class</th>\n",
       "    </tr>\n",
       "  </thead>\n",
       "  <tbody>\n",
       "    <tr>\n",
       "      <th>0</th>\n",
       "      <td>65</td>\n",
       "      <td>Female</td>\n",
       "      <td>0.7</td>\n",
       "      <td>0.1</td>\n",
       "      <td>187</td>\n",
       "      <td>16</td>\n",
       "      <td>18</td>\n",
       "      <td>6.8</td>\n",
       "      <td>3.3</td>\n",
       "      <td>0.90</td>\n",
       "      <td>1</td>\n",
       "    </tr>\n",
       "    <tr>\n",
       "      <th>1</th>\n",
       "      <td>62</td>\n",
       "      <td>Male</td>\n",
       "      <td>10.9</td>\n",
       "      <td>5.5</td>\n",
       "      <td>699</td>\n",
       "      <td>64</td>\n",
       "      <td>100</td>\n",
       "      <td>7.5</td>\n",
       "      <td>3.2</td>\n",
       "      <td>0.74</td>\n",
       "      <td>1</td>\n",
       "    </tr>\n",
       "    <tr>\n",
       "      <th>2</th>\n",
       "      <td>62</td>\n",
       "      <td>Male</td>\n",
       "      <td>7.3</td>\n",
       "      <td>4.1</td>\n",
       "      <td>490</td>\n",
       "      <td>60</td>\n",
       "      <td>68</td>\n",
       "      <td>7.0</td>\n",
       "      <td>3.3</td>\n",
       "      <td>0.89</td>\n",
       "      <td>1</td>\n",
       "    </tr>\n",
       "    <tr>\n",
       "      <th>3</th>\n",
       "      <td>58</td>\n",
       "      <td>Male</td>\n",
       "      <td>1.0</td>\n",
       "      <td>0.4</td>\n",
       "      <td>182</td>\n",
       "      <td>14</td>\n",
       "      <td>20</td>\n",
       "      <td>6.8</td>\n",
       "      <td>3.4</td>\n",
       "      <td>1.00</td>\n",
       "      <td>1</td>\n",
       "    </tr>\n",
       "    <tr>\n",
       "      <th>4</th>\n",
       "      <td>72</td>\n",
       "      <td>Male</td>\n",
       "      <td>3.9</td>\n",
       "      <td>2.0</td>\n",
       "      <td>195</td>\n",
       "      <td>27</td>\n",
       "      <td>59</td>\n",
       "      <td>7.3</td>\n",
       "      <td>2.4</td>\n",
       "      <td>0.40</td>\n",
       "      <td>1</td>\n",
       "    </tr>\n",
       "  </tbody>\n",
       "</table>\n",
       "</div>"
      ],
      "text/plain": [
       "   Age  Gender  TB Total Bilirubin  DB Direct Bilirubin  \\\n",
       "0   65  Female                 0.7                  0.1   \n",
       "1   62    Male                10.9                  5.5   \n",
       "2   62    Male                 7.3                  4.1   \n",
       "3   58    Male                 1.0                  0.4   \n",
       "4   72    Male                 3.9                  2.0   \n",
       "\n",
       "   Alkphos Alkaline Phosphotase  Sgpt Alamine Aminotransferase  \\\n",
       "0                           187                             16   \n",
       "1                           699                             64   \n",
       "2                           490                             60   \n",
       "3                           182                             14   \n",
       "4                           195                             27   \n",
       "\n",
       "   Sgot Aspartate Aminotransferase  TP Total Protiens  ALB Albumin  \\\n",
       "0                               18                6.8          3.3   \n",
       "1                              100                7.5          3.2   \n",
       "2                               68                7.0          3.3   \n",
       "3                               20                6.8          3.4   \n",
       "4                               59                7.3          2.4   \n",
       "\n",
       "   A/G Ratio Albumin / Globulin Ratio  Class  \n",
       "0                                0.90      1  \n",
       "1                                0.74      1  \n",
       "2                                0.89      1  \n",
       "3                                1.00      1  \n",
       "4                                0.40      1  "
      ]
     },
     "execution_count": 8,
     "metadata": {},
     "output_type": "execute_result"
    }
   ],
   "source": [
    "df = df.drop(df[df['A/G Ratio Albumin / Globulin Ratio'].isna()].index)\n",
    "df.head()"
   ]
  },
  {
   "cell_type": "markdown",
   "metadata": {},
   "source": [
    "##### handling with duplicate data"
   ]
  },
  {
   "cell_type": "code",
   "execution_count": 9,
   "metadata": {},
   "outputs": [
    {
     "data": {
      "text/html": [
       "<div>\n",
       "<style scoped>\n",
       "    .dataframe tbody tr th:only-of-type {\n",
       "        vertical-align: middle;\n",
       "    }\n",
       "\n",
       "    .dataframe tbody tr th {\n",
       "        vertical-align: top;\n",
       "    }\n",
       "\n",
       "    .dataframe thead th {\n",
       "        text-align: right;\n",
       "    }\n",
       "</style>\n",
       "<table border=\"1\" class=\"dataframe\">\n",
       "  <thead>\n",
       "    <tr style=\"text-align: right;\">\n",
       "      <th></th>\n",
       "      <th>Age</th>\n",
       "      <th>Gender</th>\n",
       "      <th>TB Total Bilirubin</th>\n",
       "      <th>DB Direct Bilirubin</th>\n",
       "      <th>Alkphos Alkaline Phosphotase</th>\n",
       "      <th>Sgpt Alamine Aminotransferase</th>\n",
       "      <th>Sgot Aspartate Aminotransferase</th>\n",
       "      <th>TP Total Protiens</th>\n",
       "      <th>ALB Albumin</th>\n",
       "      <th>A/G Ratio Albumin / Globulin Ratio</th>\n",
       "      <th>Class</th>\n",
       "    </tr>\n",
       "  </thead>\n",
       "  <tbody>\n",
       "    <tr>\n",
       "      <th>19</th>\n",
       "      <td>40</td>\n",
       "      <td>Female</td>\n",
       "      <td>0.9</td>\n",
       "      <td>0.3</td>\n",
       "      <td>293</td>\n",
       "      <td>232</td>\n",
       "      <td>245</td>\n",
       "      <td>6.8</td>\n",
       "      <td>3.1</td>\n",
       "      <td>0.80</td>\n",
       "      <td>1</td>\n",
       "    </tr>\n",
       "    <tr>\n",
       "      <th>26</th>\n",
       "      <td>34</td>\n",
       "      <td>Male</td>\n",
       "      <td>4.1</td>\n",
       "      <td>2.0</td>\n",
       "      <td>289</td>\n",
       "      <td>875</td>\n",
       "      <td>731</td>\n",
       "      <td>5.0</td>\n",
       "      <td>2.7</td>\n",
       "      <td>1.10</td>\n",
       "      <td>1</td>\n",
       "    </tr>\n",
       "    <tr>\n",
       "      <th>34</th>\n",
       "      <td>38</td>\n",
       "      <td>Female</td>\n",
       "      <td>2.6</td>\n",
       "      <td>1.2</td>\n",
       "      <td>410</td>\n",
       "      <td>59</td>\n",
       "      <td>57</td>\n",
       "      <td>5.6</td>\n",
       "      <td>3.0</td>\n",
       "      <td>0.80</td>\n",
       "      <td>2</td>\n",
       "    </tr>\n",
       "    <tr>\n",
       "      <th>55</th>\n",
       "      <td>42</td>\n",
       "      <td>Male</td>\n",
       "      <td>8.9</td>\n",
       "      <td>4.5</td>\n",
       "      <td>272</td>\n",
       "      <td>31</td>\n",
       "      <td>61</td>\n",
       "      <td>5.8</td>\n",
       "      <td>2.0</td>\n",
       "      <td>0.50</td>\n",
       "      <td>1</td>\n",
       "    </tr>\n",
       "    <tr>\n",
       "      <th>62</th>\n",
       "      <td>58</td>\n",
       "      <td>Male</td>\n",
       "      <td>1.0</td>\n",
       "      <td>0.5</td>\n",
       "      <td>158</td>\n",
       "      <td>37</td>\n",
       "      <td>43</td>\n",
       "      <td>7.2</td>\n",
       "      <td>3.6</td>\n",
       "      <td>1.00</td>\n",
       "      <td>1</td>\n",
       "    </tr>\n",
       "    <tr>\n",
       "      <th>106</th>\n",
       "      <td>36</td>\n",
       "      <td>Male</td>\n",
       "      <td>5.3</td>\n",
       "      <td>2.3</td>\n",
       "      <td>145</td>\n",
       "      <td>32</td>\n",
       "      <td>92</td>\n",
       "      <td>5.1</td>\n",
       "      <td>2.6</td>\n",
       "      <td>1.00</td>\n",
       "      <td>2</td>\n",
       "    </tr>\n",
       "    <tr>\n",
       "      <th>108</th>\n",
       "      <td>36</td>\n",
       "      <td>Male</td>\n",
       "      <td>0.8</td>\n",
       "      <td>0.2</td>\n",
       "      <td>158</td>\n",
       "      <td>29</td>\n",
       "      <td>39</td>\n",
       "      <td>6.0</td>\n",
       "      <td>2.2</td>\n",
       "      <td>0.50</td>\n",
       "      <td>2</td>\n",
       "    </tr>\n",
       "    <tr>\n",
       "      <th>138</th>\n",
       "      <td>18</td>\n",
       "      <td>Male</td>\n",
       "      <td>0.8</td>\n",
       "      <td>0.2</td>\n",
       "      <td>282</td>\n",
       "      <td>72</td>\n",
       "      <td>140</td>\n",
       "      <td>5.5</td>\n",
       "      <td>2.5</td>\n",
       "      <td>0.80</td>\n",
       "      <td>1</td>\n",
       "    </tr>\n",
       "    <tr>\n",
       "      <th>143</th>\n",
       "      <td>30</td>\n",
       "      <td>Male</td>\n",
       "      <td>1.6</td>\n",
       "      <td>0.4</td>\n",
       "      <td>332</td>\n",
       "      <td>84</td>\n",
       "      <td>139</td>\n",
       "      <td>5.6</td>\n",
       "      <td>2.7</td>\n",
       "      <td>0.90</td>\n",
       "      <td>1</td>\n",
       "    </tr>\n",
       "    <tr>\n",
       "      <th>158</th>\n",
       "      <td>72</td>\n",
       "      <td>Male</td>\n",
       "      <td>0.7</td>\n",
       "      <td>0.1</td>\n",
       "      <td>196</td>\n",
       "      <td>20</td>\n",
       "      <td>35</td>\n",
       "      <td>5.8</td>\n",
       "      <td>2.0</td>\n",
       "      <td>0.50</td>\n",
       "      <td>1</td>\n",
       "    </tr>\n",
       "    <tr>\n",
       "      <th>164</th>\n",
       "      <td>39</td>\n",
       "      <td>Male</td>\n",
       "      <td>1.9</td>\n",
       "      <td>0.9</td>\n",
       "      <td>180</td>\n",
       "      <td>42</td>\n",
       "      <td>62</td>\n",
       "      <td>7.4</td>\n",
       "      <td>4.3</td>\n",
       "      <td>1.38</td>\n",
       "      <td>1</td>\n",
       "    </tr>\n",
       "    <tr>\n",
       "      <th>174</th>\n",
       "      <td>31</td>\n",
       "      <td>Male</td>\n",
       "      <td>0.6</td>\n",
       "      <td>0.1</td>\n",
       "      <td>175</td>\n",
       "      <td>48</td>\n",
       "      <td>34</td>\n",
       "      <td>6.0</td>\n",
       "      <td>3.7</td>\n",
       "      <td>1.60</td>\n",
       "      <td>1</td>\n",
       "    </tr>\n",
       "    <tr>\n",
       "      <th>201</th>\n",
       "      <td>49</td>\n",
       "      <td>Male</td>\n",
       "      <td>0.6</td>\n",
       "      <td>0.1</td>\n",
       "      <td>218</td>\n",
       "      <td>50</td>\n",
       "      <td>53</td>\n",
       "      <td>5.0</td>\n",
       "      <td>2.4</td>\n",
       "      <td>0.90</td>\n",
       "      <td>1</td>\n",
       "    </tr>\n",
       "  </tbody>\n",
       "</table>\n",
       "</div>"
      ],
      "text/plain": [
       "     Age  Gender  TB Total Bilirubin  DB Direct Bilirubin  \\\n",
       "19    40  Female                 0.9                  0.3   \n",
       "26    34    Male                 4.1                  2.0   \n",
       "34    38  Female                 2.6                  1.2   \n",
       "55    42    Male                 8.9                  4.5   \n",
       "62    58    Male                 1.0                  0.5   \n",
       "106   36    Male                 5.3                  2.3   \n",
       "108   36    Male                 0.8                  0.2   \n",
       "138   18    Male                 0.8                  0.2   \n",
       "143   30    Male                 1.6                  0.4   \n",
       "158   72    Male                 0.7                  0.1   \n",
       "164   39    Male                 1.9                  0.9   \n",
       "174   31    Male                 0.6                  0.1   \n",
       "201   49    Male                 0.6                  0.1   \n",
       "\n",
       "     Alkphos Alkaline Phosphotase  Sgpt Alamine Aminotransferase  \\\n",
       "19                            293                            232   \n",
       "26                            289                            875   \n",
       "34                            410                             59   \n",
       "55                            272                             31   \n",
       "62                            158                             37   \n",
       "106                           145                             32   \n",
       "108                           158                             29   \n",
       "138                           282                             72   \n",
       "143                           332                             84   \n",
       "158                           196                             20   \n",
       "164                           180                             42   \n",
       "174                           175                             48   \n",
       "201                           218                             50   \n",
       "\n",
       "     Sgot Aspartate Aminotransferase  TP Total Protiens  ALB Albumin  \\\n",
       "19                               245                6.8          3.1   \n",
       "26                               731                5.0          2.7   \n",
       "34                                57                5.6          3.0   \n",
       "55                                61                5.8          2.0   \n",
       "62                                43                7.2          3.6   \n",
       "106                               92                5.1          2.6   \n",
       "108                               39                6.0          2.2   \n",
       "138                              140                5.5          2.5   \n",
       "143                              139                5.6          2.7   \n",
       "158                               35                5.8          2.0   \n",
       "164                               62                7.4          4.3   \n",
       "174                               34                6.0          3.7   \n",
       "201                               53                5.0          2.4   \n",
       "\n",
       "     A/G Ratio Albumin / Globulin Ratio  Class  \n",
       "19                                 0.80      1  \n",
       "26                                 1.10      1  \n",
       "34                                 0.80      2  \n",
       "55                                 0.50      1  \n",
       "62                                 1.00      1  \n",
       "106                                1.00      2  \n",
       "108                                0.50      2  \n",
       "138                                0.80      1  \n",
       "143                                0.90      1  \n",
       "158                                0.50      1  \n",
       "164                                1.38      1  \n",
       "174                                1.60      1  \n",
       "201                                0.90      1  "
      ]
     },
     "execution_count": 9,
     "metadata": {},
     "output_type": "execute_result"
    }
   ],
   "source": [
    "df[df.duplicated()]"
   ]
  },
  {
   "cell_type": "code",
   "execution_count": 10,
   "metadata": {},
   "outputs": [],
   "source": [
    "df.drop_duplicates(keep='first', inplace=True)"
   ]
  },
  {
   "cell_type": "code",
   "execution_count": 11,
   "metadata": {},
   "outputs": [
    {
     "data": {
      "text/plain": [
       "(566, 11)"
      ]
     },
     "execution_count": 11,
     "metadata": {},
     "output_type": "execute_result"
    }
   ],
   "source": [
    "df.shape"
   ]
  },
  {
   "cell_type": "markdown",
   "metadata": {},
   "source": [
    "## Task 4 Encoding categorical attributes"
   ]
  },
  {
   "cell_type": "code",
   "execution_count": 12,
   "metadata": {},
   "outputs": [],
   "source": [
    "# Convert categorical data in 'Gender' column to numerical\n",
    "# df['Gender'] = df['Gender'].map({'Male': 0, 'Female': 1})\n",
    "enc = OneHotEncoder(handle_unknown='ignore', sparse_output=False)\n",
    "\n",
    "# encodes and replaces the original values on the dataframe\n",
    "values = enc.fit_transform(df.loc[:, ['Gender']])\n",
    "\n",
    "df['Gender'] = values\n"
   ]
  },
  {
   "cell_type": "code",
   "execution_count": 13,
   "metadata": {},
   "outputs": [
    {
     "name": "stdout",
     "output_type": "stream",
     "text": [
      "<class 'pandas.core.frame.DataFrame'>\n",
      "Index: 566 entries, 0 to 582\n",
      "Data columns (total 11 columns):\n",
      " #   Column                              Non-Null Count  Dtype  \n",
      "---  ------                              --------------  -----  \n",
      " 0   Age                                 566 non-null    int64  \n",
      " 1   Gender                              566 non-null    float64\n",
      " 2   TB Total Bilirubin                  566 non-null    float64\n",
      " 3   DB Direct Bilirubin                 566 non-null    float64\n",
      " 4   Alkphos Alkaline Phosphotase        566 non-null    int64  \n",
      " 5   Sgpt Alamine Aminotransferase       566 non-null    int64  \n",
      " 6   Sgot Aspartate Aminotransferase     566 non-null    int64  \n",
      " 7   TP Total Protiens                   566 non-null    float64\n",
      " 8   ALB Albumin                         566 non-null    float64\n",
      " 9   A/G Ratio Albumin / Globulin Ratio  566 non-null    float64\n",
      " 10  Class                               566 non-null    int64  \n",
      "dtypes: float64(6), int64(5)\n",
      "memory usage: 53.1 KB\n"
     ]
    }
   ],
   "source": [
    "df.info()"
   ]
  },
  {
   "cell_type": "markdown",
   "metadata": {},
   "source": [
    "## Task 2"
   ]
  },
  {
   "cell_type": "code",
   "execution_count": 14,
   "metadata": {},
   "outputs": [],
   "source": [
    "y = df['Class']\n",
    "X = df.drop(columns=['Class'])"
   ]
  },
  {
   "cell_type": "markdown",
   "metadata": {},
   "source": [
    "## Task 3"
   ]
  },
  {
   "cell_type": "code",
   "execution_count": 15,
   "metadata": {},
   "outputs": [
    {
     "name": "stdout",
     "output_type": "stream",
     "text": [
      "Average accuracy of DecisionTreeClassifier: 0.6228070175438598\n"
     ]
    }
   ],
   "source": [
    "accuracy_scores = []\n",
    "for seed in range(10):\n",
    "    X_train, X_test, y_train, y_test = train_test_split(X, y, test_size=0.2, random_state=seed)\n",
    "    model = DecisionTreeClassifier(random_state=seed)\n",
    "    model.fit(X_train, y_train)\n",
    "    predictions = model.predict(X_test)\n",
    "    accuracy_scores.append(accuracy_score(y_test, predictions))\n",
    "\n",
    "decision_tree_avg_accuracy = sum(accuracy_scores) / len(accuracy_scores)\n",
    "print(f\"Average accuracy of DecisionTreeClassifier: {decision_tree_avg_accuracy}\")"
   ]
  },
  {
   "cell_type": "markdown",
   "metadata": {},
   "source": [
    "## Task 5"
   ]
  },
  {
   "cell_type": "code",
   "execution_count": 16,
   "metadata": {},
   "outputs": [
    {
     "name": "stdout",
     "output_type": "stream",
     "text": [
      "Average accuracy of RandomForestClassifier: 0.6903508771929824\n",
      "RandomForestClassifier performed better than DecisionTreeClassifier.\n"
     ]
    }
   ],
   "source": [
    "rf_accuracy_scores = []\n",
    "for seed in range(10):\n",
    "    X_train, X_test, y_train, y_test = train_test_split(X, y, test_size=0.2, random_state=seed)\n",
    "    rf_model = RandomForestClassifier(random_state=seed)\n",
    "    rf_model.fit(X_train, y_train)\n",
    "    rf_predictions = rf_model.predict(X_test)\n",
    "    rf_accuracy_scores.append(accuracy_score(y_test, rf_predictions))\n",
    "\n",
    "random_forest_avg_accuracy = sum(rf_accuracy_scores) / len(rf_accuracy_scores)\n",
    "print(f\"Average accuracy of RandomForestClassifier: {random_forest_avg_accuracy}\")\n",
    "\n",
    "# Compare DecisionTree and RandomForest\n",
    "print(f\"RandomForestClassifier performed {'better' if random_forest_avg_accuracy > decision_tree_avg_accuracy else 'worse'} than DecisionTreeClassifier.\")\n"
   ]
  },
  {
   "cell_type": "markdown",
   "metadata": {},
   "source": [
    "## Task 4"
   ]
  },
  {
   "cell_type": "code",
   "execution_count": 17,
   "metadata": {},
   "outputs": [
    {
     "name": "stdout",
     "output_type": "stream",
     "text": [
      "Accuracy of Gender prediction model: 0.7368421052631579\n"
     ]
    }
   ],
   "source": [
    "X = df.drop(columns=['Gender'])\n",
    "y = df['Gender']\n",
    "\n",
    "X_train_gender, X_test_gender, y_train_gender, y_test_gender = train_test_split(X, y, test_size=0.2, random_state=0)\n",
    "gender_model = DecisionTreeClassifier(random_state=0)\n",
    "gender_model.fit(X_train_gender, y_train_gender)\n",
    "gender_predictions = gender_model.predict(X_test_gender)\n",
    "\n",
    "gender_accuracy = accuracy_score(y_test_gender, gender_predictions)\n",
    "print(f\"Accuracy of Gender prediction model: {gender_accuracy}\")"
   ]
  }
 ],
 "metadata": {
  "kernelspec": {
   "display_name": "Python 3 (ipykernel)",
   "language": "python",
   "name": "python3"
  }
 },
 "nbformat": 4,
 "nbformat_minor": 2
}
