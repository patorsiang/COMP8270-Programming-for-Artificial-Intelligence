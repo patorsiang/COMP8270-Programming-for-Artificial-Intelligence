{
 "cells": [
  {
   "cell_type": "markdown",
   "metadata": {},
   "source": [
    "# Class 8"
   ]
  },
  {
   "cell_type": "markdown",
   "metadata": {},
   "source": [
    "## library"
   ]
  },
  {
   "cell_type": "code",
   "execution_count": 1,
   "metadata": {},
   "outputs": [],
   "source": [
    "import pandas as pd"
   ]
  },
  {
   "cell_type": "markdown",
   "metadata": {},
   "source": [
    "## load data"
   ]
  },
  {
   "cell_type": "code",
   "execution_count": 2,
   "metadata": {},
   "outputs": [],
   "source": [
    "data = pd.read_csv(\"http://raptor.kent.ac.uk/~ds756/data/heart.csv\")"
   ]
  },
  {
   "cell_type": "code",
   "execution_count": 3,
   "metadata": {},
   "outputs": [
    {
     "name": "stdout",
     "output_type": "stream",
     "text": [
      "<class 'pandas.core.frame.DataFrame'>\n",
      "RangeIndex: 918 entries, 0 to 917\n",
      "Data columns (total 12 columns):\n",
      " #   Column          Non-Null Count  Dtype  \n",
      "---  ------          --------------  -----  \n",
      " 0   Age             918 non-null    int64  \n",
      " 1   Sex             918 non-null    object \n",
      " 2   ChestPainType   918 non-null    object \n",
      " 3   RestingBP       918 non-null    int64  \n",
      " 4   Cholesterol     918 non-null    int64  \n",
      " 5   FastingBS       918 non-null    int64  \n",
      " 6   RestingECG      918 non-null    object \n",
      " 7   MaxHR           918 non-null    int64  \n",
      " 8   ExerciseAngina  918 non-null    object \n",
      " 9   Oldpeak         918 non-null    float64\n",
      " 10  ST_Slope        918 non-null    object \n",
      " 11  HeartDisease    918 non-null    int64  \n",
      "dtypes: float64(1), int64(6), object(5)\n",
      "memory usage: 86.2+ KB\n"
     ]
    }
   ],
   "source": [
    "# How many rows does it have?\n",
    "# How many features does it have?\n",
    "data.info()"
   ]
  },
  {
   "cell_type": "markdown",
   "metadata": {},
   "source": [
    "- How many rows does it have? **918**\n",
    "- How many features does it have? **12**\n",
    "- How many features are of type “int64”? **6**"
   ]
  },
  {
   "cell_type": "code",
   "execution_count": 4,
   "metadata": {},
   "outputs": [
    {
     "data": {
      "text/html": [
       "<div>\n",
       "<style scoped>\n",
       "    .dataframe tbody tr th:only-of-type {\n",
       "        vertical-align: middle;\n",
       "    }\n",
       "\n",
       "    .dataframe tbody tr th {\n",
       "        vertical-align: top;\n",
       "    }\n",
       "\n",
       "    .dataframe thead th {\n",
       "        text-align: right;\n",
       "    }\n",
       "</style>\n",
       "<table border=\"1\" class=\"dataframe\">\n",
       "  <thead>\n",
       "    <tr style=\"text-align: right;\">\n",
       "      <th></th>\n",
       "      <th>Age</th>\n",
       "      <th>RestingBP</th>\n",
       "      <th>Cholesterol</th>\n",
       "      <th>FastingBS</th>\n",
       "      <th>MaxHR</th>\n",
       "      <th>Oldpeak</th>\n",
       "      <th>HeartDisease</th>\n",
       "    </tr>\n",
       "  </thead>\n",
       "  <tbody>\n",
       "    <tr>\n",
       "      <th>count</th>\n",
       "      <td>918.000000</td>\n",
       "      <td>918.000000</td>\n",
       "      <td>918.000000</td>\n",
       "      <td>918.000000</td>\n",
       "      <td>918.000000</td>\n",
       "      <td>918.000000</td>\n",
       "      <td>918.000000</td>\n",
       "    </tr>\n",
       "    <tr>\n",
       "      <th>mean</th>\n",
       "      <td>53.510893</td>\n",
       "      <td>132.396514</td>\n",
       "      <td>198.799564</td>\n",
       "      <td>0.233115</td>\n",
       "      <td>136.809368</td>\n",
       "      <td>0.887364</td>\n",
       "      <td>0.553377</td>\n",
       "    </tr>\n",
       "    <tr>\n",
       "      <th>std</th>\n",
       "      <td>9.432617</td>\n",
       "      <td>18.514154</td>\n",
       "      <td>109.384145</td>\n",
       "      <td>0.423046</td>\n",
       "      <td>25.460334</td>\n",
       "      <td>1.066570</td>\n",
       "      <td>0.497414</td>\n",
       "    </tr>\n",
       "    <tr>\n",
       "      <th>min</th>\n",
       "      <td>28.000000</td>\n",
       "      <td>0.000000</td>\n",
       "      <td>0.000000</td>\n",
       "      <td>0.000000</td>\n",
       "      <td>60.000000</td>\n",
       "      <td>-2.600000</td>\n",
       "      <td>0.000000</td>\n",
       "    </tr>\n",
       "    <tr>\n",
       "      <th>25%</th>\n",
       "      <td>47.000000</td>\n",
       "      <td>120.000000</td>\n",
       "      <td>173.250000</td>\n",
       "      <td>0.000000</td>\n",
       "      <td>120.000000</td>\n",
       "      <td>0.000000</td>\n",
       "      <td>0.000000</td>\n",
       "    </tr>\n",
       "    <tr>\n",
       "      <th>50%</th>\n",
       "      <td>54.000000</td>\n",
       "      <td>130.000000</td>\n",
       "      <td>223.000000</td>\n",
       "      <td>0.000000</td>\n",
       "      <td>138.000000</td>\n",
       "      <td>0.600000</td>\n",
       "      <td>1.000000</td>\n",
       "    </tr>\n",
       "    <tr>\n",
       "      <th>75%</th>\n",
       "      <td>60.000000</td>\n",
       "      <td>140.000000</td>\n",
       "      <td>267.000000</td>\n",
       "      <td>0.000000</td>\n",
       "      <td>156.000000</td>\n",
       "      <td>1.500000</td>\n",
       "      <td>1.000000</td>\n",
       "    </tr>\n",
       "    <tr>\n",
       "      <th>max</th>\n",
       "      <td>77.000000</td>\n",
       "      <td>200.000000</td>\n",
       "      <td>603.000000</td>\n",
       "      <td>1.000000</td>\n",
       "      <td>202.000000</td>\n",
       "      <td>6.200000</td>\n",
       "      <td>1.000000</td>\n",
       "    </tr>\n",
       "  </tbody>\n",
       "</table>\n",
       "</div>"
      ],
      "text/plain": [
       "              Age   RestingBP  Cholesterol   FastingBS       MaxHR  \\\n",
       "count  918.000000  918.000000   918.000000  918.000000  918.000000   \n",
       "mean    53.510893  132.396514   198.799564    0.233115  136.809368   \n",
       "std      9.432617   18.514154   109.384145    0.423046   25.460334   \n",
       "min     28.000000    0.000000     0.000000    0.000000   60.000000   \n",
       "25%     47.000000  120.000000   173.250000    0.000000  120.000000   \n",
       "50%     54.000000  130.000000   223.000000    0.000000  138.000000   \n",
       "75%     60.000000  140.000000   267.000000    0.000000  156.000000   \n",
       "max     77.000000  200.000000   603.000000    1.000000  202.000000   \n",
       "\n",
       "          Oldpeak  HeartDisease  \n",
       "count  918.000000    918.000000  \n",
       "mean     0.887364      0.553377  \n",
       "std      1.066570      0.497414  \n",
       "min     -2.600000      0.000000  \n",
       "25%      0.000000      0.000000  \n",
       "50%      0.600000      1.000000  \n",
       "75%      1.500000      1.000000  \n",
       "max      6.200000      1.000000  "
      ]
     },
     "execution_count": 4,
     "metadata": {},
     "output_type": "execute_result"
    }
   ],
   "source": [
    "# What is the mean Oldpeak?:\n",
    "# What is the mean RestingBP?\n",
    "# What is the mean Age?\n",
    "\n",
    "data.describe()"
   ]
  },
  {
   "cell_type": "markdown",
   "metadata": {},
   "source": [
    "- What is the mean Oldpeak? **0.887364**\n",
    "- What is the mean RestingBP? **132.396514**\n",
    "- What is the mean Age? **53.510893**"
   ]
  },
  {
   "cell_type": "code",
   "execution_count": 5,
   "metadata": {},
   "outputs": [
    {
     "data": {
      "text/plain": [
       "55.33769063180828"
      ]
     },
     "execution_count": 5,
     "metadata": {},
     "output_type": "execute_result"
    }
   ],
   "source": [
    "# What percentage of the cases developed heart disease\n",
    "heart_cases = data[\"HeartDisease\"].sum()\n",
    "percentage_heart_cases = (heart_cases / data.shape[0]) * 100\n",
    "percentage_heart_cases"
   ]
  },
  {
   "cell_type": "markdown",
   "metadata": {},
   "source": [
    "- What percentage of the cases developed heart disease?: **55.33769063180828**"
   ]
  },
  {
   "cell_type": "markdown",
   "metadata": {},
   "source": [
    "## Index the age feature. "
   ]
  },
  {
   "cell_type": "code",
   "execution_count": 6,
   "metadata": {},
   "outputs": [],
   "source": [
    "# index the age feature\n",
    "data.set_index('Age', inplace=True)"
   ]
  },
  {
   "cell_type": "markdown",
   "metadata": {},
   "source": [
    "## Create a subset dataframe containing only the data of people in their  40’s."
   ]
  },
  {
   "cell_type": "code",
   "execution_count": 7,
   "metadata": {},
   "outputs": [
    {
     "data": {
      "text/html": [
       "<div>\n",
       "<style scoped>\n",
       "    .dataframe tbody tr th:only-of-type {\n",
       "        vertical-align: middle;\n",
       "    }\n",
       "\n",
       "    .dataframe tbody tr th {\n",
       "        vertical-align: top;\n",
       "    }\n",
       "\n",
       "    .dataframe thead th {\n",
       "        text-align: right;\n",
       "    }\n",
       "</style>\n",
       "<table border=\"1\" class=\"dataframe\">\n",
       "  <thead>\n",
       "    <tr style=\"text-align: right;\">\n",
       "      <th></th>\n",
       "      <th>RestingBP</th>\n",
       "      <th>Cholesterol</th>\n",
       "      <th>FastingBS</th>\n",
       "      <th>MaxHR</th>\n",
       "      <th>Oldpeak</th>\n",
       "      <th>HeartDisease</th>\n",
       "    </tr>\n",
       "  </thead>\n",
       "  <tbody>\n",
       "    <tr>\n",
       "      <th>count</th>\n",
       "      <td>211.000000</td>\n",
       "      <td>211.000000</td>\n",
       "      <td>211.000000</td>\n",
       "      <td>211.000000</td>\n",
       "      <td>211.000000</td>\n",
       "      <td>211.000000</td>\n",
       "    </tr>\n",
       "    <tr>\n",
       "      <th>mean</th>\n",
       "      <td>127.355450</td>\n",
       "      <td>218.805687</td>\n",
       "      <td>0.123223</td>\n",
       "      <td>145.763033</td>\n",
       "      <td>0.581043</td>\n",
       "      <td>0.402844</td>\n",
       "    </tr>\n",
       "    <tr>\n",
       "      <th>std</th>\n",
       "      <td>15.749277</td>\n",
       "      <td>86.986344</td>\n",
       "      <td>0.329474</td>\n",
       "      <td>24.012313</td>\n",
       "      <td>0.916474</td>\n",
       "      <td>0.491636</td>\n",
       "    </tr>\n",
       "    <tr>\n",
       "      <th>min</th>\n",
       "      <td>95.000000</td>\n",
       "      <td>0.000000</td>\n",
       "      <td>0.000000</td>\n",
       "      <td>80.000000</td>\n",
       "      <td>-2.600000</td>\n",
       "      <td>0.000000</td>\n",
       "    </tr>\n",
       "    <tr>\n",
       "      <th>25%</th>\n",
       "      <td>118.000000</td>\n",
       "      <td>197.000000</td>\n",
       "      <td>0.000000</td>\n",
       "      <td>127.500000</td>\n",
       "      <td>0.000000</td>\n",
       "      <td>0.000000</td>\n",
       "    </tr>\n",
       "    <tr>\n",
       "      <th>50%</th>\n",
       "      <td>128.000000</td>\n",
       "      <td>233.000000</td>\n",
       "      <td>0.000000</td>\n",
       "      <td>146.000000</td>\n",
       "      <td>0.000000</td>\n",
       "      <td>0.000000</td>\n",
       "    </tr>\n",
       "    <tr>\n",
       "      <th>75%</th>\n",
       "      <td>139.000000</td>\n",
       "      <td>266.000000</td>\n",
       "      <td>0.000000</td>\n",
       "      <td>167.500000</td>\n",
       "      <td>1.000000</td>\n",
       "      <td>1.000000</td>\n",
       "    </tr>\n",
       "    <tr>\n",
       "      <th>max</th>\n",
       "      <td>180.000000</td>\n",
       "      <td>491.000000</td>\n",
       "      <td>1.000000</td>\n",
       "      <td>194.000000</td>\n",
       "      <td>3.600000</td>\n",
       "      <td>1.000000</td>\n",
       "    </tr>\n",
       "  </tbody>\n",
       "</table>\n",
       "</div>"
      ],
      "text/plain": [
       "        RestingBP  Cholesterol   FastingBS       MaxHR     Oldpeak  \\\n",
       "count  211.000000   211.000000  211.000000  211.000000  211.000000   \n",
       "mean   127.355450   218.805687    0.123223  145.763033    0.581043   \n",
       "std     15.749277    86.986344    0.329474   24.012313    0.916474   \n",
       "min     95.000000     0.000000    0.000000   80.000000   -2.600000   \n",
       "25%    118.000000   197.000000    0.000000  127.500000    0.000000   \n",
       "50%    128.000000   233.000000    0.000000  146.000000    0.000000   \n",
       "75%    139.000000   266.000000    0.000000  167.500000    1.000000   \n",
       "max    180.000000   491.000000    1.000000  194.000000    3.600000   \n",
       "\n",
       "       HeartDisease  \n",
       "count    211.000000  \n",
       "mean       0.402844  \n",
       "std        0.491636  \n",
       "min        0.000000  \n",
       "25%        0.000000  \n",
       "50%        0.000000  \n",
       "75%        1.000000  \n",
       "max        1.000000  "
      ]
     },
     "execution_count": 7,
     "metadata": {},
     "output_type": "execute_result"
    }
   ],
   "source": [
    "subset_40s = data[(data.index >= 40) & (data.index < 50)]\n",
    "subset_40s.describe()"
   ]
  },
  {
   "cell_type": "code",
   "execution_count": 8,
   "metadata": {},
   "outputs": [
    {
     "name": "stdout",
     "output_type": "stream",
     "text": [
      "Mean Oldpeak for people in their 40s: 0.581042654028436\n",
      "Mean RestingBP for people in their 40s: 127.35545023696683\n",
      "Mean Age for people in their 40s: 44.796208530805686\n"
     ]
    }
   ],
   "source": [
    "# Compute the required means for the subset\n",
    "mean_oldpeak = subset_40s['Oldpeak'].mean()\n",
    "mean_restingbp = subset_40s['RestingBP'].mean()\n",
    "\n",
    "# Compute the mean of the Age by resetting the index temporarily\n",
    "mean_age = subset_40s.index.values.mean()\n",
    "\n",
    "print(f\"Mean Oldpeak for people in their 40s: {mean_oldpeak}\")\n",
    "print(f\"Mean RestingBP for people in their 40s: {mean_restingbp}\")\n",
    "print(f\"Mean Age for people in their 40s: {mean_age}\")"
   ]
  },
  {
   "cell_type": "markdown",
   "metadata": {},
   "source": [
    "With your 40’s subset compute:\n",
    "- mean Oldpeak: **0.581043**\n",
    "- mean RestingBP: **127.355450**\n",
    "- mean Age: **44.796208530805686**"
   ]
  },
  {
   "cell_type": "markdown",
   "metadata": {},
   "source": [
    "## Another way to answer"
   ]
  },
  {
   "cell_type": "code",
   "execution_count": 9,
   "metadata": {},
   "outputs": [
    {
     "name": "stdout",
     "output_type": "stream",
     "text": [
      "Number of rows: 918\n",
      "Number of features: 12\n",
      "Number of features of type 'int64': 6\n",
      "----------------------------------------------------------------\n",
      "Mean Oldpeak: 0.8873638344226579\n",
      "Mean RestingBP: 132.39651416122004\n",
      "Mean Age: 53.510893246187365\n",
      "----------------------------------------------------------------\n",
      "Percentage of cases that developed heart disease: 55.33769063180828%\n",
      "----------------------------------------------------------------\n",
      "Index([40, 49, 37, 48, 54, 39, 45, 54, 37, 48,\n",
      "       ...\n",
      "       63, 63, 41, 59, 57, 45, 68, 57, 57, 38],\n",
      "      dtype='int64', name='Age', length=918)\n",
      "----------------------------------------------------------------\n",
      "Number of people in between 40 and 49 years subset\n",
      "Mean Oldpeak for people in their 40's: 0.581042654028436\n",
      "Mean RestingBP for people in their 40's: 127.35545023696683\n",
      "Mean Age for people in their 40's: 44.796208530805686\n"
     ]
    }
   ],
   "source": [
    "# 1. read data\n",
    "df = pd.read_csv(\"http://raptor.kent.ac.uk/~ds756/data/heart.csv\")\n",
    "\n",
    "# 2. Number of rows\n",
    "num_rows = df.shape[0]\n",
    "print(f\"Number of rows: {num_rows}\")\n",
    "\n",
    "# 3. Number of features\n",
    "num_features = df.shape[1]\n",
    "print(f\"Number of features: {num_features}\")\n",
    "\n",
    "# 4. Number of features of type 'int64'\n",
    "num_int64_features = df.select_dtypes(include=['int64']).shape[1]\n",
    "print(f\"Number of features of type 'int64': {num_int64_features}\")\n",
    "print(\"----------------------------------------------------------------\")\n",
    "# 5. Mean of 'Oldpeak'\n",
    "mean_oldpeak = df['Oldpeak'].mean()\n",
    "print(f\"Mean Oldpeak: {mean_oldpeak}\")\n",
    "\n",
    "# 6. Mean of 'RestingBP'\n",
    "mean_resting_bp = df['RestingBP'].mean()\n",
    "print(f\"Mean RestingBP: {mean_resting_bp}\")\n",
    "\n",
    "# 7. Mean of 'Age'\n",
    "mean_age = df['Age'].mean()\n",
    "print(f\"Mean Age: {mean_age}\")\n",
    "print(\"----------------------------------------------------------------\")\n",
    "# 8. Percentage of cases that developed heart disease\n",
    "percentage_heart_disease = (df['HeartDisease'].sum() / num_rows) * 100\n",
    "print(f\"Percentage of cases that developed heart disease: {percentage_heart_disease}%\")\n",
    "\n",
    "print(\"----------------------------------------------------------------\")\n",
    "# 9. Index the 'Age' feature\n",
    "df.set_index('Age', inplace=True)\n",
    "num_features = df.shape[1]\n",
    "print(df.index)  # Displaying the index after setting it to 'Age'\n",
    "print(\"----------------------------------------------------------------\")\n",
    "# 10. Create a subset dataframe containing only the data of people in their 40's\n",
    "df_40s = df.loc[(df.index >= 40) & (df.index < 50)]\n",
    "\n",
    "print(\"Number of people in between 40 and 49 years subset\")\n",
    "# a. Mean Oldpeak for people in their 40's\n",
    "mean_oldpeak_40s = df_40s['Oldpeak'].mean()\n",
    "print(f\"Mean Oldpeak for people in their 40's: {mean_oldpeak_40s}\")\n",
    "\n",
    "# b. Mean RestingBP for people in their 40's\n",
    "mean_resting_bp_40s = df_40s['RestingBP'].mean()\n",
    "print(f\"Mean RestingBP for people in their 40's: {mean_resting_bp_40s}\")\n",
    "\n",
    "# c. Mean Age for people in their 40's\n",
    "mean_age_40s = df_40s.index.values.mean()\n",
    "print(f\"Mean Age for people in their 40's: {mean_age_40s}\")"
   ]
  },
  {
   "cell_type": "code",
   "execution_count": null,
   "metadata": {},
   "outputs": [],
   "source": []
  }
 ],
 "metadata": {
  "kernelspec": {
   "display_name": "Python 3 (ipykernel)",
   "language": "python",
   "name": "python3"
  },
  "language_info": {
   "codemirror_mode": {
    "name": "ipython",
    "version": 3
   },
   "file_extension": ".py",
   "mimetype": "text/x-python",
   "name": "python",
   "nbconvert_exporter": "python",
   "pygments_lexer": "ipython3",
   "version": "3.10.12"
  }
 },
 "nbformat": 4,
 "nbformat_minor": 2
}
