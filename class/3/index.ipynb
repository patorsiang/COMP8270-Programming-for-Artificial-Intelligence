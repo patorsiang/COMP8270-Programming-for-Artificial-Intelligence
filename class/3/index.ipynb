{
 "cells": [
  {
   "cell_type": "markdown",
   "id": "692dcc17-c3fe-43f9-b011-122116d61dea",
   "metadata": {},
   "source": [
    "# Class 3"
   ]
  },
  {
   "cell_type": "markdown",
   "id": "f16c4cf9-7762-44c4-9003-15a42a81d539",
   "metadata": {},
   "source": [
    "## Task 1"
   ]
  },
  {
   "cell_type": "code",
   "execution_count": 1,
   "id": "43342bc6-74ae-474b-9422-5c281b4b27ab",
   "metadata": {},
   "outputs": [
    {
     "name": "stdout",
     "output_type": "stream",
     "text": [
      "{'J': ['Jim'], 'H': ['Hetty', 'Henry'], 'K': ['Kirsten'], 'T': ['Theo'], 'P': ['Paul']}\n"
     ]
    }
   ],
   "source": [
    "names = [\"Jim\", \"Hetty\", \"Kirsten\", \"Theo\", \"Henry\", \"Paul\"]\n",
    "grouped = {}\n",
    "\n",
    "\"\"\"\n",
    "dictionary grouping names based on the first letter\n",
    "\"H\" -> \"Henry\", \"Hetty\"\n",
    "\"J\" -> \"Jim\"\n",
    "\"K\" -> \"Kirsten\"\n",
    "\"P\" -> \"Paul\"\n",
    "\"T\" -> \"Theo\"\n",
    "\"\"\"\n",
    "\n",
    "for name in names:\n",
    "    first_letter = name[0]\n",
    "    if first_letter not in grouped:\n",
    "        grouped[first_letter] =  []\n",
    "    grouped[first_letter].append(name)\n",
    "\n",
    "print(grouped)"
   ]
  },
  {
   "cell_type": "markdown",
   "id": "dfb2f86d-7a9a-455c-b2d4-a9d62fb208cf",
   "metadata": {},
   "source": [
    "## Task 2"
   ]
  },
  {
   "cell_type": "code",
   "execution_count": 2,
   "id": "05fe12f5-9be3-4368-b97c-76569cb5ab76",
   "metadata": {},
   "outputs": [],
   "source": [
    "my_dict = {\"computer\" : \"apple\", \"model\" : \"macbook pro\", \"processor\" : \"M1 Pro\", \"year\" : 2021}"
   ]
  },
  {
   "cell_type": "code",
   "execution_count": 3,
   "id": "e67909e0-cbb0-4794-958f-0b515949fbe9",
   "metadata": {},
   "outputs": [
    {
     "name": "stdout",
     "output_type": "stream",
     "text": [
      "{'apple': 'computer', 'macbook pro': 'model', 'M1 Pro': 'processor', 2021: 'year'}\n"
     ]
    }
   ],
   "source": [
    "inverted_dict = {}\n",
    "\n",
    "for key, val in my_dict.items():\n",
    "    inverted_dict[val] = key\n",
    "\n",
    "print(inverted_dict)"
   ]
  },
  {
   "cell_type": "code",
   "execution_count": 4,
   "id": "f953d991-6674-4684-b198-1c779d29eb31",
   "metadata": {},
   "outputs": [
    {
     "name": "stdout",
     "output_type": "stream",
     "text": [
      "{'apple': 'computer', 'macbook pro': 'model', 'M1 Pro': 'processor', 2021: 'year'}\n"
     ]
    }
   ],
   "source": [
    "inverted_dict = {value: key for key, value in my_dict.items()}\n",
    "print(inverted_dict)"
   ]
  },
  {
   "cell_type": "markdown",
   "id": "98615cd8-460c-4e47-a93f-dd68510b570c",
   "metadata": {},
   "source": [
    "## Task 3"
   ]
  },
  {
   "cell_type": "code",
   "execution_count": 7,
   "id": "d5f0e7a4-710f-45d9-a4ba-7427265eccb5",
   "metadata": {},
   "outputs": [],
   "source": [
    "size = 10\n",
    "hash_map = [[] for _ in range(size)]\n",
    "\n",
    "def get_index (name):\n",
    "    # print(name, hash(name), hash(name) % size)\n",
    "    return hash(name) % size\n",
    "\n",
    "def add (name: str,  val: str):\n",
    "    key = get_index(name)\n",
    "    for m in hash_map[key]:\n",
    "        if name == m[0]:\n",
    "            pair = list(m)\n",
    "            pair[1] = \"kiwi\"\n",
    "            m = tuple(pair)\n",
    "            return\n",
    "    hash_map[key].append((name, val))\n",
    "\n",
    "def get (name: str) -> str:\n",
    "    key = get_index(name)\n",
    "    for m in hash_map[key]:\n",
    "        if name == m[0]:\n",
    "            return m[1]\n",
    "    return None"
   ]
  },
  {
   "cell_type": "code",
   "execution_count": 14,
   "id": "3ce32fdb-26d2-4e33-84a5-00ed100e4385",
   "metadata": {},
   "outputs": [
    {
     "name": "stdout",
     "output_type": "stream",
     "text": [
      "7943\n"
     ]
    }
   ],
   "source": [
    "my_dict = {\"alan\" : \"7943\",\n",
    "           \"pat\": \"375\", \"nack\": \"337\", \"test\": \"1234\", \"ben\": \"12334\", \"jamp\": \"1222\", \"boo\": \"12333\"\n",
    "          }\n",
    "keys = my_dict.keys()\n",
    "vals = list(my_dict.values())\n",
    "\n",
    "for index, val in enumerate(keys):\n",
    "    add(val, vals[index])\n",
    "\n",
    "print(get(\"alan\"))\n",
    "# print(get(\"boo\"))\n",
    "# print(get(\"ben\"))\n",
    "# print(get(\"good\"))"
   ]
  },
  {
   "cell_type": "code",
   "execution_count": 13,
   "id": "cbef5a7d-1e03-4880-bd42-34813470fefe",
   "metadata": {},
   "outputs": [
    {
     "data": {
      "text/plain": [
       "[[],\n",
       " [('alan', '7943'), ('nack', '337'), ('ben', '12334'), ('jamp', '1222')],\n",
       " [('test', '1234')],\n",
       " [],\n",
       " [],\n",
       " [],\n",
       " [],\n",
       " [],\n",
       " [],\n",
       " [('pat', '375'), ('boo', '12333')]]"
      ]
     },
     "execution_count": 13,
     "metadata": {},
     "output_type": "execute_result"
    }
   ],
   "source": [
    "hash_map"
   ]
  },
  {
   "cell_type": "code",
   "execution_count": 27,
   "id": "d44208ef-a30c-432f-be82-0d1a4a0f0c9e",
   "metadata": {},
   "outputs": [
    {
     "name": "stdout",
     "output_type": "stream",
     "text": [
      "3.10.12\n"
     ]
    }
   ],
   "source": [
    "from platform import python_version\n",
    "\n",
    "print(python_version())"
   ]
  },
  {
   "cell_type": "markdown",
   "id": "9a30b4b5-9a40-4a16-ae98-68a2d0cee4dd",
   "metadata": {},
   "source": [
    "### note"
   ]
  },
  {
   "cell_type": "markdown",
   "id": "1772d7f0-4e92-43f8-9c51-dc93645411e5",
   "metadata": {},
   "source": [
    "#### Why hash function in Python 3.3 returns different results between sessions"
   ]
  },
  {
   "cell_type": "markdown",
   "id": "41133149-8d88-440b-94c2-05f26f69f2f5",
   "metadata": {},
   "source": [
    "https://stackoverflow.com/questions/27522626/hash-function-in-python-3-3-returns-different-results-between-sessions"
   ]
  },
  {
   "cell_type": "code",
   "execution_count": null,
   "id": "029d2794-3845-4534-ba24-dae7ad8a5c7f",
   "metadata": {},
   "outputs": [],
   "source": []
  }
 ],
 "metadata": {
  "kernelspec": {
   "display_name": "Python 3 (ipykernel)",
   "language": "python",
   "name": "python3"
  },
  "language_info": {
   "codemirror_mode": {
    "name": "ipython",
    "version": 3
   },
   "file_extension": ".py",
   "mimetype": "text/x-python",
   "name": "python",
   "nbconvert_exporter": "python",
   "pygments_lexer": "ipython3",
   "version": "3.10.12"
  }
 },
 "nbformat": 4,
 "nbformat_minor": 5
}
