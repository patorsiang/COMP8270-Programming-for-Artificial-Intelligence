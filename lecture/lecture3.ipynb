{
 "cells": [
  {
   "cell_type": "markdown",
   "id": "cd911714-ac60-4567-bd1b-67017d8b63f9",
   "metadata": {},
   "source": [
    "# Lecture 3"
   ]
  },
  {
   "cell_type": "markdown",
   "id": "51f7e8da-34ff-4e75-b158-7a3fa7b48b9c",
   "metadata": {},
   "source": [
    "## Comprehensions"
   ]
  },
  {
   "cell_type": "markdown",
   "id": "1af4d11d-c218-4bb7-87e6-392894ed5588",
   "metadata": {},
   "source": [
    "### option 1"
   ]
  },
  {
   "cell_type": "code",
   "execution_count": 4,
   "id": "b36b87a6-5120-490d-be65-01bc8a5402eb",
   "metadata": {},
   "outputs": [
    {
     "name": "stdout",
     "output_type": "stream",
     "text": [
      "['BAT', 'CAR', 'DOVE', 'PYTHON']\n"
     ]
    }
   ],
   "source": [
    "strings = ['a', 'as', 'bat', 'car', 'dove', 'python'] \n",
    "result = []\n",
    "\n",
    "for s in strings:\n",
    "    if len(s) > 2:\n",
    "        result.append(s.upper())\n",
    "\n",
    "print(result)\n"
   ]
  },
  {
   "cell_type": "markdown",
   "id": "1ef0a1ed-b65b-4783-97e4-eb905d6529f5",
   "metadata": {},
   "source": [
    "### option 2"
   ]
  },
  {
   "cell_type": "markdown",
   "id": "a119fb9c-f0e7-48dc-8d88-30a17a18a438",
   "metadata": {},
   "source": [
    "### in List"
   ]
  },
  {
   "cell_type": "code",
   "execution_count": 8,
   "id": "9b26d777-91cb-4354-ae80-1f6863b8e1f5",
   "metadata": {},
   "outputs": [
    {
     "name": "stdout",
     "output_type": "stream",
     "text": [
      "['BAT', 'CAR', 'DOVE', 'PYTHON']\n"
     ]
    }
   ],
   "source": [
    "strings = ['a', 'as', 'bat', 'car', 'dove', 'python'] \n",
    "print([s.upper() for s in strings if len(s) > 2])"
   ]
  },
  {
   "cell_type": "code",
   "execution_count": 13,
   "id": "bb8f6cbd-d683-4c79-95e5-a301805e8e0c",
   "metadata": {},
   "outputs": [],
   "source": [
    "iterator = (s.upper() for s in strings if len(s)> 2)"
   ]
  },
  {
   "cell_type": "code",
   "execution_count": 19,
   "id": "46fa86e5-6ef9-473e-b6d3-423dcc8f6942",
   "metadata": {},
   "outputs": [
    {
     "name": "stdout",
     "output_type": "stream",
     "text": [
      "Done!\n"
     ]
    }
   ],
   "source": [
    "try: \n",
    "    print(next(iterator))\n",
    "except StopIteration:\n",
    "    print(\"Done!\")"
   ]
  },
  {
   "cell_type": "markdown",
   "id": "9250edcf-f418-41c9-811c-0f1d350562d7",
   "metadata": {},
   "source": [
    "### in Set"
   ]
  },
  {
   "cell_type": "code",
   "execution_count": 4,
   "id": "9e83de0f-5536-4369-8a6b-53a4c308ce27",
   "metadata": {},
   "outputs": [
    {
     "name": "stdout",
     "output_type": "stream",
     "text": [
      "{1, 2, 3, 4, 6}\n"
     ]
    }
   ],
   "source": [
    "strings = ['a', 'as', 'bat', 'car', 'dove', 'python'] \n",
    "unique_lengths = {len(s) for s in strings}\n",
    "print(unique_lengths)"
   ]
  },
  {
   "cell_type": "markdown",
   "id": "3550099c-d44f-4bfb-91d6-6e1e394a3858",
   "metadata": {},
   "source": [
    "### in dict"
   ]
  },
  {
   "cell_type": "code",
   "execution_count": 8,
   "id": "d36c7719-ad72-4f38-b163-840a784fb3de",
   "metadata": {},
   "outputs": [
    {
     "name": "stdout",
     "output_type": "stream",
     "text": [
      "{'a': 0, 'as': 1, 'bat': 2, 'car': 3, 'dove': 4, 'python': 5}\n"
     ]
    }
   ],
   "source": [
    "strings = ['a', 'as', 'bat', 'car', 'dove', 'python'] \n",
    "mapping = {value : index for index, value in enumerate(strings)}\n",
    "print(mapping)"
   ]
  },
  {
   "cell_type": "code",
   "execution_count": 8,
   "id": "402b5d97-47d4-42ac-bd31-21c55c2318cd",
   "metadata": {},
   "outputs": [
    {
     "data": {
      "text/plain": [
       "{'a': 0, 'as': 1, 'bat': 2, 'car': 3, 'dove': 4, 'python': 5}"
      ]
     },
     "execution_count": 8,
     "metadata": {},
     "output_type": "execute_result"
    }
   ],
   "source": [
    "mapping =  {value: index for index, value in zip (range(len(strings)), strings)} # using zip to build dict\n",
    "\n",
    "mapping"
   ]
  },
  {
   "cell_type": "code",
   "execution_count": 9,
   "id": "b3a96c70-05af-4cf9-b98f-cedda37c1269",
   "metadata": {},
   "outputs": [
    {
     "data": {
      "text/plain": [
       "2"
      ]
     },
     "execution_count": 9,
     "metadata": {},
     "output_type": "execute_result"
    }
   ],
   "source": [
    "mapping [\"bat\"]"
   ]
  },
  {
   "cell_type": "markdown",
   "id": "9d5b0c5e-4fbc-42ed-a359-30db22a8d8a0",
   "metadata": {},
   "source": [
    "### nested"
   ]
  },
  {
   "cell_type": "code",
   "execution_count": 10,
   "id": "8cb6b4ad-c14e-4633-8679-e03f8d7a1a5a",
   "metadata": {},
   "outputs": [],
   "source": [
    "# list of lists\n",
    "all_names = [['John', 'Emily', 'Michael', 'Mary', 'Steven'],['Maria', 'Juan', 'Javier', 'Natalia', 'Pilar']]\n",
    "# list of tuples\n",
    "some_tuples = [(1, 2, 3), (4, 5, 6), (7, 8, 9)]"
   ]
  },
  {
   "cell_type": "code",
   "execution_count": 2,
   "id": "085f697c-deb6-4509-93b3-495d08453c97",
   "metadata": {},
   "outputs": [
    {
     "name": "stdout",
     "output_type": "stream",
     "text": [
      "['Steven']\n"
     ]
    }
   ],
   "source": [
    "names_of_interest = [name for names in all_names\n",
    "                     for name in names if name.count('e') >= 2]\n",
    "print(names_of_interest)"
   ]
  },
  {
   "cell_type": "markdown",
   "id": "dc12ca92-55d7-4206-bc43-4443a5e2afc1",
   "metadata": {},
   "source": [
    "## slicing"
   ]
  },
  {
   "cell_type": "code",
   "execution_count": 12,
   "id": "09f3eded-05a8-41a2-b412-c87b0eb94087",
   "metadata": {},
   "outputs": [
    {
     "name": "stdout",
     "output_type": "stream",
     "text": [
      "[2, 3, 7, 5]\n"
     ]
    }
   ],
   "source": [
    "seq = [7, 2, 3, 7, 5, 6, 0, 1]\n",
    "print(seq[1:5])\n",
    "# [start: stop]"
   ]
  },
  {
   "cell_type": "code",
   "execution_count": 15,
   "id": "eca86a20-214c-4934-aa1f-b7c857f1ac3a",
   "metadata": {},
   "outputs": [
    {
     "name": "stdout",
     "output_type": "stream",
     "text": [
      "[7, 2, 3, 7, 5]\n",
      "[7, 5, 6, 0, 1]\n",
      "[5, 6, 0, 1]\n",
      "[3, 7, 5, 6]\n",
      "[]\n"
     ]
    }
   ],
   "source": [
    "print(seq[:5]) # [7, 2, 3, 7, 5] -> start = 1 <default>, stop = 5\n",
    "\n",
    "print(seq[3:]) # [7, 5, 6, 0, 1] -> start = 3, stop = end of the sequence <default>\n",
    "\n",
    "# 0 = start\n",
    "# -1 represents the last value of the sequence => reverse start it\n",
    "\n",
    "print(seq[-4:]) # [5, 6, 0, 1]\n",
    "\n",
    "# useless\n",
    "print(seq[-6:-2]) # [3, 7, 5, 6]\n",
    "\n",
    "print(seq[-1:-6]) # it's also not worked, if you want the list of last and circle to the 1 2, 3\n"
   ]
  },
  {
   "cell_type": "markdown",
   "id": "a2dcaf5a-2e5f-4956-b6e5-11b98801c7da",
   "metadata": {},
   "source": [
    "#### comparing with java"
   ]
  },
  {
   "cell_type": "markdown",
   "id": "b4c51e01-f283-41d6-83ca-269f259ad071",
   "metadata": {},
   "source": [
    "##### java\n",
    "```java\n",
    "int[] seq = {1, 2, 3, 4}; \n",
    "int last = seq[seq.length - 1];\n",
    "```\n",
    "\n",
    "##### python\n",
    "```python\n",
    "seq = [1, 2, 3, 4] \n",
    "last = seq[-1]\n",
    "```"
   ]
  },
  {
   "cell_type": "code",
   "execution_count": null,
   "id": "3a210a98-2bab-401e-acdb-7bc557e34639",
   "metadata": {},
   "outputs": [],
   "source": []
  }
 ],
 "metadata": {
  "kernelspec": {
   "display_name": "Python 3 (ipykernel)",
   "language": "python",
   "name": "python3"
  },
  "language_info": {
   "codemirror_mode": {
    "name": "ipython",
    "version": 3
   },
   "file_extension": ".py",
   "mimetype": "text/x-python",
   "name": "python",
   "nbconvert_exporter": "python",
   "pygments_lexer": "ipython3",
   "version": "3.10.12"
  }
 },
 "nbformat": 4,
 "nbformat_minor": 5
}
