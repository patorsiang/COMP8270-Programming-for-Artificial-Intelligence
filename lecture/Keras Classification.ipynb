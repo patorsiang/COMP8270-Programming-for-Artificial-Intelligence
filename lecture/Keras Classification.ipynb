{
 "cells": [
  {
   "cell_type": "code",
   "execution_count": 1,
   "id": "6936030e",
   "metadata": {},
   "outputs": [
    {
     "name": "stderr",
     "output_type": "stream",
     "text": [
      "2022-12-12 14:06:13.994354: W tensorflow/stream_executor/platform/default/dso_loader.cc:64] Could not load dynamic library 'libcudart.so.11.0'; dlerror: libcudart.so.11.0: cannot open shared object file: No such file or directory\n",
      "2022-12-12 14:06:13.994399: I tensorflow/stream_executor/cuda/cudart_stub.cc:29] Ignore above cudart dlerror if you do not have a GPU set up on your machine.\n"
     ]
    }
   ],
   "source": [
    "import pandas as pd\n",
    "from pandas.api.types import is_numeric_dtype\n",
    "\n",
    "from keras.models import Sequential\n",
    "from keras.layers import Dense\n",
    "from keras.wrappers.scikit_learn import KerasClassifier\n",
    "from keras.utils import np_utils\n",
    "\n",
    "from sklearn.preprocessing import LabelEncoder\n",
    "\n",
    "from numpy import array\n",
    "\n",
    "import matplotlib.pyplot as plt\n",
    "import time\n",
    "from statistics import mean as mean"
   ]
  },
  {
   "cell_type": "code",
   "execution_count": 2,
   "id": "4f8bd055",
   "metadata": {},
   "outputs": [],
   "source": [
    "from numpy.random import seed\n",
    "seed (3968)"
   ]
  },
  {
   "cell_type": "code",
   "execution_count": 3,
   "id": "b7baa74a",
   "metadata": {},
   "outputs": [
    {
     "data": {
      "text/plain": [
       "array(['setosa', 'versicolor', 'virginica'], dtype=object)"
      ]
     },
     "execution_count": 3,
     "metadata": {},
     "output_type": "execute_result"
    }
   ],
   "source": [
    "iris = pd.read_csv (\"http://raptor.kent.ac.uk/~ds756/Data/iris.csv\")\n",
    "Species = iris.Species.unique ()\n",
    "Species"
   ]
  },
  {
   "cell_type": "markdown",
   "id": "60f8f261",
   "metadata": {},
   "source": [
    "<p style=\"font-size:20px\">_____________________________________________________________________________________</p>\n",
    "<p style=\"font-size:20px\">Build a classifier for the iris dataset.</p>\n",
    "<p style=\"font-size:20px\">The first step, construct the training data.</p>"
   ]
  },
  {
   "cell_type": "code",
   "execution_count": 4,
   "id": "e151e2ba",
   "metadata": {},
   "outputs": [
    {
     "name": "stdout",
     "output_type": "stream",
     "text": [
      "-2.1316282072803005e-16\n",
      "-2.3684757858670006e-16\n",
      "-2.3684757858670006e-16\n",
      "-1.4210854715202004e-16\n"
     ]
    },
    {
     "data": {
      "text/html": [
       "<div>\n",
       "<style scoped>\n",
       "    .dataframe tbody tr th:only-of-type {\n",
       "        vertical-align: middle;\n",
       "    }\n",
       "\n",
       "    .dataframe tbody tr th {\n",
       "        vertical-align: top;\n",
       "    }\n",
       "\n",
       "    .dataframe thead th {\n",
       "        text-align: right;\n",
       "    }\n",
       "</style>\n",
       "<table border=\"1\" class=\"dataframe\">\n",
       "  <thead>\n",
       "    <tr style=\"text-align: right;\">\n",
       "      <th></th>\n",
       "      <th>Sepal_Length</th>\n",
       "      <th>Sepal_Width</th>\n",
       "      <th>Petal_Length</th>\n",
       "      <th>Petal_Width</th>\n",
       "    </tr>\n",
       "  </thead>\n",
       "  <tbody>\n",
       "    <tr>\n",
       "      <th>count</th>\n",
       "      <td>1.500000e+02</td>\n",
       "      <td>1.500000e+02</td>\n",
       "      <td>1.500000e+02</td>\n",
       "      <td>1.500000e+02</td>\n",
       "    </tr>\n",
       "    <tr>\n",
       "      <th>mean</th>\n",
       "      <td>-2.131628e-16</td>\n",
       "      <td>-2.368476e-16</td>\n",
       "      <td>-2.368476e-16</td>\n",
       "      <td>-1.421085e-16</td>\n",
       "    </tr>\n",
       "    <tr>\n",
       "      <th>std</th>\n",
       "      <td>4.026253e-01</td>\n",
       "      <td>3.246273e-01</td>\n",
       "      <td>5.618390e-01</td>\n",
       "      <td>5.860361e-01</td>\n",
       "    </tr>\n",
       "    <tr>\n",
       "      <th>min</th>\n",
       "      <td>-7.504052e-01</td>\n",
       "      <td>-7.874876e-01</td>\n",
       "      <td>-8.777849e-01</td>\n",
       "      <td>-8.452076e-01</td>\n",
       "    </tr>\n",
       "    <tr>\n",
       "      <th>25%</th>\n",
       "      <td>-3.614263e-01</td>\n",
       "      <td>-1.916584e-01</td>\n",
       "      <td>-6.868237e-01</td>\n",
       "      <td>-6.914403e-01</td>\n",
       "    </tr>\n",
       "    <tr>\n",
       "      <th>50%</th>\n",
       "      <td>-2.106969e-02</td>\n",
       "      <td>-4.270109e-02</td>\n",
       "      <td>1.884150e-01</td>\n",
       "      <td>7.739621e-02</td>\n",
       "    </tr>\n",
       "    <tr>\n",
       "      <th>75%</th>\n",
       "      <td>2.706645e-01</td>\n",
       "      <td>1.807349e-01</td>\n",
       "      <td>4.271165e-01</td>\n",
       "      <td>4.618145e-01</td>\n",
       "    </tr>\n",
       "    <tr>\n",
       "      <th>max</th>\n",
       "      <td>1.000000e+00</td>\n",
       "      <td>1.000000e+00</td>\n",
       "      <td>1.000000e+00</td>\n",
       "      <td>1.000000e+00</td>\n",
       "    </tr>\n",
       "  </tbody>\n",
       "</table>\n",
       "</div>"
      ],
      "text/plain": [
       "       Sepal_Length   Sepal_Width  Petal_Length   Petal_Width\n",
       "count  1.500000e+02  1.500000e+02  1.500000e+02  1.500000e+02\n",
       "mean  -2.131628e-16 -2.368476e-16 -2.368476e-16 -1.421085e-16\n",
       "std    4.026253e-01  3.246273e-01  5.618390e-01  5.860361e-01\n",
       "min   -7.504052e-01 -7.874876e-01 -8.777849e-01 -8.452076e-01\n",
       "25%   -3.614263e-01 -1.916584e-01 -6.868237e-01 -6.914403e-01\n",
       "50%   -2.106969e-02 -4.270109e-02  1.884150e-01  7.739621e-02\n",
       "75%    2.706645e-01  1.807349e-01  4.271165e-01  4.618145e-01\n",
       "max    1.000000e+00  1.000000e+00  1.000000e+00  1.000000e+00"
      ]
     },
     "execution_count": 4,
     "metadata": {},
     "output_type": "execute_result"
    }
   ],
   "source": [
    "# Pre-process our continuous features.\n",
    "#  1. Scale\n",
    "#  2. Translate\n",
    "\n",
    "data = iris\n",
    "data = data.drop (columns = \"Mono\")\n",
    "\n",
    "for u in data:\n",
    "    if is_numeric_dtype (data[u]):\n",
    "        data[u] -= data[u].mean ()            # -1 ≤ x ≤ 1, mean (data[u]) == 0.0\n",
    "        data[u] /= data[u].max ()             # 0 ≤ x ≤ 1\n",
    "        print (data[u].mean ())\n",
    "\n",
    "data.describe ()"
   ]
  },
  {
   "cell_type": "code",
   "execution_count": 5,
   "id": "74ae99a1",
   "metadata": {
    "scrolled": true
   },
   "outputs": [
    {
     "data": {
      "text/plain": [
       "array(['setosa', 'setosa', 'setosa', 'setosa', 'setosa', 'setosa',\n",
       "       'setosa', 'setosa', 'setosa', 'setosa', 'setosa', 'setosa',\n",
       "       'setosa', 'setosa', 'setosa', 'setosa', 'setosa', 'setosa',\n",
       "       'setosa', 'setosa', 'setosa', 'setosa', 'setosa', 'setosa',\n",
       "       'setosa', 'setosa', 'setosa', 'setosa', 'setosa', 'setosa',\n",
       "       'setosa', 'setosa', 'setosa', 'setosa', 'setosa', 'setosa',\n",
       "       'setosa', 'setosa', 'setosa', 'setosa', 'setosa', 'setosa',\n",
       "       'setosa', 'setosa', 'setosa', 'setosa', 'setosa', 'setosa',\n",
       "       'setosa', 'setosa', 'versicolor', 'versicolor', 'versicolor',\n",
       "       'versicolor', 'versicolor', 'versicolor', 'versicolor',\n",
       "       'versicolor', 'versicolor', 'versicolor', 'versicolor',\n",
       "       'versicolor', 'versicolor', 'versicolor', 'versicolor',\n",
       "       'versicolor', 'versicolor', 'versicolor', 'versicolor',\n",
       "       'versicolor', 'versicolor', 'versicolor', 'versicolor',\n",
       "       'versicolor', 'versicolor', 'versicolor', 'versicolor',\n",
       "       'versicolor', 'versicolor', 'versicolor', 'versicolor',\n",
       "       'versicolor', 'versicolor', 'versicolor', 'versicolor',\n",
       "       'versicolor', 'versicolor', 'versicolor', 'versicolor',\n",
       "       'versicolor', 'versicolor', 'versicolor', 'versicolor',\n",
       "       'versicolor', 'versicolor', 'versicolor', 'versicolor',\n",
       "       'versicolor', 'versicolor', 'versicolor', 'virginica', 'virginica',\n",
       "       'virginica', 'virginica', 'virginica', 'virginica', 'virginica',\n",
       "       'virginica', 'virginica', 'virginica', 'virginica', 'virginica',\n",
       "       'virginica', 'virginica', 'virginica', 'virginica', 'virginica',\n",
       "       'virginica', 'virginica', 'virginica', 'virginica', 'virginica',\n",
       "       'virginica', 'virginica', 'virginica', 'virginica', 'virginica',\n",
       "       'virginica', 'virginica', 'virginica', 'virginica', 'virginica',\n",
       "       'virginica', 'virginica', 'virginica', 'virginica', 'virginica',\n",
       "       'virginica', 'virginica', 'virginica', 'virginica', 'virginica',\n",
       "       'virginica', 'virginica', 'virginica', 'virginica', 'virginica',\n",
       "       'virginica', 'virginica', 'virginica'], dtype=object)"
      ]
     },
     "execution_count": 5,
     "metadata": {},
     "output_type": "execute_result"
    }
   ],
   "source": [
    "# Extract the values from the dataframe into an array\n",
    "dataset = data.values\n",
    "\n",
    "# Split off our input features\n",
    "x = dataset[:, 0:4].astype(float)\n",
    "\n",
    "# Split off our species\n",
    "Labels = dataset [:, 4] \n",
    "Labels"
   ]
  },
  {
   "cell_type": "markdown",
   "id": "a1d04a97",
   "metadata": {},
   "source": [
    "<p style=\"font-size:20px\">_____________________________________________________________________________________</p>\n",
    "\n",
    "<p style=\"font-size:20px\">Hot-encode our species.  This is done as follows:</p>\n",
    "\n",
    "<ul style=\"font-size:20px\">\n",
    "    <li>Discover all of the unique labels and assign them a unique integers.</li>  \n",
    "    <li>The integers corrospond to indices in the hot-encoded vector.</li>\n",
    "    <li>Build a vector of integers corrosponding to their labels.</li>\n",
    "    <li>Request Keras to build our ANN.</li>\n",
    "    <li>Build an array of vectors where only the correct entry has a 1.</li>\n",
    "</ul>"
   ]
  },
  {
   "cell_type": "code",
   "execution_count": 6,
   "id": "25379014",
   "metadata": {},
   "outputs": [],
   "source": [
    "\n",
    "Hot = LabelEncoder ()\n",
    "\n",
    "# 1. Find the unique labels and assign indices\n",
    "Hot.fit (Labels)                      \n",
    "\n",
    "# 2. Build a vector of indices\n",
    "HotLabels = Hot.transform (Labels)    \n",
    "\n",
    "# Finally, build the vectors (3)\n",
    "TrainingLabels = np_utils.to_categorical (HotLabels) "
   ]
  },
  {
   "cell_type": "code",
   "execution_count": 7,
   "id": "05463b7b",
   "metadata": {},
   "outputs": [
    {
     "data": {
      "text/plain": [
       "array([0, 0, 0, 0, 0, 0, 0, 0, 0, 0, 0, 0, 0, 0, 0, 0, 0, 0, 0, 0, 0, 0,\n",
       "       0, 0, 0, 0, 0, 0, 0, 0, 0, 0, 0, 0, 0, 0, 0, 0, 0, 0, 0, 0, 0, 0,\n",
       "       0, 0, 0, 0, 0, 0, 1, 1, 1, 1, 1, 1, 1, 1, 1, 1, 1, 1, 1, 1, 1, 1,\n",
       "       1, 1, 1, 1, 1, 1, 1, 1, 1, 1, 1, 1, 1, 1, 1, 1, 1, 1, 1, 1, 1, 1,\n",
       "       1, 1, 1, 1, 1, 1, 1, 1, 1, 1, 1, 1, 2, 2, 2, 2, 2, 2, 2, 2, 2, 2,\n",
       "       2, 2, 2, 2, 2, 2, 2, 2, 2, 2, 2, 2, 2, 2, 2, 2, 2, 2, 2, 2, 2, 2,\n",
       "       2, 2, 2, 2, 2, 2, 2, 2, 2, 2, 2, 2, 2, 2, 2, 2, 2, 2])"
      ]
     },
     "execution_count": 7,
     "metadata": {},
     "output_type": "execute_result"
    }
   ],
   "source": [
    "HotLabels\n"
   ]
  },
  {
   "cell_type": "code",
   "execution_count": 8,
   "id": "b75e85ac",
   "metadata": {
    "scrolled": true
   },
   "outputs": [
    {
     "data": {
      "text/plain": [
       "array([[1., 0., 0.],\n",
       "       [1., 0., 0.],\n",
       "       [1., 0., 0.],\n",
       "       [1., 0., 0.],\n",
       "       [1., 0., 0.],\n",
       "       [1., 0., 0.],\n",
       "       [1., 0., 0.],\n",
       "       [1., 0., 0.],\n",
       "       [1., 0., 0.],\n",
       "       [1., 0., 0.],\n",
       "       [1., 0., 0.],\n",
       "       [1., 0., 0.],\n",
       "       [1., 0., 0.],\n",
       "       [1., 0., 0.],\n",
       "       [1., 0., 0.],\n",
       "       [1., 0., 0.],\n",
       "       [1., 0., 0.],\n",
       "       [1., 0., 0.],\n",
       "       [1., 0., 0.],\n",
       "       [1., 0., 0.],\n",
       "       [1., 0., 0.],\n",
       "       [1., 0., 0.],\n",
       "       [1., 0., 0.],\n",
       "       [1., 0., 0.],\n",
       "       [1., 0., 0.],\n",
       "       [1., 0., 0.],\n",
       "       [1., 0., 0.],\n",
       "       [1., 0., 0.],\n",
       "       [1., 0., 0.],\n",
       "       [1., 0., 0.],\n",
       "       [1., 0., 0.],\n",
       "       [1., 0., 0.],\n",
       "       [1., 0., 0.],\n",
       "       [1., 0., 0.],\n",
       "       [1., 0., 0.],\n",
       "       [1., 0., 0.],\n",
       "       [1., 0., 0.],\n",
       "       [1., 0., 0.],\n",
       "       [1., 0., 0.],\n",
       "       [1., 0., 0.],\n",
       "       [1., 0., 0.],\n",
       "       [1., 0., 0.],\n",
       "       [1., 0., 0.],\n",
       "       [1., 0., 0.],\n",
       "       [1., 0., 0.],\n",
       "       [1., 0., 0.],\n",
       "       [1., 0., 0.],\n",
       "       [1., 0., 0.],\n",
       "       [1., 0., 0.],\n",
       "       [1., 0., 0.],\n",
       "       [0., 1., 0.],\n",
       "       [0., 1., 0.],\n",
       "       [0., 1., 0.],\n",
       "       [0., 1., 0.],\n",
       "       [0., 1., 0.],\n",
       "       [0., 1., 0.],\n",
       "       [0., 1., 0.],\n",
       "       [0., 1., 0.],\n",
       "       [0., 1., 0.],\n",
       "       [0., 1., 0.],\n",
       "       [0., 1., 0.],\n",
       "       [0., 1., 0.],\n",
       "       [0., 1., 0.],\n",
       "       [0., 1., 0.],\n",
       "       [0., 1., 0.],\n",
       "       [0., 1., 0.],\n",
       "       [0., 1., 0.],\n",
       "       [0., 1., 0.],\n",
       "       [0., 1., 0.],\n",
       "       [0., 1., 0.],\n",
       "       [0., 1., 0.],\n",
       "       [0., 1., 0.],\n",
       "       [0., 1., 0.],\n",
       "       [0., 1., 0.],\n",
       "       [0., 1., 0.],\n",
       "       [0., 1., 0.],\n",
       "       [0., 1., 0.],\n",
       "       [0., 1., 0.],\n",
       "       [0., 1., 0.],\n",
       "       [0., 1., 0.],\n",
       "       [0., 1., 0.],\n",
       "       [0., 1., 0.],\n",
       "       [0., 1., 0.],\n",
       "       [0., 1., 0.],\n",
       "       [0., 1., 0.],\n",
       "       [0., 1., 0.],\n",
       "       [0., 1., 0.],\n",
       "       [0., 1., 0.],\n",
       "       [0., 1., 0.],\n",
       "       [0., 1., 0.],\n",
       "       [0., 1., 0.],\n",
       "       [0., 1., 0.],\n",
       "       [0., 1., 0.],\n",
       "       [0., 1., 0.],\n",
       "       [0., 1., 0.],\n",
       "       [0., 1., 0.],\n",
       "       [0., 1., 0.],\n",
       "       [0., 1., 0.],\n",
       "       [0., 1., 0.],\n",
       "       [0., 1., 0.],\n",
       "       [0., 0., 1.],\n",
       "       [0., 0., 1.],\n",
       "       [0., 0., 1.],\n",
       "       [0., 0., 1.],\n",
       "       [0., 0., 1.],\n",
       "       [0., 0., 1.],\n",
       "       [0., 0., 1.],\n",
       "       [0., 0., 1.],\n",
       "       [0., 0., 1.],\n",
       "       [0., 0., 1.],\n",
       "       [0., 0., 1.],\n",
       "       [0., 0., 1.],\n",
       "       [0., 0., 1.],\n",
       "       [0., 0., 1.],\n",
       "       [0., 0., 1.],\n",
       "       [0., 0., 1.],\n",
       "       [0., 0., 1.],\n",
       "       [0., 0., 1.],\n",
       "       [0., 0., 1.],\n",
       "       [0., 0., 1.],\n",
       "       [0., 0., 1.],\n",
       "       [0., 0., 1.],\n",
       "       [0., 0., 1.],\n",
       "       [0., 0., 1.],\n",
       "       [0., 0., 1.],\n",
       "       [0., 0., 1.],\n",
       "       [0., 0., 1.],\n",
       "       [0., 0., 1.],\n",
       "       [0., 0., 1.],\n",
       "       [0., 0., 1.],\n",
       "       [0., 0., 1.],\n",
       "       [0., 0., 1.],\n",
       "       [0., 0., 1.],\n",
       "       [0., 0., 1.],\n",
       "       [0., 0., 1.],\n",
       "       [0., 0., 1.],\n",
       "       [0., 0., 1.],\n",
       "       [0., 0., 1.],\n",
       "       [0., 0., 1.],\n",
       "       [0., 0., 1.],\n",
       "       [0., 0., 1.],\n",
       "       [0., 0., 1.],\n",
       "       [0., 0., 1.],\n",
       "       [0., 0., 1.],\n",
       "       [0., 0., 1.],\n",
       "       [0., 0., 1.],\n",
       "       [0., 0., 1.],\n",
       "       [0., 0., 1.],\n",
       "       [0., 0., 1.],\n",
       "       [0., 0., 1.]], dtype=float32)"
      ]
     },
     "execution_count": 8,
     "metadata": {},
     "output_type": "execute_result"
    }
   ],
   "source": [
    "TrainingLabels"
   ]
  },
  {
   "cell_type": "markdown",
   "id": "c26902d4",
   "metadata": {},
   "source": [
    "<p style=\"font-size:20px\">_____________________________________________________________________________________</p>\n",
    "<p style=\"font-size:20px\">We have prepared our data, now specify the ANN</p>"
   ]
  },
  {
   "cell_type": "code",
   "execution_count": 9,
   "id": "e86ea2aa",
   "metadata": {},
   "outputs": [
    {
     "name": "stdout",
     "output_type": "stream",
     "text": [
      "Model: \"sequential\"\n",
      "_________________________________________________________________\n",
      " Layer (type)                Output Shape              Param #   \n",
      "=================================================================\n",
      " dense (Dense)               (None, 8)                 40        \n",
      "                                                                 \n",
      " dense_1 (Dense)             (None, 8)                 72        \n",
      "                                                                 \n",
      " dense_2 (Dense)             (None, 3)                 27        \n",
      "                                                                 \n",
      "=================================================================\n",
      "Total params: 139\n",
      "Trainable params: 139\n",
      "Non-trainable params: 0\n",
      "_________________________________________________________________\n"
     ]
    },
    {
     "name": "stderr",
     "output_type": "stream",
     "text": [
      "2022-12-12 14:06:15.672550: W tensorflow/stream_executor/platform/default/dso_loader.cc:64] Could not load dynamic library 'libcuda.so.1'; dlerror: libcuda.so.1: cannot open shared object file: No such file or directory\n",
      "2022-12-12 14:06:15.672620: W tensorflow/stream_executor/cuda/cuda_driver.cc:269] failed call to cuInit: UNKNOWN ERROR (303)\n",
      "2022-12-12 14:06:15.672645: I tensorflow/stream_executor/cuda/cuda_diagnostics.cc:156] kernel driver does not appear to be running on this host (jupyter): /proc/driver/nvidia/version does not exist\n",
      "2022-12-12 14:06:15.672879: I tensorflow/core/platform/cpu_feature_guard.cc:151] This TensorFlow binary is optimized with oneAPI Deep Neural Network Library (oneDNN) to use the following CPU instructions in performance-critical operations:  AVX2 AVX512F FMA\n",
      "To enable them in other operations, rebuild TensorFlow with the appropriate compiler flags.\n"
     ]
    }
   ],
   "source": [
    "# Keras container for our model\n",
    "model = Sequential()                                                 \n",
    "\n",
    "# input vector of dim 4, for our 4 predictors\n",
    "model.add (Dense (8, input_dim=4, activation='sigmoid'))    \n",
    "\n",
    "# Second layer, 8 neurons\n",
    "model.add (Dense(8, activation='relu'))                              \n",
    "\n",
    "# Softmax layer for classification\n",
    "model.add (Dense (3, activation='softmax'))                          \n",
    "\n",
    "# Having specified the topology we now build the ANN\n",
    "model.compile (loss='categorical_crossentropy', optimizer='adam')    \n",
    "\n",
    "model.summary ()"
   ]
  },
  {
   "cell_type": "markdown",
   "id": "40fe8d44",
   "metadata": {},
   "source": [
    "<p style=\"font-size:20px\">_____________________________________________________________________________________</p>\n",
    "<p style=\"font-size:20px\">We have our training data, and our ANN, we can train the ANN now.</p>"
   ]
  },
  {
   "cell_type": "code",
   "execution_count": 10,
   "id": "0401d66d",
   "metadata": {},
   "outputs": [
    {
     "data": {
      "text/plain": [
       "24.57672643661499"
      ]
     },
     "execution_count": 10,
     "metadata": {},
     "output_type": "execute_result"
    }
   ],
   "source": [
    "start_time = time.time ()\n",
    "\n",
    "h = model.fit (x, TrainingLabels, verbose=False, epochs = 5000)\n",
    "\n",
    "dt = time.time () - start_time\n",
    "dt"
   ]
  },
  {
   "cell_type": "code",
   "execution_count": 11,
   "id": "6d53a531",
   "metadata": {},
   "outputs": [
    {
     "data": {
      "image/png": "[encoded data removed]",
      "text/plain": [
       "<Figure size 432x288 with 1 Axes>"
      ]
     },
     "metadata": {
      "needs_background": "light"
     },
     "output_type": "display_data"
    }
   ],
   "source": [
    "def LossHistory (history):\n",
    "  plt.plot (history.history['loss'], label='Loss')\n",
    "  plt.xlabel ('Epoch')\n",
    "  plt.ylabel ('Loss')\n",
    "  plt.legend ()\n",
    "  plt.grid (True)\n",
    "  plt.show ()\n",
    "\n",
    "LossHistory (h)"
   ]
  },
  {
   "cell_type": "code",
   "execution_count": 12,
   "id": "4ef6fcee",
   "metadata": {},
   "outputs": [],
   "source": [
    "query = array([x[111, ]])  # How did we do?  Let's try one"
   ]
  },
  {
   "cell_type": "code",
   "execution_count": 13,
   "id": "a69e2af9",
   "metadata": {},
   "outputs": [],
   "source": [
    "# Simulate Softmax\n",
    "\n",
    "def Inference (x):\n",
    "    p0 = list (model.predict (query)[0])\n",
    "    return Species[p0.index (max (p0))]"
   ]
  },
  {
   "cell_type": "code",
   "execution_count": 14,
   "id": "d8a7d4f3",
   "metadata": {},
   "outputs": [
    {
     "data": {
      "text/plain": [
       "True"
      ]
     },
     "execution_count": 14,
     "metadata": {},
     "output_type": "execute_result"
    }
   ],
   "source": [
    "Inference (query) == iris.Species[111]"
   ]
  },
  {
   "cell_type": "code",
   "execution_count": 15,
   "id": "9ad2b823",
   "metadata": {},
   "outputs": [
    {
     "name": "stdout",
     "output_type": "stream",
     "text": [
      "83 virginica versicolor\n",
      "133 versicolor virginica\n"
     ]
    }
   ],
   "source": [
    "for i in range (0, 150):\n",
    "    query = array ([x[i, ]])\n",
    "    if Inference (query) != iris.Species[i]:\n",
    "        print (i, Inference (query), iris.Species[i])\n"
   ]
  }
 ],
 "metadata": {
  "kernelspec": {
   "display_name": "Python 3 (ipykernel)",
   "language": "python",
   "name": "python3"
  },
  "language_info": {
   "codemirror_mode": {
    "name": "ipython",
    "version": 3
   },
   "file_extension": ".py",
   "mimetype": "text/x-python",
   "name": "python",
   "nbconvert_exporter": "python",
   "pygments_lexer": "ipython3",
   "version": "3.8.10"
  }
 },
 "nbformat": 4,
 "nbformat_minor": 5
}
