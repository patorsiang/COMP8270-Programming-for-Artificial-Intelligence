{
 "cells": [
  {
   "cell_type": "markdown",
   "id": "962d2f02",
   "metadata": {},
   "source": [
    "<p style=\"font-size:20px\"><b>Pandas Dataframes</b></p>"
   ]
  },
  {
   "cell_type": "code",
   "execution_count": 1,
   "id": "5ad17a47",
   "metadata": {
    "slideshow": {
     "slide_type": "slide"
    }
   },
   "outputs": [],
   "source": [
    "import pandas as pd"
   ]
  },
  {
   "cell_type": "markdown",
   "id": "2c4a1f17",
   "metadata": {
    "slideshow": {
     "slide_type": "fragment"
    }
   },
   "source": [
    "<p style=\"font-size:20px\">We can load files from the local system, or from over the Internet.</p>"
   ]
  },
  {
   "cell_type": "code",
   "execution_count": 4,
   "id": "1129ec0d",
   "metadata": {
    "scrolled": true,
    "slideshow": {
     "slide_type": "fragment"
    }
   },
   "outputs": [
    {
     "data": {
      "text/html": [
       "<div>\n",
       "<style scoped>\n",
       "    .dataframe tbody tr th:only-of-type {\n",
       "        vertical-align: middle;\n",
       "    }\n",
       "\n",
       "    .dataframe tbody tr th {\n",
       "        vertical-align: top;\n",
       "    }\n",
       "\n",
       "    .dataframe thead th {\n",
       "        text-align: right;\n",
       "    }\n",
       "</style>\n",
       "<table border=\"1\" class=\"dataframe\">\n",
       "  <thead>\n",
       "    <tr style=\"text-align: right;\">\n",
       "      <th></th>\n",
       "      <th>Mono</th>\n",
       "      <th>Sepal_Length</th>\n",
       "      <th>Sepal_Width</th>\n",
       "      <th>Petal_Length</th>\n",
       "      <th>Petal_Width</th>\n",
       "      <th>Species</th>\n",
       "    </tr>\n",
       "  </thead>\n",
       "  <tbody>\n",
       "    <tr>\n",
       "      <th>0</th>\n",
       "      <td>1</td>\n",
       "      <td>5.1</td>\n",
       "      <td>3.5</td>\n",
       "      <td>1.4</td>\n",
       "      <td>0.2</td>\n",
       "      <td>setosa</td>\n",
       "    </tr>\n",
       "    <tr>\n",
       "      <th>1</th>\n",
       "      <td>2</td>\n",
       "      <td>4.9</td>\n",
       "      <td>3.0</td>\n",
       "      <td>1.4</td>\n",
       "      <td>0.2</td>\n",
       "      <td>setosa</td>\n",
       "    </tr>\n",
       "    <tr>\n",
       "      <th>2</th>\n",
       "      <td>3</td>\n",
       "      <td>4.7</td>\n",
       "      <td>3.2</td>\n",
       "      <td>1.3</td>\n",
       "      <td>0.2</td>\n",
       "      <td>setosa</td>\n",
       "    </tr>\n",
       "    <tr>\n",
       "      <th>3</th>\n",
       "      <td>4</td>\n",
       "      <td>4.6</td>\n",
       "      <td>3.1</td>\n",
       "      <td>1.5</td>\n",
       "      <td>0.2</td>\n",
       "      <td>setosa</td>\n",
       "    </tr>\n",
       "    <tr>\n",
       "      <th>4</th>\n",
       "      <td>5</td>\n",
       "      <td>5.0</td>\n",
       "      <td>3.6</td>\n",
       "      <td>1.4</td>\n",
       "      <td>0.2</td>\n",
       "      <td>setosa</td>\n",
       "    </tr>\n",
       "    <tr>\n",
       "      <th>...</th>\n",
       "      <td>...</td>\n",
       "      <td>...</td>\n",
       "      <td>...</td>\n",
       "      <td>...</td>\n",
       "      <td>...</td>\n",
       "      <td>...</td>\n",
       "    </tr>\n",
       "    <tr>\n",
       "      <th>145</th>\n",
       "      <td>146</td>\n",
       "      <td>6.7</td>\n",
       "      <td>3.0</td>\n",
       "      <td>5.2</td>\n",
       "      <td>2.3</td>\n",
       "      <td>virginica</td>\n",
       "    </tr>\n",
       "    <tr>\n",
       "      <th>146</th>\n",
       "      <td>147</td>\n",
       "      <td>6.3</td>\n",
       "      <td>2.5</td>\n",
       "      <td>5.0</td>\n",
       "      <td>1.9</td>\n",
       "      <td>virginica</td>\n",
       "    </tr>\n",
       "    <tr>\n",
       "      <th>147</th>\n",
       "      <td>148</td>\n",
       "      <td>6.5</td>\n",
       "      <td>3.0</td>\n",
       "      <td>5.2</td>\n",
       "      <td>2.0</td>\n",
       "      <td>virginica</td>\n",
       "    </tr>\n",
       "    <tr>\n",
       "      <th>148</th>\n",
       "      <td>149</td>\n",
       "      <td>6.2</td>\n",
       "      <td>3.4</td>\n",
       "      <td>5.4</td>\n",
       "      <td>2.3</td>\n",
       "      <td>virginica</td>\n",
       "    </tr>\n",
       "    <tr>\n",
       "      <th>149</th>\n",
       "      <td>150</td>\n",
       "      <td>5.9</td>\n",
       "      <td>3.0</td>\n",
       "      <td>5.1</td>\n",
       "      <td>1.8</td>\n",
       "      <td>virginica</td>\n",
       "    </tr>\n",
       "  </tbody>\n",
       "</table>\n",
       "<p>150 rows × 6 columns</p>\n",
       "</div>"
      ],
      "text/plain": [
       "     Mono  Sepal_Length  Sepal_Width  Petal_Length  Petal_Width    Species\n",
       "0       1           5.1          3.5           1.4          0.2     setosa\n",
       "1       2           4.9          3.0           1.4          0.2     setosa\n",
       "2       3           4.7          3.2           1.3          0.2     setosa\n",
       "3       4           4.6          3.1           1.5          0.2     setosa\n",
       "4       5           5.0          3.6           1.4          0.2     setosa\n",
       "..    ...           ...          ...           ...          ...        ...\n",
       "145   146           6.7          3.0           5.2          2.3  virginica\n",
       "146   147           6.3          2.5           5.0          1.9  virginica\n",
       "147   148           6.5          3.0           5.2          2.0  virginica\n",
       "148   149           6.2          3.4           5.4          2.3  virginica\n",
       "149   150           5.9          3.0           5.1          1.8  virginica\n",
       "\n",
       "[150 rows x 6 columns]"
      ]
     },
     "execution_count": 4,
     "metadata": {},
     "output_type": "execute_result"
    }
   ],
   "source": [
    "#iris = pd.read_csv(\"iris.csv\")                                    # A file I installed on my Jupyter\n",
    "iris = pd.read_csv(\"https://raptor.kent.ac.uk/~ds756/Data/iris.csv\")    # You can access this too\n",
    "iris"
   ]
  },
  {
   "cell_type": "markdown",
   "id": "18376957",
   "metadata": {
    "slideshow": {
     "slide_type": "slide"
    }
   },
   "source": [
    "<p style=\"font-size:20px\">Once loaded, we can briefly examine the data frame to get an idea of the data.</p>\n",
    "\n",
    "<ul style=\"font-size:20px\">\n",
    "    <li> How many rows and columns </li>\n",
    "    <li> Peek at the first few rows to sanity check. </li>\n",
    "    <li> Basic statistics </li>\n",
    "    <li> Verify expected column data types</li>\n",
    "    <li> Confirm expected number of missing entries</li>\n",
    "</ul>"
   ]
  },
  {
   "cell_type": "code",
   "execution_count": 3,
   "id": "c718a499",
   "metadata": {},
   "outputs": [
    {
     "name": "stdout",
     "output_type": "stream",
     "text": [
      "<class 'pandas.core.frame.DataFrame'>\n",
      "RangeIndex: 150 entries, 0 to 149\n",
      "Data columns (total 6 columns):\n",
      " #   Column        Non-Null Count  Dtype  \n",
      "---  ------        --------------  -----  \n",
      " 0   Mono          150 non-null    int64  \n",
      " 1   Sepal_Length  150 non-null    float64\n",
      " 2   Sepal_Width   150 non-null    float64\n",
      " 3   Petal_Length  150 non-null    float64\n",
      " 4   Petal_Width   150 non-null    float64\n",
      " 5   Species       150 non-null    object \n",
      "dtypes: float64(4), int64(1), object(1)\n",
      "memory usage: 7.2+ KB\n"
     ]
    }
   ],
   "source": [
    "iris.info ()   # We can see missing cells, data types"
   ]
  },
  {
   "cell_type": "code",
   "execution_count": 5,
   "id": "05208df4",
   "metadata": {
    "slideshow": {
     "slide_type": "fragment"
    }
   },
   "outputs": [
    {
     "data": {
      "text/plain": [
       "(150, 6)"
      ]
     },
     "execution_count": 5,
     "metadata": {},
     "output_type": "execute_result"
    }
   ],
   "source": [
    "iris.shape     # (rows, columns)"
   ]
  },
  {
   "cell_type": "code",
   "execution_count": 6,
   "id": "f25f032f",
   "metadata": {
    "slideshow": {
     "slide_type": "fragment"
    }
   },
   "outputs": [
    {
     "data": {
      "text/html": [
       "<div>\n",
       "<style scoped>\n",
       "    .dataframe tbody tr th:only-of-type {\n",
       "        vertical-align: middle;\n",
       "    }\n",
       "\n",
       "    .dataframe tbody tr th {\n",
       "        vertical-align: top;\n",
       "    }\n",
       "\n",
       "    .dataframe thead th {\n",
       "        text-align: right;\n",
       "    }\n",
       "</style>\n",
       "<table border=\"1\" class=\"dataframe\">\n",
       "  <thead>\n",
       "    <tr style=\"text-align: right;\">\n",
       "      <th></th>\n",
       "      <th>Mono</th>\n",
       "      <th>Sepal_Length</th>\n",
       "      <th>Sepal_Width</th>\n",
       "      <th>Petal_Length</th>\n",
       "      <th>Petal_Width</th>\n",
       "      <th>Species</th>\n",
       "    </tr>\n",
       "  </thead>\n",
       "  <tbody>\n",
       "    <tr>\n",
       "      <th>0</th>\n",
       "      <td>1</td>\n",
       "      <td>5.1</td>\n",
       "      <td>3.5</td>\n",
       "      <td>1.4</td>\n",
       "      <td>0.2</td>\n",
       "      <td>setosa</td>\n",
       "    </tr>\n",
       "    <tr>\n",
       "      <th>1</th>\n",
       "      <td>2</td>\n",
       "      <td>4.9</td>\n",
       "      <td>3.0</td>\n",
       "      <td>1.4</td>\n",
       "      <td>0.2</td>\n",
       "      <td>setosa</td>\n",
       "    </tr>\n",
       "    <tr>\n",
       "      <th>2</th>\n",
       "      <td>3</td>\n",
       "      <td>4.7</td>\n",
       "      <td>3.2</td>\n",
       "      <td>1.3</td>\n",
       "      <td>0.2</td>\n",
       "      <td>setosa</td>\n",
       "    </tr>\n",
       "    <tr>\n",
       "      <th>3</th>\n",
       "      <td>4</td>\n",
       "      <td>4.6</td>\n",
       "      <td>3.1</td>\n",
       "      <td>1.5</td>\n",
       "      <td>0.2</td>\n",
       "      <td>setosa</td>\n",
       "    </tr>\n",
       "    <tr>\n",
       "      <th>4</th>\n",
       "      <td>5</td>\n",
       "      <td>5.0</td>\n",
       "      <td>3.6</td>\n",
       "      <td>1.4</td>\n",
       "      <td>0.2</td>\n",
       "      <td>setosa</td>\n",
       "    </tr>\n",
       "  </tbody>\n",
       "</table>\n",
       "</div>"
      ],
      "text/plain": [
       "   Mono  Sepal_Length  Sepal_Width  Petal_Length  Petal_Width Species\n",
       "0     1           5.1          3.5           1.4          0.2  setosa\n",
       "1     2           4.9          3.0           1.4          0.2  setosa\n",
       "2     3           4.7          3.2           1.3          0.2  setosa\n",
       "3     4           4.6          3.1           1.5          0.2  setosa\n",
       "4     5           5.0          3.6           1.4          0.2  setosa"
      ]
     },
     "execution_count": 6,
     "metadata": {},
     "output_type": "execute_result"
    }
   ],
   "source": [
    "iris.head (5)  # First 5 rows"
   ]
  },
  {
   "cell_type": "code",
   "execution_count": 7,
   "id": "58cd42ce",
   "metadata": {
    "slideshow": {
     "slide_type": "slide"
    }
   },
   "outputs": [
    {
     "data": {
      "text/plain": [
       "Mono              int64\n",
       "Sepal_Length    float64\n",
       "Sepal_Width     float64\n",
       "Petal_Length    float64\n",
       "Petal_Width     float64\n",
       "Species          object\n",
       "dtype: object"
      ]
     },
     "execution_count": 7,
     "metadata": {},
     "output_type": "execute_result"
    }
   ],
   "source": [
    "iris.dtypes  # The data types of the features (columns)"
   ]
  },
  {
   "cell_type": "code",
   "execution_count": null,
   "id": "6012e90c",
   "metadata": {
    "slideshow": {
     "slide_type": "fragment"
    }
   },
   "outputs": [
    {
     "data": {
      "text/html": [
       "<div>\n",
       "<style scoped>\n",
       "    .dataframe tbody tr th:only-of-type {\n",
       "        vertical-align: middle;\n",
       "    }\n",
       "\n",
       "    .dataframe tbody tr th {\n",
       "        vertical-align: top;\n",
       "    }\n",
       "\n",
       "    .dataframe thead th {\n",
       "        text-align: right;\n",
       "    }\n",
       "</style>\n",
       "<table border=\"1\" class=\"dataframe\">\n",
       "  <thead>\n",
       "    <tr style=\"text-align: right;\">\n",
       "      <th></th>\n",
       "      <th>Mono</th>\n",
       "      <th>Sepal_Length</th>\n",
       "      <th>Sepal_Width</th>\n",
       "      <th>Petal_Length</th>\n",
       "      <th>Petal_Width</th>\n",
       "    </tr>\n",
       "  </thead>\n",
       "  <tbody>\n",
       "    <tr>\n",
       "      <th>count</th>\n",
       "      <td>150.000000</td>\n",
       "      <td>150.000000</td>\n",
       "      <td>150.000000</td>\n",
       "      <td>150.000000</td>\n",
       "      <td>150.000000</td>\n",
       "    </tr>\n",
       "    <tr>\n",
       "      <th>mean</th>\n",
       "      <td>75.500000</td>\n",
       "      <td>5.843333</td>\n",
       "      <td>3.057333</td>\n",
       "      <td>3.758000</td>\n",
       "      <td>1.199333</td>\n",
       "    </tr>\n",
       "    <tr>\n",
       "      <th>std</th>\n",
       "      <td>43.445368</td>\n",
       "      <td>0.828066</td>\n",
       "      <td>0.435866</td>\n",
       "      <td>1.765298</td>\n",
       "      <td>0.762238</td>\n",
       "    </tr>\n",
       "    <tr>\n",
       "      <th>min</th>\n",
       "      <td>1.000000</td>\n",
       "      <td>4.300000</td>\n",
       "      <td>2.000000</td>\n",
       "      <td>1.000000</td>\n",
       "      <td>0.100000</td>\n",
       "    </tr>\n",
       "    <tr>\n",
       "      <th>25%</th>\n",
       "      <td>38.250000</td>\n",
       "      <td>5.100000</td>\n",
       "      <td>2.800000</td>\n",
       "      <td>1.600000</td>\n",
       "      <td>0.300000</td>\n",
       "    </tr>\n",
       "    <tr>\n",
       "      <th>50%</th>\n",
       "      <td>75.500000</td>\n",
       "      <td>5.800000</td>\n",
       "      <td>3.000000</td>\n",
       "      <td>4.350000</td>\n",
       "      <td>1.300000</td>\n",
       "    </tr>\n",
       "    <tr>\n",
       "      <th>75%</th>\n",
       "      <td>112.750000</td>\n",
       "      <td>6.400000</td>\n",
       "      <td>3.300000</td>\n",
       "      <td>5.100000</td>\n",
       "      <td>1.800000</td>\n",
       "    </tr>\n",
       "    <tr>\n",
       "      <th>max</th>\n",
       "      <td>150.000000</td>\n",
       "      <td>7.900000</td>\n",
       "      <td>4.400000</td>\n",
       "      <td>6.900000</td>\n",
       "      <td>2.500000</td>\n",
       "    </tr>\n",
       "  </tbody>\n",
       "</table>\n",
       "</div>"
      ],
      "text/plain": [
       "             Mono  Sepal_Length  Sepal_Width  Petal_Length  Petal_Width\n",
       "count  150.000000    150.000000   150.000000    150.000000   150.000000\n",
       "mean    75.500000      5.843333     3.057333      3.758000     1.199333\n",
       "std     43.445368      0.828066     0.435866      1.765298     0.762238\n",
       "min      1.000000      4.300000     2.000000      1.000000     0.100000\n",
       "25%     38.250000      5.100000     2.800000      1.600000     0.300000\n",
       "50%     75.500000      5.800000     3.000000      4.350000     1.300000\n",
       "75%    112.750000      6.400000     3.300000      5.100000     1.800000\n",
       "max    150.000000      7.900000     4.400000      6.900000     2.500000"
      ]
     },
     "execution_count": 8,
     "metadata": {},
     "output_type": "execute_result"
    }
   ],
   "source": [
    "iris.describe () # quick statistics"
   ]
  },
  {
   "cell_type": "markdown",
   "id": "a9f85d8c",
   "metadata": {
    "slideshow": {
     "slide_type": "slide"
    }
   },
   "source": [
    "<p style=\"font-size:20px\">_____________________________________________________________________________________</p>\n",
    "<p style=\"font-size:20px\">There are occasions when we have data from another source that we have computed in Python.</p>  \n",
    "<p style=\"font-size:20px\">It is often desirable to convert it to a Pandas data frame.  Consider the dictionary below:</p>"
   ]
  },
  {
   "cell_type": "code",
   "execution_count": 9,
   "id": "4ed748e0",
   "metadata": {
    "slideshow": {
     "slide_type": "fragment"
    }
   },
   "outputs": [],
   "source": [
    "VIXdict = { # VIX data from the CBOE\n",
    "    \"DAY0\" : { \"Date\" : \"2004-01-02\", \"Open\" : 17.96, \"High\" : 18.68, \"Low\" : 17.54, \"Close\" : 18.22},\n",
    "    \"DAY1\" : { \"Date\" : \"2004-01-05\", \"Open\" : 18.45, \"High\" : 18.49, \"Low\" : 17.44, \"Close\" : 17.49},\n",
    "    \"DAY2\" : { \"Date\" : \"2004-01-06\", \"Open\" : 17.66, \"High\" : 17.67, \"Low\" : 16.19, \"Close\" : 16.73},\n",
    "    \"DAY3\" : { \"Date\" : \"2004-01-07\", \"Open\" : 16.72, \"High\" : 16.75, \"Low\" : 15.5, \"Close\": 15.5 },\n",
    "    \"DAY4\" : { \"Date\" : \"2004-01-08\", \"Open\" : 15.42, \"High\" : 15.68, \"Low\" : 15.32, \"Close\" : 15.61 },\n",
    "    \"DAY5\" : { \"Date\" : \"2004-01-09\", \"Open\" : 16.15, \"High\" : 16.88, \"Low\" : 15.57, \"Close\" : 16.75}\n",
    "}"
   ]
  },
  {
   "cell_type": "code",
   "execution_count": 10,
   "id": "81ac6a07",
   "metadata": {
    "slideshow": {
     "slide_type": "fragment"
    }
   },
   "outputs": [
    {
     "data": {
      "text/plain": [
       "dict"
      ]
     },
     "execution_count": 10,
     "metadata": {},
     "output_type": "execute_result"
    }
   ],
   "source": [
    "type (VIXdict)"
   ]
  },
  {
   "cell_type": "markdown",
   "id": "8ad72c59",
   "metadata": {
    "slideshow": {
     "slide_type": "slide"
    }
   },
   "source": [
    "<p style=\"font-size:20px\">We can turn our dictionary in to a Pandas dataframe easily.</p>"
   ]
  },
  {
   "cell_type": "code",
   "execution_count": 11,
   "id": "037b88b0",
   "metadata": {
    "slideshow": {
     "slide_type": "fragment"
    }
   },
   "outputs": [
    {
     "data": {
      "text/html": [
       "<div>\n",
       "<style scoped>\n",
       "    .dataframe tbody tr th:only-of-type {\n",
       "        vertical-align: middle;\n",
       "    }\n",
       "\n",
       "    .dataframe tbody tr th {\n",
       "        vertical-align: top;\n",
       "    }\n",
       "\n",
       "    .dataframe thead th {\n",
       "        text-align: right;\n",
       "    }\n",
       "</style>\n",
       "<table border=\"1\" class=\"dataframe\">\n",
       "  <thead>\n",
       "    <tr style=\"text-align: right;\">\n",
       "      <th></th>\n",
       "      <th>DAY0</th>\n",
       "      <th>DAY1</th>\n",
       "      <th>DAY2</th>\n",
       "      <th>DAY3</th>\n",
       "      <th>DAY4</th>\n",
       "      <th>DAY5</th>\n",
       "    </tr>\n",
       "  </thead>\n",
       "  <tbody>\n",
       "    <tr>\n",
       "      <th>Date</th>\n",
       "      <td>2004-01-02</td>\n",
       "      <td>2004-01-05</td>\n",
       "      <td>2004-01-06</td>\n",
       "      <td>2004-01-07</td>\n",
       "      <td>2004-01-08</td>\n",
       "      <td>2004-01-09</td>\n",
       "    </tr>\n",
       "    <tr>\n",
       "      <th>Open</th>\n",
       "      <td>17.96</td>\n",
       "      <td>18.45</td>\n",
       "      <td>17.66</td>\n",
       "      <td>16.72</td>\n",
       "      <td>15.42</td>\n",
       "      <td>16.15</td>\n",
       "    </tr>\n",
       "    <tr>\n",
       "      <th>High</th>\n",
       "      <td>18.68</td>\n",
       "      <td>18.49</td>\n",
       "      <td>17.67</td>\n",
       "      <td>16.75</td>\n",
       "      <td>15.68</td>\n",
       "      <td>16.88</td>\n",
       "    </tr>\n",
       "    <tr>\n",
       "      <th>Low</th>\n",
       "      <td>17.54</td>\n",
       "      <td>17.44</td>\n",
       "      <td>16.19</td>\n",
       "      <td>15.5</td>\n",
       "      <td>15.32</td>\n",
       "      <td>15.57</td>\n",
       "    </tr>\n",
       "    <tr>\n",
       "      <th>Close</th>\n",
       "      <td>18.22</td>\n",
       "      <td>17.49</td>\n",
       "      <td>16.73</td>\n",
       "      <td>15.5</td>\n",
       "      <td>15.61</td>\n",
       "      <td>16.75</td>\n",
       "    </tr>\n",
       "  </tbody>\n",
       "</table>\n",
       "</div>"
      ],
      "text/plain": [
       "             DAY0        DAY1        DAY2        DAY3        DAY4        DAY5\n",
       "Date   2004-01-02  2004-01-05  2004-01-06  2004-01-07  2004-01-08  2004-01-09\n",
       "Open        17.96       18.45       17.66       16.72       15.42       16.15\n",
       "High        18.68       18.49       17.67       16.75       15.68       16.88\n",
       "Low         17.54       17.44       16.19        15.5       15.32       15.57\n",
       "Close       18.22       17.49       16.73        15.5       15.61       16.75"
      ]
     },
     "execution_count": 11,
     "metadata": {},
     "output_type": "execute_result"
    }
   ],
   "source": [
    "VIX = pd.DataFrame(data=VIXdict)     # By default, dictionary keys are the DataFrame columns\n",
    "VIX"
   ]
  },
  {
   "cell_type": "code",
   "execution_count": 12,
   "id": "7c0e7e55",
   "metadata": {
    "slideshow": {
     "slide_type": "fragment"
    }
   },
   "outputs": [
    {
     "data": {
      "text/html": [
       "<div>\n",
       "<style scoped>\n",
       "    .dataframe tbody tr th:only-of-type {\n",
       "        vertical-align: middle;\n",
       "    }\n",
       "\n",
       "    .dataframe tbody tr th {\n",
       "        vertical-align: top;\n",
       "    }\n",
       "\n",
       "    .dataframe thead th {\n",
       "        text-align: right;\n",
       "    }\n",
       "</style>\n",
       "<table border=\"1\" class=\"dataframe\">\n",
       "  <thead>\n",
       "    <tr style=\"text-align: right;\">\n",
       "      <th></th>\n",
       "      <th>Date</th>\n",
       "      <th>Open</th>\n",
       "      <th>High</th>\n",
       "      <th>Low</th>\n",
       "      <th>Close</th>\n",
       "    </tr>\n",
       "  </thead>\n",
       "  <tbody>\n",
       "    <tr>\n",
       "      <th>DAY0</th>\n",
       "      <td>2004-01-02</td>\n",
       "      <td>17.96</td>\n",
       "      <td>18.68</td>\n",
       "      <td>17.54</td>\n",
       "      <td>18.22</td>\n",
       "    </tr>\n",
       "    <tr>\n",
       "      <th>DAY1</th>\n",
       "      <td>2004-01-05</td>\n",
       "      <td>18.45</td>\n",
       "      <td>18.49</td>\n",
       "      <td>17.44</td>\n",
       "      <td>17.49</td>\n",
       "    </tr>\n",
       "    <tr>\n",
       "      <th>DAY2</th>\n",
       "      <td>2004-01-06</td>\n",
       "      <td>17.66</td>\n",
       "      <td>17.67</td>\n",
       "      <td>16.19</td>\n",
       "      <td>16.73</td>\n",
       "    </tr>\n",
       "    <tr>\n",
       "      <th>DAY3</th>\n",
       "      <td>2004-01-07</td>\n",
       "      <td>16.72</td>\n",
       "      <td>16.75</td>\n",
       "      <td>15.5</td>\n",
       "      <td>15.5</td>\n",
       "    </tr>\n",
       "    <tr>\n",
       "      <th>DAY4</th>\n",
       "      <td>2004-01-08</td>\n",
       "      <td>15.42</td>\n",
       "      <td>15.68</td>\n",
       "      <td>15.32</td>\n",
       "      <td>15.61</td>\n",
       "    </tr>\n",
       "    <tr>\n",
       "      <th>DAY5</th>\n",
       "      <td>2004-01-09</td>\n",
       "      <td>16.15</td>\n",
       "      <td>16.88</td>\n",
       "      <td>15.57</td>\n",
       "      <td>16.75</td>\n",
       "    </tr>\n",
       "  </tbody>\n",
       "</table>\n",
       "</div>"
      ],
      "text/plain": [
       "            Date   Open   High    Low  Close\n",
       "DAY0  2004-01-02  17.96  18.68  17.54  18.22\n",
       "DAY1  2004-01-05  18.45  18.49  17.44  17.49\n",
       "DAY2  2004-01-06  17.66  17.67  16.19  16.73\n",
       "DAY3  2004-01-07  16.72  16.75   15.5   15.5\n",
       "DAY4  2004-01-08  15.42  15.68  15.32  15.61\n",
       "DAY5  2004-01-09  16.15  16.88  15.57  16.75"
      ]
     },
     "execution_count": 12,
     "metadata": {},
     "output_type": "execute_result"
    }
   ],
   "source": [
    "VIX = VIX.T                          # The transpose gives us what we want, each date is a row\n",
    "VIX"
   ]
  },
  {
   "cell_type": "code",
   "execution_count": 13,
   "id": "d419c7ba",
   "metadata": {
    "slideshow": {
     "slide_type": "slide"
    }
   },
   "outputs": [
    {
     "data": {
      "text/plain": [
       "(6, 5)"
      ]
     },
     "execution_count": 13,
     "metadata": {},
     "output_type": "execute_result"
    }
   ],
   "source": [
    "VIX.shape"
   ]
  },
  {
   "cell_type": "code",
   "execution_count": 14,
   "id": "8312e4f4",
   "metadata": {
    "scrolled": true,
    "slideshow": {
     "slide_type": "fragment"
    }
   },
   "outputs": [
    {
     "data": {
      "text/html": [
       "<div>\n",
       "<style scoped>\n",
       "    .dataframe tbody tr th:only-of-type {\n",
       "        vertical-align: middle;\n",
       "    }\n",
       "\n",
       "    .dataframe tbody tr th {\n",
       "        vertical-align: top;\n",
       "    }\n",
       "\n",
       "    .dataframe thead th {\n",
       "        text-align: right;\n",
       "    }\n",
       "</style>\n",
       "<table border=\"1\" class=\"dataframe\">\n",
       "  <thead>\n",
       "    <tr style=\"text-align: right;\">\n",
       "      <th></th>\n",
       "      <th>Date</th>\n",
       "      <th>Open</th>\n",
       "      <th>High</th>\n",
       "      <th>Low</th>\n",
       "      <th>Close</th>\n",
       "    </tr>\n",
       "  </thead>\n",
       "  <tbody>\n",
       "    <tr>\n",
       "      <th>count</th>\n",
       "      <td>6</td>\n",
       "      <td>6.00</td>\n",
       "      <td>6.00</td>\n",
       "      <td>6.00</td>\n",
       "      <td>6.00</td>\n",
       "    </tr>\n",
       "    <tr>\n",
       "      <th>unique</th>\n",
       "      <td>6</td>\n",
       "      <td>6.00</td>\n",
       "      <td>6.00</td>\n",
       "      <td>6.00</td>\n",
       "      <td>6.00</td>\n",
       "    </tr>\n",
       "    <tr>\n",
       "      <th>top</th>\n",
       "      <td>2004-01-02</td>\n",
       "      <td>17.96</td>\n",
       "      <td>18.68</td>\n",
       "      <td>17.54</td>\n",
       "      <td>18.22</td>\n",
       "    </tr>\n",
       "    <tr>\n",
       "      <th>freq</th>\n",
       "      <td>1</td>\n",
       "      <td>1.00</td>\n",
       "      <td>1.00</td>\n",
       "      <td>1.00</td>\n",
       "      <td>1.00</td>\n",
       "    </tr>\n",
       "  </tbody>\n",
       "</table>\n",
       "</div>"
      ],
      "text/plain": [
       "              Date   Open   High    Low  Close\n",
       "count            6   6.00   6.00   6.00   6.00\n",
       "unique           6   6.00   6.00   6.00   6.00\n",
       "top     2004-01-02  17.96  18.68  17.54  18.22\n",
       "freq             1   1.00   1.00   1.00   1.00"
      ]
     },
     "execution_count": 14,
     "metadata": {},
     "output_type": "execute_result"
    }
   ],
   "source": [
    "VIX.describe ()"
   ]
  },
  {
   "cell_type": "markdown",
   "id": "7fdce9b3",
   "metadata": {
    "slideshow": {
     "slide_type": "slide"
    }
   },
   "source": [
    "<p style=\"font-size:20px\">_______________________________________________________________________________________</p>\n",
    "<p style=\"font-size:20px\">Columns, also known as features, are the essence of the data frame.  Pandas treats them as first class objects.</p>\n",
    "\n",
    "<ul style=\"font-size:20px\">\n",
    "    <li>A Pandas data frame is similar to a dictionary of columns.</li>\n",
    "    <li>Performance will always be much faster if processing is column oriented.</li>\n",
    "    <li>There are many ways of accessing and selecting columns.</li>\n",
    "</ul>"
   ]
  },
  {
   "cell_type": "code",
   "execution_count": 15,
   "id": "b94cd675",
   "metadata": {
    "slideshow": {
     "slide_type": "fragment"
    }
   },
   "outputs": [
    {
     "name": "stdout",
     "output_type": "stream",
     "text": [
      "<class 'pandas.core.series.Series'>\n"
     ]
    }
   ],
   "source": [
    "feature = iris[\"Sepal_Width\"]        # We can get a reference to an individual feature\n",
    "print (type (feature))               # The Pandas type for a feature/column"
   ]
  },
  {
   "cell_type": "code",
   "execution_count": 16,
   "id": "345dd27f",
   "metadata": {},
   "outputs": [
    {
     "data": {
      "text/plain": [
       "4.4"
      ]
     },
     "execution_count": 16,
     "metadata": {},
     "output_type": "execute_result"
    }
   ],
   "source": [
    "feature.max ()"
   ]
  },
  {
   "cell_type": "code",
   "execution_count": 17,
   "id": "82a149fe",
   "metadata": {
    "slideshow": {
     "slide_type": "fragment"
    }
   },
   "outputs": [
    {
     "data": {
      "text/plain": [
       "4.4"
      ]
     },
     "execution_count": 17,
     "metadata": {},
     "output_type": "execute_result"
    }
   ],
   "source": [
    "iris[\"Sepal_Width\"].max ()"
   ]
  },
  {
   "cell_type": "code",
   "execution_count": 18,
   "id": "0f464b27",
   "metadata": {
    "slideshow": {
     "slide_type": "fragment"
    }
   },
   "outputs": [
    {
     "data": {
      "text/plain": [
       "4.4"
      ]
     },
     "execution_count": 18,
     "metadata": {},
     "output_type": "execute_result"
    }
   ],
   "source": [
    "iris.Sepal_Width.max ()"
   ]
  },
  {
   "cell_type": "code",
   "execution_count": 19,
   "id": "94e4cc5f",
   "metadata": {
    "scrolled": true,
    "slideshow": {
     "slide_type": "fragment"
    }
   },
   "outputs": [
    {
     "data": {
      "text/plain": [
       "Index(['Mono', 'Sepal_Length', 'Sepal_Width', 'Petal_Length', 'Petal_Width',\n",
       "       'Species'],\n",
       "      dtype='object')"
      ]
     },
     "execution_count": 19,
     "metadata": {},
     "output_type": "execute_result"
    }
   ],
   "source": [
    "iris.columns  # What features are in my data frame"
   ]
  },
  {
   "cell_type": "code",
   "execution_count": 20,
   "id": "5018440d",
   "metadata": {
    "slideshow": {
     "slide_type": "fragment"
    }
   },
   "outputs": [
    {
     "data": {
      "text/plain": [
       "('Sepal_Length', 5.843333333333334)"
      ]
     },
     "execution_count": 20,
     "metadata": {},
     "output_type": "execute_result"
    }
   ],
   "source": [
    "feature_name = iris.columns[1]\n",
    "feature_name, iris[feature_name].mean ()"
   ]
  },
  {
   "cell_type": "code",
   "execution_count": 21,
   "id": "588f6799",
   "metadata": {
    "slideshow": {
     "slide_type": "slide"
    }
   },
   "outputs": [],
   "source": [
    "iris = iris.drop (columns=\"Mono\")  # We do not need this feature, so delete the column"
   ]
  },
  {
   "cell_type": "code",
   "execution_count": 22,
   "id": "9d8c914e",
   "metadata": {
    "slideshow": {
     "slide_type": "fragment"
    }
   },
   "outputs": [
    {
     "name": "stdout",
     "output_type": "stream",
     "text": [
      "Sepal_Length 5.843333333333334\n",
      "Sepal_Width 3.0573333333333337\n",
      "Petal_Length 3.7580000000000005\n",
      "Petal_Width 1.1993333333333336\n"
     ]
    }
   ],
   "source": [
    "for column in iris.columns:                        # iterate over all features\n",
    "    if iris[column].dtype == \"float64\":            # only work with numbers, skip Species\n",
    "        print (column, iris[column].mean ())       # print the mean"
   ]
  },
  {
   "cell_type": "code",
   "execution_count": 23,
   "id": "5ba3d935",
   "metadata": {
    "scrolled": true,
    "slideshow": {
     "slide_type": "slide"
    }
   },
   "outputs": [
    {
     "data": {
      "text/html": [
       "<div>\n",
       "<style scoped>\n",
       "    .dataframe tbody tr th:only-of-type {\n",
       "        vertical-align: middle;\n",
       "    }\n",
       "\n",
       "    .dataframe tbody tr th {\n",
       "        vertical-align: top;\n",
       "    }\n",
       "\n",
       "    .dataframe thead th {\n",
       "        text-align: right;\n",
       "    }\n",
       "</style>\n",
       "<table border=\"1\" class=\"dataframe\">\n",
       "  <thead>\n",
       "    <tr style=\"text-align: right;\">\n",
       "      <th></th>\n",
       "      <th>Date</th>\n",
       "      <th>Open</th>\n",
       "      <th>High</th>\n",
       "      <th>Low</th>\n",
       "      <th>Close</th>\n",
       "      <th>Range</th>\n",
       "    </tr>\n",
       "  </thead>\n",
       "  <tbody>\n",
       "    <tr>\n",
       "      <th>DAY0</th>\n",
       "      <td>2004-01-02</td>\n",
       "      <td>17.96</td>\n",
       "      <td>18.68</td>\n",
       "      <td>17.54</td>\n",
       "      <td>18.22</td>\n",
       "      <td>1.14</td>\n",
       "    </tr>\n",
       "    <tr>\n",
       "      <th>DAY1</th>\n",
       "      <td>2004-01-05</td>\n",
       "      <td>18.45</td>\n",
       "      <td>18.49</td>\n",
       "      <td>17.44</td>\n",
       "      <td>17.49</td>\n",
       "      <td>1.05</td>\n",
       "    </tr>\n",
       "    <tr>\n",
       "      <th>DAY2</th>\n",
       "      <td>2004-01-06</td>\n",
       "      <td>17.66</td>\n",
       "      <td>17.67</td>\n",
       "      <td>16.19</td>\n",
       "      <td>16.73</td>\n",
       "      <td>1.48</td>\n",
       "    </tr>\n",
       "    <tr>\n",
       "      <th>DAY3</th>\n",
       "      <td>2004-01-07</td>\n",
       "      <td>16.72</td>\n",
       "      <td>16.75</td>\n",
       "      <td>15.5</td>\n",
       "      <td>15.5</td>\n",
       "      <td>1.25</td>\n",
       "    </tr>\n",
       "    <tr>\n",
       "      <th>DAY4</th>\n",
       "      <td>2004-01-08</td>\n",
       "      <td>15.42</td>\n",
       "      <td>15.68</td>\n",
       "      <td>15.32</td>\n",
       "      <td>15.61</td>\n",
       "      <td>0.36</td>\n",
       "    </tr>\n",
       "    <tr>\n",
       "      <th>DAY5</th>\n",
       "      <td>2004-01-09</td>\n",
       "      <td>16.15</td>\n",
       "      <td>16.88</td>\n",
       "      <td>15.57</td>\n",
       "      <td>16.75</td>\n",
       "      <td>1.31</td>\n",
       "    </tr>\n",
       "  </tbody>\n",
       "</table>\n",
       "</div>"
      ],
      "text/plain": [
       "            Date   Open   High    Low  Close Range\n",
       "DAY0  2004-01-02  17.96  18.68  17.54  18.22  1.14\n",
       "DAY1  2004-01-05  18.45  18.49  17.44  17.49  1.05\n",
       "DAY2  2004-01-06  17.66  17.67  16.19  16.73  1.48\n",
       "DAY3  2004-01-07  16.72  16.75   15.5   15.5  1.25\n",
       "DAY4  2004-01-08  15.42  15.68  15.32  15.61  0.36\n",
       "DAY5  2004-01-09  16.15  16.88  15.57  16.75  1.31"
      ]
     },
     "execution_count": 23,
     "metadata": {},
     "output_type": "execute_result"
    }
   ],
   "source": [
    "\n",
    "VIX[\"Range\"] = VIX.High - VIX.Low # We can add columns to an extant dataframe\n",
    "VIX"
   ]
  },
  {
   "cell_type": "code",
   "execution_count": 41,
   "id": "79717403",
   "metadata": {},
   "outputs": [
    {
     "data": {
      "text/plain": [
       "pandas.core.series.Series"
      ]
     },
     "execution_count": 41,
     "metadata": {},
     "output_type": "execute_result"
    }
   ],
   "source": [
    "c = VIX.High - VIX.Low # We can add columns to an\n",
    "type(c)"
   ]
  },
  {
   "cell_type": "markdown",
   "id": "75fa5287",
   "metadata": {
    "slideshow": {
     "slide_type": "slide"
    }
   },
   "source": [
    "<p style=\"font-size:20px\">_____________________________________________________________________________________</p>\n",
    "<p style=\"font-size:20px\"><b>Subsetting Data</b></p>\n",
    "\n",
    "<p style=\"font-size:20px\">Pandas offers support for creating subsets.  There are many reasons for creating subsets of the entire data frame.</p>\n",
    "\n",
    "<ul style=\"font-size:20px\">\n",
    "    <li>Data can be enormous; make the problem tractable.</li>\n",
    "    <li>A particular subset may be interesting.</li>\n",
    "    <li>Discarding outliers or bad data.</li>\n",
    "    <li>Testing, training and verifying.</li>\n",
    "</ul>\n",
    "\n",
    "<p style=\"font-size:20px\">Pandas offers many ways of creating subsets of dataframes in the form of dataframes.</p>\n",
    "\n",
    "<p style=\"font-size:20px\">If you have used SQL before then recollecting SELECT is helpful here.</p>\n",
    "\n",
    "<p style=\"font-size:20px\">To find data we must first <b>index</b> the data.</p>\n",
    "\n",
    "<p style=\"font-size:20px\">Pandas will create an index when we designate a <b>key</b></p>"
   ]
  },
  {
   "cell_type": "code",
   "execution_count": 24,
   "id": "0ba73323",
   "metadata": {},
   "outputs": [
    {
     "data": {
      "text/plain": [
       "Index(['Date', 'Open', 'High', 'Low', 'Close', 'Range'], dtype='object')"
      ]
     },
     "execution_count": 24,
     "metadata": {},
     "output_type": "execute_result"
    }
   ],
   "source": [
    "VIX.columns # Date is an ordinary feature."
   ]
  },
  {
   "cell_type": "code",
   "execution_count": 25,
   "id": "d314c95e",
   "metadata": {
    "scrolled": true,
    "slideshow": {
     "slide_type": "slide"
    }
   },
   "outputs": [
    {
     "data": {
      "text/html": [
       "<div>\n",
       "<style scoped>\n",
       "    .dataframe tbody tr th:only-of-type {\n",
       "        vertical-align: middle;\n",
       "    }\n",
       "\n",
       "    .dataframe tbody tr th {\n",
       "        vertical-align: top;\n",
       "    }\n",
       "\n",
       "    .dataframe thead th {\n",
       "        text-align: right;\n",
       "    }\n",
       "</style>\n",
       "<table border=\"1\" class=\"dataframe\">\n",
       "  <thead>\n",
       "    <tr style=\"text-align: right;\">\n",
       "      <th></th>\n",
       "      <th>Open</th>\n",
       "      <th>High</th>\n",
       "      <th>Low</th>\n",
       "      <th>Close</th>\n",
       "      <th>Range</th>\n",
       "    </tr>\n",
       "    <tr>\n",
       "      <th>Date</th>\n",
       "      <th></th>\n",
       "      <th></th>\n",
       "      <th></th>\n",
       "      <th></th>\n",
       "      <th></th>\n",
       "    </tr>\n",
       "  </thead>\n",
       "  <tbody>\n",
       "    <tr>\n",
       "      <th>2004-01-02</th>\n",
       "      <td>17.96</td>\n",
       "      <td>18.68</td>\n",
       "      <td>17.54</td>\n",
       "      <td>18.22</td>\n",
       "      <td>1.14</td>\n",
       "    </tr>\n",
       "    <tr>\n",
       "      <th>2004-01-05</th>\n",
       "      <td>18.45</td>\n",
       "      <td>18.49</td>\n",
       "      <td>17.44</td>\n",
       "      <td>17.49</td>\n",
       "      <td>1.05</td>\n",
       "    </tr>\n",
       "    <tr>\n",
       "      <th>2004-01-06</th>\n",
       "      <td>17.66</td>\n",
       "      <td>17.67</td>\n",
       "      <td>16.19</td>\n",
       "      <td>16.73</td>\n",
       "      <td>1.48</td>\n",
       "    </tr>\n",
       "    <tr>\n",
       "      <th>2004-01-07</th>\n",
       "      <td>16.72</td>\n",
       "      <td>16.75</td>\n",
       "      <td>15.5</td>\n",
       "      <td>15.5</td>\n",
       "      <td>1.25</td>\n",
       "    </tr>\n",
       "    <tr>\n",
       "      <th>2004-01-08</th>\n",
       "      <td>15.42</td>\n",
       "      <td>15.68</td>\n",
       "      <td>15.32</td>\n",
       "      <td>15.61</td>\n",
       "      <td>0.36</td>\n",
       "    </tr>\n",
       "    <tr>\n",
       "      <th>2004-01-09</th>\n",
       "      <td>16.15</td>\n",
       "      <td>16.88</td>\n",
       "      <td>15.57</td>\n",
       "      <td>16.75</td>\n",
       "      <td>1.31</td>\n",
       "    </tr>\n",
       "  </tbody>\n",
       "</table>\n",
       "</div>"
      ],
      "text/plain": [
       "             Open   High    Low  Close Range\n",
       "Date                                        \n",
       "2004-01-02  17.96  18.68  17.54  18.22  1.14\n",
       "2004-01-05  18.45  18.49  17.44  17.49  1.05\n",
       "2004-01-06  17.66  17.67  16.19  16.73  1.48\n",
       "2004-01-07  16.72  16.75   15.5   15.5  1.25\n",
       "2004-01-08  15.42  15.68  15.32  15.61  0.36\n",
       "2004-01-09  16.15  16.88  15.57  16.75  1.31"
      ]
     },
     "execution_count": 25,
     "metadata": {},
     "output_type": "execute_result"
    }
   ],
   "source": [
    "VIX = VIX.set_index (\"Date\")\n",
    "VIX                            # Notice that the Date column is now special"
   ]
  },
  {
   "cell_type": "code",
   "execution_count": 26,
   "id": "7f492e30",
   "metadata": {},
   "outputs": [
    {
     "data": {
      "text/plain": [
       "Index(['Open', 'High', 'Low', 'Close', 'Range'], dtype='object')"
      ]
     },
     "execution_count": 26,
     "metadata": {},
     "output_type": "execute_result"
    }
   ],
   "source": [
    "VIX.columns # Date has disappeared from the list of features."
   ]
  },
  {
   "cell_type": "code",
   "execution_count": 27,
   "id": "48b18a02",
   "metadata": {},
   "outputs": [
    {
     "data": {
      "text/plain": [
       "Index(['2004-01-02', '2004-01-05', '2004-01-06', '2004-01-07', '2004-01-08',\n",
       "       '2004-01-09'],\n",
       "      dtype='object', name='Date')"
      ]
     },
     "execution_count": 27,
     "metadata": {},
     "output_type": "execute_result"
    }
   ],
   "source": [
    "VIX.index   # Date is now indexed so it is special."
   ]
  },
  {
   "cell_type": "code",
   "execution_count": 28,
   "id": "4f1d2c20",
   "metadata": {},
   "outputs": [
    {
     "data": {
      "text/html": [
       "<div>\n",
       "<style scoped>\n",
       "    .dataframe tbody tr th:only-of-type {\n",
       "        vertical-align: middle;\n",
       "    }\n",
       "\n",
       "    .dataframe tbody tr th {\n",
       "        vertical-align: top;\n",
       "    }\n",
       "\n",
       "    .dataframe thead th {\n",
       "        text-align: right;\n",
       "    }\n",
       "</style>\n",
       "<table border=\"1\" class=\"dataframe\">\n",
       "  <thead>\n",
       "    <tr style=\"text-align: right;\">\n",
       "      <th></th>\n",
       "      <th>Open</th>\n",
       "      <th>High</th>\n",
       "      <th>Low</th>\n",
       "      <th>Close</th>\n",
       "    </tr>\n",
       "    <tr>\n",
       "      <th>Date</th>\n",
       "      <th></th>\n",
       "      <th></th>\n",
       "      <th></th>\n",
       "      <th></th>\n",
       "    </tr>\n",
       "  </thead>\n",
       "  <tbody>\n",
       "    <tr>\n",
       "      <th>2004-01-02</th>\n",
       "      <td>17.96</td>\n",
       "      <td>18.68</td>\n",
       "      <td>17.54</td>\n",
       "      <td>18.22</td>\n",
       "    </tr>\n",
       "    <tr>\n",
       "      <th>2004-01-05</th>\n",
       "      <td>18.45</td>\n",
       "      <td>18.49</td>\n",
       "      <td>17.44</td>\n",
       "      <td>17.49</td>\n",
       "    </tr>\n",
       "    <tr>\n",
       "      <th>2004-01-06</th>\n",
       "      <td>17.66</td>\n",
       "      <td>17.67</td>\n",
       "      <td>16.19</td>\n",
       "      <td>16.73</td>\n",
       "    </tr>\n",
       "    <tr>\n",
       "      <th>2004-01-07</th>\n",
       "      <td>16.72</td>\n",
       "      <td>16.75</td>\n",
       "      <td>15.50</td>\n",
       "      <td>15.50</td>\n",
       "    </tr>\n",
       "    <tr>\n",
       "      <th>2004-01-08</th>\n",
       "      <td>15.42</td>\n",
       "      <td>15.68</td>\n",
       "      <td>15.32</td>\n",
       "      <td>15.61</td>\n",
       "    </tr>\n",
       "  </tbody>\n",
       "</table>\n",
       "</div>"
      ],
      "text/plain": [
       "             Open   High    Low  Close\n",
       "Date                                  \n",
       "2004-01-02  17.96  18.68  17.54  18.22\n",
       "2004-01-05  18.45  18.49  17.44  17.49\n",
       "2004-01-06  17.66  17.67  16.19  16.73\n",
       "2004-01-07  16.72  16.75  15.50  15.50\n",
       "2004-01-08  15.42  15.68  15.32  15.61"
      ]
     },
     "execution_count": 28,
     "metadata": {},
     "output_type": "execute_result"
    }
   ],
   "source": [
    "VIXfull = pd.read_csv(\"http://raptor.kent.ac.uk/~ds756/Data/VIX.csv\", index_col=\"Date\") # We can also do it at load time\n",
    "VIXfull.head (5)"
   ]
  },
  {
   "cell_type": "code",
   "execution_count": 29,
   "id": "b6a390fa",
   "metadata": {
    "slideshow": {
     "slide_type": "fragment"
    }
   },
   "outputs": [
    {
     "data": {
      "text/plain": [
       "Date\n",
       "2004-01-02    18.22\n",
       "2004-01-05    17.49\n",
       "2004-01-06    16.73\n",
       "2004-01-07     15.5\n",
       "2004-01-08    15.61\n",
       "Name: Close, dtype: object"
      ]
     },
     "execution_count": 29,
     "metadata": {},
     "output_type": "execute_result"
    }
   ],
   "source": [
    "Close = VIX[\"Close\"]         # We have seen columns subsets already\n",
    "Close.head (5)"
   ]
  },
  {
   "cell_type": "markdown",
   "id": "6b493f6c",
   "metadata": {},
   "source": [
    "<p style=\"font-size:20px\">_____________________________________________________________________________________</p>\n",
    "<p style=\"font-size:20px\">We can also create subsets more generally with Pandas by taking advantage of indices and different strategies.</p>\n",
    "<p style=\"font-size:20px\">We shall examine three principal means:</p>\n",
    "\n",
    "<ul style=\"font-size:20px\">\n",
    "    <li>loc: Logical keys, the contents of the cells.</li>\n",
    "    <li>iloc: Physical, the index/location of the cells.</li>\n",
    "    <li>Slicing: Pyton Slicing</li>\n",
    "</ul>\n",
    "\n",
    "<p style=\"font-size:20px\">______________________________________________________________________________________</p>\n",
    "<p style=\"font-size:20px\">loc(<i style=\"color:#FF0000\";>Pattern to Match</i>)</p>"
   ]
  },
  {
   "cell_type": "code",
   "execution_count": 30,
   "id": "c3917985",
   "metadata": {
    "slideshow": {
     "slide_type": "slide"
    }
   },
   "outputs": [
    {
     "data": {
      "text/plain": [
       "Open     17.66\n",
       "High     17.67\n",
       "Low      16.19\n",
       "Close    16.73\n",
       "Range     1.48\n",
       "Name: 2004-01-06, dtype: object"
      ]
     },
     "execution_count": 30,
     "metadata": {},
     "output_type": "execute_result"
    }
   ],
   "source": [
    "# VIX.loc[18.49] ERROR, we have not indexed that feature\n",
    "\n",
    "VIX.loc[\"2004-01-06\"]         # We have indexed VIX so we can also subset a row by Date\n"
   ]
  },
  {
   "cell_type": "code",
   "execution_count": 31,
   "id": "05010fed",
   "metadata": {
    "slideshow": {
     "slide_type": "slide"
    }
   },
   "outputs": [
    {
     "data": {
      "text/plain": [
       "16.73"
      ]
     },
     "execution_count": 31,
     "metadata": {},
     "output_type": "execute_result"
    }
   ],
   "source": [
    "VIX.loc[\"2004-01-06\", \"Close\"]         # We can futher narrow the scope by specifiying a column"
   ]
  },
  {
   "cell_type": "code",
   "execution_count": 32,
   "id": "8885c271",
   "metadata": {
    "slideshow": {
     "slide_type": "fragment"
    }
   },
   "outputs": [
    {
     "data": {
      "text/html": [
       "<div>\n",
       "<style scoped>\n",
       "    .dataframe tbody tr th:only-of-type {\n",
       "        vertical-align: middle;\n",
       "    }\n",
       "\n",
       "    .dataframe tbody tr th {\n",
       "        vertical-align: top;\n",
       "    }\n",
       "\n",
       "    .dataframe thead th {\n",
       "        text-align: right;\n",
       "    }\n",
       "</style>\n",
       "<table border=\"1\" class=\"dataframe\">\n",
       "  <thead>\n",
       "    <tr style=\"text-align: right;\">\n",
       "      <th></th>\n",
       "      <th>Open</th>\n",
       "      <th>High</th>\n",
       "      <th>Low</th>\n",
       "      <th>Close</th>\n",
       "      <th>Range</th>\n",
       "    </tr>\n",
       "    <tr>\n",
       "      <th>Date</th>\n",
       "      <th></th>\n",
       "      <th></th>\n",
       "      <th></th>\n",
       "      <th></th>\n",
       "      <th></th>\n",
       "    </tr>\n",
       "  </thead>\n",
       "  <tbody>\n",
       "    <tr>\n",
       "      <th>2004-01-06</th>\n",
       "      <td>17.66</td>\n",
       "      <td>17.67</td>\n",
       "      <td>16.19</td>\n",
       "      <td>16.73</td>\n",
       "      <td>1.48</td>\n",
       "    </tr>\n",
       "    <tr>\n",
       "      <th>2004-01-08</th>\n",
       "      <td>15.42</td>\n",
       "      <td>15.68</td>\n",
       "      <td>15.32</td>\n",
       "      <td>15.61</td>\n",
       "      <td>0.36</td>\n",
       "    </tr>\n",
       "  </tbody>\n",
       "</table>\n",
       "</div>"
      ],
      "text/plain": [
       "             Open   High    Low  Close Range\n",
       "Date                                        \n",
       "2004-01-06  17.66  17.67  16.19  16.73  1.48\n",
       "2004-01-08  15.42  15.68  15.32  15.61  0.36"
      ]
     },
     "execution_count": 32,
     "metadata": {},
     "output_type": "execute_result"
    }
   ],
   "source": [
    "VIX.loc[[\"2004-01-06\", \"2004-01-08\"]] # We can specify multiple searches simultaneously"
   ]
  },
  {
   "cell_type": "code",
   "execution_count": 33,
   "id": "d8aa7c1c",
   "metadata": {
    "slideshow": {
     "slide_type": "fragment"
    }
   },
   "outputs": [
    {
     "data": {
      "text/html": [
       "<div>\n",
       "<style scoped>\n",
       "    .dataframe tbody tr th:only-of-type {\n",
       "        vertical-align: middle;\n",
       "    }\n",
       "\n",
       "    .dataframe tbody tr th {\n",
       "        vertical-align: top;\n",
       "    }\n",
       "\n",
       "    .dataframe thead th {\n",
       "        text-align: right;\n",
       "    }\n",
       "</style>\n",
       "<table border=\"1\" class=\"dataframe\">\n",
       "  <thead>\n",
       "    <tr style=\"text-align: right;\">\n",
       "      <th></th>\n",
       "      <th>Open</th>\n",
       "      <th>Close</th>\n",
       "    </tr>\n",
       "    <tr>\n",
       "      <th>Date</th>\n",
       "      <th></th>\n",
       "      <th></th>\n",
       "    </tr>\n",
       "  </thead>\n",
       "  <tbody>\n",
       "    <tr>\n",
       "      <th>2004-01-06</th>\n",
       "      <td>17.66</td>\n",
       "      <td>16.73</td>\n",
       "    </tr>\n",
       "    <tr>\n",
       "      <th>2004-01-08</th>\n",
       "      <td>15.42</td>\n",
       "      <td>15.61</td>\n",
       "    </tr>\n",
       "  </tbody>\n",
       "</table>\n",
       "</div>"
      ],
      "text/plain": [
       "             Open  Close\n",
       "Date                    \n",
       "2004-01-06  17.66  16.73\n",
       "2004-01-08  15.42  15.61"
      ]
     },
     "execution_count": 33,
     "metadata": {},
     "output_type": "execute_result"
    }
   ],
   "source": [
    "VIX.loc[[\"2004-01-06\", \"2004-01-08\"], [\"Open\", \"Close\"]]  # We can request a list of columns too"
   ]
  },
  {
   "cell_type": "code",
   "execution_count": 34,
   "id": "d66975e9",
   "metadata": {},
   "outputs": [
    {
     "data": {
      "text/html": [
       "<div>\n",
       "<style scoped>\n",
       "    .dataframe tbody tr th:only-of-type {\n",
       "        vertical-align: middle;\n",
       "    }\n",
       "\n",
       "    .dataframe tbody tr th {\n",
       "        vertical-align: top;\n",
       "    }\n",
       "\n",
       "    .dataframe thead th {\n",
       "        text-align: right;\n",
       "    }\n",
       "</style>\n",
       "<table border=\"1\" class=\"dataframe\">\n",
       "  <thead>\n",
       "    <tr style=\"text-align: right;\">\n",
       "      <th></th>\n",
       "      <th>Open</th>\n",
       "      <th>High</th>\n",
       "      <th>Low</th>\n",
       "      <th>Close</th>\n",
       "      <th>Range</th>\n",
       "    </tr>\n",
       "    <tr>\n",
       "      <th>Date</th>\n",
       "      <th></th>\n",
       "      <th></th>\n",
       "      <th></th>\n",
       "      <th></th>\n",
       "      <th></th>\n",
       "    </tr>\n",
       "  </thead>\n",
       "  <tbody>\n",
       "    <tr>\n",
       "      <th>2004-01-02</th>\n",
       "      <td>17.96</td>\n",
       "      <td>18.68</td>\n",
       "      <td>17.54</td>\n",
       "      <td>18.22</td>\n",
       "      <td>1.14</td>\n",
       "    </tr>\n",
       "    <tr>\n",
       "      <th>2004-01-05</th>\n",
       "      <td>18.45</td>\n",
       "      <td>18.49</td>\n",
       "      <td>17.44</td>\n",
       "      <td>17.49</td>\n",
       "      <td>1.05</td>\n",
       "    </tr>\n",
       "  </tbody>\n",
       "</table>\n",
       "</div>"
      ],
      "text/plain": [
       "             Open   High    Low  Close Range\n",
       "Date                                        \n",
       "2004-01-02  17.96  18.68  17.54  18.22  1.14\n",
       "2004-01-05  18.45  18.49  17.44  17.49  1.05"
      ]
     },
     "execution_count": 34,
     "metadata": {},
     "output_type": "execute_result"
    }
   ],
   "source": [
    "VIX.loc[VIX[\"High\"] > 18] # Conditional, session highs greater than 18"
   ]
  },
  {
   "cell_type": "markdown",
   "id": "4af3853e",
   "metadata": {},
   "source": [
    "<p style=\"font-size:20px\">______________________________________________________________________________________</p>\n",
    "<p style=\"font-size:20px\">iloc(<i style=\"color:#FF0000\";>Index of Location</i>)</p>"
   ]
  },
  {
   "cell_type": "code",
   "execution_count": 35,
   "id": "ca626184",
   "metadata": {},
   "outputs": [
    {
     "data": {
      "text/plain": [
       "Open     16.15\n",
       "High     16.88\n",
       "Low      15.57\n",
       "Close    16.75\n",
       "Range     1.31\n",
       "Name: 2004-01-09, dtype: object"
      ]
     },
     "execution_count": 35,
     "metadata": {},
     "output_type": "execute_result"
    }
   ],
   "source": [
    "VIX.iloc [5]          # The fifth element of the dataframe"
   ]
  },
  {
   "cell_type": "code",
   "execution_count": 36,
   "id": "375666fe",
   "metadata": {},
   "outputs": [
    {
     "data": {
      "text/html": [
       "<div>\n",
       "<style scoped>\n",
       "    .dataframe tbody tr th:only-of-type {\n",
       "        vertical-align: middle;\n",
       "    }\n",
       "\n",
       "    .dataframe tbody tr th {\n",
       "        vertical-align: top;\n",
       "    }\n",
       "\n",
       "    .dataframe thead th {\n",
       "        text-align: right;\n",
       "    }\n",
       "</style>\n",
       "<table border=\"1\" class=\"dataframe\">\n",
       "  <thead>\n",
       "    <tr style=\"text-align: right;\">\n",
       "      <th></th>\n",
       "      <th>Open</th>\n",
       "      <th>High</th>\n",
       "      <th>Low</th>\n",
       "      <th>Close</th>\n",
       "      <th>Range</th>\n",
       "    </tr>\n",
       "    <tr>\n",
       "      <th>Date</th>\n",
       "      <th></th>\n",
       "      <th></th>\n",
       "      <th></th>\n",
       "      <th></th>\n",
       "      <th></th>\n",
       "    </tr>\n",
       "  </thead>\n",
       "  <tbody>\n",
       "    <tr>\n",
       "      <th>2004-01-05</th>\n",
       "      <td>18.45</td>\n",
       "      <td>18.49</td>\n",
       "      <td>17.44</td>\n",
       "      <td>17.49</td>\n",
       "      <td>1.05</td>\n",
       "    </tr>\n",
       "    <tr>\n",
       "      <th>2004-01-06</th>\n",
       "      <td>17.66</td>\n",
       "      <td>17.67</td>\n",
       "      <td>16.19</td>\n",
       "      <td>16.73</td>\n",
       "      <td>1.48</td>\n",
       "    </tr>\n",
       "    <tr>\n",
       "      <th>2004-01-08</th>\n",
       "      <td>15.42</td>\n",
       "      <td>15.68</td>\n",
       "      <td>15.32</td>\n",
       "      <td>15.61</td>\n",
       "      <td>0.36</td>\n",
       "    </tr>\n",
       "  </tbody>\n",
       "</table>\n",
       "</div>"
      ],
      "text/plain": [
       "             Open   High    Low  Close Range\n",
       "Date                                        \n",
       "2004-01-05  18.45  18.49  17.44  17.49  1.05\n",
       "2004-01-06  17.66  17.67  16.19  16.73  1.48\n",
       "2004-01-08  15.42  15.68  15.32  15.61  0.36"
      ]
     },
     "execution_count": 36,
     "metadata": {},
     "output_type": "execute_result"
    }
   ],
   "source": [
    "VIX.iloc[[1,2,4]]    # A list of indicies"
   ]
  },
  {
   "cell_type": "markdown",
   "id": "f07675f3",
   "metadata": {},
   "source": [
    "<p style=\"font-size:20px\">______________________________________________________________________________________</p>\n",
    "\n",
    "<p style=\"font-size:20px\"><b>Slicing</b></p>\n",
    "\n",
    "<p style=\"font-size:20px\">An important feature of Python is called <i>slicing</i>.</p>\n",
    "\n",
    "<p style=\"font-size:20px\">It takes the form of <i>identifier</i>[start:end:increment], and we can use it with Pandas dataframes.</p>"
   ]
  },
  {
   "cell_type": "code",
   "execution_count": 37,
   "id": "fbab7fff",
   "metadata": {
    "slideshow": {
     "slide_type": "fragment"
    }
   },
   "outputs": [
    {
     "data": {
      "text/html": [
       "<div>\n",
       "<style scoped>\n",
       "    .dataframe tbody tr th:only-of-type {\n",
       "        vertical-align: middle;\n",
       "    }\n",
       "\n",
       "    .dataframe tbody tr th {\n",
       "        vertical-align: top;\n",
       "    }\n",
       "\n",
       "    .dataframe thead th {\n",
       "        text-align: right;\n",
       "    }\n",
       "</style>\n",
       "<table border=\"1\" class=\"dataframe\">\n",
       "  <thead>\n",
       "    <tr style=\"text-align: right;\">\n",
       "      <th></th>\n",
       "      <th>Open</th>\n",
       "      <th>High</th>\n",
       "      <th>Low</th>\n",
       "      <th>Close</th>\n",
       "      <th>Range</th>\n",
       "    </tr>\n",
       "    <tr>\n",
       "      <th>Date</th>\n",
       "      <th></th>\n",
       "      <th></th>\n",
       "      <th></th>\n",
       "      <th></th>\n",
       "      <th></th>\n",
       "    </tr>\n",
       "  </thead>\n",
       "  <tbody>\n",
       "    <tr>\n",
       "      <th>2004-01-06</th>\n",
       "      <td>17.66</td>\n",
       "      <td>17.67</td>\n",
       "      <td>16.19</td>\n",
       "      <td>16.73</td>\n",
       "      <td>1.48</td>\n",
       "    </tr>\n",
       "    <tr>\n",
       "      <th>2004-01-07</th>\n",
       "      <td>16.72</td>\n",
       "      <td>16.75</td>\n",
       "      <td>15.5</td>\n",
       "      <td>15.5</td>\n",
       "      <td>1.25</td>\n",
       "    </tr>\n",
       "    <tr>\n",
       "      <th>2004-01-08</th>\n",
       "      <td>15.42</td>\n",
       "      <td>15.68</td>\n",
       "      <td>15.32</td>\n",
       "      <td>15.61</td>\n",
       "      <td>0.36</td>\n",
       "    </tr>\n",
       "    <tr>\n",
       "      <th>2004-01-09</th>\n",
       "      <td>16.15</td>\n",
       "      <td>16.88</td>\n",
       "      <td>15.57</td>\n",
       "      <td>16.75</td>\n",
       "      <td>1.31</td>\n",
       "    </tr>\n",
       "  </tbody>\n",
       "</table>\n",
       "</div>"
      ],
      "text/plain": [
       "             Open   High    Low  Close Range\n",
       "Date                                        \n",
       "2004-01-06  17.66  17.67  16.19  16.73  1.48\n",
       "2004-01-07  16.72  16.75   15.5   15.5  1.25\n",
       "2004-01-08  15.42  15.68  15.32  15.61  0.36\n",
       "2004-01-09  16.15  16.88  15.57  16.75  1.31"
      ]
     },
     "execution_count": 37,
     "metadata": {},
     "output_type": "execute_result"
    }
   ],
   "source": [
    "VIX[\"2004-01-06\":] # Everything after a date"
   ]
  },
  {
   "cell_type": "code",
   "execution_count": 38,
   "id": "9c0a9730",
   "metadata": {
    "slideshow": {
     "slide_type": "fragment"
    }
   },
   "outputs": [
    {
     "data": {
      "text/html": [
       "<div>\n",
       "<style scoped>\n",
       "    .dataframe tbody tr th:only-of-type {\n",
       "        vertical-align: middle;\n",
       "    }\n",
       "\n",
       "    .dataframe tbody tr th {\n",
       "        vertical-align: top;\n",
       "    }\n",
       "\n",
       "    .dataframe thead th {\n",
       "        text-align: right;\n",
       "    }\n",
       "</style>\n",
       "<table border=\"1\" class=\"dataframe\">\n",
       "  <thead>\n",
       "    <tr style=\"text-align: right;\">\n",
       "      <th></th>\n",
       "      <th>Open</th>\n",
       "      <th>High</th>\n",
       "      <th>Low</th>\n",
       "      <th>Close</th>\n",
       "      <th>Range</th>\n",
       "    </tr>\n",
       "    <tr>\n",
       "      <th>Date</th>\n",
       "      <th></th>\n",
       "      <th></th>\n",
       "      <th></th>\n",
       "      <th></th>\n",
       "      <th></th>\n",
       "    </tr>\n",
       "  </thead>\n",
       "  <tbody>\n",
       "    <tr>\n",
       "      <th>2004-01-02</th>\n",
       "      <td>17.96</td>\n",
       "      <td>18.68</td>\n",
       "      <td>17.54</td>\n",
       "      <td>18.22</td>\n",
       "      <td>1.14</td>\n",
       "    </tr>\n",
       "    <tr>\n",
       "      <th>2004-01-05</th>\n",
       "      <td>18.45</td>\n",
       "      <td>18.49</td>\n",
       "      <td>17.44</td>\n",
       "      <td>17.49</td>\n",
       "      <td>1.05</td>\n",
       "    </tr>\n",
       "    <tr>\n",
       "      <th>2004-01-06</th>\n",
       "      <td>17.66</td>\n",
       "      <td>17.67</td>\n",
       "      <td>16.19</td>\n",
       "      <td>16.73</td>\n",
       "      <td>1.48</td>\n",
       "    </tr>\n",
       "  </tbody>\n",
       "</table>\n",
       "</div>"
      ],
      "text/plain": [
       "             Open   High    Low  Close Range\n",
       "Date                                        \n",
       "2004-01-02  17.96  18.68  17.54  18.22  1.14\n",
       "2004-01-05  18.45  18.49  17.44  17.49  1.05\n",
       "2004-01-06  17.66  17.67  16.19  16.73  1.48"
      ]
     },
     "execution_count": 38,
     "metadata": {},
     "output_type": "execute_result"
    }
   ],
   "source": [
    "VIX[:\"2004-01-06\"] # Everything before a date"
   ]
  },
  {
   "cell_type": "code",
   "execution_count": 39,
   "id": "d45f6398",
   "metadata": {
    "scrolled": true,
    "slideshow": {
     "slide_type": "slide"
    }
   },
   "outputs": [
    {
     "data": {
      "text/html": [
       "<div>\n",
       "<style scoped>\n",
       "    .dataframe tbody tr th:only-of-type {\n",
       "        vertical-align: middle;\n",
       "    }\n",
       "\n",
       "    .dataframe tbody tr th {\n",
       "        vertical-align: top;\n",
       "    }\n",
       "\n",
       "    .dataframe thead th {\n",
       "        text-align: right;\n",
       "    }\n",
       "</style>\n",
       "<table border=\"1\" class=\"dataframe\">\n",
       "  <thead>\n",
       "    <tr style=\"text-align: right;\">\n",
       "      <th></th>\n",
       "      <th>Open</th>\n",
       "      <th>High</th>\n",
       "      <th>Low</th>\n",
       "      <th>Close</th>\n",
       "      <th>Range</th>\n",
       "    </tr>\n",
       "    <tr>\n",
       "      <th>Date</th>\n",
       "      <th></th>\n",
       "      <th></th>\n",
       "      <th></th>\n",
       "      <th></th>\n",
       "      <th></th>\n",
       "    </tr>\n",
       "  </thead>\n",
       "  <tbody>\n",
       "    <tr>\n",
       "      <th>2004-01-06</th>\n",
       "      <td>17.66</td>\n",
       "      <td>17.67</td>\n",
       "      <td>16.19</td>\n",
       "      <td>16.73</td>\n",
       "      <td>1.48</td>\n",
       "    </tr>\n",
       "    <tr>\n",
       "      <th>2004-01-07</th>\n",
       "      <td>16.72</td>\n",
       "      <td>16.75</td>\n",
       "      <td>15.5</td>\n",
       "      <td>15.5</td>\n",
       "      <td>1.25</td>\n",
       "    </tr>\n",
       "    <tr>\n",
       "      <th>2004-01-08</th>\n",
       "      <td>15.42</td>\n",
       "      <td>15.68</td>\n",
       "      <td>15.32</td>\n",
       "      <td>15.61</td>\n",
       "      <td>0.36</td>\n",
       "    </tr>\n",
       "    <tr>\n",
       "      <th>2004-01-09</th>\n",
       "      <td>16.15</td>\n",
       "      <td>16.88</td>\n",
       "      <td>15.57</td>\n",
       "      <td>16.75</td>\n",
       "      <td>1.31</td>\n",
       "    </tr>\n",
       "  </tbody>\n",
       "</table>\n",
       "</div>"
      ],
      "text/plain": [
       "             Open   High    Low  Close Range\n",
       "Date                                        \n",
       "2004-01-06  17.66  17.67  16.19  16.73  1.48\n",
       "2004-01-07  16.72  16.75   15.5   15.5  1.25\n",
       "2004-01-08  15.42  15.68  15.32  15.61  0.36\n",
       "2004-01-09  16.15  16.88  15.57  16.75  1.31"
      ]
     },
     "execution_count": 39,
     "metadata": {},
     "output_type": "execute_result"
    }
   ],
   "source": [
    "VIX[\"2004-01-06\":\"2004-01-10\"] # Everything between the dates"
   ]
  },
  {
   "cell_type": "code",
   "execution_count": 40,
   "id": "8e032408",
   "metadata": {
    "scrolled": true,
    "slideshow": {
     "slide_type": "fragment"
    }
   },
   "outputs": [
    {
     "data": {
      "text/html": [
       "<div>\n",
       "<style scoped>\n",
       "    .dataframe tbody tr th:only-of-type {\n",
       "        vertical-align: middle;\n",
       "    }\n",
       "\n",
       "    .dataframe tbody tr th {\n",
       "        vertical-align: top;\n",
       "    }\n",
       "\n",
       "    .dataframe thead th {\n",
       "        text-align: right;\n",
       "    }\n",
       "</style>\n",
       "<table border=\"1\" class=\"dataframe\">\n",
       "  <thead>\n",
       "    <tr style=\"text-align: right;\">\n",
       "      <th></th>\n",
       "      <th>Open</th>\n",
       "      <th>High</th>\n",
       "      <th>Low</th>\n",
       "      <th>Close</th>\n",
       "      <th>Range</th>\n",
       "    </tr>\n",
       "    <tr>\n",
       "      <th>Date</th>\n",
       "      <th></th>\n",
       "      <th></th>\n",
       "      <th></th>\n",
       "      <th></th>\n",
       "      <th></th>\n",
       "    </tr>\n",
       "  </thead>\n",
       "  <tbody>\n",
       "    <tr>\n",
       "      <th>2004-01-06</th>\n",
       "      <td>17.66</td>\n",
       "      <td>17.67</td>\n",
       "      <td>16.19</td>\n",
       "      <td>16.73</td>\n",
       "      <td>1.48</td>\n",
       "    </tr>\n",
       "    <tr>\n",
       "      <th>2004-01-08</th>\n",
       "      <td>15.42</td>\n",
       "      <td>15.68</td>\n",
       "      <td>15.32</td>\n",
       "      <td>15.61</td>\n",
       "      <td>0.36</td>\n",
       "    </tr>\n",
       "  </tbody>\n",
       "</table>\n",
       "</div>"
      ],
      "text/plain": [
       "             Open   High    Low  Close Range\n",
       "Date                                        \n",
       "2004-01-06  17.66  17.67  16.19  16.73  1.48\n",
       "2004-01-08  15.42  15.68  15.32  15.61  0.36"
      ]
     },
     "execution_count": 40,
     "metadata": {},
     "output_type": "execute_result"
    }
   ],
   "source": [
    "VIX[\"2004-01-06\":\"2004-01-09\":2] # Everything between the dates, stride of 2"
   ]
  }
 ],
 "metadata": {
  "kernelspec": {
   "display_name": "Python 3 (ipykernel)",
   "language": "python",
   "name": "python3"
  },
  "language_info": {
   "codemirror_mode": {
    "name": "ipython",
    "version": 3
   },
   "file_extension": ".py",
   "mimetype": "text/x-python",
   "name": "python",
   "nbconvert_exporter": "python",
   "pygments_lexer": "ipython3",
   "version": "3.10.12"
  }
 },
 "nbformat": 4,
 "nbformat_minor": 5
}
