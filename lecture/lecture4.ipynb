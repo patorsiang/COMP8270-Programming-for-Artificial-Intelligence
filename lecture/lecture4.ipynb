{
 "cells": [
  {
   "cell_type": "code",
   "execution_count": 2,
   "metadata": {},
   "outputs": [],
   "source": [
    "def factory(a_type):\n",
    "  return a_type ()"
   ]
  },
  {
   "cell_type": "code",
   "execution_count": 4,
   "metadata": {},
   "outputs": [
    {
     "data": {
      "text/plain": [
       "0"
      ]
     },
     "execution_count": 4,
     "metadata": {},
     "output_type": "execute_result"
    }
   ],
   "source": [
    "x = factory(int)\n",
    "x"
   ]
  },
  {
   "cell_type": "code",
   "execution_count": 5,
   "metadata": {},
   "outputs": [
    {
     "data": {
      "text/plain": [
       "int"
      ]
     },
     "execution_count": 5,
     "metadata": {},
     "output_type": "execute_result"
    }
   ],
   "source": [
    "type(x)"
   ]
  },
  {
   "cell_type": "code",
   "execution_count": 6,
   "metadata": {},
   "outputs": [],
   "source": [
    "TypeList = [int, str]"
   ]
  },
  {
   "cell_type": "code",
   "execution_count": 1,
   "metadata": {},
   "outputs": [
    {
     "name": "stdout",
     "output_type": "stream",
     "text": [
      "-1000\n",
      "1000\n",
      "-2000\n",
      "-3000\n"
     ]
    }
   ],
   "source": [
    "class Account:\n",
    "  Overdraft = -1000 # Per Class\n",
    "  def __init__(self, Owner, Balance):\n",
    "    self.Owner = Owner # Per instance\n",
    "    self.Balance = Balance # Per instance\n",
    "\n",
    "print(Account.Overdraft)\n",
    "MyAcct = Account(\"Doug\", 1000)\n",
    "print(MyAcct.Balance)\n",
    "Account.Overdraft = -2000 # All Account objects see this change\n",
    "MyAcct.Overdraft = -3000 # Over-ride class in instance\n",
    "print(Account.Overdraft)\n",
    "print(MyAcct.Overdraft)"
   ]
  },
  {
   "cell_type": "code",
   "execution_count": null,
   "metadata": {},
   "outputs": [],
   "source": []
  }
 ],
 "metadata": {
  "kernelspec": {
   "display_name": "Python 3 (ipykernel)",
   "language": "python",
   "name": "python3"
  },
  "language_info": {
   "codemirror_mode": {
    "name": "ipython",
    "version": 3
   },
   "file_extension": ".py",
   "mimetype": "text/x-python",
   "name": "python",
   "nbconvert_exporter": "python",
   "pygments_lexer": "ipython3",
   "version": "3.10.12"
  }
 },
 "nbformat": 4,
 "nbformat_minor": 2
}
