{
 "cells": [
  {
   "cell_type": "code",
   "execution_count": 1,
   "id": "9cee017a",
   "metadata": {},
   "outputs": [
    {
     "name": "stderr",
     "output_type": "stream",
     "text": [
      "2023-12-14 13:23:53.312239: E tensorflow/compiler/xla/stream_executor/cuda/cuda_dnn.cc:9342] Unable to register cuDNN factory: Attempting to register factory for plugin cuDNN when one has already been registered\n",
      "2023-12-14 13:23:53.312341: E tensorflow/compiler/xla/stream_executor/cuda/cuda_fft.cc:609] Unable to register cuFFT factory: Attempting to register factory for plugin cuFFT when one has already been registered\n",
      "2023-12-14 13:23:53.312379: E tensorflow/compiler/xla/stream_executor/cuda/cuda_blas.cc:1518] Unable to register cuBLAS factory: Attempting to register factory for plugin cuBLAS when one has already been registered\n",
      "2023-12-14 13:23:54.833118: W tensorflow/compiler/tf2tensorrt/utils/py_utils.cc:38] TF-TRT Warning: Could not find TensorRT\n"
     ]
    }
   ],
   "source": [
    "from keras.models import Sequential\n",
    "from keras.layers import Dense\n",
    "from keras.layers import Softmax as Softmax\n",
    "from keras.layers import Conv2D as CNN\n",
    "from keras.layers import MaxPooling2D as MaxPool\n",
    "from keras.layers import Flatten as Flatten\n",
    "\n",
    "from tensorflow.keras.utils import to_categorical\n",
    "import keras as keras\n",
    "\n",
    "from numpy import array\n",
    "import numpy as np\n",
    "\n",
    "import matplotlib.pyplot as plt\n",
    "import time"
   ]
  },
  {
   "cell_type": "code",
   "execution_count": null,
   "id": "c18a1fbd",
   "metadata": {},
   "outputs": [],
   "source": []
  },
  {
   "cell_type": "code",
   "execution_count": 2,
   "id": "8886493b",
   "metadata": {},
   "outputs": [],
   "source": [
    "N_digits = 60000\n",
    "D_Size = 784\n",
    "D_bytes = N_digits * D_Size\n",
    "D_rows = N_digits * 28"
   ]
  },
  {
   "cell_type": "code",
   "execution_count": 3,
   "id": "964301ea",
   "metadata": {},
   "outputs": [
    {
     "data": {
      "text/plain": [
       "47040016"
      ]
     },
     "execution_count": 3,
     "metadata": {},
     "output_type": "execute_result"
    }
   ],
   "source": [
    "MNIST_file = open (\"../Data/train-images.idx3-ubyte\", \"rb\")\n",
    "z = MNIST_file.read (16 + D_bytes)\n",
    "len (z)"
   ]
  },
  {
   "cell_type": "code",
   "execution_count": 4,
   "id": "0c2e4201",
   "metadata": {},
   "outputs": [],
   "source": [
    "# 4 words of metadata in the header, skip\n",
    "digits_raw = z[16:(16 + D_bytes)]\n",
    "\n",
    "w = np.empty (shape=(D_rows, 28))"
   ]
  },
  {
   "cell_type": "code",
   "execution_count": 5,
   "id": "f9516c1e",
   "metadata": {},
   "outputs": [
    {
     "name": "stdout",
     "output_type": "stream",
     "text": [
      "47040000\n"
     ]
    }
   ],
   "source": [
    "print (len (digits_raw))\n",
    "\n",
    "# convert the bytes to Numpy floats for Keras\n",
    "for i in range (0, D_rows) :\n",
    "    for j in range (0,28) :\n",
    "        w[i, j] = float (digits_raw[i*28 + j])/255"
   ]
  },
  {
   "cell_type": "code",
   "execution_count": 6,
   "id": "ec159479",
   "metadata": {},
   "outputs": [
    {
     "data": {
      "text/plain": [
       "(60000, 28, 28)"
      ]
     },
     "execution_count": 6,
     "metadata": {},
     "output_type": "execute_result"
    }
   ],
   "source": [
    "# Re-shape the training set to reflect their structure\n",
    "# 60,000 hand-written digits, 28x28 pixels\n",
    "Training = w.reshape (N_digits, 28, 28)\n",
    "\n",
    "np.shape (Training)"
   ]
  },
  {
   "cell_type": "code",
   "execution_count": 7,
   "id": "96a6c53b",
   "metadata": {},
   "outputs": [
    {
     "data": {
      "image/png": "[encoded data removed]",
      "text/plain": [
       "<Figure size 640x480 with 9 Axes>"
      ]
     },
     "metadata": {},
     "output_type": "display_data"
    }
   ],
   "source": [
    "# Visual inspection, verify shaping worked\n",
    "look = np.random.uniform (0, 60000, 9)\n",
    "\n",
    "dummy, Z = plt.subplots (3, 3)\n",
    "\n",
    "for i in range (0, 3):\n",
    "    for j in range (0, 3):\n",
    "        Z[i, j].imshow (Training[int (look [i*3 + j])])\n",
    "\n"
   ]
  },
  {
   "cell_type": "code",
   "execution_count": 8,
   "id": "4caba508",
   "metadata": {},
   "outputs": [],
   "source": [
    "# Load the labels\n",
    "#\n",
    "# Same procedure as above.  Move past header and convert bytes\n",
    "# to Numpy floats for use as categories.\n",
    "#\n",
    "\n",
    "Labels_file = open (\"../Data/train-labels.idx1-ubyte\", \"rb\")\n",
    "Labels_raw = Labels_file.read (8 + N_digits)\n",
    "\n",
    "Labels = np.empty (N_digits)\n",
    "for i in range (0, N_digits):\n",
    "    Labels[i] = int (Labels_raw[8 + i])\n",
    "\n",
    "RawLabels = Labels\n",
    "# The classes of the digits, 0:9\n",
    "# Answers = range (0, 10)\n",
    "\n",
    "Labels = to_categorical (Labels)\n"
   ]
  },
  {
   "cell_type": "code",
   "execution_count": 9,
   "id": "6c5a8d75",
   "metadata": {},
   "outputs": [
    {
     "data": {
      "text/plain": [
       "array([0., 0., 0., 0., 0., 0., 1., 0., 0., 0.], dtype=float32)"
      ]
     },
     "execution_count": 9,
     "metadata": {},
     "output_type": "execute_result"
    }
   ],
   "source": [
    "\n",
    "# Verify hot encoding\n",
    "\n",
    "Labels[58259]"
   ]
  },
  {
   "cell_type": "code",
   "execution_count": 10,
   "id": "da39d629",
   "metadata": {},
   "outputs": [
    {
     "name": "stdout",
     "output_type": "stream",
     "text": [
      "Model: \"sequential\"\n",
      "_________________________________________________________________\n",
      " Layer (type)                Output Shape              Param #   \n",
      "=================================================================\n",
      " conv2d (Conv2D)             (None, 26, 26, 5)         50        \n",
      "                                                                 \n",
      " max_pooling2d (MaxPooling2  (None, 25, 25, 5)         0         \n",
      " D)                                                              \n",
      "                                                                 \n",
      " flatten (Flatten)           (None, 3125)              0         \n",
      "                                                                 \n",
      " dense (Dense)               (None, 50)                156300    \n",
      "                                                                 \n",
      " dense_1 (Dense)             (None, 10)                510       \n",
      "                                                                 \n",
      "=================================================================\n",
      "Total params: 156860 (612.73 KB)\n",
      "Trainable params: 156860 (612.73 KB)\n",
      "Non-trainable params: 0 (0.00 Byte)\n",
      "_________________________________________________________________\n"
     ]
    }
   ],
   "source": [
    "# Build the model\n",
    "\n",
    "model = Sequential()                                                 \n",
    "\n",
    "# Convolutional (filter) layer.  5 planes of 3x3 filters\n",
    "model.add (CNN (5, kernel_size=3, activation=\"relu\", input_shape=(28,28,1)))\n",
    "\n",
    "# Maxpool layer, samples of 2x2\n",
    "model.add (MaxPool (pool_size=(2, 2), strides=(1,1), padding=\"valid\"))\n",
    "\n",
    "# The output of the above layers are arrays, turn them into vectors\n",
    "# for the neural network\n",
    "model.add (Flatten ())\n",
    "\n",
    "# 50 neurons\n",
    "model.add (Dense(50, activation='relu'))\n",
    "\n",
    "# 10 classes (digits 0:9)\n",
    "model.add (Dense (10, activation='softmax'))\n",
    "\n",
    "model.compile (loss='categorical_crossentropy', optimizer='SGD')\n",
    "\n",
    "model.summary ()"
   ]
  },
  {
   "cell_type": "code",
   "execution_count": 11,
   "id": "8bf221be",
   "metadata": {},
   "outputs": [
    {
     "name": "stdout",
     "output_type": "stream",
     "text": [
      "Epoch 1/5\n",
      "1875/1875 [==============================] - 28s 14ms/step - loss: 0.3751\n",
      "Epoch 2/5\n",
      "1875/1875 [==============================] - 28s 15ms/step - loss: 0.1986\n",
      "Epoch 3/5\n",
      "1875/1875 [==============================] - 27s 14ms/step - loss: 0.1546\n",
      "Epoch 4/5\n",
      "1875/1875 [==============================] - 27s 14ms/step - loss: 0.1297\n",
      "Epoch 5/5\n",
      "1875/1875 [==============================] - 27s 14ms/step - loss: 0.1115\n",
      "136.53987741470337\n"
     ]
    }
   ],
   "source": [
    "Nepochs = 5\n",
    "\n",
    "start = time.time ()\n",
    "\n",
    "h = model.fit (Training, Labels, epochs=Nepochs, verbose=True)\n",
    "\n",
    "dt = time.time () - start\n",
    "print (dt)\n"
   ]
  },
  {
   "cell_type": "code",
   "execution_count": 12,
   "id": "a428d1e3",
   "metadata": {},
   "outputs": [
    {
     "name": "stdout",
     "output_type": "stream",
     "text": [
      "0.11152174323797226\n"
     ]
    },
    {
     "data": {
      "image/png": "[encoded data removed]",
      "text/plain": [
       "<Figure size 640x480 with 1 Axes>"
      ]
     },
     "metadata": {},
     "output_type": "display_data"
    }
   ],
   "source": [
    "def LossHistory (history):\n",
    "  plt.plot (history.history['loss'], label='Loss')\n",
    "  plt.xlabel ('Epoch')\n",
    "  plt.ylabel ('Loss')\n",
    "  plt.legend ()\n",
    "  plt.grid (True)\n",
    "  plt.show ()\n",
    "\n",
    "print (h.history['loss'][Nepochs - 1])\n",
    "LossHistory (h)\n"
   ]
  },
  {
   "cell_type": "code",
   "execution_count": 13,
   "id": "e3833853-f1a1-4e1d-8b06-97c1a3c2c672",
   "metadata": {},
   "outputs": [],
   "source": [
    "Z = model.predict (Training, verbose=False)\n",
    "\n",
    "predictions = Z.argmax (1)"
   ]
  },
  {
   "cell_type": "code",
   "execution_count": 14,
   "id": "85e5dd9d-d943-4800-8b6e-97bb19db3cf1",
   "metadata": {},
   "outputs": [
    {
     "data": {
      "text/plain": [
       "(60000,)"
      ]
     },
     "execution_count": 14,
     "metadata": {},
     "output_type": "execute_result"
    }
   ],
   "source": [
    "Z.argmax (1).shape"
   ]
  },
  {
   "cell_type": "code",
   "execution_count": 15,
   "id": "0ead1dce-eb7d-4383-b796-a9b0be6facc9",
   "metadata": {},
   "outputs": [
    {
     "data": {
      "text/plain": [
       "0.9710166666666666"
      ]
     },
     "execution_count": 15,
     "metadata": {},
     "output_type": "execute_result"
    }
   ],
   "source": [
    "sum (predictions == RawLabels) / 60000"
   ]
  },
  {
   "cell_type": "code",
   "execution_count": 16,
   "id": "55bdc21f",
   "metadata": {},
   "outputs": [
    {
     "data": {
      "text/plain": [
       "4"
      ]
     },
     "execution_count": 16,
     "metadata": {},
     "output_type": "execute_result"
    }
   ],
   "source": [
    "wrong = list ()\n",
    "\n",
    "for i in range (20000, 20100):\n",
    "    if predictions[i] != RawLabels[i]:\n",
    "        wrong.append (i)\n",
    "\n",
    "len (wrong)"
   ]
  },
  {
   "cell_type": "code",
   "execution_count": 17,
   "id": "dfd1c3c4",
   "metadata": {},
   "outputs": [
    {
     "data": {
      "text/plain": [
       "[20016, 20050, 20068, 20072]"
      ]
     },
     "execution_count": 17,
     "metadata": {},
     "output_type": "execute_result"
    }
   ],
   "source": [
    "wrong"
   ]
  },
  {
   "cell_type": "code",
   "execution_count": 18,
   "id": "76d19f05",
   "metadata": {},
   "outputs": [
    {
     "data": {
      "image/png": "[encoded data removed]",
      "text/plain": [
       "<Figure size 1400x1400 with 4 Axes>"
      ]
     },
     "metadata": {},
     "output_type": "display_data"
    }
   ],
   "source": [
    "work = len (wrong)\n",
    "\n",
    "dummy, Z = plt.subplots (work, figsize = (14,14))\n",
    "\n",
    "for i in range (0, work):\n",
    "    Z[i].imshow (Training [wrong [i]])"
   ]
  },
  {
   "cell_type": "code",
   "execution_count": 19,
   "id": "c72ce286",
   "metadata": {},
   "outputs": [
    {
     "name": "stdout",
     "output_type": "stream",
     "text": [
      "7840000\n"
     ]
    }
   ],
   "source": [
    "#\n",
    "# How well does our model generalize?  We need data that it is have never\n",
    "# seen before: a test set.\n",
    "#\n",
    "\n",
    "N_digits = 10000\n",
    "D_Size = 784\n",
    "D_bytes = N_digits * D_Size\n",
    "D_rows = N_digits * 28\n",
    "\n",
    "MNIST_file = open (\"../Data/t10k-images.idx3-ubyte\", \"rb\")\n",
    "z = MNIST_file.read (16 + D_bytes)\n",
    "len (z)\n",
    "\n",
    "# 4 words of metadata in the header, skip\n",
    "digits_raw = z[16:(16 + D_bytes)]\n",
    "w = np.empty (shape=(D_rows, 28))\n",
    "\n",
    "print (len (digits_raw))\n",
    "\n",
    "# convert the bytes to Numpy floats for Keras\n",
    "for i in range (0, D_rows) :\n",
    "    for j in range (0,28) :\n",
    "        w[i, j] = float (digits_raw[i*28 + j])/255\n",
    "\n",
    "# Re-shape the training set to reflect their structure\n",
    "# 10,000 hand-written digits, 28x28 pixels\n",
    "Training = w.reshape (N_digits, 28, 28)\n",
    "\n",
    "np.shape (Training)\n",
    "\n",
    "# Load the labels\n",
    "#\n",
    "# Same procedure as above.  Move past header and convert bytes\n",
    "# to Numpy floats for use as categories.\n",
    "#\n",
    "\n",
    "Labels_file = open (\"../Data/t10k-labels.idx1-ubyte\", \"rb\")\n",
    "Labels_raw = Labels_file.read (8 + N_digits)\n",
    "\n",
    "Labels = np.empty (N_digits)\n",
    "for i in range (0, N_digits):\n",
    "    Labels[i] = int (Labels_raw[8 + i])\n",
    "\n",
    "# The classes of the digits, 0:9\n",
    "# Answers = range (0, 10)\n",
    "\n",
    "# Labels = to_categorical (Labels)\n"
   ]
  },
  {
   "cell_type": "code",
   "execution_count": 20,
   "id": "973be377-d1b5-45aa-8fe1-3543c8bb8bf2",
   "metadata": {},
   "outputs": [
    {
     "data": {
      "text/plain": [
       "0.97"
      ]
     },
     "execution_count": 20,
     "metadata": {},
     "output_type": "execute_result"
    }
   ],
   "source": [
    "Z = model.predict (Training, verbose=False)\n",
    "\n",
    "predictions = Z.argmax (1)\n",
    "sum (predictions == Labels) / 10000\n"
   ]
  }
 ],
 "metadata": {
  "kernelspec": {
   "display_name": "Python 3 (ipykernel)",
   "language": "python",
   "name": "python3"
  },
  "language_info": {
   "codemirror_mode": {
    "name": "ipython",
    "version": 3
   },
   "file_extension": ".py",
   "mimetype": "text/x-python",
   "name": "python",
   "nbconvert_exporter": "python",
   "pygments_lexer": "ipython3",
   "version": "3.9.10"
  }
 },
 "nbformat": 4,
 "nbformat_minor": 5
}
