{
 "cells": [
  {
   "cell_type": "code",
   "execution_count": 21,
   "id": "46083633-3c88-4c50-ac08-824279f57acc",
   "metadata": {},
   "outputs": [
    {
     "name": "stdout",
     "output_type": "stream",
     "text": [
      "[]\n",
      "[]\n",
      "[5]\n",
      "['a']\n",
      "[1, 2, 'a']\n",
      "['F', 'e', 'r', 'n', 'a', 'n', 'd', 'o']\n",
      "['Two']\n",
      "['Two', 'Three']\n",
      "['One', 'Two', 'Three']\n",
      "['One', 'Two', 'Three', -1]\n",
      "['One', 'Two', 'Three']\n",
      "['One', 'Three']\n",
      "['Three']\n",
      "['One', 'Two', 'Three']\n",
      "['Four']\n",
      "['One', 'Two', 'Three', 'Four']\n",
      "['One', 'Two', 'Three', 'Four']\n"
     ]
    }
   ],
   "source": [
    "# List = Flexible ordered collection like ArrayList in Java\n",
    "\n",
    "# List creation\n",
    "a_list = list()  # using the list() type function\n",
    "print(a_list)\n",
    "a_list = []      # using []'s\n",
    "print(a_list)\n",
    "\n",
    "b_list = [5]         # 1 element int \n",
    "print(b_list)\n",
    "b_list = ['a']       # 1 element string \n",
    "print(b_list)\n",
    "b_list = [1, 2, 'a'] # 2 elements int, 1 string\n",
    "print(b_list)\n",
    "\n",
    "## the constructor with any iterable\n",
    "b_list = list(\"Fernando\") # ['F', 'e', 'r', 'n', 'a', 'n', 'd', 'o']\n",
    "print(b_list)\n",
    "\n",
    "# Adding elements to a list\n",
    "b_list = [\"Two\"] \n",
    "print(b_list)\n",
    "## append(): adds an element to the end of the list\n",
    "b_list.append(\"Three\") # [\"Two\", \"Three\"]\n",
    "print(b_list)\n",
    "## insert(): inserts an element at a specific position\n",
    "b_list.insert(0, \"One\") # [\"One\", \"Two\", \"Three\"]\n",
    "print(b_list)\n",
    "b_list.insert(100, -1)\n",
    "print(b_list)\n",
    "\n",
    "# Removing elements\n",
    "a_list = [\"One\", \"Two\", \"Three\"] \n",
    "print(a_list)\n",
    "## pop(): removes an element at specific index\n",
    "a_list.pop(1) # [\"One\", \"Three\"]\n",
    "print(a_list)\n",
    "## remove(): removes the specified value from the list\n",
    "a_list.remove(\"One\") # [\"Three\"]\n",
    "print(a_list)\n",
    "\n",
    "a_list = [\"One\", \"Two\", \"Three\"] \n",
    "print(a_list)\n",
    "b_list = [\"Four\"] \n",
    "print(b_list)\n",
    "combined = a_list + b_list # [\"One\", \"Two\", \"Three\", \"Four\"]\n",
    "print(combined)\n",
    "a_list.extend(b_list) \n",
    "print(a_list)\n"
   ]
  },
  {
   "cell_type": "code",
   "execution_count": 29,
   "id": "38d6d6ba-8381-4be1-9359-d825932231eb",
   "metadata": {},
   "outputs": [
    {
     "name": "stdout",
     "output_type": "stream",
     "text": [
      "{}\n",
      "{}\n",
      "{'eggs': 3, 'muffin': 5, 'toast': 4, 'ham': 1}\n",
      "some value\n",
      "3\n"
     ]
    },
    {
     "data": {
      "text/plain": [
       "'some other value'"
      ]
     },
     "execution_count": 29,
     "metadata": {},
     "output_type": "execute_result"
    }
   ],
   "source": [
    "# Dict\n",
    "\n",
    "# Creation\n",
    "empty_dict = dict()  # using the dict() type function\n",
    "print(empty_dict)\n",
    "empty_dict = {}      # using {}'s\n",
    "print(empty_dict)\n",
    "d1 = {\"eggs\" : 3, \"muffin\" : 5, \"toast\" : 4, \"ham\" : 1}\n",
    "print(d1)\n",
    "\n",
    "# adds a new (key, value) pair \n",
    "d1[\"a\"] = \"some value\" \n",
    "d1[7] = \"an integer\"\n",
    "# retrieves a value from the dict \n",
    "print(d1[\"a\"]) # prints \"some value\"\n",
    "print(d1[\"eggs\"]) \n",
    "# updates item with key \"a\" \n",
    "d1[\"a\"] = \"some other value\"\n",
    "# removes item with key \"a\" \n",
    "d1.pop(\"a\")"
   ]
  },
  {
   "cell_type": "code",
   "execution_count": 33,
   "id": "884d511d-c8c0-4bfd-9993-d90e1b8a2da8",
   "metadata": {},
   "outputs": [
    {
     "name": "stdout",
     "output_type": "stream",
     "text": [
      "set()\n",
      "{1, 2, 3, 4}\n",
      "{'first'}\n",
      "set()\n",
      "{1, 2, 3, 4, 5}\n",
      "{3}\n"
     ]
    }
   ],
   "source": [
    "# Set\n",
    "\n",
    "s1 = set()        # using the set() type function\n",
    "print(s1)\n",
    "s2 = {1, 2, 3, 4} # using {}’s but the set cannot be empty\n",
    "print(s2)\n",
    "s1.add(\"first\") # {\"first\"}\n",
    "print(s1)\n",
    "s1.remove(\"first\") # {}\n",
    "print(s1)\n",
    "\n",
    "s1 = {1, 2, 3} \n",
    "s2 = {3, 4, 5} \n",
    "s3 = s1.union(s2) # {1, 2, 3, 4, 5}\n",
    "print(s3)\n",
    "s4 = s1.intersection(s2) \n",
    "print(s4)"
   ]
  },
  {
   "cell_type": "code",
   "execution_count": 36,
   "id": "12bf9367-ca1d-4b55-899a-aed42c44dc1d",
   "metadata": {},
   "outputs": [
    {
     "name": "stdout",
     "output_type": "stream",
     "text": [
      "()\n",
      "(1, 2)\n",
      "(3, 4, 5)\n",
      "('foo', [1, 2], True)\n",
      "('foo', [1, 2, 3], True)\n",
      "foo [1, 2, 3] True\n"
     ]
    }
   ],
   "source": [
    "# Tuples\n",
    "t1 = ()               # an empty tuple\n",
    "print(t1)\n",
    "t2 = (1, 2)           # tuple with 2 elements\n",
    "print(t2)\n",
    "t3 = tuple([3, 4, 5]) # tuple from a list\n",
    "print(t3)\n",
    "t3 = tuple([\"foo\", [1, 2], True]) # tuple from a list # (\"foo\", [1, 2], True)\n",
    "print(t3)\n",
    "t3[1].append(3) # (\"foo\", [1, 2, 3], True)\n",
    "print(t3)\n",
    "\n",
    "## Unpacking tuples\n",
    "a, b, c = t3\n",
    "print(a, b, c)\n",
    "\n",
    "a, b = 1, 2     # a = 1, b = 2 \n",
    "b, a = a, b # a = 2, b = 1\n"
   ]
  },
  {
   "cell_type": "code",
   "execution_count": 39,
   "id": "8651eb45-d8a9-4d27-a8d2-63c07f6bbc1c",
   "metadata": {},
   "outputs": [
    {
     "name": "stdout",
     "output_type": "stream",
     "text": [
      "['One', 'Two', 'Three', 'Four'] 4\n",
      "{'eggs': 3, 'muffin': 5, 'toast': 4, 'ham': 1, 7: 'an integer'} 5\n",
      "('foo', [1, 2, 3], True) 3\n"
     ]
    }
   ],
   "source": [
    "# length\n",
    "print(a_list, len(a_list))\n",
    "print(d1, len(d1))\n",
    "print(t3, len(t3))"
   ]
  },
  {
   "cell_type": "code",
   "execution_count": 41,
   "id": "7d7a324b-2e84-4b7c-a5a8-77d0f0cd90dc",
   "metadata": {},
   "outputs": [
    {
     "name": "stdout",
     "output_type": "stream",
     "text": [
      "1\n",
      "2\n",
      "3\n",
      "4\n",
      "5\n",
      "1 at index 0\n",
      "2 at index 1\n",
      "3 at index 2\n",
      "4 at index 3\n",
      "5 at index 4\n",
      "3\n",
      "5\n",
      "3\n",
      "5\n",
      "3 with key blue\n",
      "5 with key red\n"
     ]
    }
   ],
   "source": [
    "# Loops\n",
    "numbers  = [1, 2, 3, 4, 5]\n",
    "for value in numbers: \n",
    "    print(value)\n",
    "\n",
    "numbers  = [1, 2, 3, 4, 5]\n",
    "for i, value in enumerate(numbers): \n",
    "    print(value, \"at index\", i)\n",
    "\n",
    "colours  = {\"blue\" : 3, \"red\" : 5} # iterates over the keys \n",
    "for key in colours:\n",
    "    print(colours[key])   # prints the value\n",
    "    \n",
    "# iterates over the values \n",
    "for value in colours.values():\n",
    "    print(value)          # prints the value\n",
    "\n",
    "# iterates over the keys and values \n",
    "for key, value in colours.items():\n",
    "    print(value, \"with key\", key) # prints key and value\n"
   ]
  },
  {
   "cell_type": "code",
   "execution_count": null,
   "id": "f6eb8cda-27e2-4e87-84a6-79dd758bd36a",
   "metadata": {},
   "outputs": [],
   "source": []
  }
 ],
 "metadata": {
  "kernelspec": {
   "display_name": "Python 3 (ipykernel)",
   "language": "python",
   "name": "python3"
  },
  "language_info": {
   "codemirror_mode": {
    "name": "ipython",
    "version": 3
   },
   "file_extension": ".py",
   "mimetype": "text/x-python",
   "name": "python",
   "nbconvert_exporter": "python",
   "pygments_lexer": "ipython3",
   "version": "3.10.12"
  }
 },
 "nbformat": 4,
 "nbformat_minor": 5
}
