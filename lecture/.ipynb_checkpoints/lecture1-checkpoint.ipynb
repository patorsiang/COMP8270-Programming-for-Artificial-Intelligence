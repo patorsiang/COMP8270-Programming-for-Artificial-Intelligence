{
 "cells": [
  {
   "cell_type": "code",
   "execution_count": null,
   "id": "5f5ced39-33ca-4286-9bcf-c2f41379f9e3",
   "metadata": {},
   "outputs": [],
   "source": [
    "x = 10\n",
    "if x < 0:\n",
    "    print(\"nagative\")\n",
    "elif x == 0:\n",
    "    print(\"zero\")\n",
    "else:\n",
    "    print(\"positive\")\n",
    "print(\"negative\" if x < 0 else \"positive\")"
   ]
  },
  {
   "cell_type": "code",
   "execution_count": null,
   "id": "c2ef1015-f366-4f28-b3dd-dd6e9ecdcaee",
   "metadata": {},
   "outputs": [],
   "source": [
    "seq = [1,2,3]\n",
    "for val in seq:\n",
    "    if val is 2:\n",
    "        break\n",
    "    print(val)\n",
    "print(\"outside loop\")"
   ]
  },
  {
   "cell_type": "code",
   "execution_count": null,
   "id": "38d97272-b166-409b-a10e-348be701cf18",
   "metadata": {},
   "outputs": [],
   "source": [
    "range(0, 10, 2)"
   ]
  }
 ],
 "metadata": {
  "kernelspec": {
   "display_name": "Python 3 (ipykernel)",
   "language": "python",
   "name": "python3"
  },
  "language_info": {
   "name": ""
  }
 },
 "nbformat": 4,
 "nbformat_minor": 5
}
