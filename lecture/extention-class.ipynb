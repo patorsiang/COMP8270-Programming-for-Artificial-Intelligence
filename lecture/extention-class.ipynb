{
 "cells": [
  {
   "cell_type": "code",
   "execution_count": 3,
   "id": "f41240d6-2713-4791-a127-be4e67453436",
   "metadata": {},
   "outputs": [],
   "source": [
    "# load dataset\n",
    "import pandas as pd\n",
    "import numpy as np\n",
    "caf = pd.read_csv (\"http://raptor.kent.ac.uk/~ds756/Data/caffeine.csv\")"
   ]
  },
  {
   "cell_type": "code",
   "execution_count": 7,
   "id": "38bc1b17-8f5b-47ad-b6d2-bae312172e04",
   "metadata": {
    "scrolled": true
   },
   "outputs": [
    {
     "data": {
      "text/html": [
       "<div>\n",
       "<style scoped>\n",
       "    .dataframe tbody tr th:only-of-type {\n",
       "        vertical-align: middle;\n",
       "    }\n",
       "\n",
       "    .dataframe tbody tr th {\n",
       "        vertical-align: top;\n",
       "    }\n",
       "\n",
       "    .dataframe thead th {\n",
       "        text-align: right;\n",
       "    }\n",
       "</style>\n",
       "<table border=\"1\" class=\"dataframe\">\n",
       "  <thead>\n",
       "    <tr style=\"text-align: right;\">\n",
       "      <th></th>\n",
       "      <th>drink</th>\n",
       "      <th>Volume</th>\n",
       "      <th>Calories</th>\n",
       "      <th>Caffeine</th>\n",
       "      <th>type</th>\n",
       "    </tr>\n",
       "  </thead>\n",
       "  <tbody>\n",
       "    <tr>\n",
       "      <th>0</th>\n",
       "      <td>Costa Coffee</td>\n",
       "      <td>256.993715</td>\n",
       "      <td>0</td>\n",
       "      <td>277</td>\n",
       "      <td>Coffee</td>\n",
       "    </tr>\n",
       "    <tr>\n",
       "      <th>1</th>\n",
       "      <td>Coffee Friend Brewed Coffee</td>\n",
       "      <td>250.191810</td>\n",
       "      <td>0</td>\n",
       "      <td>145</td>\n",
       "      <td>Coffee</td>\n",
       "    </tr>\n",
       "    <tr>\n",
       "      <th>2</th>\n",
       "      <td>Hell Energy Coffee</td>\n",
       "      <td>250.191810</td>\n",
       "      <td>150</td>\n",
       "      <td>100</td>\n",
       "      <td>Coffee</td>\n",
       "    </tr>\n",
       "    <tr>\n",
       "      <th>3</th>\n",
       "      <td>Killer Coffee (AU)</td>\n",
       "      <td>250.191810</td>\n",
       "      <td>0</td>\n",
       "      <td>430</td>\n",
       "      <td>Coffee</td>\n",
       "    </tr>\n",
       "    <tr>\n",
       "      <th>4</th>\n",
       "      <td>Nescafe Gold</td>\n",
       "      <td>250.191810</td>\n",
       "      <td>0</td>\n",
       "      <td>66</td>\n",
       "      <td>Coffee</td>\n",
       "    </tr>\n",
       "    <tr>\n",
       "      <th>...</th>\n",
       "      <td>...</td>\n",
       "      <td>...</td>\n",
       "      <td>...</td>\n",
       "      <td>...</td>\n",
       "      <td>...</td>\n",
       "    </tr>\n",
       "    <tr>\n",
       "      <th>605</th>\n",
       "      <td>Pep Talk Sparkling Water</td>\n",
       "      <td>354.882000</td>\n",
       "      <td>0</td>\n",
       "      <td>55</td>\n",
       "      <td>Water</td>\n",
       "    </tr>\n",
       "    <tr>\n",
       "      <th>606</th>\n",
       "      <td>Polar Seltzer Water</td>\n",
       "      <td>354.882000</td>\n",
       "      <td>0</td>\n",
       "      <td>0</td>\n",
       "      <td>Water</td>\n",
       "    </tr>\n",
       "    <tr>\n",
       "      <th>607</th>\n",
       "      <td>Yerbae Sparkling Water</td>\n",
       "      <td>354.882000</td>\n",
       "      <td>0</td>\n",
       "      <td>100</td>\n",
       "      <td>Water</td>\n",
       "    </tr>\n",
       "    <tr>\n",
       "      <th>608</th>\n",
       "      <td>Tonic Water</td>\n",
       "      <td>295.735000</td>\n",
       "      <td>110</td>\n",
       "      <td>0</td>\n",
       "      <td>Water</td>\n",
       "    </tr>\n",
       "    <tr>\n",
       "      <th>609</th>\n",
       "      <td>MiO Energy Water Enhancer</td>\n",
       "      <td>236.588000</td>\n",
       "      <td>0</td>\n",
       "      <td>60</td>\n",
       "      <td>Water</td>\n",
       "    </tr>\n",
       "  </tbody>\n",
       "</table>\n",
       "<p>610 rows × 5 columns</p>\n",
       "</div>"
      ],
      "text/plain": [
       "                           drink      Volume  Calories  Caffeine    type\n",
       "0                   Costa Coffee  256.993715         0       277  Coffee\n",
       "1    Coffee Friend Brewed Coffee  250.191810         0       145  Coffee\n",
       "2             Hell Energy Coffee  250.191810       150       100  Coffee\n",
       "3             Killer Coffee (AU)  250.191810         0       430  Coffee\n",
       "4                   Nescafe Gold  250.191810         0        66  Coffee\n",
       "..                           ...         ...       ...       ...     ...\n",
       "605     Pep Talk Sparkling Water  354.882000         0        55   Water\n",
       "606          Polar Seltzer Water  354.882000         0         0   Water\n",
       "607       Yerbae Sparkling Water  354.882000         0       100   Water\n",
       "608                  Tonic Water  295.735000       110         0   Water\n",
       "609    MiO Energy Water Enhancer  236.588000         0        60   Water\n",
       "\n",
       "[610 rows x 5 columns]"
      ]
     },
     "execution_count": 7,
     "metadata": {},
     "output_type": "execute_result"
    }
   ],
   "source": [
    "caf"
   ]
  },
  {
   "cell_type": "code",
   "execution_count": 5,
   "id": "449ab628-e48f-455a-9347-099d794b3d70",
   "metadata": {},
   "outputs": [
    {
     "data": {
      "text/plain": [
       "array(['Coffee', 'Energy Drinks', 'Energy Shots', 'Soft Drinks', 'Tea',\n",
       "       'Water'], dtype=object)"
      ]
     },
     "execution_count": 5,
     "metadata": {},
     "output_type": "execute_result"
    }
   ],
   "source": [
    "caf.type.unique()"
   ]
  },
  {
   "cell_type": "code",
   "execution_count": 10,
   "id": "a3906287-8581-4857-8d86-0c126975646b",
   "metadata": {},
   "outputs": [],
   "source": [
    "drinks = caf.type.unique()"
   ]
  },
  {
   "cell_type": "code",
   "execution_count": 13,
   "id": "455a7532-3039-4a8c-a5e1-8af53b823de0",
   "metadata": {},
   "outputs": [
    {
     "name": "stdout",
     "output_type": "stream",
     "text": [
      "Coffee 200.58959537572255\n",
      "Energy Drinks 147.8675799086758\n",
      "Energy Shots 193.41666666666666\n",
      "Soft Drinks 33.67777777777778\n",
      "Tea 55.86363636363637\n",
      "Water 53.73076923076923\n"
     ]
    }
   ],
   "source": [
    "for drink in drinks:\n",
    "    b = caf[caf.type == drink]\n",
    "    print(drink,b.Caffeine.mean())"
   ]
  },
  {
   "cell_type": "code",
   "execution_count": 12,
   "id": "8676c3a7-94de-4f2a-a03c-a82ce71ec639",
   "metadata": {},
   "outputs": [
    {
     "name": "stdout",
     "output_type": "stream",
     "text": [
      "Coffee 200.58959537572255\n",
      "Energy Drinks 147.8675799086758\n",
      "Energy Shots 193.41666666666666\n",
      "Soft Drinks 33.67777777777778\n",
      "Tea 55.86363636363637\n",
      "Water 53.73076923076923\n"
     ]
    }
   ],
   "source": [
    "\n",
    "for drink in drinks:\n",
    "    b = caf[caf.type == drink].Caffeine\n",
    "    print(drink,b.mean())"
   ]
  },
  {
   "cell_type": "code",
   "execution_count": 14,
   "id": "bbfb730c-31d9-4116-9151-7aad59b3a482",
   "metadata": {},
   "outputs": [
    {
     "data": {
      "text/html": [
       "<div>\n",
       "<style scoped>\n",
       "    .dataframe tbody tr th:only-of-type {\n",
       "        vertical-align: middle;\n",
       "    }\n",
       "\n",
       "    .dataframe tbody tr th {\n",
       "        vertical-align: top;\n",
       "    }\n",
       "\n",
       "    .dataframe thead th {\n",
       "        text-align: right;\n",
       "    }\n",
       "</style>\n",
       "<table border=\"1\" class=\"dataframe\">\n",
       "  <thead>\n",
       "    <tr style=\"text-align: right;\">\n",
       "      <th></th>\n",
       "      <th>Caffeine</th>\n",
       "    </tr>\n",
       "    <tr>\n",
       "      <th>type</th>\n",
       "      <th></th>\n",
       "    </tr>\n",
       "  </thead>\n",
       "  <tbody>\n",
       "    <tr>\n",
       "      <th>Coffee</th>\n",
       "      <td>200.589595</td>\n",
       "    </tr>\n",
       "    <tr>\n",
       "      <th>Energy Drinks</th>\n",
       "      <td>147.867580</td>\n",
       "    </tr>\n",
       "    <tr>\n",
       "      <th>Energy Shots</th>\n",
       "      <td>193.416667</td>\n",
       "    </tr>\n",
       "    <tr>\n",
       "      <th>Soft Drinks</th>\n",
       "      <td>33.677778</td>\n",
       "    </tr>\n",
       "    <tr>\n",
       "      <th>Tea</th>\n",
       "      <td>55.863636</td>\n",
       "    </tr>\n",
       "    <tr>\n",
       "      <th>Water</th>\n",
       "      <td>53.730769</td>\n",
       "    </tr>\n",
       "  </tbody>\n",
       "</table>\n",
       "</div>"
      ],
      "text/plain": [
       "                 Caffeine\n",
       "type                     \n",
       "Coffee         200.589595\n",
       "Energy Drinks  147.867580\n",
       "Energy Shots   193.416667\n",
       "Soft Drinks     33.677778\n",
       "Tea             55.863636\n",
       "Water           53.730769"
      ]
     },
     "execution_count": 14,
     "metadata": {},
     "output_type": "execute_result"
    }
   ],
   "source": [
    "caf[[\"Caffeine\",\"type\"]].groupby(\"type\").mean()"
   ]
  },
  {
   "cell_type": "code",
   "execution_count": 15,
   "id": "1987429d-2cdb-41d2-b06a-30d05a866c96",
   "metadata": {
    "scrolled": true
   },
   "outputs": [
    {
     "data": {
      "text/html": [
       "<div>\n",
       "<style scoped>\n",
       "    .dataframe tbody tr th:only-of-type {\n",
       "        vertical-align: middle;\n",
       "    }\n",
       "\n",
       "    .dataframe tbody tr th {\n",
       "        vertical-align: top;\n",
       "    }\n",
       "\n",
       "    .dataframe thead th {\n",
       "        text-align: right;\n",
       "    }\n",
       "</style>\n",
       "<table border=\"1\" class=\"dataframe\">\n",
       "  <thead>\n",
       "    <tr style=\"text-align: right;\">\n",
       "      <th></th>\n",
       "      <th>Caffeine</th>\n",
       "      <th>type</th>\n",
       "    </tr>\n",
       "  </thead>\n",
       "  <tbody>\n",
       "    <tr>\n",
       "      <th>0</th>\n",
       "      <td>277</td>\n",
       "      <td>Coffee</td>\n",
       "    </tr>\n",
       "    <tr>\n",
       "      <th>1</th>\n",
       "      <td>145</td>\n",
       "      <td>Coffee</td>\n",
       "    </tr>\n",
       "    <tr>\n",
       "      <th>2</th>\n",
       "      <td>100</td>\n",
       "      <td>Coffee</td>\n",
       "    </tr>\n",
       "    <tr>\n",
       "      <th>3</th>\n",
       "      <td>430</td>\n",
       "      <td>Coffee</td>\n",
       "    </tr>\n",
       "    <tr>\n",
       "      <th>4</th>\n",
       "      <td>66</td>\n",
       "      <td>Coffee</td>\n",
       "    </tr>\n",
       "    <tr>\n",
       "      <th>...</th>\n",
       "      <td>...</td>\n",
       "      <td>...</td>\n",
       "    </tr>\n",
       "    <tr>\n",
       "      <th>605</th>\n",
       "      <td>55</td>\n",
       "      <td>Water</td>\n",
       "    </tr>\n",
       "    <tr>\n",
       "      <th>606</th>\n",
       "      <td>0</td>\n",
       "      <td>Water</td>\n",
       "    </tr>\n",
       "    <tr>\n",
       "      <th>607</th>\n",
       "      <td>100</td>\n",
       "      <td>Water</td>\n",
       "    </tr>\n",
       "    <tr>\n",
       "      <th>608</th>\n",
       "      <td>0</td>\n",
       "      <td>Water</td>\n",
       "    </tr>\n",
       "    <tr>\n",
       "      <th>609</th>\n",
       "      <td>60</td>\n",
       "      <td>Water</td>\n",
       "    </tr>\n",
       "  </tbody>\n",
       "</table>\n",
       "<p>610 rows × 2 columns</p>\n",
       "</div>"
      ],
      "text/plain": [
       "     Caffeine    type\n",
       "0         277  Coffee\n",
       "1         145  Coffee\n",
       "2         100  Coffee\n",
       "3         430  Coffee\n",
       "4          66  Coffee\n",
       "..        ...     ...\n",
       "605        55   Water\n",
       "606         0   Water\n",
       "607       100   Water\n",
       "608         0   Water\n",
       "609        60   Water\n",
       "\n",
       "[610 rows x 2 columns]"
      ]
     },
     "execution_count": 15,
     "metadata": {},
     "output_type": "execute_result"
    }
   ],
   "source": [
    "caf[[\"Caffeine\",\"type\"]]"
   ]
  },
  {
   "cell_type": "code",
   "execution_count": 22,
   "id": "22ab608c-42d9-447a-9f17-25e0248f2ac2",
   "metadata": {},
   "outputs": [],
   "source": [
    "z=caf[[\"Caffeine\",\"type\"]].groupby(\"type\").mean()"
   ]
  },
  {
   "cell_type": "code",
   "execution_count": 21,
   "id": "701211a5-63ce-4c2a-9d21-e36fce2179ca",
   "metadata": {},
   "outputs": [
    {
     "data": {
      "text/plain": [
       "0      Coffee\n",
       "1      Coffee\n",
       "2      Coffee\n",
       "3      Coffee\n",
       "4      Coffee\n",
       "        ...  \n",
       "605     Water\n",
       "606     Water\n",
       "607     Water\n",
       "608     Water\n",
       "609     Water\n",
       "Name: type, Length: 610, dtype: object"
      ]
     },
     "execution_count": 21,
     "metadata": {},
     "output_type": "execute_result"
    }
   ],
   "source": [
    "caf.iloc[:, -1]"
   ]
  },
  {
   "cell_type": "code",
   "execution_count": 25,
   "id": "25ba452a-0fb3-4d29-be3b-03669160ba2d",
   "metadata": {
    "scrolled": true
   },
   "outputs": [
    {
     "data": {
      "text/html": [
       "<div>\n",
       "<style scoped>\n",
       "    .dataframe tbody tr th:only-of-type {\n",
       "        vertical-align: middle;\n",
       "    }\n",
       "\n",
       "    .dataframe tbody tr th {\n",
       "        vertical-align: top;\n",
       "    }\n",
       "\n",
       "    .dataframe thead th {\n",
       "        text-align: right;\n",
       "    }\n",
       "</style>\n",
       "<table border=\"1\" class=\"dataframe\">\n",
       "  <thead>\n",
       "    <tr style=\"text-align: right;\">\n",
       "      <th></th>\n",
       "      <th>Caffeine</th>\n",
       "    </tr>\n",
       "    <tr>\n",
       "      <th>type</th>\n",
       "      <th></th>\n",
       "    </tr>\n",
       "  </thead>\n",
       "  <tbody>\n",
       "    <tr>\n",
       "      <th>Energy Drinks</th>\n",
       "      <td>147.867580</td>\n",
       "    </tr>\n",
       "    <tr>\n",
       "      <th>Energy Shots</th>\n",
       "      <td>193.416667</td>\n",
       "    </tr>\n",
       "    <tr>\n",
       "      <th>Soft Drinks</th>\n",
       "      <td>33.677778</td>\n",
       "    </tr>\n",
       "    <tr>\n",
       "      <th>Tea</th>\n",
       "      <td>55.863636</td>\n",
       "    </tr>\n",
       "  </tbody>\n",
       "</table>\n",
       "</div>"
      ],
      "text/plain": [
       "                 Caffeine\n",
       "type                     \n",
       "Energy Drinks  147.867580\n",
       "Energy Shots   193.416667\n",
       "Soft Drinks     33.677778\n",
       "Tea             55.863636"
      ]
     },
     "execution_count": 25,
     "metadata": {},
     "output_type": "execute_result"
    }
   ],
   "source": [
    "z.loc[\"Energy Drinks\": \"Tea\", :]"
   ]
  },
  {
   "cell_type": "code",
   "execution_count": 27,
   "id": "425712f6-77a9-451c-acaa-c102145077c1",
   "metadata": {},
   "outputs": [
    {
     "data": {
      "text/html": [
       "<div>\n",
       "<style scoped>\n",
       "    .dataframe tbody tr th:only-of-type {\n",
       "        vertical-align: middle;\n",
       "    }\n",
       "\n",
       "    .dataframe tbody tr th {\n",
       "        vertical-align: top;\n",
       "    }\n",
       "\n",
       "    .dataframe thead th {\n",
       "        text-align: right;\n",
       "    }\n",
       "</style>\n",
       "<table border=\"1\" class=\"dataframe\">\n",
       "  <thead>\n",
       "    <tr style=\"text-align: right;\">\n",
       "      <th></th>\n",
       "      <th>Caffeine</th>\n",
       "    </tr>\n",
       "    <tr>\n",
       "      <th>type</th>\n",
       "      <th></th>\n",
       "    </tr>\n",
       "  </thead>\n",
       "  <tbody>\n",
       "    <tr>\n",
       "      <th>Coffee</th>\n",
       "      <td>200.589595</td>\n",
       "    </tr>\n",
       "    <tr>\n",
       "      <th>Energy Drinks</th>\n",
       "      <td>147.867580</td>\n",
       "    </tr>\n",
       "    <tr>\n",
       "      <th>Energy Shots</th>\n",
       "      <td>193.416667</td>\n",
       "    </tr>\n",
       "    <tr>\n",
       "      <th>Soft Drinks</th>\n",
       "      <td>33.677778</td>\n",
       "    </tr>\n",
       "    <tr>\n",
       "      <th>Tea</th>\n",
       "      <td>55.863636</td>\n",
       "    </tr>\n",
       "    <tr>\n",
       "      <th>Water</th>\n",
       "      <td>53.730769</td>\n",
       "    </tr>\n",
       "  </tbody>\n",
       "</table>\n",
       "</div>"
      ],
      "text/plain": [
       "                 Caffeine\n",
       "type                     \n",
       "Coffee         200.589595\n",
       "Energy Drinks  147.867580\n",
       "Energy Shots   193.416667\n",
       "Soft Drinks     33.677778\n",
       "Tea             55.863636\n",
       "Water           53.730769"
      ]
     },
     "execution_count": 27,
     "metadata": {},
     "output_type": "execute_result"
    }
   ],
   "source": [
    "z.iloc[:,:]]"
   ]
  },
  {
   "cell_type": "code",
   "execution_count": null,
   "id": "f67c5f92-2acd-419e-a683-38ae764efa8e",
   "metadata": {},
   "outputs": [],
   "source": []
  }
 ],
 "metadata": {
  "kernelspec": {
   "display_name": "Python 3 (ipykernel)",
   "language": "python",
   "name": "python3"
  },
  "language_info": {
   "codemirror_mode": {
    "name": "ipython",
    "version": 3
   },
   "file_extension": ".py",
   "mimetype": "text/x-python",
   "name": "python",
   "nbconvert_exporter": "python",
   "pygments_lexer": "ipython3",
   "version": "3.10.12"
  }
 },
 "nbformat": 4,
 "nbformat_minor": 5
}
