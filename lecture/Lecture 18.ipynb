{
 "cells": [
  {
   "cell_type": "code",
   "execution_count": 1,
   "id": "6936030e",
   "metadata": {},
   "outputs": [
    {
     "name": "stderr",
     "output_type": "stream",
     "text": [
      "2021-12-16 13:25:49.498810: W tensorflow/stream_executor/platform/default/dso_loader.cc:64] Could not load dynamic library 'libcudart.so.11.0'; dlerror: libcudart.so.11.0: cannot open shared object file: No such file or directory\n",
      "2021-12-16 13:25:49.498835: I tensorflow/stream_executor/cuda/cudart_stub.cc:29] Ignore above cudart dlerror if you do not have a GPU set up on your machine.\n"
     ]
    }
   ],
   "source": [
    "import pandas as pd\n",
    "from pandas.api.types import is_numeric_dtype\n",
    "\n",
    "from keras.models import Sequential\n",
    "from keras.layers import Dense\n",
    "from keras.wrappers.scikit_learn import KerasClassifier\n",
    "from keras.utils import np_utils\n",
    "import keras as keras\n",
    "\n",
    "from sklearn.preprocessing import LabelEncoder\n",
    "from sklearn.preprocessing import OneHotEncoder\n",
    "from sklearn.model_selection import train_test_split\n",
    "from sklearn.model_selection import StratifiedKFold\n",
    "from sklearn.model_selection import cross_val_score\n",
    "\n",
    "from numpy import array\n",
    "\n",
    "from statistics import mean as mean\n",
    "from statistics import stdev as stddev\n",
    "\n",
    "\n",
    "\n",
    "import matplotlib.pyplot as plt\n",
    "plt.rcParams['figure.figsize'] = [8, 8] # set plot size\n"
   ]
  },
  {
   "cell_type": "code",
   "execution_count": 2,
   "id": "4f8bd055",
   "metadata": {},
   "outputs": [],
   "source": [
    "from numpy.random import seed\n",
    "seed (9488)"
   ]
  },
  {
   "cell_type": "code",
   "execution_count": 3,
   "id": "b7baa74a",
   "metadata": {},
   "outputs": [
    {
     "data": {
      "text/plain": [
       "Index(['Age', 'RestingBP', 'Cholesterol', 'MaxHR', 'Oldpeak', 'Bad'], dtype='object')"
      ]
     },
     "execution_count": 3,
     "metadata": {},
     "output_type": "execute_result"
    }
   ],
   "source": [
    "heart = pd.read_csv (\"http://raptor.kent.ac.uk/~ds756/heart.csv\")\n",
    "\n",
    "heart[\"Bad\"] = pd.Series (map (lambda x: \"Ill\" if x else \"Healthy\", heart.HeartDisease))\n",
    "\n",
    "# To keep training time reasonable we'll drop the following features\n",
    "# Note: We're probably dropping information as well\n",
    "\n",
    "heart = heart.drop (columns=[\"Sex\", \"ChestPainType\", \"FastingBS\", \"ExerciseAngina\", \"ST_Slope\", \"RestingECG\", \"HeartDisease\"])\n",
    "\n",
    "heart.columns\n"
   ]
  },
  {
   "cell_type": "markdown",
   "id": "60f8f261",
   "metadata": {},
   "source": [
    "<p style=\"font-size:20px\">_____________________________________________________________________________________</p>\n",
    "<p style=\"font-size:20px\">Build a classifier for the heart dataset.</p>\n",
    "<p style=\"font-size:20px\">The first step, construct the training data.</p>"
   ]
  },
  {
   "cell_type": "code",
   "execution_count": 4,
   "id": "5ca37a47",
   "metadata": {},
   "outputs": [
    {
     "data": {
      "text/plain": [
       "(array([ 12.,  37.,  86., 104., 148., 201., 175., 101.,  39.,  15.]),\n",
       " array([28. , 32.9, 37.8, 42.7, 47.6, 52.5, 57.4, 62.3, 67.2, 72.1, 77. ]),\n",
       " <BarContainer object of 10 artists>)"
      ]
     },
     "execution_count": 4,
     "metadata": {},
     "output_type": "execute_result"
    },
    {
     "data": {
      "image/png": "[encoded data removed]",
      "text/plain": [
       "<Figure size 576x576 with 1 Axes>"
      ]
     },
     "metadata": {
      "needs_background": "light"
     },
     "output_type": "display_data"
    }
   ],
   "source": [
    "plt.hist (heart.Age)"
   ]
  },
  {
   "cell_type": "code",
   "execution_count": 5,
   "id": "e151e2ba",
   "metadata": {},
   "outputs": [
    {
     "data": {
      "text/html": [
       "<div>\n",
       "<style scoped>\n",
       "    .dataframe tbody tr th:only-of-type {\n",
       "        vertical-align: middle;\n",
       "    }\n",
       "\n",
       "    .dataframe tbody tr th {\n",
       "        vertical-align: top;\n",
       "    }\n",
       "\n",
       "    .dataframe thead th {\n",
       "        text-align: right;\n",
       "    }\n",
       "</style>\n",
       "<table border=\"1\" class=\"dataframe\">\n",
       "  <thead>\n",
       "    <tr style=\"text-align: right;\">\n",
       "      <th></th>\n",
       "      <th>Age</th>\n",
       "      <th>RestingBP</th>\n",
       "      <th>Cholesterol</th>\n",
       "      <th>MaxHR</th>\n",
       "      <th>Oldpeak</th>\n",
       "    </tr>\n",
       "  </thead>\n",
       "  <tbody>\n",
       "    <tr>\n",
       "      <th>count</th>\n",
       "      <td>9.180000e+02</td>\n",
       "      <td>9.180000e+02</td>\n",
       "      <td>918.000000</td>\n",
       "      <td>9.180000e+02</td>\n",
       "      <td>9.180000e+02</td>\n",
       "    </tr>\n",
       "    <tr>\n",
       "      <th>mean</th>\n",
       "      <td>-1.393221e-16</td>\n",
       "      <td>2.089832e-16</td>\n",
       "      <td>0.000000</td>\n",
       "      <td>5.263280e-16</td>\n",
       "      <td>1.083616e-16</td>\n",
       "    </tr>\n",
       "    <tr>\n",
       "      <th>std</th>\n",
       "      <td>1.000000e+00</td>\n",
       "      <td>1.000000e+00</td>\n",
       "      <td>1.000000</td>\n",
       "      <td>1.000000e+00</td>\n",
       "      <td>1.000000e+00</td>\n",
       "    </tr>\n",
       "    <tr>\n",
       "      <th>min</th>\n",
       "      <td>-2.704540e+00</td>\n",
       "      <td>-7.151097e+00</td>\n",
       "      <td>-1.817444</td>\n",
       "      <td>-3.016825e+00</td>\n",
       "      <td>-3.269699e+00</td>\n",
       "    </tr>\n",
       "    <tr>\n",
       "      <th>25%</th>\n",
       "      <td>-6.902531e-01</td>\n",
       "      <td>-6.695696e-01</td>\n",
       "      <td>-0.233576</td>\n",
       "      <td>-6.602179e-01</td>\n",
       "      <td>-8.319789e-01</td>\n",
       "    </tr>\n",
       "    <tr>\n",
       "      <th>50%</th>\n",
       "      <td>5.185271e-02</td>\n",
       "      <td>-1.294423e-01</td>\n",
       "      <td>0.221243</td>\n",
       "      <td>4.676419e-02</td>\n",
       "      <td>-2.694280e-01</td>\n",
       "    </tr>\n",
       "    <tr>\n",
       "      <th>75%</th>\n",
       "      <td>6.879435e-01</td>\n",
       "      <td>4.106850e-01</td>\n",
       "      <td>0.623495</td>\n",
       "      <td>7.537463e-01</td>\n",
       "      <td>5.743984e-01</td>\n",
       "    </tr>\n",
       "    <tr>\n",
       "      <th>max</th>\n",
       "      <td>2.490201e+00</td>\n",
       "      <td>3.651449e+00</td>\n",
       "      <td>3.695238</td>\n",
       "      <td>2.560478e+00</td>\n",
       "      <td>4.981047e+00</td>\n",
       "    </tr>\n",
       "  </tbody>\n",
       "</table>\n",
       "</div>"
      ],
      "text/plain": [
       "                Age     RestingBP  Cholesterol         MaxHR       Oldpeak\n",
       "count  9.180000e+02  9.180000e+02   918.000000  9.180000e+02  9.180000e+02\n",
       "mean  -1.393221e-16  2.089832e-16     0.000000  5.263280e-16  1.083616e-16\n",
       "std    1.000000e+00  1.000000e+00     1.000000  1.000000e+00  1.000000e+00\n",
       "min   -2.704540e+00 -7.151097e+00    -1.817444 -3.016825e+00 -3.269699e+00\n",
       "25%   -6.902531e-01 -6.695696e-01    -0.233576 -6.602179e-01 -8.319789e-01\n",
       "50%    5.185271e-02 -1.294423e-01     0.221243  4.676419e-02 -2.694280e-01\n",
       "75%    6.879435e-01  4.106850e-01     0.623495  7.537463e-01  5.743984e-01\n",
       "max    2.490201e+00  3.651449e+00     3.695238  2.560478e+00  4.981047e+00"
      ]
     },
     "execution_count": 5,
     "metadata": {},
     "output_type": "execute_result"
    }
   ],
   "source": [
    "# Pre-process our continuous features.  We will Z-scoring\n",
    "#  1. Translate\n",
    "#  2. Scale\n",
    "\n",
    "data = heart.copy ()\n",
    "Answers = heart.Bad\n",
    "data_len = len (heart)\n",
    "\n",
    "for u in data:\n",
    "    if is_numeric_dtype (data[u]):\n",
    "        data[u] = data[u] - data[u].mean ()             # mean (data[u]) == 0.0\n",
    "        data[u] = data[u] / stddev (data[u])            # Z-score, scale the distribution\n",
    "\n",
    "data.describe ()"
   ]
  },
  {
   "cell_type": "code",
   "execution_count": 6,
   "id": "24ff03cb",
   "metadata": {},
   "outputs": [
    {
     "data": {
      "image/png": "[encoded data removed]",
      "text/plain": [
       "<Figure size 576x576 with 2 Axes>"
      ]
     },
     "metadata": {
      "needs_background": "light"
     },
     "output_type": "display_data"
    }
   ],
   "source": [
    "plt.subplot (1, 2, 1)\n",
    "plt.hist (heart.Age)\n",
    "plt.subplot (1, 2, 2)\n",
    "plt.hist (data.Age)\n",
    "plt.show ()"
   ]
  },
  {
   "cell_type": "code",
   "execution_count": 7,
   "id": "74ae99a1",
   "metadata": {
    "scrolled": false
   },
   "outputs": [],
   "source": [
    "dataset = data.values               # Extract the values from the dataframe into an array\n",
    "\n",
    "x = dataset[:, 0:5].astype(float)   # Split off our input features\n"
   ]
  },
  {
   "cell_type": "code",
   "execution_count": 8,
   "id": "25379014",
   "metadata": {},
   "outputs": [],
   "source": [
    "# Hot-encode our categorical feature (we reshape because we only have 1)\n",
    "\n",
    "Labels = dataset [:, 5]                    # Split off the outcomes\n",
    "\n",
    "# Let scikit do the hard work!\n",
    "PP_Labels = OneHotEncoder ()\n",
    "\n",
    "# We reshape our labels because each entry needs to be an array, it is a column right now\n",
    "TrainingLabels = PP_Labels.fit_transform (Labels.reshape (-1, 1)).toarray ()"
   ]
  },
  {
   "cell_type": "code",
   "execution_count": 9,
   "id": "902c9867",
   "metadata": {},
   "outputs": [],
   "source": [
    "# Split up our data in to training and verification\n",
    "# Training 90% of the examples, Test is 10% of the examples\n",
    "Xtrain, Xtest, Ltrain, Ltest = train_test_split (x, TrainingLabels, test_size = 0.1)"
   ]
  },
  {
   "cell_type": "markdown",
   "id": "c26902d4",
   "metadata": {},
   "source": [
    "<p style=\"font-size:20px\">_____________________________________________________________________________________</p>\n",
    "<p style=\"font-size:20px\">We have prepared our data, now build the ANN</p>"
   ]
  },
  {
   "cell_type": "code",
   "execution_count": 10,
   "id": "e86ea2aa",
   "metadata": {},
   "outputs": [
    {
     "name": "stdout",
     "output_type": "stream",
     "text": [
      "Model: \"sequential\"\n",
      "_________________________________________________________________\n",
      " Layer (type)                Output Shape              Param #   \n",
      "=================================================================\n",
      " dense (Dense)               (None, 8)                 48        \n",
      "                                                                 \n",
      " dense_1 (Dense)             (None, 8)                 72        \n",
      "                                                                 \n",
      " dense_2 (Dense)             (None, 2)                 18        \n",
      "                                                                 \n",
      "=================================================================\n",
      "Total params: 138\n",
      "Trainable params: 138\n",
      "Non-trainable params: 0\n",
      "_________________________________________________________________\n"
     ]
    },
    {
     "name": "stderr",
     "output_type": "stream",
     "text": [
      "2021-12-16 13:25:51.082334: W tensorflow/stream_executor/platform/default/dso_loader.cc:64] Could not load dynamic library 'libcuda.so.1'; dlerror: libcuda.so.1: cannot open shared object file: No such file or directory\n",
      "2021-12-16 13:25:51.082355: W tensorflow/stream_executor/cuda/cuda_driver.cc:269] failed call to cuInit: UNKNOWN ERROR (303)\n",
      "2021-12-16 13:25:51.082368: I tensorflow/stream_executor/cuda/cuda_diagnostics.cc:156] kernel driver does not appear to be running on this host (jupyter): /proc/driver/nvidia/version does not exist\n",
      "2021-12-16 13:25:51.082551: I tensorflow/core/platform/cpu_feature_guard.cc:151] This TensorFlow binary is optimized with oneAPI Deep Neural Network Library (oneDNN) to use the following CPU instructions in performance-critical operations:  AVX2 AVX512F FMA\n",
      "To enable them in other operations, rebuild TensorFlow with the appropriate compiler flags.\n"
     ]
    }
   ],
   "source": [
    "model = Sequential()                                                 # Keras container for our model\n",
    "\n",
    "model.add (Dense (8, input_dim=5, activation='sigmoid'))             # input vector of dim 5\n",
    "model.add (Dense (8, activation='sigmoid'))                          # Second layer, 8 neurons\n",
    "model.add (Dense (2, activation='softmax'))                          # Softmax layer\n",
    "\n",
    "model.compile (loss='categorical_crossentropy', optimizer='SGD', metrics=['accuracy'])    # Build our ANN\n",
    "\n",
    "model.summary ()"
   ]
  },
  {
   "cell_type": "markdown",
   "id": "40fe8d44",
   "metadata": {},
   "source": [
    "<p style=\"font-size:20px\">_____________________________________________________________________________________</p>\n",
    "<p style=\"font-size:20px\">We have our training data, and our ANN, we can train the ANN now.</p>"
   ]
  },
  {
   "cell_type": "code",
   "execution_count": 11,
   "id": "0401d66d",
   "metadata": {},
   "outputs": [],
   "source": [
    "h = model.fit (\n",
    "    Xtrain, \n",
    "    Ltrain, \n",
    "    batch_size=500,                   # Randomly select 500 training examples per epoch \n",
    "    validation_data = (Xtest, Ltest), # To avoid over-fitting we can monitor the accuracy during training\n",
    "    verbose=False, \n",
    "    epochs = 10000)"
   ]
  },
  {
   "cell_type": "code",
   "execution_count": 12,
   "id": "6d53a531",
   "metadata": {},
   "outputs": [
    {
     "data": {
      "image/png": "[encoded data removed]",
      "text/plain": [
       "<Figure size 576x576 with 1 Axes>"
      ]
     },
     "metadata": {
      "needs_background": "light"
     },
     "output_type": "display_data"
    }
   ],
   "source": [
    "def LossHistory (history):\n",
    "  plt.plot (history.history['val_loss'], c=\"r\", label='Accuracy')\n",
    "  plt.plot (history.history['loss'], label='Loss')\n",
    "  plt.xlabel ('Epoch')\n",
    "  plt.ylabel ('Loss')\n",
    "  plt.legend ()\n",
    "  plt.grid (True)\n",
    "  plt.show ()\n",
    "\n",
    "LossHistory (h)"
   ]
  },
  {
   "cell_type": "code",
   "execution_count": 13,
   "id": "a69e2af9",
   "metadata": {},
   "outputs": [],
   "source": [
    "# Extract answer from Softmax\n",
    "\n",
    "def Inference (x):\n",
    "    p0 = list (model.predict (query)[0])\n",
    "    return Answers[p0.index (max (p0))]"
   ]
  },
  {
   "cell_type": "code",
   "execution_count": 14,
   "id": "9ad2b823",
   "metadata": {},
   "outputs": [
    {
     "name": "stdout",
     "output_type": "stream",
     "text": [
      "23.420479302832245 %\n"
     ]
    }
   ],
   "source": [
    "wrong = 0\n",
    "\n",
    "for i in range (0, data_len):\n",
    "    query = array ([x[i, ]])\n",
    "    if Inference (query) != Answers[i]:\n",
    "        wrong = wrong + 1\n",
    "        # print (i, Inference (query), Answers[i])\n",
    "\n",
    "print (100 * wrong / data_len, \"%\")"
   ]
  },
  {
   "cell_type": "markdown",
   "id": "fb131b08",
   "metadata": {},
   "source": [
    "<p style=\"font-size:20px\">_____________________________________________________________________________________</p>\n",
    "<p style=\"font-size:20px\">We can incorporate the normalization in the NN.</p>\n"
   ]
  },
  {
   "cell_type": "code",
   "execution_count": 15,
   "id": "0e3e2d44",
   "metadata": {},
   "outputs": [],
   "source": [
    "dataset = heart.values              # Extract the values from the dataframe into an array\n",
    "x = dataset[:, 0:5].astype(float)   # Our predictive features"
   ]
  },
  {
   "cell_type": "code",
   "execution_count": 16,
   "id": "2812da64",
   "metadata": {},
   "outputs": [
    {
     "data": {
      "text/plain": [
       "array([[-1.4331397 ,  0.41090888,  0.82507   ,  1.3829286 , -0.8324324 ],\n",
       "       [-0.47848338,  1.4917524 , -0.1719613 ,  0.75415754,  0.10566345],\n",
       "       [-1.7513584 , -0.12951288,  0.7701876 , -1.5251374 , -0.8324324 ],\n",
       "       ...,\n",
       "       [ 0.3701    , -0.12951288, -0.62016803, -0.85706824,  0.29328266],\n",
       "       [ 0.3701    , -0.12951288,  0.340275  ,  1.461525  , -0.8324324 ],\n",
       "       [-1.6452855 ,  0.30282453, -0.21769668,  1.4222268 , -0.8324324 ]],\n",
       "      dtype=float32)"
      ]
     },
     "execution_count": 16,
     "metadata": {},
     "output_type": "execute_result"
    }
   ],
   "source": [
    "model = Sequential()                                       # Keras container for our model\n",
    "\n",
    "model.add (keras.layers.Normalization (input_dim = 5))\n",
    "model.layers[0].adapt (x)\n",
    "\n",
    "model.compile (loss='categorical_crossentropy', optimizer='SGD', metrics=['accuracy'])    # Build our ANN\n",
    "\n",
    "y = model.predict (x)\n",
    "y"
   ]
  },
  {
   "cell_type": "markdown",
   "id": "dc9d038a",
   "metadata": {},
   "source": [
    "<p style=\"font-size:20px\">_____________________________________________________________________________________</p>\n",
    "<p style=\"font-size:20px\">Now we can rebuild our ANN with normalization built-in.</p>\n"
   ]
  },
  {
   "cell_type": "code",
   "execution_count": 17,
   "id": "5dc13792",
   "metadata": {},
   "outputs": [],
   "source": [
    "\n",
    "model = Sequential()                                       # Keras container for our model\n",
    "\n",
    "model.add (keras.layers.Normalization (input_dim = 5))\n",
    "model.layers[0].adapt (x)\n",
    "\n",
    "model.add (Dense (8, activation='sigmoid'))\n",
    "model.add (Dense (8, activation='sigmoid'))\n",
    "model.add (Dense (2, activation='softmax'))\n",
    "\n",
    "model.compile (loss='categorical_crossentropy', optimizer='Adam', metrics=['accuracy'])    # Build our ANN\n",
    "\n"
   ]
  },
  {
   "cell_type": "code",
   "execution_count": 18,
   "id": "eb67c945",
   "metadata": {},
   "outputs": [],
   "source": [
    "Xtrain, Xtest, Ltrain, Ltest = train_test_split (x, TrainingLabels, test_size = 0.1)"
   ]
  },
  {
   "cell_type": "code",
   "execution_count": 19,
   "id": "3c9642f8",
   "metadata": {},
   "outputs": [],
   "source": [
    "h = model.fit (\n",
    "    Xtrain, \n",
    "    Ltrain, \n",
    "    batch_size=500, \n",
    "    validation_data = (Xtest, Ltest), # To avoid over-fitting we can monitor the accuracy during training\n",
    "    verbose=False, \n",
    "    epochs = 10000)"
   ]
  },
  {
   "cell_type": "code",
   "execution_count": 20,
   "id": "d202bdb6",
   "metadata": {},
   "outputs": [
    {
     "data": {
      "image/png": "[encoded data removed]",
      "text/plain": [
       "<Figure size 576x576 with 1 Axes>"
      ]
     },
     "metadata": {
      "needs_background": "light"
     },
     "output_type": "display_data"
    }
   ],
   "source": [
    "LossHistory (h)"
   ]
  },
  {
   "cell_type": "markdown",
   "id": "b31919b9",
   "metadata": {},
   "source": [
    "<p style=\"font-size:20px\">_____________________________________________________________________________________</p>\n",
    "<p style=\"font-size:20px\">Cross-validation is very important.</p>\n",
    "<p style=\"font-size:20px\">We need to verify that the model works and is not over-fitted.</p>\n",
    "\n",
    "\n",
    "\n"
   ]
  },
  {
   "cell_type": "code",
   "execution_count": 21,
   "id": "204adb03",
   "metadata": {},
   "outputs": [],
   "source": [
    "# This function will create models on demand\n",
    "#\n",
    "# Remember - they aren't trained.  Just the raw clay waiting to be moulded.\n",
    "\n",
    "def MFactory ():\n",
    "    model = Sequential()\n",
    "\n",
    "    model.add (keras.layers.Normalization (input_dim = 5))\n",
    "    model.layers[0].adapt (x)\n",
    "\n",
    "    model.add (Dense (8, activation='sigmoid'))\n",
    "    model.add (Dense (8, activation='sigmoid'))\n",
    "    model.add (Dense (2, activation='softmax'))\n",
    "\n",
    "    model.compile (loss='categorical_crossentropy', optimizer='Adam', metrics=['accuracy'])\n",
    "    \n",
    "    return model"
   ]
  },
  {
   "cell_type": "code",
   "execution_count": 22,
   "id": "5dfea7b8",
   "metadata": {},
   "outputs": [
    {
     "name": "stdout",
     "output_type": "stream",
     "text": [
      "['loss', 'accuracy']\n",
      "[0.5627294182777405, 0.7352941036224365]\n",
      "[0.5192891955375671, 0.7450980544090271]\n",
      "[0.42373228073120117, 0.8300653696060181]\n",
      "77.01525092124939 5.211710365280203\n"
     ]
    }
   ],
   "source": [
    "kfold = StratifiedKFold (n_splits=3, shuffle=True)\n",
    "verify = []\n",
    "\n",
    "print (model.metrics_names) # Cheating, model already exists in our Jupyter kernel\n",
    "\n",
    "#\n",
    "# Loop through different (3) combinations of the data\n",
    "#\n",
    "for train, test in kfold.split (x, heart.Bad):\n",
    "\n",
    "    predictor = MFactory ()                      # Fresh ANN\n",
    "\n",
    "    h = predictor.fit (x[train], TrainingLabels[train], verbose=False, epochs=1000, batch_size = 500)\n",
    "    Worked = predictor.evaluate (x[test], TrainingLabels[test], verbose=False)\n",
    "\n",
    "    print (Worked)\n",
    "    verify.append (100 * Worked[1])\n",
    "\n",
    "\n"
   ]
  },
  {
   "cell_type": "code",
   "execution_count": 24,
   "id": "66d98012",
   "metadata": {},
   "outputs": [
    {
     "name": "stdout",
     "output_type": "stream",
     "text": [
      "77.01525092124939 5.211710365280203\n"
     ]
    }
   ],
   "source": [
    "print (mean (verify), stddev (verify))"
   ]
  }
 ],
 "metadata": {
  "kernelspec": {
   "display_name": "Python 3 (ipykernel)",
   "language": "python",
   "name": "python3"
  },
  "language_info": {
   "codemirror_mode": {
    "name": "ipython",
    "version": 3
   },
   "file_extension": ".py",
   "mimetype": "text/x-python",
   "name": "python",
   "nbconvert_exporter": "python",
   "pygments_lexer": "ipython3",
   "version": "3.8.10"
  }
 },
 "nbformat": 4,
 "nbformat_minor": 5
}
